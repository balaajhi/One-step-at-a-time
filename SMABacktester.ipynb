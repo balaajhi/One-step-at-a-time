{
  "cells": [
    {
      "cell_type": "markdown",
      "metadata": {
        "id": "view-in-github",
        "colab_type": "text"
      },
      "source": [
        "<a href=\"https://colab.research.google.com/github/balaajhi/One-step-at-a-time/blob/main/SMABacktester.ipynb\" target=\"_parent\"><img src=\"https://colab.research.google.com/assets/colab-badge.svg\" alt=\"Open In Colab\"/></a>"
      ]
    },
    {
      "cell_type": "markdown",
      "metadata": {
        "id": "cCVSi1dkY0Xt"
      },
      "source": [
        "# Generalization with OOP: The SMABacktester Class"
      ]
    },
    {
      "cell_type": "markdown",
      "metadata": {
        "id": "QKEA1DEWY0X7"
      },
      "source": [
        "## Building the SMABacktester Class from scratch: Instantiation"
      ]
    },
    {
      "cell_type": "code",
      "execution_count": null,
      "metadata": {
        "id": "tJOXMccBY0X8"
      },
      "outputs": [],
      "source": [
        "class SMABacktester():\n",
        "    def __init__(self, symbol, SMA_S, SMA_L, start, end):\n",
        "        self.symbol = symbol\n",
        "        self.SMA_S = SMA_S\n",
        "        self.SMA_L = SMA_L\n",
        "        self.start = start\n",
        "        self.end = end\n",
        "        self.results = None"
      ]
    },
    {
      "cell_type": "code",
      "execution_count": null,
      "metadata": {
        "id": "4HgkZAdSY0X8"
      },
      "outputs": [],
      "source": [
        "tester = SMABacktester(\"AMZN\", 50, 200, \"2008-01-01\", \"2020-06-30\")"
      ]
    },
    {
      "cell_type": "code",
      "execution_count": null,
      "metadata": {
        "id": "pM33mIE9Y0X8",
        "colab": {
          "base_uri": "https://localhost:8080/",
          "height": 159
        },
        "outputId": "d57d7a02-33d9-417c-f0f8-b340ebbf7944"
      },
      "outputs": [
        {
          "output_type": "execute_result",
          "data": {
            "application/vnd.google.colaboratory.intrinsic+json": {
              "type": "string"
            },
            "text/plain": [
              "'AMZN'"
            ]
          },
          "metadata": {},
          "execution_count": 6
        }
      ],
      "source": [
        "tester.symbol"
      ]
    },
    {
      "cell_type": "code",
      "execution_count": null,
      "metadata": {
        "id": "RpgZTypuY0X9",
        "colab": {
          "base_uri": "https://localhost:8080/"
        },
        "outputId": "086425c5-bf02-4786-e913-d0d66b06e881"
      },
      "outputs": [
        {
          "output_type": "execute_result",
          "data": {
            "text/plain": [
              "200"
            ]
          },
          "metadata": {},
          "execution_count": 7
        }
      ],
      "source": [
        "tester.SMA_L"
      ]
    },
    {
      "cell_type": "code",
      "execution_count": null,
      "metadata": {
        "id": "FU0ulF7NY0X9"
      },
      "outputs": [],
      "source": [
        "tester.results"
      ]
    },
    {
      "cell_type": "code",
      "execution_count": null,
      "metadata": {
        "id": "1kR1h52SY0X9"
      },
      "outputs": [],
      "source": [
        ""
      ]
    },
    {
      "cell_type": "markdown",
      "metadata": {
        "id": "12hhYF4MY0X-"
      },
      "source": [
        "## Method get_data()"
      ]
    },
    {
      "cell_type": "code",
      "source": [
        "import numpy as np\n",
        "import matplotlib.pyplot as plt\n",
        "plt.style.use(\"seaborn\")\n",
        "import datetime as dt\n",
        "import yfinance as yf\n",
        "import pandas as pd\n",
        "%pip install yfinance"
      ],
      "metadata": {
        "colab": {
          "base_uri": "https://localhost:8080/"
        },
        "id": "cLGRU97CaISZ",
        "outputId": "1d1b9cd3-c9cf-409d-ea27-e0eef62f6dd6"
      },
      "execution_count": null,
      "outputs": [
        {
          "output_type": "stream",
          "name": "stdout",
          "text": [
            "Requirement already satisfied: yfinance in /usr/local/lib/python3.7/dist-packages (0.1.70)\n",
            "Requirement already satisfied: lxml>=4.5.1 in /usr/local/lib/python3.7/dist-packages (from yfinance) (4.7.1)\n",
            "Requirement already satisfied: pandas>=0.24.0 in /usr/local/lib/python3.7/dist-packages (from yfinance) (1.1.5)\n",
            "Requirement already satisfied: numpy>=1.15 in /usr/local/lib/python3.7/dist-packages (from yfinance) (1.19.5)\n",
            "Requirement already satisfied: requests>=2.26 in /usr/local/lib/python3.7/dist-packages (from yfinance) (2.27.1)\n",
            "Requirement already satisfied: multitasking>=0.0.7 in /usr/local/lib/python3.7/dist-packages (from yfinance) (0.0.10)\n",
            "Requirement already satisfied: python-dateutil>=2.7.3 in /usr/local/lib/python3.7/dist-packages (from pandas>=0.24.0->yfinance) (2.8.2)\n",
            "Requirement already satisfied: pytz>=2017.2 in /usr/local/lib/python3.7/dist-packages (from pandas>=0.24.0->yfinance) (2018.9)\n",
            "Requirement already satisfied: six>=1.5 in /usr/local/lib/python3.7/dist-packages (from python-dateutil>=2.7.3->pandas>=0.24.0->yfinance) (1.15.0)\n",
            "Requirement already satisfied: urllib3<1.27,>=1.21.1 in /usr/local/lib/python3.7/dist-packages (from requests>=2.26->yfinance) (1.24.3)\n",
            "Requirement already satisfied: idna<4,>=2.5 in /usr/local/lib/python3.7/dist-packages (from requests>=2.26->yfinance) (2.10)\n",
            "Requirement already satisfied: charset-normalizer~=2.0.0 in /usr/local/lib/python3.7/dist-packages (from requests>=2.26->yfinance) (2.0.10)\n",
            "Requirement already satisfied: certifi>=2017.4.17 in /usr/local/lib/python3.7/dist-packages (from requests>=2.26->yfinance) (2021.10.8)\n"
          ]
        }
      ]
    },
    {
      "cell_type": "code",
      "execution_count": null,
      "metadata": {
        "id": "WPcpBAmOY0X-"
      },
      "outputs": [],
      "source": [
        "\n",
        "stocks = [\"AMZN\",\"MSFT\",\"INTC\",\"GOOG\",\"INFY.NS\",\"3988.HK\"]\n",
        "start = dt.datetime.today()-dt.timedelta(6000)\n",
        "end = dt.datetime.today()\n",
        "cl_price = pd.DataFrame() # empty dataframe which will be filled with closing prices of each stock\n",
        "ohlcv_data = {} # empty dictionary which will be filled with ohlcv dataframe for each ticker\n",
        "\n",
        "# looping over tickers and creating a dataframe with close prices\n",
        "for ticker in stocks:\n",
        "    cl_price[ticker] = yf.download(ticker,start,end)[\"Adj Close\"]\n",
        "    \n",
        "\n",
        "# looping over tickers and storing OHLCV dataframe in dictionary\n",
        "for ticker in stocks:\n",
        "    ohlcv_data[ticker] = yf.download(ticker,start,end)\n",
        "\n",
        "raw = cl_price\n",
        "raw"
      ]
    },
    {
      "cell_type": "code",
      "execution_count": null,
      "metadata": {
        "id": "v_zUTyAoY0X-"
      },
      "outputs": [],
      "source": [
        "raw = raw[\"AMZN\"].to_frame().dropna() # selecting an instrument\n",
        "raw"
      ]
    },
    {
      "cell_type": "code",
      "execution_count": null,
      "metadata": {
        "id": "y4a4jkpSY0X_"
      },
      "outputs": [],
      "source": [
        "raw = raw.loc[\"2010-01-01\":\"2012-12-31\"].copy() # setting time period \n",
        "raw"
      ]
    },
    {
      "cell_type": "code",
      "execution_count": null,
      "metadata": {
        "id": "Lu40a5y-Y0X_"
      },
      "outputs": [],
      "source": [
        "raw.rename(columns={\"AMZN\": \"price\"}, inplace=True) # clean up"
      ]
    },
    {
      "cell_type": "code",
      "execution_count": null,
      "metadata": {
        "id": "kvEJjH-tY0X_"
      },
      "outputs": [],
      "source": [
        "raw"
      ]
    },
    {
      "cell_type": "code",
      "execution_count": null,
      "metadata": {
        "id": "phsR_XFXY0YA"
      },
      "outputs": [],
      "source": [
        "raw[\"returns\"] = np.log(raw / raw.shift(1)) # calculate log returns"
      ]
    },
    {
      "cell_type": "code",
      "execution_count": null,
      "metadata": {
        "id": "eACWBqEsY0YA"
      },
      "outputs": [],
      "source": [
        "raw[\"SMA_S\"] = raw[\"price\"].rolling(50).mean() # add short sma\n",
        "raw[\"SMA_L\"] = raw[\"price\"].rolling(200).mean() # add long sma"
      ]
    },
    {
      "cell_type": "code",
      "execution_count": null,
      "metadata": {
        "id": "PhpZVlVjY0YA"
      },
      "outputs": [],
      "source": [
        "raw"
      ]
    },
    {
      "cell_type": "code",
      "execution_count": null,
      "metadata": {
        "id": "8g_MCe0gY0YB"
      },
      "outputs": [],
      "source": [
        "class SMABacktester():\n",
        "    def __init__(self, symbol, SMA_S, SMA_L, start, end):\n",
        "        self.symbol = symbol\n",
        "        self.SMA_S = SMA_S\n",
        "        self.SMA_L = SMA_L\n",
        "        self.start = start\n",
        "        self.end = end\n",
        "        self.results = None\n",
        "        self.get_data()\n",
        "        \n",
        "    def get_data(self):\n",
        "        stocks = [\"AMZN\",\"MSFT\",\"INTC\",\"GOOG\",\"INFY.NS\",\"3988.HK\"]\n",
        "        start = dt.datetime.today()-dt.timedelta(6000)\n",
        "        end = dt.datetime.today()\n",
        "        cl_price = pd.DataFrame() # empty dataframe which will be filled with closing prices of each stock\n",
        "        ohlcv_data = {} # empty dictionary which will be filled with ohlcv dataframe for each ticker\n",
        "\n",
        "        # looping over tickers and creating a dataframe with close prices\n",
        "        for ticker in stocks:\n",
        "            cl_price[ticker] = yf.download(ticker,start,end)[\"Adj Close\"]\n",
        "            \n",
        "\n",
        "        # looping over tickers and storing OHLCV dataframe in dictionary\n",
        "        for ticker in stocks:\n",
        "            ohlcv_data[ticker] = yf.download(ticker,start,end)\n",
        "\n",
        "        raw = cl_price\n",
        "        raw = raw[self.symbol].to_frame().dropna()\n",
        "        raw = raw.loc[self.start:self.end].copy()\n",
        "        raw.rename(columns={self.symbol: \"price\"}, inplace=True)\n",
        "        raw[\"returns\"] = np.log(raw / raw.shift(1))\n",
        "        raw[\"SMA_S\"] = raw[\"price\"].rolling(self.SMA_S).mean() # add short sma\n",
        "        raw[\"SMA_L\"] = raw[\"price\"].rolling(self.SMA_L).mean()\n",
        "        self.data = raw\n",
        "        return raw\n",
        "    "
      ]
    },
    {
      "cell_type": "code",
      "execution_count": null,
      "metadata": {
        "id": "F4yLjP-sY0YB",
        "colab": {
          "base_uri": "https://localhost:8080/"
        },
        "outputId": "9d334980-59f6-41e5-c469-f58c9abe9e5d"
      },
      "outputs": [
        {
          "output_type": "stream",
          "name": "stdout",
          "text": [
            "[*********************100%***********************]  1 of 1 completed\n",
            "[*********************100%***********************]  1 of 1 completed\n",
            "[*********************100%***********************]  1 of 1 completed\n",
            "[*********************100%***********************]  1 of 1 completed\n",
            "[*********************100%***********************]  1 of 1 completed\n",
            "[*********************100%***********************]  1 of 1 completed\n",
            "[*********************100%***********************]  1 of 1 completed\n",
            "[*********************100%***********************]  1 of 1 completed\n",
            "[*********************100%***********************]  1 of 1 completed\n",
            "[*********************100%***********************]  1 of 1 completed\n",
            "[*********************100%***********************]  1 of 1 completed\n",
            "[*********************100%***********************]  1 of 1 completed\n"
          ]
        }
      ],
      "source": [
        "tester = SMABacktester(\"AMZN\", 50, 200, \"2010-01-01\", \"2019-12-31\")"
      ]
    },
    {
      "cell_type": "code",
      "execution_count": null,
      "metadata": {
        "id": "5smN90spY0YB",
        "colab": {
          "base_uri": "https://localhost:8080/",
          "height": 450
        },
        "outputId": "8b05c5d1-70d6-4478-ffbd-88c15a896618"
      },
      "outputs": [
        {
          "output_type": "execute_result",
          "data": {
            "text/html": [
              "\n",
              "  <div id=\"df-ec10762b-1d33-4d1c-9fe2-02ebde4e4fae\">\n",
              "    <div class=\"colab-df-container\">\n",
              "      <div>\n",
              "<style scoped>\n",
              "    .dataframe tbody tr th:only-of-type {\n",
              "        vertical-align: middle;\n",
              "    }\n",
              "\n",
              "    .dataframe tbody tr th {\n",
              "        vertical-align: top;\n",
              "    }\n",
              "\n",
              "    .dataframe thead th {\n",
              "        text-align: right;\n",
              "    }\n",
              "</style>\n",
              "<table border=\"1\" class=\"dataframe\">\n",
              "  <thead>\n",
              "    <tr style=\"text-align: right;\">\n",
              "      <th></th>\n",
              "      <th>price</th>\n",
              "      <th>returns</th>\n",
              "      <th>SMA_S</th>\n",
              "      <th>SMA_L</th>\n",
              "    </tr>\n",
              "    <tr>\n",
              "      <th>Date</th>\n",
              "      <th></th>\n",
              "      <th></th>\n",
              "      <th></th>\n",
              "      <th></th>\n",
              "    </tr>\n",
              "  </thead>\n",
              "  <tbody>\n",
              "    <tr>\n",
              "      <th>2010-01-04</th>\n",
              "      <td>133.899994</td>\n",
              "      <td>NaN</td>\n",
              "      <td>NaN</td>\n",
              "      <td>NaN</td>\n",
              "    </tr>\n",
              "    <tr>\n",
              "      <th>2010-01-05</th>\n",
              "      <td>134.690002</td>\n",
              "      <td>0.005883</td>\n",
              "      <td>NaN</td>\n",
              "      <td>NaN</td>\n",
              "    </tr>\n",
              "    <tr>\n",
              "      <th>2010-01-06</th>\n",
              "      <td>132.250000</td>\n",
              "      <td>-0.018282</td>\n",
              "      <td>NaN</td>\n",
              "      <td>NaN</td>\n",
              "    </tr>\n",
              "    <tr>\n",
              "      <th>2010-01-07</th>\n",
              "      <td>130.000000</td>\n",
              "      <td>-0.017160</td>\n",
              "      <td>NaN</td>\n",
              "      <td>NaN</td>\n",
              "    </tr>\n",
              "    <tr>\n",
              "      <th>2010-01-08</th>\n",
              "      <td>133.520004</td>\n",
              "      <td>0.026717</td>\n",
              "      <td>NaN</td>\n",
              "      <td>NaN</td>\n",
              "    </tr>\n",
              "    <tr>\n",
              "      <th>...</th>\n",
              "      <td>...</td>\n",
              "      <td>...</td>\n",
              "      <td>...</td>\n",
              "      <td>...</td>\n",
              "    </tr>\n",
              "    <tr>\n",
              "      <th>2019-12-24</th>\n",
              "      <td>1789.209961</td>\n",
              "      <td>-0.002116</td>\n",
              "      <td>1771.914392</td>\n",
              "      <td>1823.850699</td>\n",
              "    </tr>\n",
              "    <tr>\n",
              "      <th>2019-12-26</th>\n",
              "      <td>1868.770020</td>\n",
              "      <td>0.043506</td>\n",
              "      <td>1773.942192</td>\n",
              "      <td>1824.740499</td>\n",
              "    </tr>\n",
              "    <tr>\n",
              "      <th>2019-12-27</th>\n",
              "      <td>1869.800049</td>\n",
              "      <td>0.000551</td>\n",
              "      <td>1775.789592</td>\n",
              "      <td>1825.658399</td>\n",
              "    </tr>\n",
              "    <tr>\n",
              "      <th>2019-12-30</th>\n",
              "      <td>1846.890015</td>\n",
              "      <td>-0.012328</td>\n",
              "      <td>1776.977793</td>\n",
              "      <td>1826.331049</td>\n",
              "    </tr>\n",
              "    <tr>\n",
              "      <th>2019-12-31</th>\n",
              "      <td>1847.839966</td>\n",
              "      <td>0.000514</td>\n",
              "      <td>1778.784392</td>\n",
              "      <td>1826.859499</td>\n",
              "    </tr>\n",
              "  </tbody>\n",
              "</table>\n",
              "<p>2516 rows × 4 columns</p>\n",
              "</div>\n",
              "      <button class=\"colab-df-convert\" onclick=\"convertToInteractive('df-ec10762b-1d33-4d1c-9fe2-02ebde4e4fae')\"\n",
              "              title=\"Convert this dataframe to an interactive table.\"\n",
              "              style=\"display:none;\">\n",
              "        \n",
              "  <svg xmlns=\"http://www.w3.org/2000/svg\" height=\"24px\"viewBox=\"0 0 24 24\"\n",
              "       width=\"24px\">\n",
              "    <path d=\"M0 0h24v24H0V0z\" fill=\"none\"/>\n",
              "    <path d=\"M18.56 5.44l.94 2.06.94-2.06 2.06-.94-2.06-.94-.94-2.06-.94 2.06-2.06.94zm-11 1L8.5 8.5l.94-2.06 2.06-.94-2.06-.94L8.5 2.5l-.94 2.06-2.06.94zm10 10l.94 2.06.94-2.06 2.06-.94-2.06-.94-.94-2.06-.94 2.06-2.06.94z\"/><path d=\"M17.41 7.96l-1.37-1.37c-.4-.4-.92-.59-1.43-.59-.52 0-1.04.2-1.43.59L10.3 9.45l-7.72 7.72c-.78.78-.78 2.05 0 2.83L4 21.41c.39.39.9.59 1.41.59.51 0 1.02-.2 1.41-.59l7.78-7.78 2.81-2.81c.8-.78.8-2.07 0-2.86zM5.41 20L4 18.59l7.72-7.72 1.47 1.35L5.41 20z\"/>\n",
              "  </svg>\n",
              "      </button>\n",
              "      \n",
              "  <style>\n",
              "    .colab-df-container {\n",
              "      display:flex;\n",
              "      flex-wrap:wrap;\n",
              "      gap: 12px;\n",
              "    }\n",
              "\n",
              "    .colab-df-convert {\n",
              "      background-color: #E8F0FE;\n",
              "      border: none;\n",
              "      border-radius: 50%;\n",
              "      cursor: pointer;\n",
              "      display: none;\n",
              "      fill: #1967D2;\n",
              "      height: 32px;\n",
              "      padding: 0 0 0 0;\n",
              "      width: 32px;\n",
              "    }\n",
              "\n",
              "    .colab-df-convert:hover {\n",
              "      background-color: #E2EBFA;\n",
              "      box-shadow: 0px 1px 2px rgba(60, 64, 67, 0.3), 0px 1px 3px 1px rgba(60, 64, 67, 0.15);\n",
              "      fill: #174EA6;\n",
              "    }\n",
              "\n",
              "    [theme=dark] .colab-df-convert {\n",
              "      background-color: #3B4455;\n",
              "      fill: #D2E3FC;\n",
              "    }\n",
              "\n",
              "    [theme=dark] .colab-df-convert:hover {\n",
              "      background-color: #434B5C;\n",
              "      box-shadow: 0px 1px 3px 1px rgba(0, 0, 0, 0.15);\n",
              "      filter: drop-shadow(0px 1px 2px rgba(0, 0, 0, 0.3));\n",
              "      fill: #FFFFFF;\n",
              "    }\n",
              "  </style>\n",
              "\n",
              "      <script>\n",
              "        const buttonEl =\n",
              "          document.querySelector('#df-ec10762b-1d33-4d1c-9fe2-02ebde4e4fae button.colab-df-convert');\n",
              "        buttonEl.style.display =\n",
              "          google.colab.kernel.accessAllowed ? 'block' : 'none';\n",
              "\n",
              "        async function convertToInteractive(key) {\n",
              "          const element = document.querySelector('#df-ec10762b-1d33-4d1c-9fe2-02ebde4e4fae');\n",
              "          const dataTable =\n",
              "            await google.colab.kernel.invokeFunction('convertToInteractive',\n",
              "                                                     [key], {});\n",
              "          if (!dataTable) return;\n",
              "\n",
              "          const docLinkHtml = 'Like what you see? Visit the ' +\n",
              "            '<a target=\"_blank\" href=https://colab.research.google.com/notebooks/data_table.ipynb>data table notebook</a>'\n",
              "            + ' to learn more about interactive tables.';\n",
              "          element.innerHTML = '';\n",
              "          dataTable['output_type'] = 'display_data';\n",
              "          await google.colab.output.renderOutput(dataTable, element);\n",
              "          const docLink = document.createElement('div');\n",
              "          docLink.innerHTML = docLinkHtml;\n",
              "          element.appendChild(docLink);\n",
              "        }\n",
              "      </script>\n",
              "    </div>\n",
              "  </div>\n",
              "  "
            ],
            "text/plain": [
              "                  price   returns        SMA_S        SMA_L\n",
              "Date                                                       \n",
              "2010-01-04   133.899994       NaN          NaN          NaN\n",
              "2010-01-05   134.690002  0.005883          NaN          NaN\n",
              "2010-01-06   132.250000 -0.018282          NaN          NaN\n",
              "2010-01-07   130.000000 -0.017160          NaN          NaN\n",
              "2010-01-08   133.520004  0.026717          NaN          NaN\n",
              "...                 ...       ...          ...          ...\n",
              "2019-12-24  1789.209961 -0.002116  1771.914392  1823.850699\n",
              "2019-12-26  1868.770020  0.043506  1773.942192  1824.740499\n",
              "2019-12-27  1869.800049  0.000551  1775.789592  1825.658399\n",
              "2019-12-30  1846.890015 -0.012328  1776.977793  1826.331049\n",
              "2019-12-31  1847.839966  0.000514  1778.784392  1826.859499\n",
              "\n",
              "[2516 rows x 4 columns]"
            ]
          },
          "metadata": {},
          "execution_count": 30
        }
      ],
      "source": [
        "tester.data"
      ]
    },
    {
      "cell_type": "code",
      "execution_count": null,
      "metadata": {
        "id": "YXZNfzCsY0YC",
        "colab": {
          "base_uri": "https://localhost:8080/",
          "height": 654
        },
        "outputId": "be1a3185-1dfc-452b-a478-7d9c6d3cff47"
      },
      "outputs": [
        {
          "output_type": "stream",
          "name": "stdout",
          "text": [
            "[*********************100%***********************]  1 of 1 completed\n",
            "[*********************100%***********************]  1 of 1 completed\n",
            "[*********************100%***********************]  1 of 1 completed\n",
            "[*********************100%***********************]  1 of 1 completed\n",
            "[*********************100%***********************]  1 of 1 completed\n",
            "[*********************100%***********************]  1 of 1 completed\n",
            "[*********************100%***********************]  1 of 1 completed\n",
            "[*********************100%***********************]  1 of 1 completed\n",
            "[*********************100%***********************]  1 of 1 completed\n",
            "[*********************100%***********************]  1 of 1 completed\n",
            "[*********************100%***********************]  1 of 1 completed\n",
            "[*********************100%***********************]  1 of 1 completed\n"
          ]
        },
        {
          "output_type": "execute_result",
          "data": {
            "text/html": [
              "\n",
              "  <div id=\"df-decf5752-6bf0-4142-897c-2643a01c49ab\">\n",
              "    <div class=\"colab-df-container\">\n",
              "      <div>\n",
              "<style scoped>\n",
              "    .dataframe tbody tr th:only-of-type {\n",
              "        vertical-align: middle;\n",
              "    }\n",
              "\n",
              "    .dataframe tbody tr th {\n",
              "        vertical-align: top;\n",
              "    }\n",
              "\n",
              "    .dataframe thead th {\n",
              "        text-align: right;\n",
              "    }\n",
              "</style>\n",
              "<table border=\"1\" class=\"dataframe\">\n",
              "  <thead>\n",
              "    <tr style=\"text-align: right;\">\n",
              "      <th></th>\n",
              "      <th>price</th>\n",
              "      <th>returns</th>\n",
              "      <th>SMA_S</th>\n",
              "      <th>SMA_L</th>\n",
              "    </tr>\n",
              "    <tr>\n",
              "      <th>Date</th>\n",
              "      <th></th>\n",
              "      <th></th>\n",
              "      <th></th>\n",
              "      <th></th>\n",
              "    </tr>\n",
              "  </thead>\n",
              "  <tbody>\n",
              "    <tr>\n",
              "      <th>2010-01-04</th>\n",
              "      <td>133.899994</td>\n",
              "      <td>NaN</td>\n",
              "      <td>NaN</td>\n",
              "      <td>NaN</td>\n",
              "    </tr>\n",
              "    <tr>\n",
              "      <th>2010-01-05</th>\n",
              "      <td>134.690002</td>\n",
              "      <td>0.005883</td>\n",
              "      <td>NaN</td>\n",
              "      <td>NaN</td>\n",
              "    </tr>\n",
              "    <tr>\n",
              "      <th>2010-01-06</th>\n",
              "      <td>132.250000</td>\n",
              "      <td>-0.018282</td>\n",
              "      <td>NaN</td>\n",
              "      <td>NaN</td>\n",
              "    </tr>\n",
              "    <tr>\n",
              "      <th>2010-01-07</th>\n",
              "      <td>130.000000</td>\n",
              "      <td>-0.017160</td>\n",
              "      <td>NaN</td>\n",
              "      <td>NaN</td>\n",
              "    </tr>\n",
              "    <tr>\n",
              "      <th>2010-01-08</th>\n",
              "      <td>133.520004</td>\n",
              "      <td>0.026717</td>\n",
              "      <td>NaN</td>\n",
              "      <td>NaN</td>\n",
              "    </tr>\n",
              "    <tr>\n",
              "      <th>...</th>\n",
              "      <td>...</td>\n",
              "      <td>...</td>\n",
              "      <td>...</td>\n",
              "      <td>...</td>\n",
              "    </tr>\n",
              "    <tr>\n",
              "      <th>2019-12-24</th>\n",
              "      <td>1789.209961</td>\n",
              "      <td>-0.002116</td>\n",
              "      <td>1771.914392</td>\n",
              "      <td>1823.850699</td>\n",
              "    </tr>\n",
              "    <tr>\n",
              "      <th>2019-12-26</th>\n",
              "      <td>1868.770020</td>\n",
              "      <td>0.043506</td>\n",
              "      <td>1773.942192</td>\n",
              "      <td>1824.740499</td>\n",
              "    </tr>\n",
              "    <tr>\n",
              "      <th>2019-12-27</th>\n",
              "      <td>1869.800049</td>\n",
              "      <td>0.000551</td>\n",
              "      <td>1775.789592</td>\n",
              "      <td>1825.658399</td>\n",
              "    </tr>\n",
              "    <tr>\n",
              "      <th>2019-12-30</th>\n",
              "      <td>1846.890015</td>\n",
              "      <td>-0.012328</td>\n",
              "      <td>1776.977793</td>\n",
              "      <td>1826.331049</td>\n",
              "    </tr>\n",
              "    <tr>\n",
              "      <th>2019-12-31</th>\n",
              "      <td>1847.839966</td>\n",
              "      <td>0.000514</td>\n",
              "      <td>1778.784392</td>\n",
              "      <td>1826.859499</td>\n",
              "    </tr>\n",
              "  </tbody>\n",
              "</table>\n",
              "<p>2516 rows × 4 columns</p>\n",
              "</div>\n",
              "      <button class=\"colab-df-convert\" onclick=\"convertToInteractive('df-decf5752-6bf0-4142-897c-2643a01c49ab')\"\n",
              "              title=\"Convert this dataframe to an interactive table.\"\n",
              "              style=\"display:none;\">\n",
              "        \n",
              "  <svg xmlns=\"http://www.w3.org/2000/svg\" height=\"24px\"viewBox=\"0 0 24 24\"\n",
              "       width=\"24px\">\n",
              "    <path d=\"M0 0h24v24H0V0z\" fill=\"none\"/>\n",
              "    <path d=\"M18.56 5.44l.94 2.06.94-2.06 2.06-.94-2.06-.94-.94-2.06-.94 2.06-2.06.94zm-11 1L8.5 8.5l.94-2.06 2.06-.94-2.06-.94L8.5 2.5l-.94 2.06-2.06.94zm10 10l.94 2.06.94-2.06 2.06-.94-2.06-.94-.94-2.06-.94 2.06-2.06.94z\"/><path d=\"M17.41 7.96l-1.37-1.37c-.4-.4-.92-.59-1.43-.59-.52 0-1.04.2-1.43.59L10.3 9.45l-7.72 7.72c-.78.78-.78 2.05 0 2.83L4 21.41c.39.39.9.59 1.41.59.51 0 1.02-.2 1.41-.59l7.78-7.78 2.81-2.81c.8-.78.8-2.07 0-2.86zM5.41 20L4 18.59l7.72-7.72 1.47 1.35L5.41 20z\"/>\n",
              "  </svg>\n",
              "      </button>\n",
              "      \n",
              "  <style>\n",
              "    .colab-df-container {\n",
              "      display:flex;\n",
              "      flex-wrap:wrap;\n",
              "      gap: 12px;\n",
              "    }\n",
              "\n",
              "    .colab-df-convert {\n",
              "      background-color: #E8F0FE;\n",
              "      border: none;\n",
              "      border-radius: 50%;\n",
              "      cursor: pointer;\n",
              "      display: none;\n",
              "      fill: #1967D2;\n",
              "      height: 32px;\n",
              "      padding: 0 0 0 0;\n",
              "      width: 32px;\n",
              "    }\n",
              "\n",
              "    .colab-df-convert:hover {\n",
              "      background-color: #E2EBFA;\n",
              "      box-shadow: 0px 1px 2px rgba(60, 64, 67, 0.3), 0px 1px 3px 1px rgba(60, 64, 67, 0.15);\n",
              "      fill: #174EA6;\n",
              "    }\n",
              "\n",
              "    [theme=dark] .colab-df-convert {\n",
              "      background-color: #3B4455;\n",
              "      fill: #D2E3FC;\n",
              "    }\n",
              "\n",
              "    [theme=dark] .colab-df-convert:hover {\n",
              "      background-color: #434B5C;\n",
              "      box-shadow: 0px 1px 3px 1px rgba(0, 0, 0, 0.15);\n",
              "      filter: drop-shadow(0px 1px 2px rgba(0, 0, 0, 0.3));\n",
              "      fill: #FFFFFF;\n",
              "    }\n",
              "  </style>\n",
              "\n",
              "      <script>\n",
              "        const buttonEl =\n",
              "          document.querySelector('#df-decf5752-6bf0-4142-897c-2643a01c49ab button.colab-df-convert');\n",
              "        buttonEl.style.display =\n",
              "          google.colab.kernel.accessAllowed ? 'block' : 'none';\n",
              "\n",
              "        async function convertToInteractive(key) {\n",
              "          const element = document.querySelector('#df-decf5752-6bf0-4142-897c-2643a01c49ab');\n",
              "          const dataTable =\n",
              "            await google.colab.kernel.invokeFunction('convertToInteractive',\n",
              "                                                     [key], {});\n",
              "          if (!dataTable) return;\n",
              "\n",
              "          const docLinkHtml = 'Like what you see? Visit the ' +\n",
              "            '<a target=\"_blank\" href=https://colab.research.google.com/notebooks/data_table.ipynb>data table notebook</a>'\n",
              "            + ' to learn more about interactive tables.';\n",
              "          element.innerHTML = '';\n",
              "          dataTable['output_type'] = 'display_data';\n",
              "          await google.colab.output.renderOutput(dataTable, element);\n",
              "          const docLink = document.createElement('div');\n",
              "          docLink.innerHTML = docLinkHtml;\n",
              "          element.appendChild(docLink);\n",
              "        }\n",
              "      </script>\n",
              "    </div>\n",
              "  </div>\n",
              "  "
            ],
            "text/plain": [
              "                  price   returns        SMA_S        SMA_L\n",
              "Date                                                       \n",
              "2010-01-04   133.899994       NaN          NaN          NaN\n",
              "2010-01-05   134.690002  0.005883          NaN          NaN\n",
              "2010-01-06   132.250000 -0.018282          NaN          NaN\n",
              "2010-01-07   130.000000 -0.017160          NaN          NaN\n",
              "2010-01-08   133.520004  0.026717          NaN          NaN\n",
              "...                 ...       ...          ...          ...\n",
              "2019-12-24  1789.209961 -0.002116  1771.914392  1823.850699\n",
              "2019-12-26  1868.770020  0.043506  1773.942192  1824.740499\n",
              "2019-12-27  1869.800049  0.000551  1775.789592  1825.658399\n",
              "2019-12-30  1846.890015 -0.012328  1776.977793  1826.331049\n",
              "2019-12-31  1847.839966  0.000514  1778.784392  1826.859499\n",
              "\n",
              "[2516 rows x 4 columns]"
            ]
          },
          "metadata": {},
          "execution_count": 31
        }
      ],
      "source": [
        "tester.get_data()"
      ]
    },
    {
      "cell_type": "markdown",
      "metadata": {
        "id": "AgkTkDB3Y0YC"
      },
      "source": [
        "## Setting new SMA Paramters"
      ]
    },
    {
      "cell_type": "code",
      "execution_count": null,
      "metadata": {
        "id": "5Hk2Gy_GY0YD",
        "colab": {
          "base_uri": "https://localhost:8080/"
        },
        "outputId": "5148a296-ba44-4b1f-a408-abb9cb8d4c94"
      },
      "outputs": [
        {
          "output_type": "execute_result",
          "data": {
            "text/plain": [
              "50"
            ]
          },
          "metadata": {},
          "execution_count": 32
        }
      ],
      "source": [
        "tester.SMA_S"
      ]
    },
    {
      "cell_type": "code",
      "execution_count": null,
      "metadata": {
        "id": "6REfkyS9Y0YD",
        "colab": {
          "base_uri": "https://localhost:8080/"
        },
        "outputId": "1dd67def-0bc3-4456-f7b9-d662525c72cc"
      },
      "outputs": [
        {
          "output_type": "execute_result",
          "data": {
            "text/plain": [
              "200"
            ]
          },
          "metadata": {},
          "execution_count": 33
        }
      ],
      "source": [
        "tester.SMA_L"
      ]
    },
    {
      "cell_type": "code",
      "execution_count": null,
      "metadata": {
        "id": "SjDc3kqFY0YD",
        "colab": {
          "base_uri": "https://localhost:8080/"
        },
        "outputId": "a7e67dd8-4f03-497f-9356-ff082c04a2e2"
      },
      "outputs": [
        {
          "output_type": "execute_result",
          "data": {
            "text/plain": [
              "price        0\n",
              "returns      1\n",
              "SMA_S       49\n",
              "SMA_L      199\n",
              "dtype: int64"
            ]
          },
          "metadata": {},
          "execution_count": 34
        }
      ],
      "source": [
        "tester.data.isna().sum()"
      ]
    },
    {
      "cell_type": "code",
      "execution_count": null,
      "metadata": {
        "id": "T91kkRfTY0YD"
      },
      "outputs": [],
      "source": [
        "tester.SMA_L = 250"
      ]
    },
    {
      "cell_type": "code",
      "execution_count": null,
      "metadata": {
        "id": "PuaCDgZyY0YE",
        "colab": {
          "base_uri": "https://localhost:8080/"
        },
        "outputId": "b3241d62-7e42-4433-86da-df5f0b7941cd"
      },
      "outputs": [
        {
          "output_type": "execute_result",
          "data": {
            "text/plain": [
              "250"
            ]
          },
          "metadata": {},
          "execution_count": 36
        }
      ],
      "source": [
        "tester.SMA_L"
      ]
    },
    {
      "cell_type": "code",
      "execution_count": null,
      "metadata": {
        "id": "_dQa9dxFY0YE",
        "colab": {
          "base_uri": "https://localhost:8080/"
        },
        "outputId": "c65512a3-6c2f-473c-fc51-e94f6343319d"
      },
      "outputs": [
        {
          "output_type": "execute_result",
          "data": {
            "text/plain": [
              "price        0\n",
              "returns      1\n",
              "SMA_S       49\n",
              "SMA_L      199\n",
              "dtype: int64"
            ]
          },
          "metadata": {},
          "execution_count": 37
        }
      ],
      "source": [
        "tester.data.isna().sum()"
      ]
    },
    {
      "cell_type": "code",
      "execution_count": null,
      "metadata": {
        "id": "8ZHPJnBwY0YE"
      },
      "outputs": [],
      "source": [
        "class SMABacktester():\n",
        "    def __init__(self, symbol, SMA_S, SMA_L, start, end):\n",
        "        self.symbol = symbol\n",
        "        self.SMA_S = SMA_S\n",
        "        self.SMA_L = SMA_L\n",
        "        self.start = start\n",
        "        self.end = end\n",
        "        self.results = None\n",
        "        self.get_data()\n",
        "        \n",
        "    def get_data(self):\n",
        "        stocks = [\"AMZN\",\"MSFT\",\"INTC\",\"GOOG\",\"INFY.NS\",\"3988.HK\"]\n",
        "        start = dt.datetime.today()-dt.timedelta(6000)\n",
        "        end = dt.datetime.today()\n",
        "        cl_price = pd.DataFrame() # empty dataframe which will be filled with closing prices of each stock\n",
        "        ohlcv_data = {} # empty dictionary which will be filled with ohlcv dataframe for each ticker\n",
        "\n",
        "        # looping over tickers and creating a dataframe with close prices\n",
        "        for ticker in stocks:\n",
        "            cl_price[ticker] = yf.download(ticker,start,end)[\"Adj Close\"]\n",
        "            \n",
        "\n",
        "        # looping over tickers and storing OHLCV dataframe in dictionary\n",
        "        for ticker in stocks:\n",
        "            ohlcv_data[ticker] = yf.download(ticker,start,end)\n",
        "\n",
        "        raw = cl_price\n",
        "        raw = raw[self.symbol].to_frame().dropna()\n",
        "        raw = raw.loc[self.start:self.end].copy()\n",
        "        raw.rename(columns={self.symbol: \"price\"}, inplace=True)\n",
        "        raw[\"returns\"] = np.log(raw / raw.shift(1))\n",
        "        raw[\"SMA_S\"] = raw[\"price\"].rolling(self.SMA_S).mean() # add short sma\n",
        "        raw[\"SMA_L\"] = raw[\"price\"].rolling(self.SMA_L).mean()\n",
        "        self.data = raw\n",
        "        return raw\n",
        "    \n",
        "    def set_parameters(self, SMA_S = None, SMA_L = None):\n",
        "        if SMA_S is not None:\n",
        "            self.SMA_S = SMA_S\n",
        "            self.data[\"SMA_S\"] = self.data[\"price\"].rolling(self.SMA_S).mean()\n",
        "        if SMA_L is not None:\n",
        "            self.SMA_L = SMA_L\n",
        "            self.data[\"SMA_L\"] = self.data[\"price\"].rolling(self.SMA_L).mean()"
      ]
    },
    {
      "cell_type": "code",
      "execution_count": null,
      "metadata": {
        "id": "jRY3pUERY0YE",
        "colab": {
          "base_uri": "https://localhost:8080/"
        },
        "outputId": "6650f320-e0db-444d-e848-3357eed8a0be"
      },
      "outputs": [
        {
          "output_type": "stream",
          "name": "stdout",
          "text": [
            "[*********************100%***********************]  1 of 1 completed\n",
            "[*********************100%***********************]  1 of 1 completed\n",
            "[*********************100%***********************]  1 of 1 completed\n",
            "[*********************100%***********************]  1 of 1 completed\n",
            "[*********************100%***********************]  1 of 1 completed\n",
            "[*********************100%***********************]  1 of 1 completed\n",
            "[*********************100%***********************]  1 of 1 completed\n",
            "[*********************100%***********************]  1 of 1 completed\n",
            "[*********************100%***********************]  1 of 1 completed\n",
            "[*********************100%***********************]  1 of 1 completed\n",
            "[*********************100%***********************]  1 of 1 completed\n",
            "[*********************100%***********************]  1 of 1 completed\n"
          ]
        }
      ],
      "source": [
        "tester = SMABacktester(\"AMZN\", 50, 200, \"2010-01-01\", \"2019-12-31\")"
      ]
    },
    {
      "cell_type": "code",
      "execution_count": null,
      "metadata": {
        "id": "ejh-wtkmY0YF",
        "colab": {
          "base_uri": "https://localhost:8080/"
        },
        "outputId": "8844a49b-ff47-4772-8401-c631d2c7fac0"
      },
      "outputs": [
        {
          "output_type": "execute_result",
          "data": {
            "text/plain": [
              "price        0\n",
              "returns      1\n",
              "SMA_S       49\n",
              "SMA_L      199\n",
              "dtype: int64"
            ]
          },
          "metadata": {},
          "execution_count": 40
        }
      ],
      "source": [
        "tester.data.isna().sum()"
      ]
    },
    {
      "cell_type": "code",
      "execution_count": null,
      "metadata": {
        "id": "N7x3294DY0YF"
      },
      "outputs": [],
      "source": [
        "tester.set_parameters(SMA_S = 25, SMA_L = 150)"
      ]
    },
    {
      "cell_type": "code",
      "execution_count": null,
      "metadata": {
        "id": "rMnMNuJcY0YF",
        "colab": {
          "base_uri": "https://localhost:8080/"
        },
        "outputId": "11a04b89-dada-42ea-c239-65e1c005a568"
      },
      "outputs": [
        {
          "output_type": "execute_result",
          "data": {
            "text/plain": [
              "25"
            ]
          },
          "metadata": {},
          "execution_count": 42
        }
      ],
      "source": [
        "tester.SMA_S"
      ]
    },
    {
      "cell_type": "code",
      "execution_count": null,
      "metadata": {
        "id": "30Hlkr25Y0YF",
        "colab": {
          "base_uri": "https://localhost:8080/"
        },
        "outputId": "2664b714-1d36-4372-9941-f9c99daa6106"
      },
      "outputs": [
        {
          "output_type": "execute_result",
          "data": {
            "text/plain": [
              "price        0\n",
              "returns      1\n",
              "SMA_S       24\n",
              "SMA_L      149\n",
              "dtype: int64"
            ]
          },
          "metadata": {},
          "execution_count": 43
        }
      ],
      "source": [
        "tester.data.isna().sum()"
      ]
    },
    {
      "cell_type": "code",
      "execution_count": null,
      "metadata": {
        "id": "NWJnKL9rY0YG"
      },
      "outputs": [],
      "source": [
        ""
      ]
    },
    {
      "cell_type": "markdown",
      "metadata": {
        "id": "VKXoQPuwY0YG"
      },
      "source": [
        "## Testing a Strategy"
      ]
    },
    {
      "cell_type": "code",
      "execution_count": null,
      "metadata": {
        "id": "uDNQyVm3Y0YG"
      },
      "outputs": [],
      "source": [
        "class SMABacktester():\n",
        "    def __init__(self, symbol, SMA_S, SMA_L, start, end):\n",
        "        self.symbol = symbol\n",
        "        self.SMA_S = SMA_S\n",
        "        self.SMA_L = SMA_L\n",
        "        self.start = start\n",
        "        self.end = end\n",
        "        self.results = None\n",
        "        self.get_data()\n",
        "        \n",
        "    def get_data(self):\n",
        "        stocks = [\"AMZN\",\"MSFT\",\"INTC\",\"GOOG\",\"INFY.NS\",\"3988.HK\"]\n",
        "        start = dt.datetime.today()-dt.timedelta(6000)\n",
        "        end = dt.datetime.today()\n",
        "        cl_price = pd.DataFrame() # empty dataframe which will be filled with closing prices of each stock\n",
        "        ohlcv_data = {} # empty dictionary which will be filled with ohlcv dataframe for each ticker\n",
        "\n",
        "        # looping over tickers and creating a dataframe with close prices\n",
        "        for ticker in stocks:\n",
        "            cl_price[ticker] = yf.download(ticker,start,end)[\"Adj Close\"]\n",
        "            \n",
        "\n",
        "        # looping over tickers and storing OHLCV dataframe in dictionary\n",
        "        for ticker in stocks:\n",
        "            ohlcv_data[ticker] = yf.download(ticker,start,end)\n",
        "\n",
        "        raw = cl_price\n",
        "        raw = raw[self.symbol].to_frame().dropna()\n",
        "        raw = raw.loc[self.start:self.end].copy()\n",
        "        raw.rename(columns={self.symbol: \"price\"}, inplace=True)\n",
        "        raw[\"returns\"] = np.log(raw / raw.shift(1))\n",
        "        raw[\"SMA_S\"] = raw[\"price\"].rolling(self.SMA_S).mean() # add short sma\n",
        "        raw[\"SMA_L\"] = raw[\"price\"].rolling(self.SMA_L).mean()\n",
        "        self.data = raw\n",
        "        return raw\n",
        "    \n",
        "    def set_parameters(self, SMA_S = None, SMA_L = None):\n",
        "        if SMA_S is not None:\n",
        "            self.SMA_S = SMA_S\n",
        "            self.data[\"SMA_S\"] = self.data[\"price\"].rolling(self.SMA_S).mean()\n",
        "        if SMA_L is not None:\n",
        "            self.SMA_L = SMA_L\n",
        "            self.data[\"SMA_L\"] = self.data[\"price\"].rolling(self.SMA_L).mean()\n",
        "            \n",
        "    def test_strategy(self):\n",
        "        data = self.data.copy().dropna()\n",
        "        data[\"position\"] = np.where(data[\"SMA_S\"] > data[\"SMA_L\"], 1, -1)\n",
        "        data[\"strategy\"] = data[\"position\"].shift(1) * data[\"returns\"]\n",
        "        data.dropna(inplace=True)\n",
        "        data[\"creturns\"] = data[\"returns\"].cumsum().apply(np.exp)\n",
        "        data[\"cstrategy\"] = data[\"strategy\"].cumsum().apply(np.exp)\n",
        "        self.results = data\n",
        "        \n",
        "        perf = data[\"cstrategy\"].iloc[-1] # absolute performance\n",
        "        outperf = perf - data[\"creturns\"].iloc[-1] # outperformance \n",
        "        return round(perf, 6), round(outperf, 6)"
      ]
    },
    {
      "cell_type": "code",
      "execution_count": null,
      "metadata": {
        "id": "t_LZZG0VY0YH",
        "colab": {
          "base_uri": "https://localhost:8080/"
        },
        "outputId": "99332172-42d2-46e3-83d7-ab308a5e8325"
      },
      "outputs": [
        {
          "output_type": "stream",
          "name": "stdout",
          "text": [
            "[*********************100%***********************]  1 of 1 completed\n",
            "[*********************100%***********************]  1 of 1 completed\n",
            "[*********************100%***********************]  1 of 1 completed\n",
            "[*********************100%***********************]  1 of 1 completed\n",
            "[*********************100%***********************]  1 of 1 completed\n",
            "[*********************100%***********************]  1 of 1 completed\n",
            "[*********************100%***********************]  1 of 1 completed\n",
            "[*********************100%***********************]  1 of 1 completed\n",
            "[*********************100%***********************]  1 of 1 completed\n",
            "[*********************100%***********************]  1 of 1 completed\n",
            "[*********************100%***********************]  1 of 1 completed\n",
            "[*********************100%***********************]  1 of 1 completed\n"
          ]
        }
      ],
      "source": [
        "tester = SMABacktester(\"AMZN\", 50, 200, \"2006-01-01\", \"2021-06-30\")"
      ]
    },
    {
      "cell_type": "code",
      "execution_count": null,
      "metadata": {
        "id": "1Lbn5IO-Y0YH",
        "colab": {
          "base_uri": "https://localhost:8080/"
        },
        "outputId": "4ff7ecde-187e-48b9-e079-5c31c0e7b69e"
      },
      "outputs": [
        {
          "output_type": "execute_result",
          "data": {
            "text/plain": [
              "(2.812418, -103.136451)"
            ]
          },
          "metadata": {},
          "execution_count": 46
        }
      ],
      "source": [
        "tester.test_strategy()"
      ]
    },
    {
      "cell_type": "code",
      "execution_count": null,
      "metadata": {
        "id": "Fz_Fm4VOY0YH",
        "colab": {
          "base_uri": "https://localhost:8080/",
          "height": 450
        },
        "outputId": "ee3efa64-8e84-4001-bbe2-fabda3b1bbac"
      },
      "outputs": [
        {
          "output_type": "execute_result",
          "data": {
            "text/html": [
              "\n",
              "  <div id=\"df-da6dcce9-807c-44c5-b652-dd93b758590f\">\n",
              "    <div class=\"colab-df-container\">\n",
              "      <div>\n",
              "<style scoped>\n",
              "    .dataframe tbody tr th:only-of-type {\n",
              "        vertical-align: middle;\n",
              "    }\n",
              "\n",
              "    .dataframe tbody tr th {\n",
              "        vertical-align: top;\n",
              "    }\n",
              "\n",
              "    .dataframe thead th {\n",
              "        text-align: right;\n",
              "    }\n",
              "</style>\n",
              "<table border=\"1\" class=\"dataframe\">\n",
              "  <thead>\n",
              "    <tr style=\"text-align: right;\">\n",
              "      <th></th>\n",
              "      <th>price</th>\n",
              "      <th>returns</th>\n",
              "      <th>SMA_S</th>\n",
              "      <th>SMA_L</th>\n",
              "    </tr>\n",
              "    <tr>\n",
              "      <th>Date</th>\n",
              "      <th></th>\n",
              "      <th></th>\n",
              "      <th></th>\n",
              "      <th></th>\n",
              "    </tr>\n",
              "  </thead>\n",
              "  <tbody>\n",
              "    <tr>\n",
              "      <th>2006-01-03</th>\n",
              "      <td>47.580002</td>\n",
              "      <td>NaN</td>\n",
              "      <td>NaN</td>\n",
              "      <td>NaN</td>\n",
              "    </tr>\n",
              "    <tr>\n",
              "      <th>2006-01-04</th>\n",
              "      <td>47.250000</td>\n",
              "      <td>-0.006960</td>\n",
              "      <td>NaN</td>\n",
              "      <td>NaN</td>\n",
              "    </tr>\n",
              "    <tr>\n",
              "      <th>2006-01-05</th>\n",
              "      <td>47.650002</td>\n",
              "      <td>0.008430</td>\n",
              "      <td>NaN</td>\n",
              "      <td>NaN</td>\n",
              "    </tr>\n",
              "    <tr>\n",
              "      <th>2006-01-06</th>\n",
              "      <td>47.869999</td>\n",
              "      <td>0.004606</td>\n",
              "      <td>NaN</td>\n",
              "      <td>NaN</td>\n",
              "    </tr>\n",
              "    <tr>\n",
              "      <th>2006-01-09</th>\n",
              "      <td>47.080002</td>\n",
              "      <td>-0.016641</td>\n",
              "      <td>NaN</td>\n",
              "      <td>NaN</td>\n",
              "    </tr>\n",
              "    <tr>\n",
              "      <th>...</th>\n",
              "      <td>...</td>\n",
              "      <td>...</td>\n",
              "      <td>...</td>\n",
              "      <td>...</td>\n",
              "    </tr>\n",
              "    <tr>\n",
              "      <th>2021-06-24</th>\n",
              "      <td>3449.080078</td>\n",
              "      <td>-0.015746</td>\n",
              "      <td>3320.046797</td>\n",
              "      <td>3214.272039</td>\n",
              "    </tr>\n",
              "    <tr>\n",
              "      <th>2021-06-25</th>\n",
              "      <td>3401.459961</td>\n",
              "      <td>-0.013903</td>\n",
              "      <td>3320.494194</td>\n",
              "      <td>3214.936288</td>\n",
              "    </tr>\n",
              "    <tr>\n",
              "      <th>2021-06-28</th>\n",
              "      <td>3443.889893</td>\n",
              "      <td>0.012397</td>\n",
              "      <td>3321.383193</td>\n",
              "      <td>3216.280187</td>\n",
              "    </tr>\n",
              "    <tr>\n",
              "      <th>2021-06-29</th>\n",
              "      <td>3448.139893</td>\n",
              "      <td>0.001233</td>\n",
              "      <td>3322.905791</td>\n",
              "      <td>3217.939786</td>\n",
              "    </tr>\n",
              "    <tr>\n",
              "      <th>2021-06-30</th>\n",
              "      <td>3440.159912</td>\n",
              "      <td>-0.002317</td>\n",
              "      <td>3325.015190</td>\n",
              "      <td>3219.625736</td>\n",
              "    </tr>\n",
              "  </tbody>\n",
              "</table>\n",
              "<p>3900 rows × 4 columns</p>\n",
              "</div>\n",
              "      <button class=\"colab-df-convert\" onclick=\"convertToInteractive('df-da6dcce9-807c-44c5-b652-dd93b758590f')\"\n",
              "              title=\"Convert this dataframe to an interactive table.\"\n",
              "              style=\"display:none;\">\n",
              "        \n",
              "  <svg xmlns=\"http://www.w3.org/2000/svg\" height=\"24px\"viewBox=\"0 0 24 24\"\n",
              "       width=\"24px\">\n",
              "    <path d=\"M0 0h24v24H0V0z\" fill=\"none\"/>\n",
              "    <path d=\"M18.56 5.44l.94 2.06.94-2.06 2.06-.94-2.06-.94-.94-2.06-.94 2.06-2.06.94zm-11 1L8.5 8.5l.94-2.06 2.06-.94-2.06-.94L8.5 2.5l-.94 2.06-2.06.94zm10 10l.94 2.06.94-2.06 2.06-.94-2.06-.94-.94-2.06-.94 2.06-2.06.94z\"/><path d=\"M17.41 7.96l-1.37-1.37c-.4-.4-.92-.59-1.43-.59-.52 0-1.04.2-1.43.59L10.3 9.45l-7.72 7.72c-.78.78-.78 2.05 0 2.83L4 21.41c.39.39.9.59 1.41.59.51 0 1.02-.2 1.41-.59l7.78-7.78 2.81-2.81c.8-.78.8-2.07 0-2.86zM5.41 20L4 18.59l7.72-7.72 1.47 1.35L5.41 20z\"/>\n",
              "  </svg>\n",
              "      </button>\n",
              "      \n",
              "  <style>\n",
              "    .colab-df-container {\n",
              "      display:flex;\n",
              "      flex-wrap:wrap;\n",
              "      gap: 12px;\n",
              "    }\n",
              "\n",
              "    .colab-df-convert {\n",
              "      background-color: #E8F0FE;\n",
              "      border: none;\n",
              "      border-radius: 50%;\n",
              "      cursor: pointer;\n",
              "      display: none;\n",
              "      fill: #1967D2;\n",
              "      height: 32px;\n",
              "      padding: 0 0 0 0;\n",
              "      width: 32px;\n",
              "    }\n",
              "\n",
              "    .colab-df-convert:hover {\n",
              "      background-color: #E2EBFA;\n",
              "      box-shadow: 0px 1px 2px rgba(60, 64, 67, 0.3), 0px 1px 3px 1px rgba(60, 64, 67, 0.15);\n",
              "      fill: #174EA6;\n",
              "    }\n",
              "\n",
              "    [theme=dark] .colab-df-convert {\n",
              "      background-color: #3B4455;\n",
              "      fill: #D2E3FC;\n",
              "    }\n",
              "\n",
              "    [theme=dark] .colab-df-convert:hover {\n",
              "      background-color: #434B5C;\n",
              "      box-shadow: 0px 1px 3px 1px rgba(0, 0, 0, 0.15);\n",
              "      filter: drop-shadow(0px 1px 2px rgba(0, 0, 0, 0.3));\n",
              "      fill: #FFFFFF;\n",
              "    }\n",
              "  </style>\n",
              "\n",
              "      <script>\n",
              "        const buttonEl =\n",
              "          document.querySelector('#df-da6dcce9-807c-44c5-b652-dd93b758590f button.colab-df-convert');\n",
              "        buttonEl.style.display =\n",
              "          google.colab.kernel.accessAllowed ? 'block' : 'none';\n",
              "\n",
              "        async function convertToInteractive(key) {\n",
              "          const element = document.querySelector('#df-da6dcce9-807c-44c5-b652-dd93b758590f');\n",
              "          const dataTable =\n",
              "            await google.colab.kernel.invokeFunction('convertToInteractive',\n",
              "                                                     [key], {});\n",
              "          if (!dataTable) return;\n",
              "\n",
              "          const docLinkHtml = 'Like what you see? Visit the ' +\n",
              "            '<a target=\"_blank\" href=https://colab.research.google.com/notebooks/data_table.ipynb>data table notebook</a>'\n",
              "            + ' to learn more about interactive tables.';\n",
              "          element.innerHTML = '';\n",
              "          dataTable['output_type'] = 'display_data';\n",
              "          await google.colab.output.renderOutput(dataTable, element);\n",
              "          const docLink = document.createElement('div');\n",
              "          docLink.innerHTML = docLinkHtml;\n",
              "          element.appendChild(docLink);\n",
              "        }\n",
              "      </script>\n",
              "    </div>\n",
              "  </div>\n",
              "  "
            ],
            "text/plain": [
              "                  price   returns        SMA_S        SMA_L\n",
              "Date                                                       \n",
              "2006-01-03    47.580002       NaN          NaN          NaN\n",
              "2006-01-04    47.250000 -0.006960          NaN          NaN\n",
              "2006-01-05    47.650002  0.008430          NaN          NaN\n",
              "2006-01-06    47.869999  0.004606          NaN          NaN\n",
              "2006-01-09    47.080002 -0.016641          NaN          NaN\n",
              "...                 ...       ...          ...          ...\n",
              "2021-06-24  3449.080078 -0.015746  3320.046797  3214.272039\n",
              "2021-06-25  3401.459961 -0.013903  3320.494194  3214.936288\n",
              "2021-06-28  3443.889893  0.012397  3321.383193  3216.280187\n",
              "2021-06-29  3448.139893  0.001233  3322.905791  3217.939786\n",
              "2021-06-30  3440.159912 -0.002317  3325.015190  3219.625736\n",
              "\n",
              "[3900 rows x 4 columns]"
            ]
          },
          "metadata": {},
          "execution_count": 47
        }
      ],
      "source": [
        "tester.data"
      ]
    },
    {
      "cell_type": "code",
      "execution_count": null,
      "metadata": {
        "id": "bKxtLH7SY0YH",
        "colab": {
          "base_uri": "https://localhost:8080/",
          "height": 450
        },
        "outputId": "d9742b4e-c513-4373-fef3-d27f59b0cf83"
      },
      "outputs": [
        {
          "output_type": "execute_result",
          "data": {
            "text/html": [
              "\n",
              "  <div id=\"df-ec1d670e-749e-4848-8e2d-17328b206b76\">\n",
              "    <div class=\"colab-df-container\">\n",
              "      <div>\n",
              "<style scoped>\n",
              "    .dataframe tbody tr th:only-of-type {\n",
              "        vertical-align: middle;\n",
              "    }\n",
              "\n",
              "    .dataframe tbody tr th {\n",
              "        vertical-align: top;\n",
              "    }\n",
              "\n",
              "    .dataframe thead th {\n",
              "        text-align: right;\n",
              "    }\n",
              "</style>\n",
              "<table border=\"1\" class=\"dataframe\">\n",
              "  <thead>\n",
              "    <tr style=\"text-align: right;\">\n",
              "      <th></th>\n",
              "      <th>price</th>\n",
              "      <th>returns</th>\n",
              "      <th>SMA_S</th>\n",
              "      <th>SMA_L</th>\n",
              "      <th>position</th>\n",
              "      <th>strategy</th>\n",
              "      <th>creturns</th>\n",
              "      <th>cstrategy</th>\n",
              "    </tr>\n",
              "    <tr>\n",
              "      <th>Date</th>\n",
              "      <th></th>\n",
              "      <th></th>\n",
              "      <th></th>\n",
              "      <th></th>\n",
              "      <th></th>\n",
              "      <th></th>\n",
              "      <th></th>\n",
              "      <th></th>\n",
              "    </tr>\n",
              "  </thead>\n",
              "  <tbody>\n",
              "    <tr>\n",
              "      <th>2006-10-18</th>\n",
              "      <td>32.310001</td>\n",
              "      <td>-0.004940</td>\n",
              "      <td>30.700000</td>\n",
              "      <td>35.038750</td>\n",
              "      <td>-1</td>\n",
              "      <td>0.004940</td>\n",
              "      <td>0.995072</td>\n",
              "      <td>1.004952</td>\n",
              "    </tr>\n",
              "    <tr>\n",
              "      <th>2006-10-19</th>\n",
              "      <td>32.540001</td>\n",
              "      <td>0.007093</td>\n",
              "      <td>30.826600</td>\n",
              "      <td>34.965200</td>\n",
              "      <td>-1</td>\n",
              "      <td>-0.007093</td>\n",
              "      <td>1.002156</td>\n",
              "      <td>0.997849</td>\n",
              "    </tr>\n",
              "    <tr>\n",
              "      <th>2006-10-20</th>\n",
              "      <td>32.570000</td>\n",
              "      <td>0.000921</td>\n",
              "      <td>30.948200</td>\n",
              "      <td>34.889800</td>\n",
              "      <td>-1</td>\n",
              "      <td>-0.000921</td>\n",
              "      <td>1.003080</td>\n",
              "      <td>0.996930</td>\n",
              "    </tr>\n",
              "    <tr>\n",
              "      <th>2006-10-23</th>\n",
              "      <td>32.880001</td>\n",
              "      <td>0.009473</td>\n",
              "      <td>31.084400</td>\n",
              "      <td>34.814850</td>\n",
              "      <td>-1</td>\n",
              "      <td>-0.009473</td>\n",
              "      <td>1.012627</td>\n",
              "      <td>0.987530</td>\n",
              "    </tr>\n",
              "    <tr>\n",
              "      <th>2006-10-24</th>\n",
              "      <td>33.630001</td>\n",
              "      <td>0.022554</td>\n",
              "      <td>31.226400</td>\n",
              "      <td>34.747600</td>\n",
              "      <td>-1</td>\n",
              "      <td>-0.022554</td>\n",
              "      <td>1.035725</td>\n",
              "      <td>0.965507</td>\n",
              "    </tr>\n",
              "    <tr>\n",
              "      <th>...</th>\n",
              "      <td>...</td>\n",
              "      <td>...</td>\n",
              "      <td>...</td>\n",
              "      <td>...</td>\n",
              "      <td>...</td>\n",
              "      <td>...</td>\n",
              "      <td>...</td>\n",
              "      <td>...</td>\n",
              "    </tr>\n",
              "    <tr>\n",
              "      <th>2021-06-24</th>\n",
              "      <td>3449.080078</td>\n",
              "      <td>-0.015746</td>\n",
              "      <td>3320.046797</td>\n",
              "      <td>3214.272039</td>\n",
              "      <td>1</td>\n",
              "      <td>-0.015746</td>\n",
              "      <td>106.223589</td>\n",
              "      <td>2.819710</td>\n",
              "    </tr>\n",
              "    <tr>\n",
              "      <th>2021-06-25</th>\n",
              "      <td>3401.459961</td>\n",
              "      <td>-0.013903</td>\n",
              "      <td>3320.494194</td>\n",
              "      <td>3214.936288</td>\n",
              "      <td>1</td>\n",
              "      <td>-0.013903</td>\n",
              "      <td>104.757001</td>\n",
              "      <td>2.780780</td>\n",
              "    </tr>\n",
              "    <tr>\n",
              "      <th>2021-06-28</th>\n",
              "      <td>3443.889893</td>\n",
              "      <td>0.012397</td>\n",
              "      <td>3321.383193</td>\n",
              "      <td>3216.280187</td>\n",
              "      <td>1</td>\n",
              "      <td>0.012397</td>\n",
              "      <td>106.063744</td>\n",
              "      <td>2.815467</td>\n",
              "    </tr>\n",
              "    <tr>\n",
              "      <th>2021-06-29</th>\n",
              "      <td>3448.139893</td>\n",
              "      <td>0.001233</td>\n",
              "      <td>3322.905791</td>\n",
              "      <td>3217.939786</td>\n",
              "      <td>1</td>\n",
              "      <td>0.001233</td>\n",
              "      <td>106.194634</td>\n",
              "      <td>2.818942</td>\n",
              "    </tr>\n",
              "    <tr>\n",
              "      <th>2021-06-30</th>\n",
              "      <td>3440.159912</td>\n",
              "      <td>-0.002317</td>\n",
              "      <td>3325.015190</td>\n",
              "      <td>3219.625736</td>\n",
              "      <td>1</td>\n",
              "      <td>-0.002317</td>\n",
              "      <td>105.948869</td>\n",
              "      <td>2.812418</td>\n",
              "    </tr>\n",
              "  </tbody>\n",
              "</table>\n",
              "<p>3700 rows × 8 columns</p>\n",
              "</div>\n",
              "      <button class=\"colab-df-convert\" onclick=\"convertToInteractive('df-ec1d670e-749e-4848-8e2d-17328b206b76')\"\n",
              "              title=\"Convert this dataframe to an interactive table.\"\n",
              "              style=\"display:none;\">\n",
              "        \n",
              "  <svg xmlns=\"http://www.w3.org/2000/svg\" height=\"24px\"viewBox=\"0 0 24 24\"\n",
              "       width=\"24px\">\n",
              "    <path d=\"M0 0h24v24H0V0z\" fill=\"none\"/>\n",
              "    <path d=\"M18.56 5.44l.94 2.06.94-2.06 2.06-.94-2.06-.94-.94-2.06-.94 2.06-2.06.94zm-11 1L8.5 8.5l.94-2.06 2.06-.94-2.06-.94L8.5 2.5l-.94 2.06-2.06.94zm10 10l.94 2.06.94-2.06 2.06-.94-2.06-.94-.94-2.06-.94 2.06-2.06.94z\"/><path d=\"M17.41 7.96l-1.37-1.37c-.4-.4-.92-.59-1.43-.59-.52 0-1.04.2-1.43.59L10.3 9.45l-7.72 7.72c-.78.78-.78 2.05 0 2.83L4 21.41c.39.39.9.59 1.41.59.51 0 1.02-.2 1.41-.59l7.78-7.78 2.81-2.81c.8-.78.8-2.07 0-2.86zM5.41 20L4 18.59l7.72-7.72 1.47 1.35L5.41 20z\"/>\n",
              "  </svg>\n",
              "      </button>\n",
              "      \n",
              "  <style>\n",
              "    .colab-df-container {\n",
              "      display:flex;\n",
              "      flex-wrap:wrap;\n",
              "      gap: 12px;\n",
              "    }\n",
              "\n",
              "    .colab-df-convert {\n",
              "      background-color: #E8F0FE;\n",
              "      border: none;\n",
              "      border-radius: 50%;\n",
              "      cursor: pointer;\n",
              "      display: none;\n",
              "      fill: #1967D2;\n",
              "      height: 32px;\n",
              "      padding: 0 0 0 0;\n",
              "      width: 32px;\n",
              "    }\n",
              "\n",
              "    .colab-df-convert:hover {\n",
              "      background-color: #E2EBFA;\n",
              "      box-shadow: 0px 1px 2px rgba(60, 64, 67, 0.3), 0px 1px 3px 1px rgba(60, 64, 67, 0.15);\n",
              "      fill: #174EA6;\n",
              "    }\n",
              "\n",
              "    [theme=dark] .colab-df-convert {\n",
              "      background-color: #3B4455;\n",
              "      fill: #D2E3FC;\n",
              "    }\n",
              "\n",
              "    [theme=dark] .colab-df-convert:hover {\n",
              "      background-color: #434B5C;\n",
              "      box-shadow: 0px 1px 3px 1px rgba(0, 0, 0, 0.15);\n",
              "      filter: drop-shadow(0px 1px 2px rgba(0, 0, 0, 0.3));\n",
              "      fill: #FFFFFF;\n",
              "    }\n",
              "  </style>\n",
              "\n",
              "      <script>\n",
              "        const buttonEl =\n",
              "          document.querySelector('#df-ec1d670e-749e-4848-8e2d-17328b206b76 button.colab-df-convert');\n",
              "        buttonEl.style.display =\n",
              "          google.colab.kernel.accessAllowed ? 'block' : 'none';\n",
              "\n",
              "        async function convertToInteractive(key) {\n",
              "          const element = document.querySelector('#df-ec1d670e-749e-4848-8e2d-17328b206b76');\n",
              "          const dataTable =\n",
              "            await google.colab.kernel.invokeFunction('convertToInteractive',\n",
              "                                                     [key], {});\n",
              "          if (!dataTable) return;\n",
              "\n",
              "          const docLinkHtml = 'Like what you see? Visit the ' +\n",
              "            '<a target=\"_blank\" href=https://colab.research.google.com/notebooks/data_table.ipynb>data table notebook</a>'\n",
              "            + ' to learn more about interactive tables.';\n",
              "          element.innerHTML = '';\n",
              "          dataTable['output_type'] = 'display_data';\n",
              "          await google.colab.output.renderOutput(dataTable, element);\n",
              "          const docLink = document.createElement('div');\n",
              "          docLink.innerHTML = docLinkHtml;\n",
              "          element.appendChild(docLink);\n",
              "        }\n",
              "      </script>\n",
              "    </div>\n",
              "  </div>\n",
              "  "
            ],
            "text/plain": [
              "                  price   returns        SMA_S  ...  strategy    creturns  cstrategy\n",
              "Date                                            ...                                 \n",
              "2006-10-18    32.310001 -0.004940    30.700000  ...  0.004940    0.995072   1.004952\n",
              "2006-10-19    32.540001  0.007093    30.826600  ... -0.007093    1.002156   0.997849\n",
              "2006-10-20    32.570000  0.000921    30.948200  ... -0.000921    1.003080   0.996930\n",
              "2006-10-23    32.880001  0.009473    31.084400  ... -0.009473    1.012627   0.987530\n",
              "2006-10-24    33.630001  0.022554    31.226400  ... -0.022554    1.035725   0.965507\n",
              "...                 ...       ...          ...  ...       ...         ...        ...\n",
              "2021-06-24  3449.080078 -0.015746  3320.046797  ... -0.015746  106.223589   2.819710\n",
              "2021-06-25  3401.459961 -0.013903  3320.494194  ... -0.013903  104.757001   2.780780\n",
              "2021-06-28  3443.889893  0.012397  3321.383193  ...  0.012397  106.063744   2.815467\n",
              "2021-06-29  3448.139893  0.001233  3322.905791  ...  0.001233  106.194634   2.818942\n",
              "2021-06-30  3440.159912 -0.002317  3325.015190  ... -0.002317  105.948869   2.812418\n",
              "\n",
              "[3700 rows x 8 columns]"
            ]
          },
          "metadata": {},
          "execution_count": 48
        }
      ],
      "source": [
        "tester.results"
      ]
    },
    {
      "cell_type": "code",
      "execution_count": null,
      "metadata": {
        "id": "f156dgdhY0YI"
      },
      "outputs": [],
      "source": [
        ""
      ]
    },
    {
      "cell_type": "markdown",
      "metadata": {
        "id": "CuypPiR4Y0YI"
      },
      "source": [
        "## Plotting the results"
      ]
    },
    {
      "cell_type": "code",
      "execution_count": null,
      "metadata": {
        "id": "tNtBRlhlY0YI"
      },
      "outputs": [],
      "source": [
        "class SMABacktester():\n",
        "    def __init__(self, symbol, SMA_S, SMA_L, start, end):\n",
        "        self.symbol = symbol\n",
        "        self.SMA_S = SMA_S\n",
        "        self.SMA_L = SMA_L\n",
        "        self.start = start\n",
        "        self.end = end\n",
        "        self.results = None\n",
        "        self.get_data()\n",
        "        \n",
        "    def get_data(self):\n",
        "        stocks = [\"AMZN\",\"MSFT\",\"INTC\",\"GOOG\",\"INFY.NS\",\"3988.HK\"]\n",
        "        start = dt.datetime.today()-dt.timedelta(6000)\n",
        "        end = dt.datetime.today()\n",
        "        cl_price = pd.DataFrame() # empty dataframe which will be filled with closing prices of each stock\n",
        "        ohlcv_data = {} # empty dictionary which will be filled with ohlcv dataframe for each ticker\n",
        "\n",
        "        # looping over tickers and creating a dataframe with close prices\n",
        "        for ticker in stocks:\n",
        "            cl_price[ticker] = yf.download(ticker,start,end)[\"Adj Close\"]\n",
        "            \n",
        "\n",
        "        # looping over tickers and storing OHLCV dataframe in dictionary\n",
        "        for ticker in stocks:\n",
        "            ohlcv_data[ticker] = yf.download(ticker,start,end)\n",
        "\n",
        "        raw = cl_price\n",
        "        raw = raw[self.symbol].to_frame().dropna()\n",
        "        raw = raw.loc[self.start:self.end].copy()\n",
        "        raw.rename(columns={self.symbol: \"price\"}, inplace=True)\n",
        "        raw[\"returns\"] = np.log(raw / raw.shift(1))\n",
        "        raw[\"SMA_S\"] = raw[\"price\"].rolling(self.SMA_S).mean() # add short sma\n",
        "        raw[\"SMA_L\"] = raw[\"price\"].rolling(self.SMA_L).mean()\n",
        "        self.data = raw\n",
        "        return raw\n",
        "    \n",
        "    def set_parameters(self, SMA_S = None, SMA_L = None):\n",
        "        if SMA_S is not None:\n",
        "            self.SMA_S = SMA_S\n",
        "            self.data[\"SMA_S\"] = self.data[\"price\"].rolling(self.SMA_S).mean()\n",
        "        if SMA_L is not None:\n",
        "            self.SMA_L = SMA_L\n",
        "            self.data[\"SMA_L\"] = self.data[\"price\"].rolling(self.SMA_L).mean()\n",
        "            \n",
        "    def test_strategy(self):\n",
        "        data = self.data.copy().dropna()\n",
        "        data[\"position\"] = np.where(data[\"SMA_S\"] > data[\"SMA_L\"], 1, -1)\n",
        "        data[\"strategy\"] = data[\"position\"].shift(1) * data[\"returns\"]\n",
        "        data.dropna(inplace=True)\n",
        "        data[\"creturns\"] = data[\"returns\"].cumsum().apply(np.exp)\n",
        "        data[\"cstrategy\"] = data[\"strategy\"].cumsum().apply(np.exp)\n",
        "        self.results = data\n",
        "        \n",
        "        perf = data[\"cstrategy\"].iloc[-1] # absolute performance\n",
        "        outperf = perf - data[\"creturns\"].iloc[-1] # outperformance \n",
        "        return round(perf, 6), round(outperf, 6)\n",
        "    \n",
        "    def plot_results(self):\n",
        "        if self.results is None:\n",
        "            print(\"Run test_strategy() first.\")\n",
        "        else:\n",
        "            title = \"{} | SMA_S = {} | SMA_L = {}\".format(self.symbol, self.SMA_S, self.SMA_L)\n",
        "            self.results[[\"creturns\", \"cstrategy\"]].plot(title=title, figsize=(12, 8))"
      ]
    },
    {
      "cell_type": "code",
      "execution_count": null,
      "metadata": {
        "id": "lD8N2Xh7Y0YJ",
        "colab": {
          "base_uri": "https://localhost:8080/"
        },
        "outputId": "105cd8cc-5dee-4174-b617-f8b1cfc0802f"
      },
      "outputs": [
        {
          "output_type": "stream",
          "name": "stdout",
          "text": [
            "[*********************100%***********************]  1 of 1 completed\n",
            "[*********************100%***********************]  1 of 1 completed\n",
            "[*********************100%***********************]  1 of 1 completed\n",
            "[*********************100%***********************]  1 of 1 completed\n",
            "[*********************100%***********************]  1 of 1 completed\n",
            "[*********************100%***********************]  1 of 1 completed\n",
            "[*********************100%***********************]  1 of 1 completed\n",
            "[*********************100%***********************]  1 of 1 completed\n",
            "[*********************100%***********************]  1 of 1 completed\n",
            "[*********************100%***********************]  1 of 1 completed\n",
            "[*********************100%***********************]  1 of 1 completed\n",
            "[*********************100%***********************]  1 of 1 completed\n"
          ]
        }
      ],
      "source": [
        "tester = SMABacktester(\"AMZN\", 50, 200, \"2006-01-01\", \"2021-06-30\")"
      ]
    },
    {
      "cell_type": "code",
      "execution_count": null,
      "metadata": {
        "id": "do92mgcLY0YJ",
        "colab": {
          "base_uri": "https://localhost:8080/"
        },
        "outputId": "49e6959a-cfbd-4d1f-894c-ab4f88754d5b"
      },
      "outputs": [
        {
          "output_type": "stream",
          "name": "stdout",
          "text": [
            "Run test_strategy() first.\n"
          ]
        }
      ],
      "source": [
        "tester.plot_results()"
      ]
    },
    {
      "cell_type": "code",
      "execution_count": null,
      "metadata": {
        "id": "qyYWy4f_Y0YJ",
        "colab": {
          "base_uri": "https://localhost:8080/"
        },
        "outputId": "8181857b-2f71-46a3-db73-e963b7fbfb6b"
      },
      "outputs": [
        {
          "output_type": "execute_result",
          "data": {
            "text/plain": [
              "(2.812418, -103.136451)"
            ]
          },
          "metadata": {},
          "execution_count": 52
        }
      ],
      "source": [
        "tester.test_strategy()"
      ]
    },
    {
      "cell_type": "code",
      "execution_count": null,
      "metadata": {
        "id": "2xcbqFG1Y0YJ",
        "colab": {
          "base_uri": "https://localhost:8080/",
          "height": 478
        },
        "outputId": "f139d108-fe69-4440-8781-23d601753389"
      },
      "outputs": [
        {
          "output_type": "display_data",
          "data": {
            "image/png": "[encoded data removed]",
            "text/plain": [
              "<Figure size 864x576 with 1 Axes>"
            ]
          },
          "metadata": {}
        }
      ],
      "source": [
        "tester.plot_results()"
      ]
    },
    {
      "cell_type": "code",
      "execution_count": null,
      "metadata": {
        "id": "GR6U8KkAY0YJ"
      },
      "outputs": [],
      "source": [
        ""
      ]
    },
    {
      "cell_type": "markdown",
      "metadata": {
        "id": "CKHzYC0xY0YK"
      },
      "source": [
        "## Strategy Optimization"
      ]
    },
    {
      "cell_type": "code",
      "execution_count": null,
      "metadata": {
        "id": "ZC1qTjDWY0YK"
      },
      "outputs": [],
      "source": [
        "tester.set_parameters(25, 150)"
      ]
    },
    {
      "cell_type": "code",
      "execution_count": null,
      "metadata": {
        "id": "ApCMR7ltY0YK",
        "colab": {
          "base_uri": "https://localhost:8080/"
        },
        "outputId": "2d242f49-75d0-4456-ffa9-4a2a788aa3af"
      },
      "outputs": [
        {
          "output_type": "execute_result",
          "data": {
            "text/plain": [
              "5.80473"
            ]
          },
          "metadata": {},
          "execution_count": 55
        }
      ],
      "source": [
        "tester.test_strategy()[0]"
      ]
    },
    {
      "cell_type": "code",
      "execution_count": null,
      "metadata": {
        "id": "R6GkvGWUY0YK"
      },
      "outputs": [],
      "source": [
        "class SMABacktester():\n",
        "    def __init__(self, symbol, SMA_S, SMA_L, start, end):\n",
        "        self.symbol = symbol\n",
        "        self.SMA_S = SMA_S\n",
        "        self.SMA_L = SMA_L\n",
        "        self.start = start\n",
        "        self.end = end\n",
        "        self.results = None\n",
        "        self.get_data()\n",
        "        \n",
        "    def get_data(self):\n",
        "        stocks = [\"AMZN\",\"MSFT\",\"INTC\",\"GOOG\",\"INFY.NS\",\"3988.HK\"]\n",
        "        start = dt.datetime.today()-dt.timedelta(6000)\n",
        "        end = dt.datetime.today()\n",
        "        cl_price = pd.DataFrame() # empty dataframe which will be filled with closing prices of each stock\n",
        "        ohlcv_data = {} # empty dictionary which will be filled with ohlcv dataframe for each ticker\n",
        "\n",
        "        # looping over tickers and creating a dataframe with close prices\n",
        "        for ticker in stocks:\n",
        "            cl_price[ticker] = yf.download(ticker,start,end)[\"Adj Close\"]\n",
        "            \n",
        "\n",
        "        # looping over tickers and storing OHLCV dataframe in dictionary\n",
        "        for ticker in stocks:\n",
        "            ohlcv_data[ticker] = yf.download(ticker,start,end)\n",
        "\n",
        "        raw = cl_price\n",
        "        raw = raw[self.symbol].to_frame().dropna()\n",
        "        raw = raw.loc[self.start:self.end].copy()\n",
        "        raw.rename(columns={self.symbol: \"price\"}, inplace=True)\n",
        "        raw[\"returns\"] = np.log(raw / raw.shift(1))\n",
        "        raw[\"SMA_S\"] = raw[\"price\"].rolling(self.SMA_S).mean() # add short sma\n",
        "        raw[\"SMA_L\"] = raw[\"price\"].rolling(self.SMA_L).mean()\n",
        "        self.data = raw\n",
        "        return raw\n",
        "    \n",
        "    def set_parameters(self, SMA_S = None, SMA_L = None):\n",
        "        if SMA_S is not None:\n",
        "            self.SMA_S = SMA_S\n",
        "            self.data[\"SMA_S\"] = self.data[\"price\"].rolling(self.SMA_S).mean()\n",
        "        if SMA_L is not None:\n",
        "            self.SMA_L = SMA_L\n",
        "            self.data[\"SMA_L\"] = self.data[\"price\"].rolling(self.SMA_L).mean()\n",
        "            \n",
        "    def test_strategy(self):\n",
        "        data = self.data.copy().dropna()\n",
        "        data[\"position\"] = np.where(data[\"SMA_S\"] > data[\"SMA_L\"], 1, -1)\n",
        "        data[\"strategy\"] = data[\"position\"].shift(1) * data[\"returns\"]\n",
        "        data.dropna(inplace=True)\n",
        "        data[\"creturns\"] = data[\"returns\"].cumsum().apply(np.exp)\n",
        "        data[\"cstrategy\"] = data[\"strategy\"].cumsum().apply(np.exp)\n",
        "        self.results = data\n",
        "        \n",
        "        perf = data[\"cstrategy\"].iloc[-1] # absolute performance\n",
        "        outperf = perf - data[\"creturns\"].iloc[-1] # outperformance \n",
        "        return round(perf, 6), round(outperf, 6)\n",
        "    \n",
        "    def plot_results(self):\n",
        "        if self.results is None:\n",
        "            print(\"Run test_strategy() first.\")\n",
        "        else:\n",
        "            title = \"{} | SMA_S = {} | SMA_L = {}\".format(self.symbol, self.SMA_S, self.SMA_L)\n",
        "            self.results[[\"creturns\", \"cstrategy\"]].plot(title=title, figsize=(12, 8))\n",
        "            \n",
        "    def optimize_parameters(self, SMA_S_range, SMA_L_range): \n",
        "        combinations = list(product(range(*SMA_S_range), range(*SMA_L_range)))\n",
        "        \n",
        "        # test all combinations\n",
        "        results = []\n",
        "        for comb in combinations:\n",
        "            self.set_parameters(comb[0], comb[1])\n",
        "            results.append(self.test_strategy()[0])\n",
        "        \n",
        "        best_perf = np.max(results) # best performance\n",
        "        opt = combinations[np.argmax(results)] # optimal parameters\n",
        "        \n",
        "        # run/set the optimal strategy\n",
        "        self.set_parameters(opt[0], opt[1])\n",
        "        self.test_strategy()\n",
        "                   \n",
        "        # create a df with many results\n",
        "        many_results =  pd.DataFrame(data = combinations, columns = [\"SMA_S\", \"SMA_L\"])\n",
        "        many_results[\"performance\"] = results\n",
        "        self.results_overview = many_results\n",
        "                            \n",
        "        return opt, best_perf"
      ]
    },
    {
      "cell_type": "code",
      "execution_count": null,
      "metadata": {
        "id": "u_d3AT4wY0YL",
        "colab": {
          "base_uri": "https://localhost:8080/"
        },
        "outputId": "87228754-9c72-4f1b-dc8c-f1b7e6d4699b"
      },
      "outputs": [
        {
          "output_type": "stream",
          "name": "stdout",
          "text": [
            "[*********************100%***********************]  1 of 1 completed\n",
            "[*********************100%***********************]  1 of 1 completed\n",
            "[*********************100%***********************]  1 of 1 completed\n",
            "[*********************100%***********************]  1 of 1 completed\n",
            "[*********************100%***********************]  1 of 1 completed\n",
            "[*********************100%***********************]  1 of 1 completed\n",
            "[*********************100%***********************]  1 of 1 completed\n",
            "[*********************100%***********************]  1 of 1 completed\n",
            "[*********************100%***********************]  1 of 1 completed\n",
            "[*********************100%***********************]  1 of 1 completed\n",
            "[*********************100%***********************]  1 of 1 completed\n",
            "[*********************100%***********************]  1 of 1 completed\n"
          ]
        }
      ],
      "source": [
        "tester = SMABacktester(\"AMZN\", 50, 200, \"2006-01-01\", \"2021-06-30\")"
      ]
    },
    {
      "cell_type": "code",
      "execution_count": null,
      "metadata": {
        "id": "YCIGXDIPY0YL",
        "colab": {
          "base_uri": "https://localhost:8080/"
        },
        "outputId": "ae89b590-efb4-4738-fc61-a4fb59329410"
      },
      "outputs": [
        {
          "output_type": "execute_result",
          "data": {
            "text/plain": [
              "(2.812418, -103.136451)"
            ]
          },
          "metadata": {},
          "execution_count": 58
        }
      ],
      "source": [
        "tester.test_strategy()"
      ]
    },
    {
      "cell_type": "code",
      "execution_count": null,
      "metadata": {
        "id": "heDlufksY0YL",
        "colab": {
          "base_uri": "https://localhost:8080/"
        },
        "outputId": "ab1f5b2c-d1ac-4336-fe91-d483e43201cd"
      },
      "outputs": [
        {
          "output_type": "stream",
          "name": "stderr",
          "text": [
            "/usr/local/lib/python3.7/dist-packages/ipykernel_launcher.py:47: SettingWithCopyWarning: \n",
            "A value is trying to be set on a copy of a slice from a DataFrame.\n",
            "Try using .loc[row_indexer,col_indexer] = value instead\n",
            "\n",
            "See the caveats in the documentation: https://pandas.pydata.org/pandas-docs/stable/user_guide/indexing.html#returning-a-view-versus-a-copy\n",
            "/usr/local/lib/python3.7/dist-packages/ipykernel_launcher.py:47: SettingWithCopyWarning: \n",
            "A value is trying to be set on a copy of a slice from a DataFrame.\n",
            "Try using .loc[row_indexer,col_indexer] = value instead\n",
            "\n",
            "See the caveats in the documentation: https://pandas.pydata.org/pandas-docs/stable/user_guide/indexing.html#returning-a-view-versus-a-copy\n",
            "/usr/local/lib/python3.7/dist-packages/ipykernel_launcher.py:48: SettingWithCopyWarning: \n",
            "A value is trying to be set on a copy of a slice from a DataFrame.\n",
            "Try using .loc[row_indexer,col_indexer] = value instead\n",
            "\n",
            "See the caveats in the documentation: https://pandas.pydata.org/pandas-docs/stable/user_guide/indexing.html#returning-a-view-versus-a-copy\n",
            "/usr/local/lib/python3.7/dist-packages/ipykernel_launcher.py:49: SettingWithCopyWarning: \n",
            "A value is trying to be set on a copy of a slice from a DataFrame\n",
            "\n",
            "See the caveats in the documentation: https://pandas.pydata.org/pandas-docs/stable/user_guide/indexing.html#returning-a-view-versus-a-copy\n",
            "/usr/local/lib/python3.7/dist-packages/ipykernel_launcher.py:47: SettingWithCopyWarning: \n",
            "A value is trying to be set on a copy of a slice from a DataFrame.\n",
            "Try using .loc[row_indexer,col_indexer] = value instead\n",
            "\n",
            "See the caveats in the documentation: https://pandas.pydata.org/pandas-docs/stable/user_guide/indexing.html#returning-a-view-versus-a-copy\n",
            "/usr/local/lib/python3.7/dist-packages/ipykernel_launcher.py:48: SettingWithCopyWarning: \n",
            "A value is trying to be set on a copy of a slice from a DataFrame.\n",
            "Try using .loc[row_indexer,col_indexer] = value instead\n",
            "\n",
            "See the caveats in the documentation: https://pandas.pydata.org/pandas-docs/stable/user_guide/indexing.html#returning-a-view-versus-a-copy\n",
            "/usr/local/lib/python3.7/dist-packages/ipykernel_launcher.py:47: SettingWithCopyWarning: \n",
            "A value is trying to be set on a copy of a slice from a DataFrame.\n",
            "Try using .loc[row_indexer,col_indexer] = value instead\n",
            "\n",
            "See the caveats in the documentation: https://pandas.pydata.org/pandas-docs/stable/user_guide/indexing.html#returning-a-view-versus-a-copy\n",
            "/usr/local/lib/python3.7/dist-packages/ipykernel_launcher.py:48: SettingWithCopyWarning: \n",
            "A value is trying to be set on a copy of a slice from a DataFrame.\n",
            "Try using .loc[row_indexer,col_indexer] = value instead\n",
            "\n",
            "See the caveats in the documentation: https://pandas.pydata.org/pandas-docs/stable/user_guide/indexing.html#returning-a-view-versus-a-copy\n",
            "/usr/local/lib/python3.7/dist-packages/ipykernel_launcher.py:47: SettingWithCopyWarning: \n",
            "A value is trying to be set on a copy of a slice from a DataFrame.\n",
            "Try using .loc[row_indexer,col_indexer] = value instead\n",
            "\n",
            "See the caveats in the documentation: https://pandas.pydata.org/pandas-docs/stable/user_guide/indexing.html#returning-a-view-versus-a-copy\n",
            "/usr/local/lib/python3.7/dist-packages/ipykernel_launcher.py:48: SettingWithCopyWarning: \n",
            "A value is trying to be set on a copy of a slice from a DataFrame.\n",
            "Try using .loc[row_indexer,col_indexer] = value instead\n",
            "\n",
            "See the caveats in the documentation: https://pandas.pydata.org/pandas-docs/stable/user_guide/indexing.html#returning-a-view-versus-a-copy\n",
            "/usr/local/lib/python3.7/dist-packages/ipykernel_launcher.py:49: SettingWithCopyWarning: \n",
            "A value is trying to be set on a copy of a slice from a DataFrame\n",
            "\n",
            "See the caveats in the documentation: https://pandas.pydata.org/pandas-docs/stable/user_guide/indexing.html#returning-a-view-versus-a-copy\n",
            "/usr/local/lib/python3.7/dist-packages/ipykernel_launcher.py:47: SettingWithCopyWarning: \n",
            "A value is trying to be set on a copy of a slice from a DataFrame.\n",
            "Try using .loc[row_indexer,col_indexer] = value instead\n",
            "\n",
            "See the caveats in the documentation: https://pandas.pydata.org/pandas-docs/stable/user_guide/indexing.html#returning-a-view-versus-a-copy\n",
            "/usr/local/lib/python3.7/dist-packages/ipykernel_launcher.py:48: SettingWithCopyWarning: \n",
            "A value is trying to be set on a copy of a slice from a DataFrame.\n",
            "Try using .loc[row_indexer,col_indexer] = value instead\n",
            "\n",
            "See the caveats in the documentation: https://pandas.pydata.org/pandas-docs/stable/user_guide/indexing.html#returning-a-view-versus-a-copy\n",
            "/usr/local/lib/python3.7/dist-packages/ipykernel_launcher.py:47: SettingWithCopyWarning: \n",
            "A value is trying to be set on a copy of a slice from a DataFrame.\n",
            "Try using .loc[row_indexer,col_indexer] = value instead\n",
            "\n",
            "See the caveats in the documentation: https://pandas.pydata.org/pandas-docs/stable/user_guide/indexing.html#returning-a-view-versus-a-copy\n",
            "/usr/local/lib/python3.7/dist-packages/ipykernel_launcher.py:48: SettingWithCopyWarning: \n",
            "A value is trying to be set on a copy of a slice from a DataFrame.\n",
            "Try using .loc[row_indexer,col_indexer] = value instead\n",
            "\n",
            "See the caveats in the documentation: https://pandas.pydata.org/pandas-docs/stable/user_guide/indexing.html#returning-a-view-versus-a-copy\n",
            "/usr/local/lib/python3.7/dist-packages/ipykernel_launcher.py:47: SettingWithCopyWarning: \n",
            "A value is trying to be set on a copy of a slice from a DataFrame.\n",
            "Try using .loc[row_indexer,col_indexer] = value instead\n",
            "\n",
            "See the caveats in the documentation: https://pandas.pydata.org/pandas-docs/stable/user_guide/indexing.html#returning-a-view-versus-a-copy\n",
            "/usr/local/lib/python3.7/dist-packages/ipykernel_launcher.py:48: SettingWithCopyWarning: \n",
            "A value is trying to be set on a copy of a slice from a DataFrame.\n",
            "Try using .loc[row_indexer,col_indexer] = value instead\n",
            "\n",
            "See the caveats in the documentation: https://pandas.pydata.org/pandas-docs/stable/user_guide/indexing.html#returning-a-view-versus-a-copy\n"
          ]
        },
        {
          "output_type": "execute_result",
          "data": {
            "text/plain": [
              "((19, 229), 20.880575)"
            ]
          },
          "metadata": {},
          "execution_count": 59
        }
      ],
      "source": [
        "tester.optimize_parameters((10, 50, 1), (100, 252, 1))"
      ]
    },
    {
      "cell_type": "code",
      "execution_count": null,
      "metadata": {
        "id": "1JwSXW9wY0YL",
        "colab": {
          "base_uri": "https://localhost:8080/",
          "height": 478
        },
        "outputId": "a511fc57-2843-4640-dfa4-a917ce7c8982"
      },
      "outputs": [
        {
          "output_type": "display_data",
          "data": {
            "image/png": "[encoded data removed]",
            "text/plain": [
              "<Figure size 864x576 with 1 Axes>"
            ]
          },
          "metadata": {}
        }
      ],
      "source": [
        "tester.plot_results()"
      ]
    },
    {
      "cell_type": "code",
      "execution_count": null,
      "metadata": {
        "id": "-5hlWB6JY0YM",
        "colab": {
          "base_uri": "https://localhost:8080/",
          "height": 419
        },
        "outputId": "0a5b5e1a-84cd-4dd1-b146-2d848d633a35"
      },
      "outputs": [
        {
          "output_type": "execute_result",
          "data": {
            "text/html": [
              "\n",
              "  <div id=\"df-dec8e4d0-f326-4af3-b1e3-299756a7f607\">\n",
              "    <div class=\"colab-df-container\">\n",
              "      <div>\n",
              "<style scoped>\n",
              "    .dataframe tbody tr th:only-of-type {\n",
              "        vertical-align: middle;\n",
              "    }\n",
              "\n",
              "    .dataframe tbody tr th {\n",
              "        vertical-align: top;\n",
              "    }\n",
              "\n",
              "    .dataframe thead th {\n",
              "        text-align: right;\n",
              "    }\n",
              "</style>\n",
              "<table border=\"1\" class=\"dataframe\">\n",
              "  <thead>\n",
              "    <tr style=\"text-align: right;\">\n",
              "      <th></th>\n",
              "      <th>SMA_S</th>\n",
              "      <th>SMA_L</th>\n",
              "      <th>performance</th>\n",
              "    </tr>\n",
              "  </thead>\n",
              "  <tbody>\n",
              "    <tr>\n",
              "      <th>0</th>\n",
              "      <td>10</td>\n",
              "      <td>100</td>\n",
              "      <td>6.076559</td>\n",
              "    </tr>\n",
              "    <tr>\n",
              "      <th>1</th>\n",
              "      <td>10</td>\n",
              "      <td>101</td>\n",
              "      <td>4.657389</td>\n",
              "    </tr>\n",
              "    <tr>\n",
              "      <th>2</th>\n",
              "      <td>10</td>\n",
              "      <td>102</td>\n",
              "      <td>4.179375</td>\n",
              "    </tr>\n",
              "    <tr>\n",
              "      <th>3</th>\n",
              "      <td>10</td>\n",
              "      <td>103</td>\n",
              "      <td>2.987025</td>\n",
              "    </tr>\n",
              "    <tr>\n",
              "      <th>4</th>\n",
              "      <td>10</td>\n",
              "      <td>104</td>\n",
              "      <td>2.460187</td>\n",
              "    </tr>\n",
              "    <tr>\n",
              "      <th>...</th>\n",
              "      <td>...</td>\n",
              "      <td>...</td>\n",
              "      <td>...</td>\n",
              "    </tr>\n",
              "    <tr>\n",
              "      <th>6075</th>\n",
              "      <td>49</td>\n",
              "      <td>247</td>\n",
              "      <td>9.033257</td>\n",
              "    </tr>\n",
              "    <tr>\n",
              "      <th>6076</th>\n",
              "      <td>49</td>\n",
              "      <td>248</td>\n",
              "      <td>9.736256</td>\n",
              "    </tr>\n",
              "    <tr>\n",
              "      <th>6077</th>\n",
              "      <td>49</td>\n",
              "      <td>249</td>\n",
              "      <td>9.294598</td>\n",
              "    </tr>\n",
              "    <tr>\n",
              "      <th>6078</th>\n",
              "      <td>49</td>\n",
              "      <td>250</td>\n",
              "      <td>9.162929</td>\n",
              "    </tr>\n",
              "    <tr>\n",
              "      <th>6079</th>\n",
              "      <td>49</td>\n",
              "      <td>251</td>\n",
              "      <td>10.019877</td>\n",
              "    </tr>\n",
              "  </tbody>\n",
              "</table>\n",
              "<p>6080 rows × 3 columns</p>\n",
              "</div>\n",
              "      <button class=\"colab-df-convert\" onclick=\"convertToInteractive('df-dec8e4d0-f326-4af3-b1e3-299756a7f607')\"\n",
              "              title=\"Convert this dataframe to an interactive table.\"\n",
              "              style=\"display:none;\">\n",
              "        \n",
              "  <svg xmlns=\"http://www.w3.org/2000/svg\" height=\"24px\"viewBox=\"0 0 24 24\"\n",
              "       width=\"24px\">\n",
              "    <path d=\"M0 0h24v24H0V0z\" fill=\"none\"/>\n",
              "    <path d=\"M18.56 5.44l.94 2.06.94-2.06 2.06-.94-2.06-.94-.94-2.06-.94 2.06-2.06.94zm-11 1L8.5 8.5l.94-2.06 2.06-.94-2.06-.94L8.5 2.5l-.94 2.06-2.06.94zm10 10l.94 2.06.94-2.06 2.06-.94-2.06-.94-.94-2.06-.94 2.06-2.06.94z\"/><path d=\"M17.41 7.96l-1.37-1.37c-.4-.4-.92-.59-1.43-.59-.52 0-1.04.2-1.43.59L10.3 9.45l-7.72 7.72c-.78.78-.78 2.05 0 2.83L4 21.41c.39.39.9.59 1.41.59.51 0 1.02-.2 1.41-.59l7.78-7.78 2.81-2.81c.8-.78.8-2.07 0-2.86zM5.41 20L4 18.59l7.72-7.72 1.47 1.35L5.41 20z\"/>\n",
              "  </svg>\n",
              "      </button>\n",
              "      \n",
              "  <style>\n",
              "    .colab-df-container {\n",
              "      display:flex;\n",
              "      flex-wrap:wrap;\n",
              "      gap: 12px;\n",
              "    }\n",
              "\n",
              "    .colab-df-convert {\n",
              "      background-color: #E8F0FE;\n",
              "      border: none;\n",
              "      border-radius: 50%;\n",
              "      cursor: pointer;\n",
              "      display: none;\n",
              "      fill: #1967D2;\n",
              "      height: 32px;\n",
              "      padding: 0 0 0 0;\n",
              "      width: 32px;\n",
              "    }\n",
              "\n",
              "    .colab-df-convert:hover {\n",
              "      background-color: #E2EBFA;\n",
              "      box-shadow: 0px 1px 2px rgba(60, 64, 67, 0.3), 0px 1px 3px 1px rgba(60, 64, 67, 0.15);\n",
              "      fill: #174EA6;\n",
              "    }\n",
              "\n",
              "    [theme=dark] .colab-df-convert {\n",
              "      background-color: #3B4455;\n",
              "      fill: #D2E3FC;\n",
              "    }\n",
              "\n",
              "    [theme=dark] .colab-df-convert:hover {\n",
              "      background-color: #434B5C;\n",
              "      box-shadow: 0px 1px 3px 1px rgba(0, 0, 0, 0.15);\n",
              "      filter: drop-shadow(0px 1px 2px rgba(0, 0, 0, 0.3));\n",
              "      fill: #FFFFFF;\n",
              "    }\n",
              "  </style>\n",
              "\n",
              "      <script>\n",
              "        const buttonEl =\n",
              "          document.querySelector('#df-dec8e4d0-f326-4af3-b1e3-299756a7f607 button.colab-df-convert');\n",
              "        buttonEl.style.display =\n",
              "          google.colab.kernel.accessAllowed ? 'block' : 'none';\n",
              "\n",
              "        async function convertToInteractive(key) {\n",
              "          const element = document.querySelector('#df-dec8e4d0-f326-4af3-b1e3-299756a7f607');\n",
              "          const dataTable =\n",
              "            await google.colab.kernel.invokeFunction('convertToInteractive',\n",
              "                                                     [key], {});\n",
              "          if (!dataTable) return;\n",
              "\n",
              "          const docLinkHtml = 'Like what you see? Visit the ' +\n",
              "            '<a target=\"_blank\" href=https://colab.research.google.com/notebooks/data_table.ipynb>data table notebook</a>'\n",
              "            + ' to learn more about interactive tables.';\n",
              "          element.innerHTML = '';\n",
              "          dataTable['output_type'] = 'display_data';\n",
              "          await google.colab.output.renderOutput(dataTable, element);\n",
              "          const docLink = document.createElement('div');\n",
              "          docLink.innerHTML = docLinkHtml;\n",
              "          element.appendChild(docLink);\n",
              "        }\n",
              "      </script>\n",
              "    </div>\n",
              "  </div>\n",
              "  "
            ],
            "text/plain": [
              "      SMA_S  SMA_L  performance\n",
              "0        10    100     6.076559\n",
              "1        10    101     4.657389\n",
              "2        10    102     4.179375\n",
              "3        10    103     2.987025\n",
              "4        10    104     2.460187\n",
              "...     ...    ...          ...\n",
              "6075     49    247     9.033257\n",
              "6076     49    248     9.736256\n",
              "6077     49    249     9.294598\n",
              "6078     49    250     9.162929\n",
              "6079     49    251    10.019877\n",
              "\n",
              "[6080 rows x 3 columns]"
            ]
          },
          "metadata": {},
          "execution_count": 61
        }
      ],
      "source": [
        "tester.results_overview"
      ]
    },
    {
      "cell_type": "code",
      "execution_count": null,
      "metadata": {
        "id": "VY0aNzW6Y0YM"
      },
      "outputs": [],
      "source": [
        ""
      ]
    },
    {
      "cell_type": "markdown",
      "metadata": {
        "id": "_GTdHPylY0YM"
      },
      "source": [
        "## Splitting get_data() and adding prepare_data() "
      ]
    },
    {
      "cell_type": "code",
      "execution_count": null,
      "metadata": {
        "id": "P1_AXvWVY0YM"
      },
      "outputs": [],
      "source": [
        "class SMABacktester():\n",
        "    \n",
        "    def __init__(self, symbol, SMA_S, SMA_L, start, end):\n",
        "        self.symbol = symbol\n",
        "        self.SMA_S = SMA_S\n",
        "        self.SMA_L = SMA_L\n",
        "        self.start = start\n",
        "        self.end = end\n",
        "        self.results = None \n",
        "        self.get_data()\n",
        "        self.prepare_data()\n",
        "        \n",
        "    def get_data(self):\n",
        "        stocks = [\"AMZN\",\"MSFT\",\"INTC\",\"GOOG\",\"INFY.NS\",\"3988.HK\"]\n",
        "        start = dt.datetime.today()-dt.timedelta(6000)\n",
        "        end = dt.datetime.today()\n",
        "        cl_price = pd.DataFrame() # empty dataframe which will be filled with closing prices of each stock\n",
        "        ohlcv_data = {} # empty dictionary which will be filled with ohlcv dataframe for each ticker\n",
        "\n",
        "        # looping over tickers and creating a dataframe with close prices\n",
        "        for ticker in stocks:\n",
        "            cl_price[ticker] = yf.download(ticker,start,end)[\"Adj Close\"]\n",
        "            \n",
        "\n",
        "        # looping over tickers and storing OHLCV dataframe in dictionary\n",
        "        for ticker in stocks:\n",
        "            ohlcv_data[ticker] = yf.download(ticker,start,end)\n",
        "\n",
        "        raw = cl_price\n",
        "        raw = raw[self.symbol].to_frame().dropna()\n",
        "        raw = raw.loc[self.start:self.end].copy()\n",
        "        raw.rename(columns={self.symbol: \"price\"}, inplace=True)\n",
        "        raw[\"returns\"] = np.log(raw / raw.shift(1))\n",
        "        self.data = raw\n",
        "        \n",
        "    def prepare_data(self):\n",
        "        data = self.data.copy()\n",
        "        data[\"SMA_S\"] = data[\"price\"].rolling(self.SMA_S).mean()\n",
        "        data[\"SMA_L\"] = data[\"price\"].rolling(self.SMA_L).mean()\n",
        "        self.data = data\n",
        "        \n",
        "    def set_parameters(self, SMA_S = None, SMA_L = None):\n",
        "        if SMA_S is not None:\n",
        "            self.SMA_S = SMA_S\n",
        "            self.data[\"SMA_S\"] = self.data[\"price\"].rolling(self.SMA_S).mean()\n",
        "        if SMA_L is not None:\n",
        "            self.SMA_L = SMA_L\n",
        "            self.data[\"SMA_L\"] = self.data[\"price\"].rolling(self.SMA_L).mean()\n",
        "            \n",
        "    def test_strategy(self):\n",
        "        data = self.data.copy().dropna()\n",
        "        data[\"position\"] = np.where(data[\"SMA_S\"] > data[\"SMA_L\"], 1, -1)\n",
        "        data[\"strategy\"] = data[\"position\"].shift(1) * data[\"returns\"]\n",
        "        data.dropna(inplace=True)\n",
        "        data[\"creturns\"] = data[\"returns\"].cumsum().apply(np.exp)\n",
        "        data[\"cstrategy\"] = data[\"strategy\"].cumsum().apply(np.exp)\n",
        "        self.results = data\n",
        "       \n",
        "        perf = data[\"cstrategy\"].iloc[-1] # absolute performance of the strategy\n",
        "        outperf = perf - data[\"creturns\"].iloc[-1] # out-/underperformance of strategy\n",
        "        return round(perf, 6), round(outperf, 6)\n",
        "    \n",
        "    def plot_results(self):\n",
        "        if self.results is None:\n",
        "            print(\"Run test_strategy() first.\")\n",
        "        else:\n",
        "            title = \"{} | SMA_S = {} | SMA_L = {}\".format(self.symbol, self.SMA_S, self.SMA_L)\n",
        "            self.results[[\"creturns\", \"cstrategy\"]].plot(title=title, figsize=(12, 8))\n",
        "    \n",
        "    def optimize_parameters(self, SMA_S_range, SMA_L_range):\n",
        "        combinations = list(product(range(*SMA_S_range), range(*SMA_L_range)))\n",
        "        \n",
        "        # test all combinations\n",
        "        results = []\n",
        "        for comb in combinations:\n",
        "            self.set_parameters(comb[0], comb[1])\n",
        "            results.append(self.test_strategy()[0])\n",
        "        \n",
        "        best_perf = np.max(results) # best performance\n",
        "        opt = combinations[np.argmax(results)] # optimal parameters\n",
        "        \n",
        "        # run/set the optimal strategy\n",
        "        self.set_parameters(opt[0], opt[1])\n",
        "        self.test_strategy()\n",
        "                   \n",
        "        # create a df with many results\n",
        "        many_results =  pd.DataFrame(data = combinations, columns = [\"SMA_S\", \"SMA_L\"])\n",
        "        many_results[\"performance\"] = results\n",
        "        self.results_overview = many_results\n",
        "                            \n",
        "        return opt, best_perf"
      ]
    },
    {
      "cell_type": "code",
      "execution_count": null,
      "metadata": {
        "id": "wmvXsNYaY0YN",
        "colab": {
          "base_uri": "https://localhost:8080/"
        },
        "outputId": "8b7ffd05-6fcb-4b9b-de2b-f7ac1acfb89e"
      },
      "outputs": [
        {
          "output_type": "stream",
          "name": "stdout",
          "text": [
            "[*********************100%***********************]  1 of 1 completed\n",
            "[*********************100%***********************]  1 of 1 completed\n",
            "[*********************100%***********************]  1 of 1 completed\n",
            "[*********************100%***********************]  1 of 1 completed\n",
            "[*********************100%***********************]  1 of 1 completed\n",
            "[*********************100%***********************]  1 of 1 completed\n",
            "[*********************100%***********************]  1 of 1 completed\n",
            "[*********************100%***********************]  1 of 1 completed\n",
            "[*********************100%***********************]  1 of 1 completed\n",
            "[*********************100%***********************]  1 of 1 completed\n",
            "[*********************100%***********************]  1 of 1 completed\n",
            "[*********************100%***********************]  1 of 1 completed\n"
          ]
        }
      ],
      "source": [
        "tester = SMABacktester(\"AMZN\", 50, 200, \"2006-01-01\", \"2021-06-30\")"
      ]
    },
    {
      "cell_type": "code",
      "execution_count": null,
      "metadata": {
        "id": "EoWRofaiY0YN",
        "colab": {
          "base_uri": "https://localhost:8080/",
          "height": 450
        },
        "outputId": "b11caf20-44cd-4ea3-f873-316df8880fa7"
      },
      "outputs": [
        {
          "output_type": "execute_result",
          "data": {
            "text/html": [
              "\n",
              "  <div id=\"df-08b175fe-f45d-4292-971b-b670787438fd\">\n",
              "    <div class=\"colab-df-container\">\n",
              "      <div>\n",
              "<style scoped>\n",
              "    .dataframe tbody tr th:only-of-type {\n",
              "        vertical-align: middle;\n",
              "    }\n",
              "\n",
              "    .dataframe tbody tr th {\n",
              "        vertical-align: top;\n",
              "    }\n",
              "\n",
              "    .dataframe thead th {\n",
              "        text-align: right;\n",
              "    }\n",
              "</style>\n",
              "<table border=\"1\" class=\"dataframe\">\n",
              "  <thead>\n",
              "    <tr style=\"text-align: right;\">\n",
              "      <th></th>\n",
              "      <th>price</th>\n",
              "      <th>returns</th>\n",
              "      <th>SMA_S</th>\n",
              "      <th>SMA_L</th>\n",
              "    </tr>\n",
              "    <tr>\n",
              "      <th>Date</th>\n",
              "      <th></th>\n",
              "      <th></th>\n",
              "      <th></th>\n",
              "      <th></th>\n",
              "    </tr>\n",
              "  </thead>\n",
              "  <tbody>\n",
              "    <tr>\n",
              "      <th>2006-01-03</th>\n",
              "      <td>47.580002</td>\n",
              "      <td>NaN</td>\n",
              "      <td>NaN</td>\n",
              "      <td>NaN</td>\n",
              "    </tr>\n",
              "    <tr>\n",
              "      <th>2006-01-04</th>\n",
              "      <td>47.250000</td>\n",
              "      <td>-0.006960</td>\n",
              "      <td>NaN</td>\n",
              "      <td>NaN</td>\n",
              "    </tr>\n",
              "    <tr>\n",
              "      <th>2006-01-05</th>\n",
              "      <td>47.650002</td>\n",
              "      <td>0.008430</td>\n",
              "      <td>NaN</td>\n",
              "      <td>NaN</td>\n",
              "    </tr>\n",
              "    <tr>\n",
              "      <th>2006-01-06</th>\n",
              "      <td>47.869999</td>\n",
              "      <td>0.004606</td>\n",
              "      <td>NaN</td>\n",
              "      <td>NaN</td>\n",
              "    </tr>\n",
              "    <tr>\n",
              "      <th>2006-01-09</th>\n",
              "      <td>47.080002</td>\n",
              "      <td>-0.016641</td>\n",
              "      <td>NaN</td>\n",
              "      <td>NaN</td>\n",
              "    </tr>\n",
              "    <tr>\n",
              "      <th>...</th>\n",
              "      <td>...</td>\n",
              "      <td>...</td>\n",
              "      <td>...</td>\n",
              "      <td>...</td>\n",
              "    </tr>\n",
              "    <tr>\n",
              "      <th>2021-06-24</th>\n",
              "      <td>3449.080078</td>\n",
              "      <td>-0.015746</td>\n",
              "      <td>3320.046797</td>\n",
              "      <td>3214.272039</td>\n",
              "    </tr>\n",
              "    <tr>\n",
              "      <th>2021-06-25</th>\n",
              "      <td>3401.459961</td>\n",
              "      <td>-0.013903</td>\n",
              "      <td>3320.494194</td>\n",
              "      <td>3214.936288</td>\n",
              "    </tr>\n",
              "    <tr>\n",
              "      <th>2021-06-28</th>\n",
              "      <td>3443.889893</td>\n",
              "      <td>0.012397</td>\n",
              "      <td>3321.383193</td>\n",
              "      <td>3216.280187</td>\n",
              "    </tr>\n",
              "    <tr>\n",
              "      <th>2021-06-29</th>\n",
              "      <td>3448.139893</td>\n",
              "      <td>0.001233</td>\n",
              "      <td>3322.905791</td>\n",
              "      <td>3217.939786</td>\n",
              "    </tr>\n",
              "    <tr>\n",
              "      <th>2021-06-30</th>\n",
              "      <td>3440.159912</td>\n",
              "      <td>-0.002317</td>\n",
              "      <td>3325.015190</td>\n",
              "      <td>3219.625736</td>\n",
              "    </tr>\n",
              "  </tbody>\n",
              "</table>\n",
              "<p>3900 rows × 4 columns</p>\n",
              "</div>\n",
              "      <button class=\"colab-df-convert\" onclick=\"convertToInteractive('df-08b175fe-f45d-4292-971b-b670787438fd')\"\n",
              "              title=\"Convert this dataframe to an interactive table.\"\n",
              "              style=\"display:none;\">\n",
              "        \n",
              "  <svg xmlns=\"http://www.w3.org/2000/svg\" height=\"24px\"viewBox=\"0 0 24 24\"\n",
              "       width=\"24px\">\n",
              "    <path d=\"M0 0h24v24H0V0z\" fill=\"none\"/>\n",
              "    <path d=\"M18.56 5.44l.94 2.06.94-2.06 2.06-.94-2.06-.94-.94-2.06-.94 2.06-2.06.94zm-11 1L8.5 8.5l.94-2.06 2.06-.94-2.06-.94L8.5 2.5l-.94 2.06-2.06.94zm10 10l.94 2.06.94-2.06 2.06-.94-2.06-.94-.94-2.06-.94 2.06-2.06.94z\"/><path d=\"M17.41 7.96l-1.37-1.37c-.4-.4-.92-.59-1.43-.59-.52 0-1.04.2-1.43.59L10.3 9.45l-7.72 7.72c-.78.78-.78 2.05 0 2.83L4 21.41c.39.39.9.59 1.41.59.51 0 1.02-.2 1.41-.59l7.78-7.78 2.81-2.81c.8-.78.8-2.07 0-2.86zM5.41 20L4 18.59l7.72-7.72 1.47 1.35L5.41 20z\"/>\n",
              "  </svg>\n",
              "      </button>\n",
              "      \n",
              "  <style>\n",
              "    .colab-df-container {\n",
              "      display:flex;\n",
              "      flex-wrap:wrap;\n",
              "      gap: 12px;\n",
              "    }\n",
              "\n",
              "    .colab-df-convert {\n",
              "      background-color: #E8F0FE;\n",
              "      border: none;\n",
              "      border-radius: 50%;\n",
              "      cursor: pointer;\n",
              "      display: none;\n",
              "      fill: #1967D2;\n",
              "      height: 32px;\n",
              "      padding: 0 0 0 0;\n",
              "      width: 32px;\n",
              "    }\n",
              "\n",
              "    .colab-df-convert:hover {\n",
              "      background-color: #E2EBFA;\n",
              "      box-shadow: 0px 1px 2px rgba(60, 64, 67, 0.3), 0px 1px 3px 1px rgba(60, 64, 67, 0.15);\n",
              "      fill: #174EA6;\n",
              "    }\n",
              "\n",
              "    [theme=dark] .colab-df-convert {\n",
              "      background-color: #3B4455;\n",
              "      fill: #D2E3FC;\n",
              "    }\n",
              "\n",
              "    [theme=dark] .colab-df-convert:hover {\n",
              "      background-color: #434B5C;\n",
              "      box-shadow: 0px 1px 3px 1px rgba(0, 0, 0, 0.15);\n",
              "      filter: drop-shadow(0px 1px 2px rgba(0, 0, 0, 0.3));\n",
              "      fill: #FFFFFF;\n",
              "    }\n",
              "  </style>\n",
              "\n",
              "      <script>\n",
              "        const buttonEl =\n",
              "          document.querySelector('#df-08b175fe-f45d-4292-971b-b670787438fd button.colab-df-convert');\n",
              "        buttonEl.style.display =\n",
              "          google.colab.kernel.accessAllowed ? 'block' : 'none';\n",
              "\n",
              "        async function convertToInteractive(key) {\n",
              "          const element = document.querySelector('#df-08b175fe-f45d-4292-971b-b670787438fd');\n",
              "          const dataTable =\n",
              "            await google.colab.kernel.invokeFunction('convertToInteractive',\n",
              "                                                     [key], {});\n",
              "          if (!dataTable) return;\n",
              "\n",
              "          const docLinkHtml = 'Like what you see? Visit the ' +\n",
              "            '<a target=\"_blank\" href=https://colab.research.google.com/notebooks/data_table.ipynb>data table notebook</a>'\n",
              "            + ' to learn more about interactive tables.';\n",
              "          element.innerHTML = '';\n",
              "          dataTable['output_type'] = 'display_data';\n",
              "          await google.colab.output.renderOutput(dataTable, element);\n",
              "          const docLink = document.createElement('div');\n",
              "          docLink.innerHTML = docLinkHtml;\n",
              "          element.appendChild(docLink);\n",
              "        }\n",
              "      </script>\n",
              "    </div>\n",
              "  </div>\n",
              "  "
            ],
            "text/plain": [
              "                  price   returns        SMA_S        SMA_L\n",
              "Date                                                       \n",
              "2006-01-03    47.580002       NaN          NaN          NaN\n",
              "2006-01-04    47.250000 -0.006960          NaN          NaN\n",
              "2006-01-05    47.650002  0.008430          NaN          NaN\n",
              "2006-01-06    47.869999  0.004606          NaN          NaN\n",
              "2006-01-09    47.080002 -0.016641          NaN          NaN\n",
              "...                 ...       ...          ...          ...\n",
              "2021-06-24  3449.080078 -0.015746  3320.046797  3214.272039\n",
              "2021-06-25  3401.459961 -0.013903  3320.494194  3214.936288\n",
              "2021-06-28  3443.889893  0.012397  3321.383193  3216.280187\n",
              "2021-06-29  3448.139893  0.001233  3322.905791  3217.939786\n",
              "2021-06-30  3440.159912 -0.002317  3325.015190  3219.625736\n",
              "\n",
              "[3900 rows x 4 columns]"
            ]
          },
          "metadata": {},
          "execution_count": 64
        }
      ],
      "source": [
        "tester.data"
      ]
    },
    {
      "cell_type": "code",
      "execution_count": null,
      "metadata": {
        "id": "WXRwDEUrY0YN",
        "colab": {
          "base_uri": "https://localhost:8080/"
        },
        "outputId": "8236a59a-07c2-4950-a5e7-eaebb0a286eb"
      },
      "outputs": [
        {
          "output_type": "execute_result",
          "data": {
            "text/plain": [
              "(2.812418, -103.136451)"
            ]
          },
          "metadata": {},
          "execution_count": 65
        }
      ],
      "source": [
        "tester.test_strategy()"
      ]
    },
    {
      "cell_type": "code",
      "execution_count": null,
      "metadata": {
        "id": "LNICPLT7Y0YN"
      },
      "outputs": [],
      "source": [
        ""
      ]
    },
    {
      "cell_type": "markdown",
      "metadata": {
        "id": "3t56sZX7Y0YN"
      },
      "source": [
        "## String Representation & Docstrings"
      ]
    },
    {
      "cell_type": "code",
      "execution_count": null,
      "metadata": {
        "id": "0-_aMKxhY0YO",
        "colab": {
          "base_uri": "https://localhost:8080/"
        },
        "outputId": "80b89924-13b1-40bd-c44d-88adb0491581"
      },
      "outputs": [
        {
          "output_type": "execute_result",
          "data": {
            "text/plain": [
              "<__main__.SMABacktester at 0x7f8685c54f10>"
            ]
          },
          "metadata": {},
          "execution_count": 66
        }
      ],
      "source": [
        "tester"
      ]
    },
    {
      "cell_type": "code",
      "execution_count": null,
      "metadata": {
        "id": "yJxUQtP6Y0YO"
      },
      "outputs": [],
      "source": [
        "tester.optimize_parameters((10, 50, 1), (100, 252, 1))"
      ]
    },
    {
      "cell_type": "code",
      "execution_count": null,
      "metadata": {
        "id": "MOpDlYBuY0YO"
      },
      "outputs": [],
      "source": [
        "class SMABacktester():\n",
        "    ''' Class for the vectorized backtesting of SMA-based trading strategies.\n",
        "    '''\n",
        "    \n",
        "    def __init__(self, symbol, SMA_S, SMA_L, start, end):\n",
        "        '''\n",
        "        Parameters\n",
        "        ----------\n",
        "        symbol: str\n",
        "            ticker symbol (instrument) to be backtested\n",
        "        SMA_S: int\n",
        "            moving window in bars (e.g. days) for shorter SMA\n",
        "        SMA_L: int\n",
        "            moving window in bars (e.g. days) for longer SMA\n",
        "        start: str\n",
        "            start date for data import\n",
        "        end: str\n",
        "            end date for data import\n",
        "        '''\n",
        "        self.symbol = symbol\n",
        "        self.SMA_S = SMA_S\n",
        "        self.SMA_L = SMA_L\n",
        "        self.start = start\n",
        "        self.end = end\n",
        "        self.results = None \n",
        "        self.get_data()\n",
        "        self.prepare_data()\n",
        "        \n",
        "    def __repr__(self):\n",
        "        return \"SMABacktester(symbol = {}, SMA_S = {}, SMA_L = {}, start = {}, end = {})\".format(self.symbol, self.SMA_S, self.SMA_L, self.start, self.end)\n",
        "        \n",
        "    def get_data(self):\n",
        "        ''' Imports the data from yahoo finance (source can be changed).\n",
        "        '''\n",
        "        cl_price = pd.DataFrame() # empty dataframe which will be filled with closing prices of each stock\n",
        "        ohlcv_data = {} # empty dictionary which will be filled with ohlcv dataframe for each ticker\n",
        "        cl_price[self.symbol] = yf.download(self.symbol,self.start,self.end)[\"Adj Close\"]\n",
        "        raw = cl_price\n",
        "        raw = raw[self.symbol].to_frame().dropna()\n",
        "        raw = raw.loc[self.start:self.end].copy()\n",
        "        raw.rename(columns={self.symbol: \"price\"}, inplace=True)\n",
        "        raw[\"returns\"] = np.log(raw / raw.shift(1))\n",
        "        self.data = raw\n",
        "        \n",
        "    def prepare_data(self):\n",
        "        '''Prepares the data for strategy backtesting (strategy-specific).\n",
        "        '''\n",
        "        data = self.data.copy()\n",
        "        data[\"SMA_S\"] = data[\"price\"].rolling(self.SMA_S).mean()\n",
        "        data[\"SMA_L\"] = data[\"price\"].rolling(self.SMA_L).mean()\n",
        "        self.data = data\n",
        "        \n",
        "    def set_parameters(self, SMA_S = None, SMA_L = None):\n",
        "        ''' Updates SMA parameters and the prepared dataset.\n",
        "        '''\n",
        "        if SMA_S is not None:\n",
        "            self.SMA_S = SMA_S\n",
        "            self.data[\"SMA_S\"] = self.data[\"price\"].rolling(self.SMA_S).mean()\n",
        "        if SMA_L is not None:\n",
        "            self.SMA_L = SMA_L\n",
        "            self.data[\"SMA_L\"] = self.data[\"price\"].rolling(self.SMA_L).mean()\n",
        "            \n",
        "    def test_strategy(self):\n",
        "        ''' Backtests the SMA-based trading strategy.\n",
        "        '''\n",
        "        data = self.data.copy().dropna()\n",
        "        data[\"position\"] = np.where(data[\"SMA_S\"] > data[\"SMA_L\"], 1, -1)\n",
        "        data[\"strategy\"] = data[\"position\"].shift(1) * data[\"returns\"]\n",
        "        data.dropna(inplace=True)\n",
        "        data[\"creturns\"] = data[\"returns\"].cumsum().apply(np.exp)\n",
        "        data[\"cstrategy\"] = data[\"strategy\"].cumsum().apply(np.exp)\n",
        "        self.results = data\n",
        "       \n",
        "        perf = data[\"cstrategy\"].iloc[-1] # absolute performance of the strategy\n",
        "        outperf = perf - data[\"creturns\"].iloc[-1] # out-/underperformance of strategy\n",
        "        return round(perf, 6), round(outperf, 6)\n",
        "    \n",
        "    def plot_results(self):\n",
        "        ''' Plots the performance of the trading strategy and compares to \"buy and hold\".\n",
        "        '''\n",
        "        if self.results is None:\n",
        "            print(\"Run test_strategy() first.\")\n",
        "        else:\n",
        "            title = \"{} | SMA_S = {} | SMA_L = {}\".format(self.symbol, self.SMA_S, self.SMA_L)\n",
        "            self.results[[\"creturns\", \"cstrategy\"]].plot(title=title, figsize=(12, 8))\n",
        "    \n",
        "    def optimize_parameters(self, SMA_S_range, SMA_L_range):\n",
        "        ''' Finds the optimal strategy (global maximum) given the SMA parameter ranges.\n",
        "\n",
        "        Parameters\n",
        "        ----------\n",
        "        SMA_S_range, SMA_L_range: tuple\n",
        "            tuples of the form (start, end, step size)\n",
        "        '''\n",
        "        combinations = list(product(range(*SMA_S_range), range(*SMA_L_range)))\n",
        "        \n",
        "        # test all combinations\n",
        "        results = []\n",
        "        for comb in combinations:\n",
        "            self.set_parameters(comb[0], comb[1])\n",
        "            results.append(self.test_strategy()[0])\n",
        "        \n",
        "        best_perf = np.max(results) # best performance\n",
        "        opt = combinations[np.argmax(results)] # optimal parameters\n",
        "        \n",
        "        # run/set the optimal strategy\n",
        "        self.set_parameters(opt[0], opt[1])\n",
        "        self.test_strategy()\n",
        "                   \n",
        "        # create a df with many results\n",
        "        many_results =  pd.DataFrame(data = combinations, columns = [\"SMA_S\", \"SMA_L\"])\n",
        "        many_results[\"performance\"] = results\n",
        "        self.results_overview = many_results\n",
        "                            \n",
        "        return opt, best_perf"
      ]
    },
    {
      "cell_type": "code",
      "execution_count": null,
      "metadata": {
        "id": "CrTbMYKhY0YP",
        "colab": {
          "base_uri": "https://localhost:8080/"
        },
        "outputId": "e76dc5f6-513b-461b-840b-73318fed9e8b"
      },
      "outputs": [
        {
          "output_type": "stream",
          "name": "stdout",
          "text": [
            "\r[*********************100%***********************]  1 of 1 completed\n"
          ]
        }
      ],
      "source": [
        "tester = SMABacktester(\"AMZN\", 50, 200, \"2006-01-01\", \"2021-06-30\")"
      ]
    },
    {
      "cell_type": "code",
      "execution_count": null,
      "metadata": {
        "id": "QrhYHuu_Y0YP",
        "colab": {
          "base_uri": "https://localhost:8080/"
        },
        "outputId": "00badb79-066b-42e2-8e4f-9dcbc1e1f05d"
      },
      "outputs": [
        {
          "output_type": "execute_result",
          "data": {
            "text/plain": [
              "SMABacktester(symbol = AMZN, SMA_S = 50, SMA_L = 200, start = 2006-01-01, end = 2021-06-30)"
            ]
          },
          "metadata": {},
          "execution_count": 78
        }
      ],
      "source": [
        "tester"
      ]
    },
    {
      "cell_type": "code",
      "execution_count": null,
      "metadata": {
        "id": "mSwR-7NwY0YP",
        "colab": {
          "base_uri": "https://localhost:8080/"
        },
        "outputId": "db885839-d0ae-4b51-92af-bb6aadfd1fce"
      },
      "outputs": [
        {
          "output_type": "stream",
          "name": "stderr",
          "text": [
            "/usr/local/lib/python3.7/dist-packages/ipykernel_launcher.py:79: SettingWithCopyWarning: \n",
            "A value is trying to be set on a copy of a slice from a DataFrame.\n",
            "Try using .loc[row_indexer,col_indexer] = value instead\n",
            "\n",
            "See the caveats in the documentation: https://pandas.pydata.org/pandas-docs/stable/user_guide/indexing.html#returning-a-view-versus-a-copy\n",
            "/usr/local/lib/python3.7/dist-packages/ipykernel_launcher.py:80: SettingWithCopyWarning: \n",
            "A value is trying to be set on a copy of a slice from a DataFrame.\n",
            "Try using .loc[row_indexer,col_indexer] = value instead\n",
            "\n",
            "See the caveats in the documentation: https://pandas.pydata.org/pandas-docs/stable/user_guide/indexing.html#returning-a-view-versus-a-copy\n",
            "/usr/local/lib/python3.7/dist-packages/ipykernel_launcher.py:79: SettingWithCopyWarning: \n",
            "A value is trying to be set on a copy of a slice from a DataFrame.\n",
            "Try using .loc[row_indexer,col_indexer] = value instead\n",
            "\n",
            "See the caveats in the documentation: https://pandas.pydata.org/pandas-docs/stable/user_guide/indexing.html#returning-a-view-versus-a-copy\n",
            "/usr/local/lib/python3.7/dist-packages/ipykernel_launcher.py:80: SettingWithCopyWarning: \n",
            "A value is trying to be set on a copy of a slice from a DataFrame.\n",
            "Try using .loc[row_indexer,col_indexer] = value instead\n",
            "\n",
            "See the caveats in the documentation: https://pandas.pydata.org/pandas-docs/stable/user_guide/indexing.html#returning-a-view-versus-a-copy\n",
            "/usr/local/lib/python3.7/dist-packages/ipykernel_launcher.py:79: SettingWithCopyWarning: \n",
            "A value is trying to be set on a copy of a slice from a DataFrame.\n",
            "Try using .loc[row_indexer,col_indexer] = value instead\n",
            "\n",
            "See the caveats in the documentation: https://pandas.pydata.org/pandas-docs/stable/user_guide/indexing.html#returning-a-view-versus-a-copy\n",
            "/usr/local/lib/python3.7/dist-packages/ipykernel_launcher.py:79: SettingWithCopyWarning: \n",
            "A value is trying to be set on a copy of a slice from a DataFrame.\n",
            "Try using .loc[row_indexer,col_indexer] = value instead\n",
            "\n",
            "See the caveats in the documentation: https://pandas.pydata.org/pandas-docs/stable/user_guide/indexing.html#returning-a-view-versus-a-copy\n",
            "/usr/local/lib/python3.7/dist-packages/ipykernel_launcher.py:80: SettingWithCopyWarning: \n",
            "A value is trying to be set on a copy of a slice from a DataFrame.\n",
            "Try using .loc[row_indexer,col_indexer] = value instead\n",
            "\n",
            "See the caveats in the documentation: https://pandas.pydata.org/pandas-docs/stable/user_guide/indexing.html#returning-a-view-versus-a-copy\n",
            "/usr/local/lib/python3.7/dist-packages/ipykernel_launcher.py:79: SettingWithCopyWarning: \n",
            "A value is trying to be set on a copy of a slice from a DataFrame.\n",
            "Try using .loc[row_indexer,col_indexer] = value instead\n",
            "\n",
            "See the caveats in the documentation: https://pandas.pydata.org/pandas-docs/stable/user_guide/indexing.html#returning-a-view-versus-a-copy\n",
            "/usr/local/lib/python3.7/dist-packages/ipykernel_launcher.py:80: SettingWithCopyWarning: \n",
            "A value is trying to be set on a copy of a slice from a DataFrame.\n",
            "Try using .loc[row_indexer,col_indexer] = value instead\n",
            "\n",
            "See the caveats in the documentation: https://pandas.pydata.org/pandas-docs/stable/user_guide/indexing.html#returning-a-view-versus-a-copy\n",
            "/usr/local/lib/python3.7/dist-packages/ipykernel_launcher.py:79: SettingWithCopyWarning: \n",
            "A value is trying to be set on a copy of a slice from a DataFrame.\n",
            "Try using .loc[row_indexer,col_indexer] = value instead\n",
            "\n",
            "See the caveats in the documentation: https://pandas.pydata.org/pandas-docs/stable/user_guide/indexing.html#returning-a-view-versus-a-copy\n",
            "/usr/local/lib/python3.7/dist-packages/ipykernel_launcher.py:80: SettingWithCopyWarning: \n",
            "A value is trying to be set on a copy of a slice from a DataFrame.\n",
            "Try using .loc[row_indexer,col_indexer] = value instead\n",
            "\n",
            "See the caveats in the documentation: https://pandas.pydata.org/pandas-docs/stable/user_guide/indexing.html#returning-a-view-versus-a-copy\n",
            "/usr/local/lib/python3.7/dist-packages/ipykernel_launcher.py:79: SettingWithCopyWarning: \n",
            "A value is trying to be set on a copy of a slice from a DataFrame.\n",
            "Try using .loc[row_indexer,col_indexer] = value instead\n",
            "\n",
            "See the caveats in the documentation: https://pandas.pydata.org/pandas-docs/stable/user_guide/indexing.html#returning-a-view-versus-a-copy\n",
            "/usr/local/lib/python3.7/dist-packages/ipykernel_launcher.py:80: SettingWithCopyWarning: \n",
            "A value is trying to be set on a copy of a slice from a DataFrame.\n",
            "Try using .loc[row_indexer,col_indexer] = value instead\n",
            "\n",
            "See the caveats in the documentation: https://pandas.pydata.org/pandas-docs/stable/user_guide/indexing.html#returning-a-view-versus-a-copy\n"
          ]
        },
        {
          "output_type": "execute_result",
          "data": {
            "text/plain": [
              "((19, 229), 20.929011)"
            ]
          },
          "metadata": {},
          "execution_count": 79
        }
      ],
      "source": [
        "tester.optimize_parameters((10, 50, 1), (100, 252, 1))"
      ]
    },
    {
      "cell_type": "code",
      "execution_count": null,
      "metadata": {
        "id": "yAqiGfayY0YQ"
      },
      "outputs": [],
      "source": [
        ""
      ]
    }
  ],
  "metadata": {
    "kernelspec": {
      "display_name": "Python 3",
      "language": "python",
      "name": "python3"
    },
    "language_info": {
      "codemirror_mode": {
        "name": "ipython",
        "version": 3
      },
      "file_extension": ".py",
      "mimetype": "text/x-python",
      "name": "python",
      "nbconvert_exporter": "python",
      "pygments_lexer": "ipython3",
      "version": "3.8.5"
    },
    "colab": {
      "name": "SMABacktester.ipynb",
      "provenance": [],
      "include_colab_link": true
    }
  },
  "nbformat": 4,
  "nbformat_minor": 0
}