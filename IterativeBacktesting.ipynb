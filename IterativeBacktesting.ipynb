{
  "cells": [
    {
      "cell_type": "markdown",
      "metadata": {
        "id": "view-in-github",
        "colab_type": "text"
      },
      "source": [
        "<a href=\"https://colab.research.google.com/github/balaajhi/One-step-at-a-time/blob/main/IterativeBacktesting.ipynb\" target=\"_parent\"><img src=\"https://colab.research.google.com/assets/colab-badge.svg\" alt=\"Open In Colab\"/></a>"
      ]
    },
    {
      "cell_type": "markdown",
      "metadata": {
        "id": "b6vSGbgQL_2D"
      },
      "source": [
        "# Advanced Backtesting: Iterative Backtesting (\"event-driven\") "
      ]
    },
    {
      "cell_type": "markdown",
      "metadata": {
        "id": "gtmgQG0mL_2H"
      },
      "source": [
        "##Iterative Backtesting (Part 1)"
      ]
    },
    {
      "cell_type": "code",
      "execution_count": 1,
      "metadata": {
        "id": "2cPUEWbaL_2I"
      },
      "outputs": [],
      "source": [
        "import pandas as pd\n",
        "import numpy as np\n",
        "import matplotlib.pyplot as plt\n",
        "plt.style.use(\"seaborn\")"
      ]
    },
    {
      "cell_type": "code",
      "execution_count": 2,
      "metadata": {
        "id": "mFY7tQrzL_2J",
        "outputId": "f431dbf0-892d-44ac-c224-60ffe1e70cd5",
        "colab": {
          "base_uri": "https://localhost:8080/",
          "height": 450
        }
      },
      "outputs": [
        {
          "output_type": "execute_result",
          "data": {
            "text/html": [
              "\n",
              "  <div id=\"df-48246219-18bf-4ea3-a3d1-d48221df918b\">\n",
              "    <div class=\"colab-df-container\">\n",
              "      <div>\n",
              "<style scoped>\n",
              "    .dataframe tbody tr th:only-of-type {\n",
              "        vertical-align: middle;\n",
              "    }\n",
              "\n",
              "    .dataframe tbody tr th {\n",
              "        vertical-align: top;\n",
              "    }\n",
              "\n",
              "    .dataframe thead th {\n",
              "        text-align: right;\n",
              "    }\n",
              "</style>\n",
              "<table border=\"1\" class=\"dataframe\">\n",
              "  <thead>\n",
              "    <tr style=\"text-align: right;\">\n",
              "      <th></th>\n",
              "      <th>price</th>\n",
              "      <th>spread</th>\n",
              "    </tr>\n",
              "    <tr>\n",
              "      <th>time</th>\n",
              "      <th></th>\n",
              "      <th></th>\n",
              "    </tr>\n",
              "  </thead>\n",
              "  <tbody>\n",
              "    <tr>\n",
              "      <th>2006-12-31 22:00:00+00:00</th>\n",
              "      <td>1.31985</td>\n",
              "      <td>0.00100</td>\n",
              "    </tr>\n",
              "    <tr>\n",
              "      <th>2007-01-01 22:00:00+00:00</th>\n",
              "      <td>1.32734</td>\n",
              "      <td>0.00015</td>\n",
              "    </tr>\n",
              "    <tr>\n",
              "      <th>2007-01-02 22:00:00+00:00</th>\n",
              "      <td>1.31688</td>\n",
              "      <td>0.00015</td>\n",
              "    </tr>\n",
              "    <tr>\n",
              "      <th>2007-01-03 22:00:00+00:00</th>\n",
              "      <td>1.30845</td>\n",
              "      <td>0.00015</td>\n",
              "    </tr>\n",
              "    <tr>\n",
              "      <th>2007-01-04 22:00:00+00:00</th>\n",
              "      <td>1.30025</td>\n",
              "      <td>0.00100</td>\n",
              "    </tr>\n",
              "    <tr>\n",
              "      <th>...</th>\n",
              "      <td>...</td>\n",
              "      <td>...</td>\n",
              "    </tr>\n",
              "    <tr>\n",
              "      <th>2020-06-23 21:00:00+00:00</th>\n",
              "      <td>1.12507</td>\n",
              "      <td>0.00030</td>\n",
              "    </tr>\n",
              "    <tr>\n",
              "      <th>2020-06-24 21:00:00+00:00</th>\n",
              "      <td>1.12180</td>\n",
              "      <td>0.00023</td>\n",
              "    </tr>\n",
              "    <tr>\n",
              "      <th>2020-06-25 21:00:00+00:00</th>\n",
              "      <td>1.12184</td>\n",
              "      <td>0.00041</td>\n",
              "    </tr>\n",
              "    <tr>\n",
              "      <th>2020-06-28 21:00:00+00:00</th>\n",
              "      <td>1.12424</td>\n",
              "      <td>0.00018</td>\n",
              "    </tr>\n",
              "    <tr>\n",
              "      <th>2020-06-29 21:00:00+00:00</th>\n",
              "      <td>1.12331</td>\n",
              "      <td>0.00032</td>\n",
              "    </tr>\n",
              "  </tbody>\n",
              "</table>\n",
              "<p>4006 rows × 2 columns</p>\n",
              "</div>\n",
              "      <button class=\"colab-df-convert\" onclick=\"convertToInteractive('df-48246219-18bf-4ea3-a3d1-d48221df918b')\"\n",
              "              title=\"Convert this dataframe to an interactive table.\"\n",
              "              style=\"display:none;\">\n",
              "        \n",
              "  <svg xmlns=\"http://www.w3.org/2000/svg\" height=\"24px\"viewBox=\"0 0 24 24\"\n",
              "       width=\"24px\">\n",
              "    <path d=\"M0 0h24v24H0V0z\" fill=\"none\"/>\n",
              "    <path d=\"M18.56 5.44l.94 2.06.94-2.06 2.06-.94-2.06-.94-.94-2.06-.94 2.06-2.06.94zm-11 1L8.5 8.5l.94-2.06 2.06-.94-2.06-.94L8.5 2.5l-.94 2.06-2.06.94zm10 10l.94 2.06.94-2.06 2.06-.94-2.06-.94-.94-2.06-.94 2.06-2.06.94z\"/><path d=\"M17.41 7.96l-1.37-1.37c-.4-.4-.92-.59-1.43-.59-.52 0-1.04.2-1.43.59L10.3 9.45l-7.72 7.72c-.78.78-.78 2.05 0 2.83L4 21.41c.39.39.9.59 1.41.59.51 0 1.02-.2 1.41-.59l7.78-7.78 2.81-2.81c.8-.78.8-2.07 0-2.86zM5.41 20L4 18.59l7.72-7.72 1.47 1.35L5.41 20z\"/>\n",
              "  </svg>\n",
              "      </button>\n",
              "      \n",
              "  <style>\n",
              "    .colab-df-container {\n",
              "      display:flex;\n",
              "      flex-wrap:wrap;\n",
              "      gap: 12px;\n",
              "    }\n",
              "\n",
              "    .colab-df-convert {\n",
              "      background-color: #E8F0FE;\n",
              "      border: none;\n",
              "      border-radius: 50%;\n",
              "      cursor: pointer;\n",
              "      display: none;\n",
              "      fill: #1967D2;\n",
              "      height: 32px;\n",
              "      padding: 0 0 0 0;\n",
              "      width: 32px;\n",
              "    }\n",
              "\n",
              "    .colab-df-convert:hover {\n",
              "      background-color: #E2EBFA;\n",
              "      box-shadow: 0px 1px 2px rgba(60, 64, 67, 0.3), 0px 1px 3px 1px rgba(60, 64, 67, 0.15);\n",
              "      fill: #174EA6;\n",
              "    }\n",
              "\n",
              "    [theme=dark] .colab-df-convert {\n",
              "      background-color: #3B4455;\n",
              "      fill: #D2E3FC;\n",
              "    }\n",
              "\n",
              "    [theme=dark] .colab-df-convert:hover {\n",
              "      background-color: #434B5C;\n",
              "      box-shadow: 0px 1px 3px 1px rgba(0, 0, 0, 0.15);\n",
              "      filter: drop-shadow(0px 1px 2px rgba(0, 0, 0, 0.3));\n",
              "      fill: #FFFFFF;\n",
              "    }\n",
              "  </style>\n",
              "\n",
              "      <script>\n",
              "        const buttonEl =\n",
              "          document.querySelector('#df-48246219-18bf-4ea3-a3d1-d48221df918b button.colab-df-convert');\n",
              "        buttonEl.style.display =\n",
              "          google.colab.kernel.accessAllowed ? 'block' : 'none';\n",
              "\n",
              "        async function convertToInteractive(key) {\n",
              "          const element = document.querySelector('#df-48246219-18bf-4ea3-a3d1-d48221df918b');\n",
              "          const dataTable =\n",
              "            await google.colab.kernel.invokeFunction('convertToInteractive',\n",
              "                                                     [key], {});\n",
              "          if (!dataTable) return;\n",
              "\n",
              "          const docLinkHtml = 'Like what you see? Visit the ' +\n",
              "            '<a target=\"_blank\" href=https://colab.research.google.com/notebooks/data_table.ipynb>data table notebook</a>'\n",
              "            + ' to learn more about interactive tables.';\n",
              "          element.innerHTML = '';\n",
              "          dataTable['output_type'] = 'display_data';\n",
              "          await google.colab.output.renderOutput(dataTable, element);\n",
              "          const docLink = document.createElement('div');\n",
              "          docLink.innerHTML = docLinkHtml;\n",
              "          element.appendChild(docLink);\n",
              "        }\n",
              "      </script>\n",
              "    </div>\n",
              "  </div>\n",
              "  "
            ],
            "text/plain": [
              "                             price   spread\n",
              "time                                       \n",
              "2006-12-31 22:00:00+00:00  1.31985  0.00100\n",
              "2007-01-01 22:00:00+00:00  1.32734  0.00015\n",
              "2007-01-02 22:00:00+00:00  1.31688  0.00015\n",
              "2007-01-03 22:00:00+00:00  1.30845  0.00015\n",
              "2007-01-04 22:00:00+00:00  1.30025  0.00100\n",
              "...                            ...      ...\n",
              "2020-06-23 21:00:00+00:00  1.12507  0.00030\n",
              "2020-06-24 21:00:00+00:00  1.12180  0.00023\n",
              "2020-06-25 21:00:00+00:00  1.12184  0.00041\n",
              "2020-06-28 21:00:00+00:00  1.12424  0.00018\n",
              "2020-06-29 21:00:00+00:00  1.12331  0.00032\n",
              "\n",
              "[4006 rows x 2 columns]"
            ]
          },
          "metadata": {},
          "execution_count": 2
        }
      ],
      "source": [
        "data = pd.read_csv(\"detailed.csv\", parse_dates = [\"time\"], index_col = \"time\")\n",
        "data"
      ]
    },
    {
      "cell_type": "code",
      "execution_count": 3,
      "metadata": {
        "id": "ho0_SrgiL_2K"
      },
      "outputs": [],
      "source": [
        "data = data.round(5)"
      ]
    },
    {
      "cell_type": "code",
      "execution_count": 4,
      "metadata": {
        "id": "8cWGvzUCL_2K",
        "outputId": "0279ff8b-07d4-4662-89e8-8503c689e8fc",
        "colab": {
          "base_uri": "https://localhost:8080/",
          "height": 463
        }
      },
      "outputs": [
        {
          "output_type": "display_data",
          "data": {
            "image/png": "[encoded data removed]",
            "text/plain": [
              "<Figure size 864x576 with 1 Axes>"
            ]
          },
          "metadata": {
            "needs_background": "light"
          }
        }
      ],
      "source": [
        "data.price.plot(figsize = (12, 8))\n",
        "plt.show()"
      ]
    },
    {
      "cell_type": "code",
      "execution_count": 5,
      "metadata": {
        "id": "C3isEhN1L_2L",
        "outputId": "77479e95-d19d-4882-ca71-4e516960df94",
        "colab": {
          "base_uri": "https://localhost:8080/",
          "height": 483
        }
      },
      "outputs": [
        {
          "output_type": "display_data",
          "data": {
            "image/png": "[encoded data removed]",
            "text/plain": [
              "<Figure size 864x576 with 1 Axes>"
            ]
          },
          "metadata": {
            "needs_background": "light"
          }
        }
      ],
      "source": [
        "data.spread.hist(bins = 100, figsize = (12, 8))\n",
        "plt.show()"
      ]
    },
    {
      "cell_type": "code",
      "execution_count": 6,
      "metadata": {
        "id": "Bkeo1Wf_L_2L",
        "outputId": "4f96e7b8-a669-437f-b622-b4104d7edaf4",
        "colab": {
          "base_uri": "https://localhost:8080/"
        }
      },
      "outputs": [
        {
          "output_type": "stream",
          "name": "stdout",
          "text": [
            "0\n",
            "1\n",
            "2\n",
            "3\n",
            "4\n",
            "5\n",
            "6\n",
            "7\n",
            "8\n",
            "9\n"
          ]
        }
      ],
      "source": [
        "for i in range(10):\n",
        "    print(i)"
      ]
    },
    {
      "cell_type": "code",
      "execution_count": 7,
      "metadata": {
        "id": "snVqgJnoL_2M",
        "outputId": "e513b3de-056b-4d2c-8617-74f268ac59dc",
        "colab": {
          "base_uri": "https://localhost:8080/"
        }
      },
      "outputs": [
        {
          "output_type": "stream",
          "name": "stdout",
          "text": [
            "0 | 2006-12-31 | 1.31985 | 0.001\n",
            "1 | 2007-01-01 | 1.32734 | 0.00015\n",
            "2 | 2007-01-02 | 1.31688 | 0.00015\n",
            "3 | 2007-01-03 | 1.30845 | 0.00015\n",
            "4 | 2007-01-04 | 1.30025 | 0.001\n",
            "5 | 2007-01-06 | 1.30166 | 0.001\n",
            "6 | 2007-01-07 | 1.30238 | 0.00015\n",
            "7 | 2007-01-08 | 1.3001 | 0.00015\n",
            "8 | 2007-01-09 | 1.29379 | 0.00015\n",
            "9 | 2007-01-10 | 1.28936 | 0.00015\n"
          ]
        }
      ],
      "source": [
        "for bar in range(10): # interate over the first 10 bars/candles \n",
        "    print(bar, data.index[bar].date(), data.price[bar], data.spread[bar], sep = \" | \")"
      ]
    },
    {
      "cell_type": "code",
      "execution_count": 8,
      "metadata": {
        "id": "rZnq3gDVL_2M"
      },
      "outputs": [],
      "source": [
        "import time"
      ]
    },
    {
      "cell_type": "code",
      "execution_count": 9,
      "metadata": {
        "id": "oZblKa7EL_2M",
        "outputId": "0c49f2e0-ea76-478c-f961-82ab0c0d908b",
        "colab": {
          "base_uri": "https://localhost:8080/"
        }
      },
      "outputs": [
        {
          "output_type": "stream",
          "name": "stdout",
          "text": [
            "0 | 2006-12-31 | 1.31985 | 0.001\n",
            "1 | 2007-01-01 | 1.32734 | 0.00015\n",
            "2 | 2007-01-02 | 1.31688 | 0.00015\n",
            "3 | 2007-01-03 | 1.30845 | 0.00015\n",
            "4 | 2007-01-04 | 1.30025 | 0.001\n",
            "5 | 2007-01-06 | 1.30166 | 0.001\n",
            "6 | 2007-01-07 | 1.30238 | 0.00015\n",
            "7 | 2007-01-08 | 1.3001 | 0.00015\n",
            "8 | 2007-01-09 | 1.29379 | 0.00015\n",
            "9 | 2007-01-10 | 1.28936 | 0.00015\n"
          ]
        }
      ],
      "source": [
        "for bar in range(10):\n",
        "    print(bar, data.index[bar].date(), data.price[bar], data.spread[bar], sep = \" | \")\n",
        "    time.sleep(1)"
      ]
    },
    {
      "cell_type": "code",
      "execution_count": 9,
      "metadata": {
        "id": "AIG-kZeZL_2N"
      },
      "outputs": [],
      "source": [
        ""
      ]
    },
    {
      "cell_type": "markdown",
      "metadata": {
        "id": "eNvVgKWwL_2N"
      },
      "source": [
        "##Iterative Backtesting (Part 2)"
      ]
    },
    {
      "cell_type": "code",
      "execution_count": 10,
      "metadata": {
        "id": "Z3nd4liBL_2N",
        "outputId": "1d629c5e-9b93-4525-8005-118b5c8e3a3a",
        "colab": {
          "base_uri": "https://localhost:8080/",
          "height": 450
        }
      },
      "outputs": [
        {
          "output_type": "execute_result",
          "data": {
            "text/html": [
              "\n",
              "  <div id=\"df-38bc14bf-616c-4640-bdb1-6cfad85955a2\">\n",
              "    <div class=\"colab-df-container\">\n",
              "      <div>\n",
              "<style scoped>\n",
              "    .dataframe tbody tr th:only-of-type {\n",
              "        vertical-align: middle;\n",
              "    }\n",
              "\n",
              "    .dataframe tbody tr th {\n",
              "        vertical-align: top;\n",
              "    }\n",
              "\n",
              "    .dataframe thead th {\n",
              "        text-align: right;\n",
              "    }\n",
              "</style>\n",
              "<table border=\"1\" class=\"dataframe\">\n",
              "  <thead>\n",
              "    <tr style=\"text-align: right;\">\n",
              "      <th></th>\n",
              "      <th>price</th>\n",
              "      <th>spread</th>\n",
              "    </tr>\n",
              "    <tr>\n",
              "      <th>time</th>\n",
              "      <th></th>\n",
              "      <th></th>\n",
              "    </tr>\n",
              "  </thead>\n",
              "  <tbody>\n",
              "    <tr>\n",
              "      <th>2006-12-31 22:00:00+00:00</th>\n",
              "      <td>1.31985</td>\n",
              "      <td>0.00100</td>\n",
              "    </tr>\n",
              "    <tr>\n",
              "      <th>2007-01-01 22:00:00+00:00</th>\n",
              "      <td>1.32734</td>\n",
              "      <td>0.00015</td>\n",
              "    </tr>\n",
              "    <tr>\n",
              "      <th>2007-01-02 22:00:00+00:00</th>\n",
              "      <td>1.31688</td>\n",
              "      <td>0.00015</td>\n",
              "    </tr>\n",
              "    <tr>\n",
              "      <th>2007-01-03 22:00:00+00:00</th>\n",
              "      <td>1.30845</td>\n",
              "      <td>0.00015</td>\n",
              "    </tr>\n",
              "    <tr>\n",
              "      <th>2007-01-04 22:00:00+00:00</th>\n",
              "      <td>1.30025</td>\n",
              "      <td>0.00100</td>\n",
              "    </tr>\n",
              "    <tr>\n",
              "      <th>...</th>\n",
              "      <td>...</td>\n",
              "      <td>...</td>\n",
              "    </tr>\n",
              "    <tr>\n",
              "      <th>2020-06-23 21:00:00+00:00</th>\n",
              "      <td>1.12507</td>\n",
              "      <td>0.00030</td>\n",
              "    </tr>\n",
              "    <tr>\n",
              "      <th>2020-06-24 21:00:00+00:00</th>\n",
              "      <td>1.12180</td>\n",
              "      <td>0.00023</td>\n",
              "    </tr>\n",
              "    <tr>\n",
              "      <th>2020-06-25 21:00:00+00:00</th>\n",
              "      <td>1.12184</td>\n",
              "      <td>0.00041</td>\n",
              "    </tr>\n",
              "    <tr>\n",
              "      <th>2020-06-28 21:00:00+00:00</th>\n",
              "      <td>1.12424</td>\n",
              "      <td>0.00018</td>\n",
              "    </tr>\n",
              "    <tr>\n",
              "      <th>2020-06-29 21:00:00+00:00</th>\n",
              "      <td>1.12331</td>\n",
              "      <td>0.00032</td>\n",
              "    </tr>\n",
              "  </tbody>\n",
              "</table>\n",
              "<p>4006 rows × 2 columns</p>\n",
              "</div>\n",
              "      <button class=\"colab-df-convert\" onclick=\"convertToInteractive('df-38bc14bf-616c-4640-bdb1-6cfad85955a2')\"\n",
              "              title=\"Convert this dataframe to an interactive table.\"\n",
              "              style=\"display:none;\">\n",
              "        \n",
              "  <svg xmlns=\"http://www.w3.org/2000/svg\" height=\"24px\"viewBox=\"0 0 24 24\"\n",
              "       width=\"24px\">\n",
              "    <path d=\"M0 0h24v24H0V0z\" fill=\"none\"/>\n",
              "    <path d=\"M18.56 5.44l.94 2.06.94-2.06 2.06-.94-2.06-.94-.94-2.06-.94 2.06-2.06.94zm-11 1L8.5 8.5l.94-2.06 2.06-.94-2.06-.94L8.5 2.5l-.94 2.06-2.06.94zm10 10l.94 2.06.94-2.06 2.06-.94-2.06-.94-.94-2.06-.94 2.06-2.06.94z\"/><path d=\"M17.41 7.96l-1.37-1.37c-.4-.4-.92-.59-1.43-.59-.52 0-1.04.2-1.43.59L10.3 9.45l-7.72 7.72c-.78.78-.78 2.05 0 2.83L4 21.41c.39.39.9.59 1.41.59.51 0 1.02-.2 1.41-.59l7.78-7.78 2.81-2.81c.8-.78.8-2.07 0-2.86zM5.41 20L4 18.59l7.72-7.72 1.47 1.35L5.41 20z\"/>\n",
              "  </svg>\n",
              "      </button>\n",
              "      \n",
              "  <style>\n",
              "    .colab-df-container {\n",
              "      display:flex;\n",
              "      flex-wrap:wrap;\n",
              "      gap: 12px;\n",
              "    }\n",
              "\n",
              "    .colab-df-convert {\n",
              "      background-color: #E8F0FE;\n",
              "      border: none;\n",
              "      border-radius: 50%;\n",
              "      cursor: pointer;\n",
              "      display: none;\n",
              "      fill: #1967D2;\n",
              "      height: 32px;\n",
              "      padding: 0 0 0 0;\n",
              "      width: 32px;\n",
              "    }\n",
              "\n",
              "    .colab-df-convert:hover {\n",
              "      background-color: #E2EBFA;\n",
              "      box-shadow: 0px 1px 2px rgba(60, 64, 67, 0.3), 0px 1px 3px 1px rgba(60, 64, 67, 0.15);\n",
              "      fill: #174EA6;\n",
              "    }\n",
              "\n",
              "    [theme=dark] .colab-df-convert {\n",
              "      background-color: #3B4455;\n",
              "      fill: #D2E3FC;\n",
              "    }\n",
              "\n",
              "    [theme=dark] .colab-df-convert:hover {\n",
              "      background-color: #434B5C;\n",
              "      box-shadow: 0px 1px 3px 1px rgba(0, 0, 0, 0.15);\n",
              "      filter: drop-shadow(0px 1px 2px rgba(0, 0, 0, 0.3));\n",
              "      fill: #FFFFFF;\n",
              "    }\n",
              "  </style>\n",
              "\n",
              "      <script>\n",
              "        const buttonEl =\n",
              "          document.querySelector('#df-38bc14bf-616c-4640-bdb1-6cfad85955a2 button.colab-df-convert');\n",
              "        buttonEl.style.display =\n",
              "          google.colab.kernel.accessAllowed ? 'block' : 'none';\n",
              "\n",
              "        async function convertToInteractive(key) {\n",
              "          const element = document.querySelector('#df-38bc14bf-616c-4640-bdb1-6cfad85955a2');\n",
              "          const dataTable =\n",
              "            await google.colab.kernel.invokeFunction('convertToInteractive',\n",
              "                                                     [key], {});\n",
              "          if (!dataTable) return;\n",
              "\n",
              "          const docLinkHtml = 'Like what you see? Visit the ' +\n",
              "            '<a target=\"_blank\" href=https://colab.research.google.com/notebooks/data_table.ipynb>data table notebook</a>'\n",
              "            + ' to learn more about interactive tables.';\n",
              "          element.innerHTML = '';\n",
              "          dataTable['output_type'] = 'display_data';\n",
              "          await google.colab.output.renderOutput(dataTable, element);\n",
              "          const docLink = document.createElement('div');\n",
              "          docLink.innerHTML = docLinkHtml;\n",
              "          element.appendChild(docLink);\n",
              "        }\n",
              "      </script>\n",
              "    </div>\n",
              "  </div>\n",
              "  "
            ],
            "text/plain": [
              "                             price   spread\n",
              "time                                       \n",
              "2006-12-31 22:00:00+00:00  1.31985  0.00100\n",
              "2007-01-01 22:00:00+00:00  1.32734  0.00015\n",
              "2007-01-02 22:00:00+00:00  1.31688  0.00015\n",
              "2007-01-03 22:00:00+00:00  1.30845  0.00015\n",
              "2007-01-04 22:00:00+00:00  1.30025  0.00100\n",
              "...                            ...      ...\n",
              "2020-06-23 21:00:00+00:00  1.12507  0.00030\n",
              "2020-06-24 21:00:00+00:00  1.12180  0.00023\n",
              "2020-06-25 21:00:00+00:00  1.12184  0.00041\n",
              "2020-06-28 21:00:00+00:00  1.12424  0.00018\n",
              "2020-06-29 21:00:00+00:00  1.12331  0.00032\n",
              "\n",
              "[4006 rows x 2 columns]"
            ]
          },
          "metadata": {},
          "execution_count": 10
        }
      ],
      "source": [
        "data"
      ]
    },
    {
      "cell_type": "code",
      "execution_count": 11,
      "metadata": {
        "id": "qVE1fhk7L_2O"
      },
      "outputs": [],
      "source": [
        "sma_s = 50\n",
        "sma_l = 200"
      ]
    },
    {
      "cell_type": "code",
      "execution_count": 12,
      "metadata": {
        "id": "E1qhy7ZHL_2O"
      },
      "outputs": [],
      "source": [
        "data[\"SMA_S\"] = data.price.rolling(sma_s).mean()\n",
        "data[\"SMA_L\"] = data.price.rolling(sma_l).mean()"
      ]
    },
    {
      "cell_type": "code",
      "execution_count": 13,
      "metadata": {
        "id": "EQD8h2DbL_2O"
      },
      "outputs": [],
      "source": [
        "data.dropna(inplace = True)"
      ]
    },
    {
      "cell_type": "code",
      "execution_count": 14,
      "metadata": {
        "id": "Q1dRMwzuL_2P",
        "outputId": "472b9ecf-b095-49cd-dba3-2c0babc7284d",
        "colab": {
          "base_uri": "https://localhost:8080/",
          "height": 450
        }
      },
      "outputs": [
        {
          "output_type": "execute_result",
          "data": {
            "text/html": [
              "\n",
              "  <div id=\"df-fb4f7698-1060-4e49-a84c-f8acf4627a44\">\n",
              "    <div class=\"colab-df-container\">\n",
              "      <div>\n",
              "<style scoped>\n",
              "    .dataframe tbody tr th:only-of-type {\n",
              "        vertical-align: middle;\n",
              "    }\n",
              "\n",
              "    .dataframe tbody tr th {\n",
              "        vertical-align: top;\n",
              "    }\n",
              "\n",
              "    .dataframe thead th {\n",
              "        text-align: right;\n",
              "    }\n",
              "</style>\n",
              "<table border=\"1\" class=\"dataframe\">\n",
              "  <thead>\n",
              "    <tr style=\"text-align: right;\">\n",
              "      <th></th>\n",
              "      <th>price</th>\n",
              "      <th>spread</th>\n",
              "      <th>SMA_S</th>\n",
              "      <th>SMA_L</th>\n",
              "    </tr>\n",
              "    <tr>\n",
              "      <th>time</th>\n",
              "      <th></th>\n",
              "      <th></th>\n",
              "      <th></th>\n",
              "      <th></th>\n",
              "    </tr>\n",
              "  </thead>\n",
              "  <tbody>\n",
              "    <tr>\n",
              "      <th>2007-08-10 21:00:00+00:00</th>\n",
              "      <td>1.36939</td>\n",
              "      <td>0.00100</td>\n",
              "      <td>1.364967</td>\n",
              "      <td>1.337644</td>\n",
              "    </tr>\n",
              "    <tr>\n",
              "      <th>2007-08-11 21:00:00+00:00</th>\n",
              "      <td>1.36883</td>\n",
              "      <td>0.00100</td>\n",
              "      <td>1.365587</td>\n",
              "      <td>1.337889</td>\n",
              "    </tr>\n",
              "    <tr>\n",
              "      <th>2007-08-12 21:00:00+00:00</th>\n",
              "      <td>1.36131</td>\n",
              "      <td>0.00012</td>\n",
              "      <td>1.365985</td>\n",
              "      <td>1.338058</td>\n",
              "    </tr>\n",
              "    <tr>\n",
              "      <th>2007-08-13 21:00:00+00:00</th>\n",
              "      <td>1.35331</td>\n",
              "      <td>0.00012</td>\n",
              "      <td>1.366197</td>\n",
              "      <td>1.338241</td>\n",
              "    </tr>\n",
              "    <tr>\n",
              "      <th>2007-08-14 21:00:00+00:00</th>\n",
              "      <td>1.34425</td>\n",
              "      <td>0.00012</td>\n",
              "      <td>1.366272</td>\n",
              "      <td>1.338420</td>\n",
              "    </tr>\n",
              "    <tr>\n",
              "      <th>...</th>\n",
              "      <td>...</td>\n",
              "      <td>...</td>\n",
              "      <td>...</td>\n",
              "      <td>...</td>\n",
              "    </tr>\n",
              "    <tr>\n",
              "      <th>2020-06-23 21:00:00+00:00</th>\n",
              "      <td>1.12507</td>\n",
              "      <td>0.00030</td>\n",
              "      <td>1.102243</td>\n",
              "      <td>1.103035</td>\n",
              "    </tr>\n",
              "    <tr>\n",
              "      <th>2020-06-24 21:00:00+00:00</th>\n",
              "      <td>1.12180</td>\n",
              "      <td>0.00023</td>\n",
              "      <td>1.103000</td>\n",
              "      <td>1.103129</td>\n",
              "    </tr>\n",
              "    <tr>\n",
              "      <th>2020-06-25 21:00:00+00:00</th>\n",
              "      <td>1.12184</td>\n",
              "      <td>0.00041</td>\n",
              "      <td>1.103689</td>\n",
              "      <td>1.103218</td>\n",
              "    </tr>\n",
              "    <tr>\n",
              "      <th>2020-06-28 21:00:00+00:00</th>\n",
              "      <td>1.12424</td>\n",
              "      <td>0.00018</td>\n",
              "      <td>1.104448</td>\n",
              "      <td>1.103330</td>\n",
              "    </tr>\n",
              "    <tr>\n",
              "      <th>2020-06-29 21:00:00+00:00</th>\n",
              "      <td>1.12331</td>\n",
              "      <td>0.00032</td>\n",
              "      <td>1.105199</td>\n",
              "      <td>1.103450</td>\n",
              "    </tr>\n",
              "  </tbody>\n",
              "</table>\n",
              "<p>3807 rows × 4 columns</p>\n",
              "</div>\n",
              "      <button class=\"colab-df-convert\" onclick=\"convertToInteractive('df-fb4f7698-1060-4e49-a84c-f8acf4627a44')\"\n",
              "              title=\"Convert this dataframe to an interactive table.\"\n",
              "              style=\"display:none;\">\n",
              "        \n",
              "  <svg xmlns=\"http://www.w3.org/2000/svg\" height=\"24px\"viewBox=\"0 0 24 24\"\n",
              "       width=\"24px\">\n",
              "    <path d=\"M0 0h24v24H0V0z\" fill=\"none\"/>\n",
              "    <path d=\"M18.56 5.44l.94 2.06.94-2.06 2.06-.94-2.06-.94-.94-2.06-.94 2.06-2.06.94zm-11 1L8.5 8.5l.94-2.06 2.06-.94-2.06-.94L8.5 2.5l-.94 2.06-2.06.94zm10 10l.94 2.06.94-2.06 2.06-.94-2.06-.94-.94-2.06-.94 2.06-2.06.94z\"/><path d=\"M17.41 7.96l-1.37-1.37c-.4-.4-.92-.59-1.43-.59-.52 0-1.04.2-1.43.59L10.3 9.45l-7.72 7.72c-.78.78-.78 2.05 0 2.83L4 21.41c.39.39.9.59 1.41.59.51 0 1.02-.2 1.41-.59l7.78-7.78 2.81-2.81c.8-.78.8-2.07 0-2.86zM5.41 20L4 18.59l7.72-7.72 1.47 1.35L5.41 20z\"/>\n",
              "  </svg>\n",
              "      </button>\n",
              "      \n",
              "  <style>\n",
              "    .colab-df-container {\n",
              "      display:flex;\n",
              "      flex-wrap:wrap;\n",
              "      gap: 12px;\n",
              "    }\n",
              "\n",
              "    .colab-df-convert {\n",
              "      background-color: #E8F0FE;\n",
              "      border: none;\n",
              "      border-radius: 50%;\n",
              "      cursor: pointer;\n",
              "      display: none;\n",
              "      fill: #1967D2;\n",
              "      height: 32px;\n",
              "      padding: 0 0 0 0;\n",
              "      width: 32px;\n",
              "    }\n",
              "\n",
              "    .colab-df-convert:hover {\n",
              "      background-color: #E2EBFA;\n",
              "      box-shadow: 0px 1px 2px rgba(60, 64, 67, 0.3), 0px 1px 3px 1px rgba(60, 64, 67, 0.15);\n",
              "      fill: #174EA6;\n",
              "    }\n",
              "\n",
              "    [theme=dark] .colab-df-convert {\n",
              "      background-color: #3B4455;\n",
              "      fill: #D2E3FC;\n",
              "    }\n",
              "\n",
              "    [theme=dark] .colab-df-convert:hover {\n",
              "      background-color: #434B5C;\n",
              "      box-shadow: 0px 1px 3px 1px rgba(0, 0, 0, 0.15);\n",
              "      filter: drop-shadow(0px 1px 2px rgba(0, 0, 0, 0.3));\n",
              "      fill: #FFFFFF;\n",
              "    }\n",
              "  </style>\n",
              "\n",
              "      <script>\n",
              "        const buttonEl =\n",
              "          document.querySelector('#df-fb4f7698-1060-4e49-a84c-f8acf4627a44 button.colab-df-convert');\n",
              "        buttonEl.style.display =\n",
              "          google.colab.kernel.accessAllowed ? 'block' : 'none';\n",
              "\n",
              "        async function convertToInteractive(key) {\n",
              "          const element = document.querySelector('#df-fb4f7698-1060-4e49-a84c-f8acf4627a44');\n",
              "          const dataTable =\n",
              "            await google.colab.kernel.invokeFunction('convertToInteractive',\n",
              "                                                     [key], {});\n",
              "          if (!dataTable) return;\n",
              "\n",
              "          const docLinkHtml = 'Like what you see? Visit the ' +\n",
              "            '<a target=\"_blank\" href=https://colab.research.google.com/notebooks/data_table.ipynb>data table notebook</a>'\n",
              "            + ' to learn more about interactive tables.';\n",
              "          element.innerHTML = '';\n",
              "          dataTable['output_type'] = 'display_data';\n",
              "          await google.colab.output.renderOutput(dataTable, element);\n",
              "          const docLink = document.createElement('div');\n",
              "          docLink.innerHTML = docLinkHtml;\n",
              "          element.appendChild(docLink);\n",
              "        }\n",
              "      </script>\n",
              "    </div>\n",
              "  </div>\n",
              "  "
            ],
            "text/plain": [
              "                             price   spread     SMA_S     SMA_L\n",
              "time                                                           \n",
              "2007-08-10 21:00:00+00:00  1.36939  0.00100  1.364967  1.337644\n",
              "2007-08-11 21:00:00+00:00  1.36883  0.00100  1.365587  1.337889\n",
              "2007-08-12 21:00:00+00:00  1.36131  0.00012  1.365985  1.338058\n",
              "2007-08-13 21:00:00+00:00  1.35331  0.00012  1.366197  1.338241\n",
              "2007-08-14 21:00:00+00:00  1.34425  0.00012  1.366272  1.338420\n",
              "...                            ...      ...       ...       ...\n",
              "2020-06-23 21:00:00+00:00  1.12507  0.00030  1.102243  1.103035\n",
              "2020-06-24 21:00:00+00:00  1.12180  0.00023  1.103000  1.103129\n",
              "2020-06-25 21:00:00+00:00  1.12184  0.00041  1.103689  1.103218\n",
              "2020-06-28 21:00:00+00:00  1.12424  0.00018  1.104448  1.103330\n",
              "2020-06-29 21:00:00+00:00  1.12331  0.00032  1.105199  1.103450\n",
              "\n",
              "[3807 rows x 4 columns]"
            ]
          },
          "metadata": {},
          "execution_count": 14
        }
      ],
      "source": [
        "data"
      ]
    },
    {
      "cell_type": "code",
      "execution_count": 15,
      "metadata": {
        "id": "jiCBYRTXL_2P"
      },
      "outputs": [],
      "source": [
        "position = 0 # we start with neutral position"
      ]
    },
    {
      "cell_type": "code",
      "execution_count": 16,
      "metadata": {
        "id": "QYq54zR7L_2P",
        "outputId": "4ee24bd1-011f-4943-e075-800f42f10d10",
        "colab": {
          "base_uri": "https://localhost:8080/"
        }
      },
      "outputs": [
        {
          "output_type": "execute_result",
          "data": {
            "text/plain": [
              "3807"
            ]
          },
          "metadata": {},
          "execution_count": 16
        }
      ],
      "source": [
        "len(data)"
      ]
    },
    {
      "cell_type": "code",
      "execution_count": 17,
      "metadata": {
        "id": "OUcV6oTiL_2Q",
        "outputId": "baf93410-41ba-4e6d-ed80-1aff179bc91a",
        "colab": {
          "base_uri": "https://localhost:8080/"
        }
      },
      "outputs": [
        {
          "output_type": "stream",
          "name": "stdout",
          "text": [
            "2007-08-10: Go Long  | Price: 1.36939 | Spread: 0.001\n",
            "2008-08-28: Go Short | Price: 1.46735 | Spread: 0.001\n",
            "2009-04-28: Go Long  | Price: 1.32745 | Spread: 0.0003\n",
            "2010-01-20: Go Short | Price: 1.40842 | Spread: 0.00018\n",
            "2010-09-27: Go Long  | Price: 1.35853 | Spread: 0.00018\n",
            "2011-01-12: Go Short | Price: 1.33638 | Spread: 0.00025\n",
            "2011-01-30: Go Long  | Price: 1.36937 | Spread: 0.00018\n",
            "2011-09-10: Go Short | Price: 1.35875 | Spread: 0.001\n",
            "2012-10-08: Go Long  | Price: 1.28848 | Spread: 0.00018\n",
            "2013-04-15: Go Short | Price: 1.31771 | Spread: 0.00032\n",
            "2013-08-04: Go Long  | Price: 1.32583 | Spread: 0.00018\n",
            "2014-07-06: Go Short | Price: 1.36049 | Spread: 0.00038\n",
            "2015-09-30: Go Long  | Price: 1.11942 | Spread: 0.00021\n",
            "2015-11-24: Go Short | Price: 1.06244 | Spread: 0.00023\n",
            "2016-03-22: Go Long  | Price: 1.11812 | Spread: 0.00018\n",
            "2016-10-23: Go Short | Price: 1.08815 | Spread: 0.00017\n",
            "2017-05-23: Go Long  | Price: 1.12187 | Spread: 0.0002\n",
            "2018-06-06: Go Short | Price: 1.1799 | Spread: 0.0006\n",
            "2020-06-25: Go Long  | Price: 1.12184 | Spread: 0.00041\n"
          ]
        }
      ],
      "source": [
        "for bar in range(len(data)):\n",
        "    if data[\"SMA_S\"].iloc[bar] > data[\"SMA_L\"].iloc[bar]:\n",
        "        if position in [0, -1]:\n",
        "            print(\"{}: Go Long  | Price: {} | Spread: {}\".format(data.index[bar].date(), data.price[bar], data.spread[bar]))\n",
        "            position = 1\n",
        "    elif data[\"SMA_S\"].iloc[bar] < data[\"SMA_L\"].iloc[bar]:\n",
        "        if position in [0, 1]:\n",
        "            print(\"{}: Go Short | Price: {} | Spread: {}\".format(data.index[bar].date(), data.price[bar], data.spread[bar]))\n",
        "            position = -1"
      ]
    },
    {
      "cell_type": "code",
      "execution_count": 17,
      "metadata": {
        "id": "t3NzJqToL_2Q"
      },
      "outputs": [],
      "source": [
        ""
      ]
    },
    {
      "cell_type": "markdown",
      "metadata": {
        "id": "o4vPXDwTL_2R"
      },
      "source": [
        "## Creating an Iterative Base Class (Part 1)"
      ]
    },
    {
      "cell_type": "code",
      "execution_count": 18,
      "metadata": {
        "id": "ADgKBaWqL_2R"
      },
      "outputs": [],
      "source": [
        "class IterativeBase():\n",
        "\n",
        "    def __init__(self, symbol, start, end, amount):\n",
        "        self.symbol = symbol\n",
        "        self.start = start\n",
        "        self.end = end\n",
        "        self.initial_balance = amount\n",
        "        self.current_balance = amount\n",
        "        self.get_data()\n",
        "\n",
        "    def get_data(self):\n",
        "        raw = pd.read_csv(\"detailed.csv\", parse_dates = [\"time\"], index_col = \"time\").dropna()\n",
        "        raw = raw.loc[self.start:self.end].copy()\n",
        "        raw[\"returns\"] = np.log(raw.price / raw.price.shift(1))\n",
        "        self.data = raw\n",
        "\n",
        "    def plot_data(self, cols = None):  \n",
        "        if cols is None:\n",
        "            cols = \"price\"\n",
        "        self.data[cols].plot(figsize = (12, 8), title = self.symbol)"
      ]
    },
    {
      "cell_type": "code",
      "execution_count": 19,
      "metadata": {
        "id": "80728uIaL_2R"
      },
      "outputs": [],
      "source": [
        "bc = IterativeBase(\"EURUSD\", \"2006-12-31\", \"2020-06-30\", 100000)"
      ]
    },
    {
      "cell_type": "code",
      "execution_count": 20,
      "metadata": {
        "id": "jjLhgyxCL_2S",
        "outputId": "ee2c429b-ea10-473a-d46c-ad09e37e94b7",
        "colab": {
          "base_uri": "https://localhost:8080/",
          "height": 684
        }
      },
      "outputs": [
        {
          "output_type": "execute_result",
          "data": {
            "text/html": [
              "\n",
              "  <div id=\"df-7badb526-fd88-4545-bc1c-77226b257e3a\">\n",
              "    <div class=\"colab-df-container\">\n",
              "      <div>\n",
              "<style scoped>\n",
              "    .dataframe tbody tr th:only-of-type {\n",
              "        vertical-align: middle;\n",
              "    }\n",
              "\n",
              "    .dataframe tbody tr th {\n",
              "        vertical-align: top;\n",
              "    }\n",
              "\n",
              "    .dataframe thead th {\n",
              "        text-align: right;\n",
              "    }\n",
              "</style>\n",
              "<table border=\"1\" class=\"dataframe\">\n",
              "  <thead>\n",
              "    <tr style=\"text-align: right;\">\n",
              "      <th></th>\n",
              "      <th>price</th>\n",
              "      <th>spread</th>\n",
              "      <th>returns</th>\n",
              "    </tr>\n",
              "    <tr>\n",
              "      <th>time</th>\n",
              "      <th></th>\n",
              "      <th></th>\n",
              "      <th></th>\n",
              "    </tr>\n",
              "  </thead>\n",
              "  <tbody>\n",
              "    <tr>\n",
              "      <th>2006-12-31 22:00:00+00:00</th>\n",
              "      <td>1.31985</td>\n",
              "      <td>0.00100</td>\n",
              "      <td>NaN</td>\n",
              "    </tr>\n",
              "    <tr>\n",
              "      <th>2007-01-01 22:00:00+00:00</th>\n",
              "      <td>1.32734</td>\n",
              "      <td>0.00015</td>\n",
              "      <td>0.005659</td>\n",
              "    </tr>\n",
              "    <tr>\n",
              "      <th>2007-01-02 22:00:00+00:00</th>\n",
              "      <td>1.31688</td>\n",
              "      <td>0.00015</td>\n",
              "      <td>-0.007912</td>\n",
              "    </tr>\n",
              "    <tr>\n",
              "      <th>2007-01-03 22:00:00+00:00</th>\n",
              "      <td>1.30845</td>\n",
              "      <td>0.00015</td>\n",
              "      <td>-0.006422</td>\n",
              "    </tr>\n",
              "    <tr>\n",
              "      <th>2007-01-04 22:00:00+00:00</th>\n",
              "      <td>1.30025</td>\n",
              "      <td>0.00100</td>\n",
              "      <td>-0.006287</td>\n",
              "    </tr>\n",
              "    <tr>\n",
              "      <th>...</th>\n",
              "      <td>...</td>\n",
              "      <td>...</td>\n",
              "      <td>...</td>\n",
              "    </tr>\n",
              "    <tr>\n",
              "      <th>2020-06-23 21:00:00+00:00</th>\n",
              "      <td>1.12507</td>\n",
              "      <td>0.00030</td>\n",
              "      <td>-0.005151</td>\n",
              "    </tr>\n",
              "    <tr>\n",
              "      <th>2020-06-24 21:00:00+00:00</th>\n",
              "      <td>1.12180</td>\n",
              "      <td>0.00023</td>\n",
              "      <td>-0.002911</td>\n",
              "    </tr>\n",
              "    <tr>\n",
              "      <th>2020-06-25 21:00:00+00:00</th>\n",
              "      <td>1.12184</td>\n",
              "      <td>0.00041</td>\n",
              "      <td>0.000036</td>\n",
              "    </tr>\n",
              "    <tr>\n",
              "      <th>2020-06-28 21:00:00+00:00</th>\n",
              "      <td>1.12424</td>\n",
              "      <td>0.00018</td>\n",
              "      <td>0.002137</td>\n",
              "    </tr>\n",
              "    <tr>\n",
              "      <th>2020-06-29 21:00:00+00:00</th>\n",
              "      <td>1.12331</td>\n",
              "      <td>0.00032</td>\n",
              "      <td>-0.000828</td>\n",
              "    </tr>\n",
              "  </tbody>\n",
              "</table>\n",
              "<p>4006 rows × 3 columns</p>\n",
              "</div>\n",
              "      <button class=\"colab-df-convert\" onclick=\"convertToInteractive('df-7badb526-fd88-4545-bc1c-77226b257e3a')\"\n",
              "              title=\"Convert this dataframe to an interactive table.\"\n",
              "              style=\"display:none;\">\n",
              "        \n",
              "  <svg xmlns=\"http://www.w3.org/2000/svg\" height=\"24px\"viewBox=\"0 0 24 24\"\n",
              "       width=\"24px\">\n",
              "    <path d=\"M0 0h24v24H0V0z\" fill=\"none\"/>\n",
              "    <path d=\"M18.56 5.44l.94 2.06.94-2.06 2.06-.94-2.06-.94-.94-2.06-.94 2.06-2.06.94zm-11 1L8.5 8.5l.94-2.06 2.06-.94-2.06-.94L8.5 2.5l-.94 2.06-2.06.94zm10 10l.94 2.06.94-2.06 2.06-.94-2.06-.94-.94-2.06-.94 2.06-2.06.94z\"/><path d=\"M17.41 7.96l-1.37-1.37c-.4-.4-.92-.59-1.43-.59-.52 0-1.04.2-1.43.59L10.3 9.45l-7.72 7.72c-.78.78-.78 2.05 0 2.83L4 21.41c.39.39.9.59 1.41.59.51 0 1.02-.2 1.41-.59l7.78-7.78 2.81-2.81c.8-.78.8-2.07 0-2.86zM5.41 20L4 18.59l7.72-7.72 1.47 1.35L5.41 20z\"/>\n",
              "  </svg>\n",
              "      </button>\n",
              "      \n",
              "  <style>\n",
              "    .colab-df-container {\n",
              "      display:flex;\n",
              "      flex-wrap:wrap;\n",
              "      gap: 12px;\n",
              "    }\n",
              "\n",
              "    .colab-df-convert {\n",
              "      background-color: #E8F0FE;\n",
              "      border: none;\n",
              "      border-radius: 50%;\n",
              "      cursor: pointer;\n",
              "      display: none;\n",
              "      fill: #1967D2;\n",
              "      height: 32px;\n",
              "      padding: 0 0 0 0;\n",
              "      width: 32px;\n",
              "    }\n",
              "\n",
              "    .colab-df-convert:hover {\n",
              "      background-color: #E2EBFA;\n",
              "      box-shadow: 0px 1px 2px rgba(60, 64, 67, 0.3), 0px 1px 3px 1px rgba(60, 64, 67, 0.15);\n",
              "      fill: #174EA6;\n",
              "    }\n",
              "\n",
              "    [theme=dark] .colab-df-convert {\n",
              "      background-color: #3B4455;\n",
              "      fill: #D2E3FC;\n",
              "    }\n",
              "\n",
              "    [theme=dark] .colab-df-convert:hover {\n",
              "      background-color: #434B5C;\n",
              "      box-shadow: 0px 1px 3px 1px rgba(0, 0, 0, 0.15);\n",
              "      filter: drop-shadow(0px 1px 2px rgba(0, 0, 0, 0.3));\n",
              "      fill: #FFFFFF;\n",
              "    }\n",
              "  </style>\n",
              "\n",
              "      <script>\n",
              "        const buttonEl =\n",
              "          document.querySelector('#df-7badb526-fd88-4545-bc1c-77226b257e3a button.colab-df-convert');\n",
              "        buttonEl.style.display =\n",
              "          google.colab.kernel.accessAllowed ? 'block' : 'none';\n",
              "\n",
              "        async function convertToInteractive(key) {\n",
              "          const element = document.querySelector('#df-7badb526-fd88-4545-bc1c-77226b257e3a');\n",
              "          const dataTable =\n",
              "            await google.colab.kernel.invokeFunction('convertToInteractive',\n",
              "                                                     [key], {});\n",
              "          if (!dataTable) return;\n",
              "\n",
              "          const docLinkHtml = 'Like what you see? Visit the ' +\n",
              "            '<a target=\"_blank\" href=https://colab.research.google.com/notebooks/data_table.ipynb>data table notebook</a>'\n",
              "            + ' to learn more about interactive tables.';\n",
              "          element.innerHTML = '';\n",
              "          dataTable['output_type'] = 'display_data';\n",
              "          await google.colab.output.renderOutput(dataTable, element);\n",
              "          const docLink = document.createElement('div');\n",
              "          docLink.innerHTML = docLinkHtml;\n",
              "          element.appendChild(docLink);\n",
              "        }\n",
              "      </script>\n",
              "    </div>\n",
              "  </div>\n",
              "  "
            ],
            "text/plain": [
              "                             price   spread   returns\n",
              "time                                                 \n",
              "2006-12-31 22:00:00+00:00  1.31985  0.00100       NaN\n",
              "2007-01-01 22:00:00+00:00  1.32734  0.00015  0.005659\n",
              "2007-01-02 22:00:00+00:00  1.31688  0.00015 -0.007912\n",
              "2007-01-03 22:00:00+00:00  1.30845  0.00015 -0.006422\n",
              "2007-01-04 22:00:00+00:00  1.30025  0.00100 -0.006287\n",
              "...                            ...      ...       ...\n",
              "2020-06-23 21:00:00+00:00  1.12507  0.00030 -0.005151\n",
              "2020-06-24 21:00:00+00:00  1.12180  0.00023 -0.002911\n",
              "2020-06-25 21:00:00+00:00  1.12184  0.00041  0.000036\n",
              "2020-06-28 21:00:00+00:00  1.12424  0.00018  0.002137\n",
              "2020-06-29 21:00:00+00:00  1.12331  0.00032 -0.000828\n",
              "\n",
              "[4006 rows x 3 columns]"
            ]
          },
          "metadata": {},
          "execution_count": 20
        }
      ],
      "source": [
        "bc.data"
      ]
    },
    {
      "cell_type": "code",
      "execution_count": 21,
      "metadata": {
        "id": "lvKqZVRNL_2S",
        "outputId": "b314decf-5abc-4b02-d3f5-4e89f90379c1",
        "colab": {
          "base_uri": "https://localhost:8080/",
          "height": 54
        }
      },
      "outputs": [
        {
          "output_type": "display_data",
          "data": {
            "image/png": "[encoded data removed]",
            "text/plain": [
              "<Figure size 864x576 with 1 Axes>"
            ]
          },
          "metadata": {
            "needs_background": "light"
          }
        }
      ],
      "source": [
        "bc.plot_data()"
      ]
    },
    {
      "cell_type": "code",
      "execution_count": 22,
      "metadata": {
        "id": "tz5wn6xUL_2S",
        "outputId": "4a07c1b6-bdaf-40ee-e55d-bd79873f6db0",
        "colab": {
          "base_uri": "https://localhost:8080/",
          "height": 54
        }
      },
      "outputs": [
        {
          "output_type": "display_data",
          "data": {
            "image/png": "[encoded data removed]",
            "text/plain": [
              "<Figure size 864x576 with 1 Axes>"
            ]
          },
          "metadata": {
            "needs_background": "light"
          }
        }
      ],
      "source": [
        "bc.plot_data(cols = \"spread\")"
      ]
    },
    {
      "cell_type": "code",
      "execution_count": 22,
      "metadata": {
        "id": "hBi_VGQwL_2S"
      },
      "outputs": [],
      "source": [
        ""
      ]
    },
    {
      "cell_type": "markdown",
      "metadata": {
        "id": "M3YEM9RHL_2T"
      },
      "source": [
        "## Creating an Iterative Base Class (Part 2)"
      ]
    },
    {
      "cell_type": "code",
      "execution_count": 23,
      "metadata": {
        "id": "N8m0ty2EL_2T"
      },
      "outputs": [],
      "source": [
        "class IterativeBase():\n",
        "\n",
        "    def __init__(self, symbol, start, end, amount):\n",
        "        self.symbol = symbol\n",
        "        self.start = start\n",
        "        self.end = end\n",
        "        self.initial_balance = amount\n",
        "        self.current_balance = amount\n",
        "        self.get_data()\n",
        "\n",
        "    def get_data(self):\n",
        "        raw = pd.read_csv(\"detailed.csv\", parse_dates = [\"time\"], index_col = \"time\").dropna()\n",
        "        raw = raw.loc[self.start:self.end]\n",
        "        raw[\"returns\"] = np.log(raw.price / raw.price.shift(1))\n",
        "        self.data = raw\n",
        "\n",
        "    def plot_data(self, cols = None):  \n",
        "        if cols is None:\n",
        "            cols = \"price\"\n",
        "        self.data[cols].plot(figsize = (12, 8), title = self.symbol)\n",
        "    \n",
        "    def get_values(self, bar):\n",
        "        date = str(self.data.index[bar].date())\n",
        "        price = round(self.data.price.iloc[bar], 5)\n",
        "        spread = round(self.data.spread.iloc[bar], 5)\n",
        "        return date, price, spread"
      ]
    },
    {
      "cell_type": "code",
      "execution_count": 24,
      "metadata": {
        "id": "Q0gGBDZzL_2U"
      },
      "outputs": [],
      "source": [
        "bc = IterativeBase(\"EURUSD\", \"2006-12-31\", \"2020-06-30\", 100000)"
      ]
    },
    {
      "cell_type": "code",
      "execution_count": 25,
      "metadata": {
        "id": "QxYJavh1L_2U",
        "outputId": "66f7ddc1-67f8-45d9-cae8-547154639d07",
        "colab": {
          "base_uri": "https://localhost:8080/",
          "height": 684
        }
      },
      "outputs": [
        {
          "output_type": "execute_result",
          "data": {
            "text/html": [
              "\n",
              "  <div id=\"df-c5cb0b47-0c54-4e30-8a4f-ddea1eb57555\">\n",
              "    <div class=\"colab-df-container\">\n",
              "      <div>\n",
              "<style scoped>\n",
              "    .dataframe tbody tr th:only-of-type {\n",
              "        vertical-align: middle;\n",
              "    }\n",
              "\n",
              "    .dataframe tbody tr th {\n",
              "        vertical-align: top;\n",
              "    }\n",
              "\n",
              "    .dataframe thead th {\n",
              "        text-align: right;\n",
              "    }\n",
              "</style>\n",
              "<table border=\"1\" class=\"dataframe\">\n",
              "  <thead>\n",
              "    <tr style=\"text-align: right;\">\n",
              "      <th></th>\n",
              "      <th>price</th>\n",
              "      <th>spread</th>\n",
              "      <th>returns</th>\n",
              "    </tr>\n",
              "    <tr>\n",
              "      <th>time</th>\n",
              "      <th></th>\n",
              "      <th></th>\n",
              "      <th></th>\n",
              "    </tr>\n",
              "  </thead>\n",
              "  <tbody>\n",
              "    <tr>\n",
              "      <th>2006-12-31 22:00:00+00:00</th>\n",
              "      <td>1.31985</td>\n",
              "      <td>0.00100</td>\n",
              "      <td>NaN</td>\n",
              "    </tr>\n",
              "    <tr>\n",
              "      <th>2007-01-01 22:00:00+00:00</th>\n",
              "      <td>1.32734</td>\n",
              "      <td>0.00015</td>\n",
              "      <td>0.005659</td>\n",
              "    </tr>\n",
              "    <tr>\n",
              "      <th>2007-01-02 22:00:00+00:00</th>\n",
              "      <td>1.31688</td>\n",
              "      <td>0.00015</td>\n",
              "      <td>-0.007912</td>\n",
              "    </tr>\n",
              "    <tr>\n",
              "      <th>2007-01-03 22:00:00+00:00</th>\n",
              "      <td>1.30845</td>\n",
              "      <td>0.00015</td>\n",
              "      <td>-0.006422</td>\n",
              "    </tr>\n",
              "    <tr>\n",
              "      <th>2007-01-04 22:00:00+00:00</th>\n",
              "      <td>1.30025</td>\n",
              "      <td>0.00100</td>\n",
              "      <td>-0.006287</td>\n",
              "    </tr>\n",
              "    <tr>\n",
              "      <th>...</th>\n",
              "      <td>...</td>\n",
              "      <td>...</td>\n",
              "      <td>...</td>\n",
              "    </tr>\n",
              "    <tr>\n",
              "      <th>2020-06-23 21:00:00+00:00</th>\n",
              "      <td>1.12507</td>\n",
              "      <td>0.00030</td>\n",
              "      <td>-0.005151</td>\n",
              "    </tr>\n",
              "    <tr>\n",
              "      <th>2020-06-24 21:00:00+00:00</th>\n",
              "      <td>1.12180</td>\n",
              "      <td>0.00023</td>\n",
              "      <td>-0.002911</td>\n",
              "    </tr>\n",
              "    <tr>\n",
              "      <th>2020-06-25 21:00:00+00:00</th>\n",
              "      <td>1.12184</td>\n",
              "      <td>0.00041</td>\n",
              "      <td>0.000036</td>\n",
              "    </tr>\n",
              "    <tr>\n",
              "      <th>2020-06-28 21:00:00+00:00</th>\n",
              "      <td>1.12424</td>\n",
              "      <td>0.00018</td>\n",
              "      <td>0.002137</td>\n",
              "    </tr>\n",
              "    <tr>\n",
              "      <th>2020-06-29 21:00:00+00:00</th>\n",
              "      <td>1.12331</td>\n",
              "      <td>0.00032</td>\n",
              "      <td>-0.000828</td>\n",
              "    </tr>\n",
              "  </tbody>\n",
              "</table>\n",
              "<p>4006 rows × 3 columns</p>\n",
              "</div>\n",
              "      <button class=\"colab-df-convert\" onclick=\"convertToInteractive('df-c5cb0b47-0c54-4e30-8a4f-ddea1eb57555')\"\n",
              "              title=\"Convert this dataframe to an interactive table.\"\n",
              "              style=\"display:none;\">\n",
              "        \n",
              "  <svg xmlns=\"http://www.w3.org/2000/svg\" height=\"24px\"viewBox=\"0 0 24 24\"\n",
              "       width=\"24px\">\n",
              "    <path d=\"M0 0h24v24H0V0z\" fill=\"none\"/>\n",
              "    <path d=\"M18.56 5.44l.94 2.06.94-2.06 2.06-.94-2.06-.94-.94-2.06-.94 2.06-2.06.94zm-11 1L8.5 8.5l.94-2.06 2.06-.94-2.06-.94L8.5 2.5l-.94 2.06-2.06.94zm10 10l.94 2.06.94-2.06 2.06-.94-2.06-.94-.94-2.06-.94 2.06-2.06.94z\"/><path d=\"M17.41 7.96l-1.37-1.37c-.4-.4-.92-.59-1.43-.59-.52 0-1.04.2-1.43.59L10.3 9.45l-7.72 7.72c-.78.78-.78 2.05 0 2.83L4 21.41c.39.39.9.59 1.41.59.51 0 1.02-.2 1.41-.59l7.78-7.78 2.81-2.81c.8-.78.8-2.07 0-2.86zM5.41 20L4 18.59l7.72-7.72 1.47 1.35L5.41 20z\"/>\n",
              "  </svg>\n",
              "      </button>\n",
              "      \n",
              "  <style>\n",
              "    .colab-df-container {\n",
              "      display:flex;\n",
              "      flex-wrap:wrap;\n",
              "      gap: 12px;\n",
              "    }\n",
              "\n",
              "    .colab-df-convert {\n",
              "      background-color: #E8F0FE;\n",
              "      border: none;\n",
              "      border-radius: 50%;\n",
              "      cursor: pointer;\n",
              "      display: none;\n",
              "      fill: #1967D2;\n",
              "      height: 32px;\n",
              "      padding: 0 0 0 0;\n",
              "      width: 32px;\n",
              "    }\n",
              "\n",
              "    .colab-df-convert:hover {\n",
              "      background-color: #E2EBFA;\n",
              "      box-shadow: 0px 1px 2px rgba(60, 64, 67, 0.3), 0px 1px 3px 1px rgba(60, 64, 67, 0.15);\n",
              "      fill: #174EA6;\n",
              "    }\n",
              "\n",
              "    [theme=dark] .colab-df-convert {\n",
              "      background-color: #3B4455;\n",
              "      fill: #D2E3FC;\n",
              "    }\n",
              "\n",
              "    [theme=dark] .colab-df-convert:hover {\n",
              "      background-color: #434B5C;\n",
              "      box-shadow: 0px 1px 3px 1px rgba(0, 0, 0, 0.15);\n",
              "      filter: drop-shadow(0px 1px 2px rgba(0, 0, 0, 0.3));\n",
              "      fill: #FFFFFF;\n",
              "    }\n",
              "  </style>\n",
              "\n",
              "      <script>\n",
              "        const buttonEl =\n",
              "          document.querySelector('#df-c5cb0b47-0c54-4e30-8a4f-ddea1eb57555 button.colab-df-convert');\n",
              "        buttonEl.style.display =\n",
              "          google.colab.kernel.accessAllowed ? 'block' : 'none';\n",
              "\n",
              "        async function convertToInteractive(key) {\n",
              "          const element = document.querySelector('#df-c5cb0b47-0c54-4e30-8a4f-ddea1eb57555');\n",
              "          const dataTable =\n",
              "            await google.colab.kernel.invokeFunction('convertToInteractive',\n",
              "                                                     [key], {});\n",
              "          if (!dataTable) return;\n",
              "\n",
              "          const docLinkHtml = 'Like what you see? Visit the ' +\n",
              "            '<a target=\"_blank\" href=https://colab.research.google.com/notebooks/data_table.ipynb>data table notebook</a>'\n",
              "            + ' to learn more about interactive tables.';\n",
              "          element.innerHTML = '';\n",
              "          dataTable['output_type'] = 'display_data';\n",
              "          await google.colab.output.renderOutput(dataTable, element);\n",
              "          const docLink = document.createElement('div');\n",
              "          docLink.innerHTML = docLinkHtml;\n",
              "          element.appendChild(docLink);\n",
              "        }\n",
              "      </script>\n",
              "    </div>\n",
              "  </div>\n",
              "  "
            ],
            "text/plain": [
              "                             price   spread   returns\n",
              "time                                                 \n",
              "2006-12-31 22:00:00+00:00  1.31985  0.00100       NaN\n",
              "2007-01-01 22:00:00+00:00  1.32734  0.00015  0.005659\n",
              "2007-01-02 22:00:00+00:00  1.31688  0.00015 -0.007912\n",
              "2007-01-03 22:00:00+00:00  1.30845  0.00015 -0.006422\n",
              "2007-01-04 22:00:00+00:00  1.30025  0.00100 -0.006287\n",
              "...                            ...      ...       ...\n",
              "2020-06-23 21:00:00+00:00  1.12507  0.00030 -0.005151\n",
              "2020-06-24 21:00:00+00:00  1.12180  0.00023 -0.002911\n",
              "2020-06-25 21:00:00+00:00  1.12184  0.00041  0.000036\n",
              "2020-06-28 21:00:00+00:00  1.12424  0.00018  0.002137\n",
              "2020-06-29 21:00:00+00:00  1.12331  0.00032 -0.000828\n",
              "\n",
              "[4006 rows x 3 columns]"
            ]
          },
          "metadata": {},
          "execution_count": 25
        }
      ],
      "source": [
        "bc.data"
      ]
    },
    {
      "cell_type": "code",
      "execution_count": 26,
      "metadata": {
        "id": "0Eng1oUfL_2V",
        "outputId": "976a91ad-7669-48be-c371-16079f643325",
        "colab": {
          "base_uri": "https://localhost:8080/"
        }
      },
      "outputs": [
        {
          "output_type": "execute_result",
          "data": {
            "text/plain": [
              "('2006-12-31', 1.31985, 0.001)"
            ]
          },
          "metadata": {},
          "execution_count": 26
        }
      ],
      "source": [
        "bc.get_values(0)"
      ]
    },
    {
      "cell_type": "code",
      "execution_count": 27,
      "metadata": {
        "id": "Cr88LToVL_2V",
        "outputId": "4cb6076e-cb28-471d-9ca7-aba1fbedb8b5",
        "colab": {
          "base_uri": "https://localhost:8080/"
        }
      },
      "outputs": [
        {
          "output_type": "execute_result",
          "data": {
            "text/plain": [
              "('2007-04-22', 1.35759, 0.00012)"
            ]
          },
          "metadata": {},
          "execution_count": 27
        }
      ],
      "source": [
        "bc.get_values(100)"
      ]
    },
    {
      "cell_type": "code",
      "execution_count": 28,
      "metadata": {
        "id": "ZfREb1uWL_2W",
        "outputId": "d259b85c-732a-425f-e97d-457124c60aa2",
        "colab": {
          "base_uri": "https://localhost:8080/"
        }
      },
      "outputs": [
        {
          "output_type": "execute_result",
          "data": {
            "text/plain": [
              "('2020-06-29', 1.12331, 0.00032)"
            ]
          },
          "metadata": {},
          "execution_count": 28
        }
      ],
      "source": [
        "bc.get_values(-1)"
      ]
    },
    {
      "cell_type": "code",
      "execution_count": 28,
      "metadata": {
        "id": "rV1bPZGRL_2W"
      },
      "outputs": [],
      "source": [
        ""
      ]
    },
    {
      "cell_type": "markdown",
      "metadata": {
        "id": "I5mOth6_L_2X"
      },
      "source": [
        "## Creating an Iterative Base Class (Part 3)"
      ]
    },
    {
      "cell_type": "code",
      "execution_count": 29,
      "metadata": {
        "id": "LTvHEhlnL_2X"
      },
      "outputs": [],
      "source": [
        "class IterativeBase():\n",
        "\n",
        "    def __init__(self, symbol, start, end, amount):\n",
        "        self.symbol = symbol\n",
        "        self.start = start\n",
        "        self.end = end\n",
        "        self.initial_balance = amount\n",
        "        self.current_balance = amount\n",
        "        self.get_data()\n",
        "\n",
        "    def get_data(self):\n",
        "        raw = pd.read_csv(\"detailed.csv\", parse_dates = [\"time\"], index_col = \"time\").dropna()\n",
        "        raw = raw.loc[self.start:self.end]\n",
        "        raw[\"returns\"] = np.log(raw.price / raw.price.shift(1))\n",
        "        self.data = raw\n",
        "\n",
        "    def plot_data(self, cols = None):  \n",
        "        if cols is None:\n",
        "            cols = \"price\"\n",
        "        self.data[cols].plot(figsize = (12, 8), title = self.symbol)\n",
        "    \n",
        "    def get_values(self, bar):\n",
        "        date = str(self.data.index[bar].date())\n",
        "        price = round(self.data.price.iloc[bar], 5)\n",
        "        spread = round(self.data.spread.iloc[bar], 5)\n",
        "        return date, price, spread\n",
        "    \n",
        "    def print_current_balance(self, bar):\n",
        "        date, price, spread = self.get_values(bar)\n",
        "        print(\"{} | Current Balance: {}\".format(date, round(self.current_balance, 2)))"
      ]
    },
    {
      "cell_type": "code",
      "execution_count": 30,
      "metadata": {
        "id": "JBJoVhB-L_2Y"
      },
      "outputs": [],
      "source": [
        "bc = IterativeBase(\"EURUSD\", \"2006-12-31\", \"2020-06-30\", 100000)"
      ]
    },
    {
      "cell_type": "code",
      "execution_count": 31,
      "metadata": {
        "id": "YO2Df4NUL_2Y",
        "outputId": "e23d4900-0496-44ab-c6dc-1ee01fcd43a3",
        "colab": {
          "base_uri": "https://localhost:8080/",
          "height": 684
        }
      },
      "outputs": [
        {
          "output_type": "execute_result",
          "data": {
            "text/html": [
              "\n",
              "  <div id=\"df-a2de9190-f2b2-4639-b10c-19f85fc36d34\">\n",
              "    <div class=\"colab-df-container\">\n",
              "      <div>\n",
              "<style scoped>\n",
              "    .dataframe tbody tr th:only-of-type {\n",
              "        vertical-align: middle;\n",
              "    }\n",
              "\n",
              "    .dataframe tbody tr th {\n",
              "        vertical-align: top;\n",
              "    }\n",
              "\n",
              "    .dataframe thead th {\n",
              "        text-align: right;\n",
              "    }\n",
              "</style>\n",
              "<table border=\"1\" class=\"dataframe\">\n",
              "  <thead>\n",
              "    <tr style=\"text-align: right;\">\n",
              "      <th></th>\n",
              "      <th>price</th>\n",
              "      <th>spread</th>\n",
              "      <th>returns</th>\n",
              "    </tr>\n",
              "    <tr>\n",
              "      <th>time</th>\n",
              "      <th></th>\n",
              "      <th></th>\n",
              "      <th></th>\n",
              "    </tr>\n",
              "  </thead>\n",
              "  <tbody>\n",
              "    <tr>\n",
              "      <th>2006-12-31 22:00:00+00:00</th>\n",
              "      <td>1.31985</td>\n",
              "      <td>0.00100</td>\n",
              "      <td>NaN</td>\n",
              "    </tr>\n",
              "    <tr>\n",
              "      <th>2007-01-01 22:00:00+00:00</th>\n",
              "      <td>1.32734</td>\n",
              "      <td>0.00015</td>\n",
              "      <td>0.005659</td>\n",
              "    </tr>\n",
              "    <tr>\n",
              "      <th>2007-01-02 22:00:00+00:00</th>\n",
              "      <td>1.31688</td>\n",
              "      <td>0.00015</td>\n",
              "      <td>-0.007912</td>\n",
              "    </tr>\n",
              "    <tr>\n",
              "      <th>2007-01-03 22:00:00+00:00</th>\n",
              "      <td>1.30845</td>\n",
              "      <td>0.00015</td>\n",
              "      <td>-0.006422</td>\n",
              "    </tr>\n",
              "    <tr>\n",
              "      <th>2007-01-04 22:00:00+00:00</th>\n",
              "      <td>1.30025</td>\n",
              "      <td>0.00100</td>\n",
              "      <td>-0.006287</td>\n",
              "    </tr>\n",
              "    <tr>\n",
              "      <th>...</th>\n",
              "      <td>...</td>\n",
              "      <td>...</td>\n",
              "      <td>...</td>\n",
              "    </tr>\n",
              "    <tr>\n",
              "      <th>2020-06-23 21:00:00+00:00</th>\n",
              "      <td>1.12507</td>\n",
              "      <td>0.00030</td>\n",
              "      <td>-0.005151</td>\n",
              "    </tr>\n",
              "    <tr>\n",
              "      <th>2020-06-24 21:00:00+00:00</th>\n",
              "      <td>1.12180</td>\n",
              "      <td>0.00023</td>\n",
              "      <td>-0.002911</td>\n",
              "    </tr>\n",
              "    <tr>\n",
              "      <th>2020-06-25 21:00:00+00:00</th>\n",
              "      <td>1.12184</td>\n",
              "      <td>0.00041</td>\n",
              "      <td>0.000036</td>\n",
              "    </tr>\n",
              "    <tr>\n",
              "      <th>2020-06-28 21:00:00+00:00</th>\n",
              "      <td>1.12424</td>\n",
              "      <td>0.00018</td>\n",
              "      <td>0.002137</td>\n",
              "    </tr>\n",
              "    <tr>\n",
              "      <th>2020-06-29 21:00:00+00:00</th>\n",
              "      <td>1.12331</td>\n",
              "      <td>0.00032</td>\n",
              "      <td>-0.000828</td>\n",
              "    </tr>\n",
              "  </tbody>\n",
              "</table>\n",
              "<p>4006 rows × 3 columns</p>\n",
              "</div>\n",
              "      <button class=\"colab-df-convert\" onclick=\"convertToInteractive('df-a2de9190-f2b2-4639-b10c-19f85fc36d34')\"\n",
              "              title=\"Convert this dataframe to an interactive table.\"\n",
              "              style=\"display:none;\">\n",
              "        \n",
              "  <svg xmlns=\"http://www.w3.org/2000/svg\" height=\"24px\"viewBox=\"0 0 24 24\"\n",
              "       width=\"24px\">\n",
              "    <path d=\"M0 0h24v24H0V0z\" fill=\"none\"/>\n",
              "    <path d=\"M18.56 5.44l.94 2.06.94-2.06 2.06-.94-2.06-.94-.94-2.06-.94 2.06-2.06.94zm-11 1L8.5 8.5l.94-2.06 2.06-.94-2.06-.94L8.5 2.5l-.94 2.06-2.06.94zm10 10l.94 2.06.94-2.06 2.06-.94-2.06-.94-.94-2.06-.94 2.06-2.06.94z\"/><path d=\"M17.41 7.96l-1.37-1.37c-.4-.4-.92-.59-1.43-.59-.52 0-1.04.2-1.43.59L10.3 9.45l-7.72 7.72c-.78.78-.78 2.05 0 2.83L4 21.41c.39.39.9.59 1.41.59.51 0 1.02-.2 1.41-.59l7.78-7.78 2.81-2.81c.8-.78.8-2.07 0-2.86zM5.41 20L4 18.59l7.72-7.72 1.47 1.35L5.41 20z\"/>\n",
              "  </svg>\n",
              "      </button>\n",
              "      \n",
              "  <style>\n",
              "    .colab-df-container {\n",
              "      display:flex;\n",
              "      flex-wrap:wrap;\n",
              "      gap: 12px;\n",
              "    }\n",
              "\n",
              "    .colab-df-convert {\n",
              "      background-color: #E8F0FE;\n",
              "      border: none;\n",
              "      border-radius: 50%;\n",
              "      cursor: pointer;\n",
              "      display: none;\n",
              "      fill: #1967D2;\n",
              "      height: 32px;\n",
              "      padding: 0 0 0 0;\n",
              "      width: 32px;\n",
              "    }\n",
              "\n",
              "    .colab-df-convert:hover {\n",
              "      background-color: #E2EBFA;\n",
              "      box-shadow: 0px 1px 2px rgba(60, 64, 67, 0.3), 0px 1px 3px 1px rgba(60, 64, 67, 0.15);\n",
              "      fill: #174EA6;\n",
              "    }\n",
              "\n",
              "    [theme=dark] .colab-df-convert {\n",
              "      background-color: #3B4455;\n",
              "      fill: #D2E3FC;\n",
              "    }\n",
              "\n",
              "    [theme=dark] .colab-df-convert:hover {\n",
              "      background-color: #434B5C;\n",
              "      box-shadow: 0px 1px 3px 1px rgba(0, 0, 0, 0.15);\n",
              "      filter: drop-shadow(0px 1px 2px rgba(0, 0, 0, 0.3));\n",
              "      fill: #FFFFFF;\n",
              "    }\n",
              "  </style>\n",
              "\n",
              "      <script>\n",
              "        const buttonEl =\n",
              "          document.querySelector('#df-a2de9190-f2b2-4639-b10c-19f85fc36d34 button.colab-df-convert');\n",
              "        buttonEl.style.display =\n",
              "          google.colab.kernel.accessAllowed ? 'block' : 'none';\n",
              "\n",
              "        async function convertToInteractive(key) {\n",
              "          const element = document.querySelector('#df-a2de9190-f2b2-4639-b10c-19f85fc36d34');\n",
              "          const dataTable =\n",
              "            await google.colab.kernel.invokeFunction('convertToInteractive',\n",
              "                                                     [key], {});\n",
              "          if (!dataTable) return;\n",
              "\n",
              "          const docLinkHtml = 'Like what you see? Visit the ' +\n",
              "            '<a target=\"_blank\" href=https://colab.research.google.com/notebooks/data_table.ipynb>data table notebook</a>'\n",
              "            + ' to learn more about interactive tables.';\n",
              "          element.innerHTML = '';\n",
              "          dataTable['output_type'] = 'display_data';\n",
              "          await google.colab.output.renderOutput(dataTable, element);\n",
              "          const docLink = document.createElement('div');\n",
              "          docLink.innerHTML = docLinkHtml;\n",
              "          element.appendChild(docLink);\n",
              "        }\n",
              "      </script>\n",
              "    </div>\n",
              "  </div>\n",
              "  "
            ],
            "text/plain": [
              "                             price   spread   returns\n",
              "time                                                 \n",
              "2006-12-31 22:00:00+00:00  1.31985  0.00100       NaN\n",
              "2007-01-01 22:00:00+00:00  1.32734  0.00015  0.005659\n",
              "2007-01-02 22:00:00+00:00  1.31688  0.00015 -0.007912\n",
              "2007-01-03 22:00:00+00:00  1.30845  0.00015 -0.006422\n",
              "2007-01-04 22:00:00+00:00  1.30025  0.00100 -0.006287\n",
              "...                            ...      ...       ...\n",
              "2020-06-23 21:00:00+00:00  1.12507  0.00030 -0.005151\n",
              "2020-06-24 21:00:00+00:00  1.12180  0.00023 -0.002911\n",
              "2020-06-25 21:00:00+00:00  1.12184  0.00041  0.000036\n",
              "2020-06-28 21:00:00+00:00  1.12424  0.00018  0.002137\n",
              "2020-06-29 21:00:00+00:00  1.12331  0.00032 -0.000828\n",
              "\n",
              "[4006 rows x 3 columns]"
            ]
          },
          "metadata": {},
          "execution_count": 31
        }
      ],
      "source": [
        "bc.data"
      ]
    },
    {
      "cell_type": "code",
      "execution_count": 32,
      "metadata": {
        "id": "2ZKPlv36L_2Z",
        "outputId": "ccd5c7b2-9d9d-4dc2-b44b-e3e566c4db8d",
        "colab": {
          "base_uri": "https://localhost:8080/"
        }
      },
      "outputs": [
        {
          "output_type": "stream",
          "name": "stdout",
          "text": [
            "2006-12-31 | Current Balance: 100000\n"
          ]
        }
      ],
      "source": [
        "bc.print_current_balance(0)"
      ]
    },
    {
      "cell_type": "code",
      "execution_count": 33,
      "metadata": {
        "id": "ii3L8kD2L_2Z",
        "outputId": "d6fee272-0587-43bd-9e23-2341ad7ce5ae",
        "colab": {
          "base_uri": "https://localhost:8080/"
        }
      },
      "outputs": [
        {
          "output_type": "stream",
          "name": "stdout",
          "text": [
            "2007-04-22 | Current Balance: 100000\n"
          ]
        }
      ],
      "source": [
        "bc.print_current_balance(100)"
      ]
    },
    {
      "cell_type": "code",
      "execution_count": 34,
      "metadata": {
        "id": "A-hgwqJ2L_2a",
        "outputId": "5566001c-0538-4518-e695-fe2da0b2888b",
        "colab": {
          "base_uri": "https://localhost:8080/"
        }
      },
      "outputs": [
        {
          "output_type": "stream",
          "name": "stdout",
          "text": [
            "2020-06-29 | Current Balance: 100000\n"
          ]
        }
      ],
      "source": [
        "bc.print_current_balance(-1)"
      ]
    },
    {
      "cell_type": "code",
      "execution_count": 34,
      "metadata": {
        "id": "2FleFnOnL_2a"
      },
      "outputs": [],
      "source": [
        ""
      ]
    },
    {
      "cell_type": "markdown",
      "metadata": {
        "id": "p5zWlZj7L_2a"
      },
      "source": [
        "## Creating an Iterative Base Class (Part 4)"
      ]
    },
    {
      "cell_type": "code",
      "execution_count": 35,
      "metadata": {
        "id": "bm-NHWR3L_2a"
      },
      "outputs": [],
      "source": [
        "class IterativeBase():\n",
        "\n",
        "    def __init__(self, symbol, start, end, amount):\n",
        "        self.symbol = symbol\n",
        "        self.start = start\n",
        "        self.end = end\n",
        "        self.initial_balance = amount\n",
        "        self.current_balance = amount\n",
        "        self.units = 0\n",
        "        self.trades = 0 \n",
        "        self.get_data()\n",
        "\n",
        "    def get_data(self):\n",
        "        raw = pd.read_csv(\"detailed.csv\", parse_dates = [\"time\"], index_col = \"time\").dropna()\n",
        "        raw = raw.loc[self.start:self.end]\n",
        "        raw[\"returns\"] = np.log(raw.price / raw.price.shift(1))\n",
        "        self.data = raw\n",
        "\n",
        "    def plot_data(self, cols = None):  \n",
        "        if cols is None:\n",
        "            cols = \"price\"\n",
        "        self.data[cols].plot(figsize = (12, 8), title = self.symbol)\n",
        "    \n",
        "    def get_values(self, bar):\n",
        "        date = str(self.data.index[bar].date())\n",
        "        price = round(self.data.price.iloc[bar], 5)\n",
        "        spread = round(self.data.spread.iloc[bar], 5)\n",
        "        return date, price, spread\n",
        "    \n",
        "    def print_current_balance(self, bar):\n",
        "        date, price, spread = self.get_values(bar)\n",
        "        print(\"{} | Current Balance: {}\".format(date, round(self.current_balance, 2)))\n",
        "        \n",
        "    def buy_instrument(self, bar, units = None, amount = None):\n",
        "        date, price, spread = self.get_values(bar)\n",
        "        if amount is not None: # use units if units are passed, otherwise calculate units\n",
        "            units = int(amount / price)\n",
        "        self.current_balance -= units * price # reduce cash balance by \"purchase price\"\n",
        "        self.units += units\n",
        "        self.trades += 1\n",
        "        print(\"{} |  Buying {} for {}\".format(date, units, round(price, 5)))"
      ]
    },
    {
      "cell_type": "code",
      "execution_count": 36,
      "metadata": {
        "id": "LSPZhfUOL_2b"
      },
      "outputs": [],
      "source": [
        "bc = IterativeBase(\"EURUSD\", \"2006-12-31\", \"2020-06-30\", 100000)"
      ]
    },
    {
      "cell_type": "code",
      "execution_count": 37,
      "metadata": {
        "id": "6pw7HiYLL_2b",
        "outputId": "664f6b88-dd88-447f-d97d-8ad5a977d3ac",
        "colab": {
          "base_uri": "https://localhost:8080/"
        }
      },
      "outputs": [
        {
          "output_type": "stream",
          "name": "stdout",
          "text": [
            "2006-12-31 | Current Balance: 100000\n"
          ]
        }
      ],
      "source": [
        "bc.print_current_balance(0)"
      ]
    },
    {
      "cell_type": "code",
      "execution_count": 38,
      "metadata": {
        "id": "LxJ0uoWtL_2b",
        "outputId": "f73b63fb-a7ea-47b7-dcf6-1302afd0e39e",
        "colab": {
          "base_uri": "https://localhost:8080/",
          "height": 684
        }
      },
      "outputs": [
        {
          "output_type": "execute_result",
          "data": {
            "text/html": [
              "\n",
              "  <div id=\"df-c24cbe0a-491e-4890-842a-32db0e3a543b\">\n",
              "    <div class=\"colab-df-container\">\n",
              "      <div>\n",
              "<style scoped>\n",
              "    .dataframe tbody tr th:only-of-type {\n",
              "        vertical-align: middle;\n",
              "    }\n",
              "\n",
              "    .dataframe tbody tr th {\n",
              "        vertical-align: top;\n",
              "    }\n",
              "\n",
              "    .dataframe thead th {\n",
              "        text-align: right;\n",
              "    }\n",
              "</style>\n",
              "<table border=\"1\" class=\"dataframe\">\n",
              "  <thead>\n",
              "    <tr style=\"text-align: right;\">\n",
              "      <th></th>\n",
              "      <th>price</th>\n",
              "      <th>spread</th>\n",
              "      <th>returns</th>\n",
              "    </tr>\n",
              "    <tr>\n",
              "      <th>time</th>\n",
              "      <th></th>\n",
              "      <th></th>\n",
              "      <th></th>\n",
              "    </tr>\n",
              "  </thead>\n",
              "  <tbody>\n",
              "    <tr>\n",
              "      <th>2006-12-31 22:00:00+00:00</th>\n",
              "      <td>1.31985</td>\n",
              "      <td>0.00100</td>\n",
              "      <td>NaN</td>\n",
              "    </tr>\n",
              "    <tr>\n",
              "      <th>2007-01-01 22:00:00+00:00</th>\n",
              "      <td>1.32734</td>\n",
              "      <td>0.00015</td>\n",
              "      <td>0.005659</td>\n",
              "    </tr>\n",
              "    <tr>\n",
              "      <th>2007-01-02 22:00:00+00:00</th>\n",
              "      <td>1.31688</td>\n",
              "      <td>0.00015</td>\n",
              "      <td>-0.007912</td>\n",
              "    </tr>\n",
              "    <tr>\n",
              "      <th>2007-01-03 22:00:00+00:00</th>\n",
              "      <td>1.30845</td>\n",
              "      <td>0.00015</td>\n",
              "      <td>-0.006422</td>\n",
              "    </tr>\n",
              "    <tr>\n",
              "      <th>2007-01-04 22:00:00+00:00</th>\n",
              "      <td>1.30025</td>\n",
              "      <td>0.00100</td>\n",
              "      <td>-0.006287</td>\n",
              "    </tr>\n",
              "    <tr>\n",
              "      <th>...</th>\n",
              "      <td>...</td>\n",
              "      <td>...</td>\n",
              "      <td>...</td>\n",
              "    </tr>\n",
              "    <tr>\n",
              "      <th>2020-06-23 21:00:00+00:00</th>\n",
              "      <td>1.12507</td>\n",
              "      <td>0.00030</td>\n",
              "      <td>-0.005151</td>\n",
              "    </tr>\n",
              "    <tr>\n",
              "      <th>2020-06-24 21:00:00+00:00</th>\n",
              "      <td>1.12180</td>\n",
              "      <td>0.00023</td>\n",
              "      <td>-0.002911</td>\n",
              "    </tr>\n",
              "    <tr>\n",
              "      <th>2020-06-25 21:00:00+00:00</th>\n",
              "      <td>1.12184</td>\n",
              "      <td>0.00041</td>\n",
              "      <td>0.000036</td>\n",
              "    </tr>\n",
              "    <tr>\n",
              "      <th>2020-06-28 21:00:00+00:00</th>\n",
              "      <td>1.12424</td>\n",
              "      <td>0.00018</td>\n",
              "      <td>0.002137</td>\n",
              "    </tr>\n",
              "    <tr>\n",
              "      <th>2020-06-29 21:00:00+00:00</th>\n",
              "      <td>1.12331</td>\n",
              "      <td>0.00032</td>\n",
              "      <td>-0.000828</td>\n",
              "    </tr>\n",
              "  </tbody>\n",
              "</table>\n",
              "<p>4006 rows × 3 columns</p>\n",
              "</div>\n",
              "      <button class=\"colab-df-convert\" onclick=\"convertToInteractive('df-c24cbe0a-491e-4890-842a-32db0e3a543b')\"\n",
              "              title=\"Convert this dataframe to an interactive table.\"\n",
              "              style=\"display:none;\">\n",
              "        \n",
              "  <svg xmlns=\"http://www.w3.org/2000/svg\" height=\"24px\"viewBox=\"0 0 24 24\"\n",
              "       width=\"24px\">\n",
              "    <path d=\"M0 0h24v24H0V0z\" fill=\"none\"/>\n",
              "    <path d=\"M18.56 5.44l.94 2.06.94-2.06 2.06-.94-2.06-.94-.94-2.06-.94 2.06-2.06.94zm-11 1L8.5 8.5l.94-2.06 2.06-.94-2.06-.94L8.5 2.5l-.94 2.06-2.06.94zm10 10l.94 2.06.94-2.06 2.06-.94-2.06-.94-.94-2.06-.94 2.06-2.06.94z\"/><path d=\"M17.41 7.96l-1.37-1.37c-.4-.4-.92-.59-1.43-.59-.52 0-1.04.2-1.43.59L10.3 9.45l-7.72 7.72c-.78.78-.78 2.05 0 2.83L4 21.41c.39.39.9.59 1.41.59.51 0 1.02-.2 1.41-.59l7.78-7.78 2.81-2.81c.8-.78.8-2.07 0-2.86zM5.41 20L4 18.59l7.72-7.72 1.47 1.35L5.41 20z\"/>\n",
              "  </svg>\n",
              "      </button>\n",
              "      \n",
              "  <style>\n",
              "    .colab-df-container {\n",
              "      display:flex;\n",
              "      flex-wrap:wrap;\n",
              "      gap: 12px;\n",
              "    }\n",
              "\n",
              "    .colab-df-convert {\n",
              "      background-color: #E8F0FE;\n",
              "      border: none;\n",
              "      border-radius: 50%;\n",
              "      cursor: pointer;\n",
              "      display: none;\n",
              "      fill: #1967D2;\n",
              "      height: 32px;\n",
              "      padding: 0 0 0 0;\n",
              "      width: 32px;\n",
              "    }\n",
              "\n",
              "    .colab-df-convert:hover {\n",
              "      background-color: #E2EBFA;\n",
              "      box-shadow: 0px 1px 2px rgba(60, 64, 67, 0.3), 0px 1px 3px 1px rgba(60, 64, 67, 0.15);\n",
              "      fill: #174EA6;\n",
              "    }\n",
              "\n",
              "    [theme=dark] .colab-df-convert {\n",
              "      background-color: #3B4455;\n",
              "      fill: #D2E3FC;\n",
              "    }\n",
              "\n",
              "    [theme=dark] .colab-df-convert:hover {\n",
              "      background-color: #434B5C;\n",
              "      box-shadow: 0px 1px 3px 1px rgba(0, 0, 0, 0.15);\n",
              "      filter: drop-shadow(0px 1px 2px rgba(0, 0, 0, 0.3));\n",
              "      fill: #FFFFFF;\n",
              "    }\n",
              "  </style>\n",
              "\n",
              "      <script>\n",
              "        const buttonEl =\n",
              "          document.querySelector('#df-c24cbe0a-491e-4890-842a-32db0e3a543b button.colab-df-convert');\n",
              "        buttonEl.style.display =\n",
              "          google.colab.kernel.accessAllowed ? 'block' : 'none';\n",
              "\n",
              "        async function convertToInteractive(key) {\n",
              "          const element = document.querySelector('#df-c24cbe0a-491e-4890-842a-32db0e3a543b');\n",
              "          const dataTable =\n",
              "            await google.colab.kernel.invokeFunction('convertToInteractive',\n",
              "                                                     [key], {});\n",
              "          if (!dataTable) return;\n",
              "\n",
              "          const docLinkHtml = 'Like what you see? Visit the ' +\n",
              "            '<a target=\"_blank\" href=https://colab.research.google.com/notebooks/data_table.ipynb>data table notebook</a>'\n",
              "            + ' to learn more about interactive tables.';\n",
              "          element.innerHTML = '';\n",
              "          dataTable['output_type'] = 'display_data';\n",
              "          await google.colab.output.renderOutput(dataTable, element);\n",
              "          const docLink = document.createElement('div');\n",
              "          docLink.innerHTML = docLinkHtml;\n",
              "          element.appendChild(docLink);\n",
              "        }\n",
              "      </script>\n",
              "    </div>\n",
              "  </div>\n",
              "  "
            ],
            "text/plain": [
              "                             price   spread   returns\n",
              "time                                                 \n",
              "2006-12-31 22:00:00+00:00  1.31985  0.00100       NaN\n",
              "2007-01-01 22:00:00+00:00  1.32734  0.00015  0.005659\n",
              "2007-01-02 22:00:00+00:00  1.31688  0.00015 -0.007912\n",
              "2007-01-03 22:00:00+00:00  1.30845  0.00015 -0.006422\n",
              "2007-01-04 22:00:00+00:00  1.30025  0.00100 -0.006287\n",
              "...                            ...      ...       ...\n",
              "2020-06-23 21:00:00+00:00  1.12507  0.00030 -0.005151\n",
              "2020-06-24 21:00:00+00:00  1.12180  0.00023 -0.002911\n",
              "2020-06-25 21:00:00+00:00  1.12184  0.00041  0.000036\n",
              "2020-06-28 21:00:00+00:00  1.12424  0.00018  0.002137\n",
              "2020-06-29 21:00:00+00:00  1.12331  0.00032 -0.000828\n",
              "\n",
              "[4006 rows x 3 columns]"
            ]
          },
          "metadata": {},
          "execution_count": 38
        }
      ],
      "source": [
        "bc.data"
      ]
    },
    {
      "cell_type": "code",
      "execution_count": 39,
      "metadata": {
        "id": "zWaUnPNVL_2c",
        "outputId": "11ecb377-a0ce-405e-fbb4-9688df9f7e62",
        "colab": {
          "base_uri": "https://localhost:8080/"
        }
      },
      "outputs": [
        {
          "output_type": "stream",
          "name": "stdout",
          "text": [
            "2006-12-31 |  Buying 1000 for 1.31985\n"
          ]
        }
      ],
      "source": [
        "bc.buy_instrument(0, units = 1000)"
      ]
    },
    {
      "cell_type": "code",
      "execution_count": 40,
      "metadata": {
        "id": "XggfYA4sL_2c",
        "outputId": "67e6e251-3105-4963-8816-f087d1de84ab",
        "colab": {
          "base_uri": "https://localhost:8080/"
        }
      },
      "outputs": [
        {
          "output_type": "execute_result",
          "data": {
            "text/plain": [
              "1000"
            ]
          },
          "metadata": {},
          "execution_count": 40
        }
      ],
      "source": [
        "bc.units"
      ]
    },
    {
      "cell_type": "code",
      "execution_count": 41,
      "metadata": {
        "id": "RVA3WYlbL_2c",
        "outputId": "f7eace2b-64dd-4cc8-c186-76177e113607",
        "colab": {
          "base_uri": "https://localhost:8080/"
        }
      },
      "outputs": [
        {
          "output_type": "stream",
          "name": "stdout",
          "text": [
            "2006-12-31 | Current Balance: 98680.15\n"
          ]
        }
      ],
      "source": [
        "bc.print_current_balance(0)"
      ]
    },
    {
      "cell_type": "code",
      "execution_count": 42,
      "metadata": {
        "id": "zRMZ_eneL_2c",
        "outputId": "6bf19aec-bafc-44b1-826f-279fe0541b3e",
        "colab": {
          "base_uri": "https://localhost:8080/"
        }
      },
      "outputs": [
        {
          "output_type": "execute_result",
          "data": {
            "text/plain": [
              "98680.15"
            ]
          },
          "metadata": {},
          "execution_count": 42
        }
      ],
      "source": [
        "100000 - 1000 * 1.31985"
      ]
    },
    {
      "cell_type": "code",
      "execution_count": 43,
      "metadata": {
        "id": "nI-RuvgqL_2c",
        "outputId": "77e01cc6-f3bc-44a8-92c0-c9903f7953f3",
        "colab": {
          "base_uri": "https://localhost:8080/"
        }
      },
      "outputs": [
        {
          "output_type": "stream",
          "name": "stdout",
          "text": [
            "2007-01-01 |  Buying 3766 for 1.32734\n"
          ]
        }
      ],
      "source": [
        "bc.buy_instrument(1, amount = 5000)"
      ]
    },
    {
      "cell_type": "code",
      "execution_count": 44,
      "metadata": {
        "id": "w3LPFJJFL_2d",
        "outputId": "601e03c1-5052-4a2b-8304-85387f15d24c",
        "colab": {
          "base_uri": "https://localhost:8080/"
        }
      },
      "outputs": [
        {
          "output_type": "execute_result",
          "data": {
            "text/plain": [
              "3766"
            ]
          },
          "metadata": {},
          "execution_count": 44
        }
      ],
      "source": [
        "int(5000 / 1.32734)"
      ]
    },
    {
      "cell_type": "code",
      "execution_count": 45,
      "metadata": {
        "id": "DrYxMWqoL_2d",
        "outputId": "4af96e22-aa92-449f-903b-0fcd9db143f4",
        "colab": {
          "base_uri": "https://localhost:8080/"
        }
      },
      "outputs": [
        {
          "output_type": "stream",
          "name": "stdout",
          "text": [
            "2007-01-01 | Current Balance: 93681.39\n"
          ]
        }
      ],
      "source": [
        "bc.print_current_balance(1)"
      ]
    },
    {
      "cell_type": "code",
      "execution_count": 45,
      "metadata": {
        "id": "OkA3-7W2L_2d"
      },
      "outputs": [],
      "source": [
        ""
      ]
    },
    {
      "cell_type": "markdown",
      "metadata": {
        "id": "mIOQxscCL_2d"
      },
      "source": [
        "## Creating an Iterative Base Class (Part 5)"
      ]
    },
    {
      "cell_type": "code",
      "execution_count": 46,
      "metadata": {
        "id": "066dVpokL_2d"
      },
      "outputs": [],
      "source": [
        "class IterativeBase():\n",
        "\n",
        "    def __init__(self, symbol, start, end, amount):\n",
        "        self.symbol = symbol\n",
        "        self.start = start\n",
        "        self.end = end\n",
        "        self.initial_balance = amount\n",
        "        self.current_balance = amount\n",
        "        self.units = 0\n",
        "        self.trades = 0 \n",
        "        self.get_data()\n",
        "\n",
        "    def get_data(self):\n",
        "        raw = pd.read_csv(\"detailed.csv\", parse_dates = [\"time\"], index_col = \"time\").dropna()\n",
        "        raw = raw.loc[self.start:self.end]\n",
        "        raw[\"returns\"] = np.log(raw.price / raw.price.shift(1))\n",
        "        self.data = raw\n",
        "\n",
        "    def plot_data(self, cols = None):  \n",
        "        if cols is None:\n",
        "            cols = \"price\"\n",
        "        self.data[cols].plot(figsize = (12, 8), title = self.symbol)\n",
        "    \n",
        "    def get_values(self, bar):\n",
        "        date = str(self.data.index[bar].date())\n",
        "        price = round(self.data.price.iloc[bar], 5)\n",
        "        spread = round(self.data.spread.iloc[bar], 5)\n",
        "        return date, price, spread\n",
        "    \n",
        "    def print_current_balance(self, bar):\n",
        "        date, price, spread = self.get_values(bar)\n",
        "        print(\"{} | Current Balance: {}\".format(date, round(self.current_balance, 2)))\n",
        "        \n",
        "    def buy_instrument(self, bar, units = None, amount = None):\n",
        "        date, price, spread = self.get_values(bar)\n",
        "        if amount is not None: # use units if units are passed, otherwise calculate units\n",
        "            units = int(amount / price)\n",
        "        self.current_balance -= units * price # reduce cash balance by \"purchase price\"\n",
        "        self.units += units\n",
        "        self.trades += 1\n",
        "        print(\"{} |  Buying {} for {}\".format(date, units, round(price, 5)))\n",
        "    \n",
        "    def print_current_position_value(self, bar):\n",
        "        date, price, spread = self.get_values(bar)\n",
        "        cpv = self.units * price\n",
        "        print(\"{} |  Current Position Value = {}\".format(date, round(cpv, 2)))\n",
        "    \n",
        "    def print_current_nav(self, bar):\n",
        "        date, price, spread = self.get_values(bar)\n",
        "        nav = self.current_balance + self.units * price\n",
        "        print(\"{} |  Net Asset Value = {}\".format(date, round(nav, 2)))"
      ]
    },
    {
      "cell_type": "code",
      "execution_count": 47,
      "metadata": {
        "id": "QAYeUjlBL_2e"
      },
      "outputs": [],
      "source": [
        "bc = IterativeBase(\"EURUSD\", \"2006-12-31\", \"2020-06-30\", 100000)"
      ]
    },
    {
      "cell_type": "code",
      "execution_count": 48,
      "metadata": {
        "id": "nUT7Qks-L_2e",
        "outputId": "eabb0c51-759c-4847-be10-24bf49704be5",
        "colab": {
          "base_uri": "https://localhost:8080/"
        }
      },
      "outputs": [
        {
          "output_type": "stream",
          "name": "stdout",
          "text": [
            "2006-12-31 | Current Balance: 100000\n"
          ]
        }
      ],
      "source": [
        "bc.print_current_balance(0)"
      ]
    },
    {
      "cell_type": "code",
      "execution_count": 49,
      "metadata": {
        "id": "5tB8tdpZL_2e",
        "outputId": "9d774617-bc31-4528-e258-bc59c017ba35",
        "colab": {
          "base_uri": "https://localhost:8080/"
        }
      },
      "outputs": [
        {
          "output_type": "stream",
          "name": "stdout",
          "text": [
            "2006-12-31 |  Buying 1000 for 1.31985\n"
          ]
        }
      ],
      "source": [
        "bc.buy_instrument(0, units = 1000)"
      ]
    },
    {
      "cell_type": "code",
      "execution_count": 50,
      "metadata": {
        "id": "jqU-ibJKL_2e",
        "outputId": "169a05c8-a386-4d9d-dafa-e8a0f491f085",
        "colab": {
          "base_uri": "https://localhost:8080/"
        }
      },
      "outputs": [
        {
          "output_type": "execute_result",
          "data": {
            "text/plain": [
              "1000"
            ]
          },
          "metadata": {},
          "execution_count": 50
        }
      ],
      "source": [
        "bc.units"
      ]
    },
    {
      "cell_type": "code",
      "execution_count": 51,
      "metadata": {
        "id": "eYPFRmmNL_2e",
        "outputId": "ccda90b8-e104-40d7-e746-21fe57f93f21",
        "colab": {
          "base_uri": "https://localhost:8080/"
        }
      },
      "outputs": [
        {
          "output_type": "stream",
          "name": "stdout",
          "text": [
            "2006-12-31 | Current Balance: 98680.15\n"
          ]
        }
      ],
      "source": [
        "bc.print_current_balance(0)"
      ]
    },
    {
      "cell_type": "code",
      "execution_count": 52,
      "metadata": {
        "id": "q1ZUliF0L_2e",
        "outputId": "eae3b6ad-769c-430f-f936-bee38fb50a9a",
        "colab": {
          "base_uri": "https://localhost:8080/"
        }
      },
      "outputs": [
        {
          "output_type": "stream",
          "name": "stdout",
          "text": [
            "2006-12-31 |  Current Position Value = 1319.85\n"
          ]
        }
      ],
      "source": [
        "bc.print_current_position_value(0)"
      ]
    },
    {
      "cell_type": "code",
      "execution_count": 53,
      "metadata": {
        "id": "-b70xb-AL_2e",
        "outputId": "60c21c91-bfe8-4235-cabf-556adf0fc579",
        "colab": {
          "base_uri": "https://localhost:8080/"
        }
      },
      "outputs": [
        {
          "output_type": "stream",
          "name": "stdout",
          "text": [
            "2006-12-31 |  Net Asset Value = 100000.0\n"
          ]
        }
      ],
      "source": [
        "bc.print_current_nav(0)"
      ]
    },
    {
      "cell_type": "code",
      "execution_count": 54,
      "metadata": {
        "id": "olnxZHZKL_2e",
        "outputId": "17d9fe31-1e2a-4ec7-9af9-269e71582d98",
        "colab": {
          "base_uri": "https://localhost:8080/"
        }
      },
      "outputs": [
        {
          "output_type": "stream",
          "name": "stdout",
          "text": [
            "2007-01-01 |  Current Position Value = 1327.34\n"
          ]
        }
      ],
      "source": [
        "bc.print_current_position_value(1)"
      ]
    },
    {
      "cell_type": "code",
      "execution_count": 55,
      "metadata": {
        "id": "9hq2eIhRL_2f",
        "outputId": "cf31e905-6134-4a86-95f9-2545f93f7835",
        "colab": {
          "base_uri": "https://localhost:8080/"
        }
      },
      "outputs": [
        {
          "output_type": "stream",
          "name": "stdout",
          "text": [
            "2007-01-01 |  Net Asset Value = 100007.49\n"
          ]
        }
      ],
      "source": [
        "bc.print_current_nav(1)"
      ]
    },
    {
      "cell_type": "code",
      "execution_count": 56,
      "metadata": {
        "id": "yQB-Cu3gL_2f",
        "outputId": "93c09dbf-a524-4f37-bcee-40c33f9241aa",
        "colab": {
          "base_uri": "https://localhost:8080/"
        }
      },
      "outputs": [
        {
          "output_type": "stream",
          "name": "stdout",
          "text": [
            "2007-01-01 |  Buying 3766 for 1.32734\n"
          ]
        }
      ],
      "source": [
        "bc.buy_instrument(1, amount = 5000)"
      ]
    },
    {
      "cell_type": "code",
      "execution_count": 57,
      "metadata": {
        "id": "omnsL6rTL_2f",
        "outputId": "c46d2089-e0f6-4feb-ddf6-1d3df5dc4b8b",
        "colab": {
          "base_uri": "https://localhost:8080/"
        }
      },
      "outputs": [
        {
          "output_type": "stream",
          "name": "stdout",
          "text": [
            "2007-01-01 | Current Balance: 93681.39\n"
          ]
        }
      ],
      "source": [
        "bc.print_current_balance(1)"
      ]
    },
    {
      "cell_type": "code",
      "execution_count": 58,
      "metadata": {
        "id": "42asbtZJL_2f",
        "outputId": "6cecc3b7-9435-46b3-b42b-b9f5a39f67ec",
        "colab": {
          "base_uri": "https://localhost:8080/"
        }
      },
      "outputs": [
        {
          "output_type": "stream",
          "name": "stdout",
          "text": [
            "2007-01-01 |  Current Position Value = 6326.1\n"
          ]
        }
      ],
      "source": [
        "bc.print_current_position_value(1)"
      ]
    },
    {
      "cell_type": "code",
      "execution_count": 59,
      "metadata": {
        "id": "UK4QyWCPL_2f",
        "outputId": "17113dcc-f7e3-4d38-a917-5e7e53a09904",
        "colab": {
          "base_uri": "https://localhost:8080/"
        }
      },
      "outputs": [
        {
          "output_type": "stream",
          "name": "stdout",
          "text": [
            "2007-01-01 |  Net Asset Value = 100007.49\n"
          ]
        }
      ],
      "source": [
        "bc.print_current_nav(1)"
      ]
    },
    {
      "cell_type": "code",
      "execution_count": 60,
      "metadata": {
        "id": "vwfdWdPVL_2f",
        "outputId": "d3725064-6099-495f-9af4-8f6bcba99a83",
        "colab": {
          "base_uri": "https://localhost:8080/"
        }
      },
      "outputs": [
        {
          "output_type": "stream",
          "name": "stdout",
          "text": [
            "2007-01-02 | Current Balance: 93681.39\n"
          ]
        }
      ],
      "source": [
        "bc.print_current_balance(2)"
      ]
    },
    {
      "cell_type": "code",
      "execution_count": 61,
      "metadata": {
        "id": "tKF1TxfyL_2f",
        "outputId": "2511e3a5-e938-4d5e-9385-4b2283b7e6a1",
        "colab": {
          "base_uri": "https://localhost:8080/"
        }
      },
      "outputs": [
        {
          "output_type": "stream",
          "name": "stdout",
          "text": [
            "2007-01-02 |  Current Position Value = 6276.25\n"
          ]
        }
      ],
      "source": [
        "bc.print_current_position_value(2)"
      ]
    },
    {
      "cell_type": "code",
      "execution_count": 62,
      "metadata": {
        "id": "vGdw7m31L_2f",
        "outputId": "16ace334-ee48-43bc-8695-d202b3a20122",
        "colab": {
          "base_uri": "https://localhost:8080/"
        }
      },
      "outputs": [
        {
          "output_type": "stream",
          "name": "stdout",
          "text": [
            "2007-01-02 |  Net Asset Value = 99957.64\n"
          ]
        }
      ],
      "source": [
        "bc.print_current_nav(2)"
      ]
    },
    {
      "cell_type": "code",
      "execution_count": 63,
      "metadata": {
        "id": "UnA8fPkpL_2g",
        "outputId": "3b4dfcff-f178-4e9f-d410-771a3e4ec33f",
        "colab": {
          "base_uri": "https://localhost:8080/"
        }
      },
      "outputs": [
        {
          "output_type": "stream",
          "name": "stdout",
          "text": [
            "2020-06-29 |  Net Asset Value = 99035.08\n"
          ]
        }
      ],
      "source": [
        "bc.print_current_nav(-1)"
      ]
    },
    {
      "cell_type": "code",
      "execution_count": 64,
      "metadata": {
        "id": "4i5VverrL_2g",
        "outputId": "3f285b7b-70c7-472a-8243-dfbaa266c06c",
        "colab": {
          "base_uri": "https://localhost:8080/"
        }
      },
      "outputs": [
        {
          "output_type": "stream",
          "name": "stdout",
          "text": [
            "2020-06-29 |  Current Position Value = 5353.7\n"
          ]
        }
      ],
      "source": [
        "bc.print_current_position_value(-1)"
      ]
    },
    {
      "cell_type": "code",
      "execution_count": 64,
      "metadata": {
        "id": "rZi4JZAQL_2g"
      },
      "outputs": [],
      "source": [
        ""
      ]
    },
    {
      "cell_type": "markdown",
      "metadata": {
        "id": "FIkMKOmnL_2g"
      },
      "source": [
        "## Creating an Iterative Base Class (Part 6)"
      ]
    },
    {
      "cell_type": "code",
      "execution_count": 65,
      "metadata": {
        "id": "zCw0WOcLL_2g"
      },
      "outputs": [],
      "source": [
        "class IterativeBase():\n",
        "\n",
        "    def __init__(self, symbol, start, end, amount):\n",
        "        self.symbol = symbol\n",
        "        self.start = start\n",
        "        self.end = end\n",
        "        self.initial_balance = amount\n",
        "        self.current_balance = amount\n",
        "        self.units = 0\n",
        "        self.trades = 0 \n",
        "        self.get_data()\n",
        "\n",
        "    def get_data(self):\n",
        "        raw = pd.read_csv(\"detailed.csv\", parse_dates = [\"time\"], index_col = \"time\").dropna()\n",
        "        raw = raw.loc[self.start:self.end]\n",
        "        raw[\"returns\"] = np.log(raw.price / raw.price.shift(1))\n",
        "        self.data = raw\n",
        "\n",
        "    def plot_data(self, cols = None):  \n",
        "        if cols is None:\n",
        "            cols = \"price\"\n",
        "        self.data[cols].plot(figsize = (12, 8), title = self.symbol)\n",
        "    \n",
        "    def get_values(self, bar):\n",
        "        date = str(self.data.index[bar].date())\n",
        "        price = round(self.data.price.iloc[bar], 5)\n",
        "        spread = round(self.data.spread.iloc[bar], 5)\n",
        "        return date, price, spread\n",
        "    \n",
        "    def print_current_balance(self, bar):\n",
        "        date, price, spread = self.get_values(bar)\n",
        "        print(\"{} | Current Balance: {}\".format(date, round(self.current_balance, 2)))\n",
        "        \n",
        "    def buy_instrument(self, bar, units = None, amount = None):\n",
        "        date, price, spread = self.get_values(bar)\n",
        "        if amount is not None: # use units if units are passed, otherwise calculate units\n",
        "            units = int(amount / price)\n",
        "        self.current_balance -= units * price # reduce cash balance by \"purchase price\"\n",
        "        self.units += units\n",
        "        self.trades += 1\n",
        "        print(\"{} |  Buying {} for {}\".format(date, units, round(price, 5)))\n",
        "    \n",
        "    def sell_instrument(self, bar, units = None, amount = None):\n",
        "        date, price, spread = self.get_values(bar)\n",
        "        if amount is not None: # use units if units are passed, otherwise calculate units\n",
        "            units = int(amount / price)\n",
        "        self.current_balance += units * price # increases cash balance by \"purchase price\"\n",
        "        self.units -= units\n",
        "        self.trades += 1\n",
        "        print(\"{} |  Selling {} for {}\".format(date, units, round(price, 5)))\n",
        "    \n",
        "    def print_current_position_value(self, bar):\n",
        "        date, price, spread = self.get_values(bar)\n",
        "        cpv = self.units * price\n",
        "        print(\"{} |  Current Position Value = {}\".format(date, round(cpv, 2)))\n",
        "    \n",
        "    def print_current_nav(self, bar):\n",
        "        date, price, spread = self.get_values(bar)\n",
        "        nav = self.current_balance + self.units * price\n",
        "        print(\"{} |  Net Asset Value = {}\".format(date, round(nav, 2)))"
      ]
    },
    {
      "cell_type": "code",
      "execution_count": 66,
      "metadata": {
        "id": "kOXh7hJOL_2h"
      },
      "outputs": [],
      "source": [
        "bc = IterativeBase(\"EURUSD\", \"2006-12-31\", \"2020-06-30\", 100000)"
      ]
    },
    {
      "cell_type": "code",
      "execution_count": 67,
      "metadata": {
        "id": "8e73c4RsL_2h",
        "outputId": "3ce6880a-df44-4db7-bd7d-0c19f60edf6c",
        "colab": {
          "base_uri": "https://localhost:8080/"
        }
      },
      "outputs": [
        {
          "output_type": "stream",
          "name": "stdout",
          "text": [
            "2006-12-31 |  Buying 10000 for 1.31985\n"
          ]
        }
      ],
      "source": [
        "bc.buy_instrument(0, units = 10000) # go long 10,000 units"
      ]
    },
    {
      "cell_type": "code",
      "execution_count": 68,
      "metadata": {
        "id": "0Qqc5BDLL_2h",
        "outputId": "4e9d7577-ccc2-4cff-d09c-02255ef4c6d9",
        "colab": {
          "base_uri": "https://localhost:8080/"
        }
      },
      "outputs": [
        {
          "output_type": "execute_result",
          "data": {
            "text/plain": [
              "10000"
            ]
          },
          "metadata": {},
          "execution_count": 68
        }
      ],
      "source": [
        "bc.units"
      ]
    },
    {
      "cell_type": "code",
      "execution_count": 69,
      "metadata": {
        "id": "PGq0XYGzL_2h",
        "outputId": "2f546696-0287-490d-c596-fe0556bd06f6",
        "colab": {
          "base_uri": "https://localhost:8080/"
        }
      },
      "outputs": [
        {
          "output_type": "stream",
          "name": "stdout",
          "text": [
            "2007-01-01 |  Current Position Value = 13273.4\n"
          ]
        }
      ],
      "source": [
        "bc.print_current_position_value(1)"
      ]
    },
    {
      "cell_type": "code",
      "execution_count": 70,
      "metadata": {
        "id": "fbK9OL2IL_2h",
        "outputId": "66801b49-a1de-44f7-8994-18a31ba86cf3",
        "colab": {
          "base_uri": "https://localhost:8080/"
        }
      },
      "outputs": [
        {
          "output_type": "stream",
          "name": "stdout",
          "text": [
            "2007-01-01 |  Net Asset Value = 100074.9\n"
          ]
        }
      ],
      "source": [
        "bc.print_current_nav(1)"
      ]
    },
    {
      "cell_type": "code",
      "execution_count": 71,
      "metadata": {
        "id": "AEy8665kL_2h",
        "outputId": "0917e1a5-c62b-4338-dac9-4cf8ad006397",
        "colab": {
          "base_uri": "https://localhost:8080/"
        }
      },
      "outputs": [
        {
          "output_type": "stream",
          "name": "stdout",
          "text": [
            "2007-01-01 |  Selling 20000 for 1.32734\n"
          ]
        }
      ],
      "source": [
        "bc.sell_instrument(1, units = 20000) # close long position and go short 10,000 units"
      ]
    },
    {
      "cell_type": "code",
      "execution_count": 72,
      "metadata": {
        "id": "h080Jpi2L_2i",
        "outputId": "a40f1dcb-989c-4324-b579-e037eb08aecc",
        "colab": {
          "base_uri": "https://localhost:8080/"
        }
      },
      "outputs": [
        {
          "output_type": "execute_result",
          "data": {
            "text/plain": [
              "-10000"
            ]
          },
          "metadata": {},
          "execution_count": 72
        }
      ],
      "source": [
        "bc.units"
      ]
    },
    {
      "cell_type": "code",
      "execution_count": 73,
      "metadata": {
        "id": "BAFOSb1kL_2i",
        "outputId": "84217929-c847-4e91-9393-031352df7f99",
        "colab": {
          "base_uri": "https://localhost:8080/"
        }
      },
      "outputs": [
        {
          "output_type": "stream",
          "name": "stdout",
          "text": [
            "2007-01-01 | Current Balance: 113348.3\n"
          ]
        }
      ],
      "source": [
        "bc.print_current_balance(1) # cash balance increased, but... "
      ]
    },
    {
      "cell_type": "code",
      "execution_count": 74,
      "metadata": {
        "id": "JLy43ePVL_2i",
        "outputId": "574d67b8-a4d6-4e01-8354-30acee7ca9e9",
        "colab": {
          "base_uri": "https://localhost:8080/"
        }
      },
      "outputs": [
        {
          "output_type": "stream",
          "name": "stdout",
          "text": [
            "2007-01-01 |  Current Position Value = -13273.4\n"
          ]
        }
      ],
      "source": [
        "bc.print_current_position_value(1) # ... the current position value is negative"
      ]
    },
    {
      "cell_type": "code",
      "execution_count": 75,
      "metadata": {
        "id": "ADyiOJDiL_2i",
        "outputId": "e89727d4-9e59-411d-9a15-5ecfd6de50d3",
        "colab": {
          "base_uri": "https://localhost:8080/"
        }
      },
      "outputs": [
        {
          "output_type": "stream",
          "name": "stdout",
          "text": [
            "2007-01-01 |  Net Asset Value = 100074.9\n"
          ]
        }
      ],
      "source": [
        "bc.print_current_nav(1)"
      ]
    },
    {
      "cell_type": "code",
      "execution_count": 75,
      "metadata": {
        "id": "ASIvxoiVL_2i"
      },
      "outputs": [],
      "source": [
        ""
      ]
    },
    {
      "cell_type": "markdown",
      "metadata": {
        "id": "RBeNqgSmL_2i"
      },
      "source": [
        "## Creating an Iterative Base Class (Part 7)"
      ]
    },
    {
      "cell_type": "code",
      "execution_count": 76,
      "metadata": {
        "id": "_Iit_gXKL_2i"
      },
      "outputs": [],
      "source": [
        "class IterativeBase():\n",
        "\n",
        "    def __init__(self, symbol, start, end, amount):\n",
        "        self.symbol = symbol\n",
        "        self.start = start\n",
        "        self.end = end\n",
        "        self.initial_balance = amount\n",
        "        self.current_balance = amount\n",
        "        self.units = 0\n",
        "        self.trades = 0 \n",
        "        self.get_data()\n",
        "\n",
        "    def get_data(self):\n",
        "        raw = pd.read_csv(\"detailed.csv\", parse_dates = [\"time\"], index_col = \"time\").dropna()\n",
        "        raw = raw.loc[self.start:self.end]\n",
        "        raw[\"returns\"] = np.log(raw.price / raw.price.shift(1))\n",
        "        self.data = raw\n",
        "\n",
        "    def plot_data(self, cols = None):  \n",
        "        if cols is None:\n",
        "            cols = \"price\"\n",
        "        self.data[cols].plot(figsize = (12, 8), title = self.symbol)\n",
        "    \n",
        "    def get_values(self, bar):\n",
        "        date = str(self.data.index[bar].date())\n",
        "        price = round(self.data.price.iloc[bar], 5)\n",
        "        spread = round(self.data.spread.iloc[bar], 5)\n",
        "        return date, price, spread\n",
        "    \n",
        "    def print_current_balance(self, bar):\n",
        "        date, price, spread = self.get_values(bar)\n",
        "        print(\"{} | Current Balance: {}\".format(date, round(self.current_balance, 2)))\n",
        "        \n",
        "    def buy_instrument(self, bar, units = None, amount = None):\n",
        "        date, price, spread = self.get_values(bar)\n",
        "        if amount is not None: # use units if units are passed, otherwise calculate units\n",
        "            units = int(amount / price)\n",
        "        self.current_balance -= units * price # reduce cash balance by \"purchase price\"\n",
        "        self.units += units\n",
        "        self.trades += 1\n",
        "        print(\"{} |  Buying {} for {}\".format(date, units, round(price, 5)))\n",
        "    \n",
        "    def sell_instrument(self, bar, units = None, amount = None):\n",
        "        date, price, spread = self.get_values(bar)\n",
        "        if amount is not None: # use units if units are passed, otherwise calculate units\n",
        "            units = int(amount / price)\n",
        "        self.current_balance += units * price # increases cash balance by \"purchase price\"\n",
        "        self.units -= units\n",
        "        self.trades += 1\n",
        "        print(\"{} |  Selling {} for {}\".format(date, units, round(price, 5)))\n",
        "    \n",
        "    def print_current_position_value(self, bar):\n",
        "        date, price, spread = self.get_values(bar)\n",
        "        cpv = self.units * price\n",
        "        print(\"{} |  Current Position Value = {}\".format(date, round(cpv, 2)))\n",
        "    \n",
        "    def print_current_nav(self, bar):\n",
        "        date, price, spread = self.get_values(bar)\n",
        "        nav = self.current_balance + self.units * price\n",
        "        print(\"{} |  Net Asset Value = {}\".format(date, round(nav, 2)))\n",
        "        \n",
        "    def close_pos(self, bar):\n",
        "        date, price, spread = self.get_values(bar)\n",
        "        print(75 * \"-\")\n",
        "        print(\"{} | +++ CLOSING FINAL POSITION +++\".format(date))\n",
        "        self.current_balance += self.units * price # closing final position (works with short and long!)\n",
        "        print(\"{} | closing position of {} for {}\".format(date, self.units, price))\n",
        "        self.units = 0 # setting position to neutral\n",
        "        self.trades += 1\n",
        "        perf = (self.current_balance - self.initial_balance) / self.initial_balance * 100\n",
        "        self.print_current_balance(bar)\n",
        "        print(\"{} | net performance (%) = {}\".format(date, round(perf, 2) ))\n",
        "        print(\"{} | number of trades executed = {}\".format(date, self.trades))\n",
        "        print(75 * \"-\")"
      ]
    },
    {
      "cell_type": "code",
      "execution_count": 77,
      "metadata": {
        "id": "CobfYi_3L_2j"
      },
      "outputs": [],
      "source": [
        "bc = IterativeBase(\"EURUSD\", \"2006-12-31\", \"2020-06-30\", 100000)"
      ]
    },
    {
      "cell_type": "code",
      "execution_count": 78,
      "metadata": {
        "id": "Tkx0UwArL_2j",
        "outputId": "19b22c5a-0e11-4cfa-c142-dca8056b29e4",
        "colab": {
          "base_uri": "https://localhost:8080/"
        }
      },
      "outputs": [
        {
          "output_type": "stream",
          "name": "stdout",
          "text": [
            "2006-12-31 |  Buying 75766 for 1.31985\n"
          ]
        }
      ],
      "source": [
        "bc.buy_instrument(0, amount = 100000)"
      ]
    },
    {
      "cell_type": "code",
      "execution_count": 79,
      "metadata": {
        "id": "1dn25wuIL_2m",
        "outputId": "981ec9d7-9f43-4197-cad9-9dd5ce9738ec",
        "colab": {
          "base_uri": "https://localhost:8080/"
        }
      },
      "outputs": [
        {
          "output_type": "stream",
          "name": "stdout",
          "text": [
            "2006-12-31 | Current Balance: 0.24\n"
          ]
        }
      ],
      "source": [
        "bc.print_current_balance(0)"
      ]
    },
    {
      "cell_type": "code",
      "execution_count": 80,
      "metadata": {
        "id": "sWmmVqKhL_2m",
        "outputId": "933dca85-6592-4cbd-dd9a-cbc066ebf23c",
        "colab": {
          "base_uri": "https://localhost:8080/"
        }
      },
      "outputs": [
        {
          "output_type": "stream",
          "name": "stdout",
          "text": [
            "2006-12-31 |  Current Position Value = 99999.76\n"
          ]
        }
      ],
      "source": [
        "bc.print_current_position_value(0)"
      ]
    },
    {
      "cell_type": "code",
      "execution_count": 81,
      "metadata": {
        "id": "4xgFsry9L_2n",
        "outputId": "ab92a5de-084f-4f51-9948-661f6358fb85",
        "colab": {
          "base_uri": "https://localhost:8080/"
        }
      },
      "outputs": [
        {
          "output_type": "stream",
          "name": "stdout",
          "text": [
            "2020-06-29 | Current Balance: 0.24\n"
          ]
        }
      ],
      "source": [
        "bc.print_current_balance(-1)"
      ]
    },
    {
      "cell_type": "code",
      "execution_count": 82,
      "metadata": {
        "id": "1PvLyJgaL_2n",
        "outputId": "c838cdd0-14df-45e4-9287-5d1f6bd05936",
        "colab": {
          "base_uri": "https://localhost:8080/"
        }
      },
      "outputs": [
        {
          "output_type": "stream",
          "name": "stdout",
          "text": [
            "2020-06-29 |  Current Position Value = 85108.71\n"
          ]
        }
      ],
      "source": [
        "bc.print_current_position_value(-1)"
      ]
    },
    {
      "cell_type": "code",
      "execution_count": 83,
      "metadata": {
        "id": "NB3GmsceL_2n",
        "outputId": "345e62db-0b03-4383-da10-9bfb9379e675",
        "colab": {
          "base_uri": "https://localhost:8080/"
        }
      },
      "outputs": [
        {
          "output_type": "stream",
          "name": "stdout",
          "text": [
            "2020-06-29 |  Net Asset Value = 85108.95\n"
          ]
        }
      ],
      "source": [
        "bc.print_current_nav(-1)"
      ]
    },
    {
      "cell_type": "code",
      "execution_count": 84,
      "metadata": {
        "id": "ye-QVtkNL_2n",
        "outputId": "0dc73c72-a79b-4100-8460-fd27cc096258",
        "colab": {
          "base_uri": "https://localhost:8080/"
        }
      },
      "outputs": [
        {
          "output_type": "stream",
          "name": "stdout",
          "text": [
            "---------------------------------------------------------------------------\n",
            "2020-06-29 | +++ CLOSING FINAL POSITION +++\n",
            "2020-06-29 | closing position of 75766 for 1.12331\n",
            "2020-06-29 | Current Balance: 85108.95\n",
            "2020-06-29 | net performance (%) = -14.89\n",
            "2020-06-29 | number of trades executed = 2\n",
            "---------------------------------------------------------------------------\n"
          ]
        }
      ],
      "source": [
        "bc.close_pos(-1)"
      ]
    },
    {
      "cell_type": "code",
      "execution_count": 85,
      "metadata": {
        "id": "VpDaqyUQL_2n",
        "outputId": "8c5e728b-a7f7-457e-8634-630c1f493073",
        "colab": {
          "base_uri": "https://localhost:8080/",
          "height": 684
        }
      },
      "outputs": [
        {
          "output_type": "execute_result",
          "data": {
            "text/html": [
              "\n",
              "  <div id=\"df-cd19653f-6ad2-4047-9051-cb4472cff56f\">\n",
              "    <div class=\"colab-df-container\">\n",
              "      <div>\n",
              "<style scoped>\n",
              "    .dataframe tbody tr th:only-of-type {\n",
              "        vertical-align: middle;\n",
              "    }\n",
              "\n",
              "    .dataframe tbody tr th {\n",
              "        vertical-align: top;\n",
              "    }\n",
              "\n",
              "    .dataframe thead th {\n",
              "        text-align: right;\n",
              "    }\n",
              "</style>\n",
              "<table border=\"1\" class=\"dataframe\">\n",
              "  <thead>\n",
              "    <tr style=\"text-align: right;\">\n",
              "      <th></th>\n",
              "      <th>price</th>\n",
              "      <th>spread</th>\n",
              "      <th>returns</th>\n",
              "    </tr>\n",
              "    <tr>\n",
              "      <th>time</th>\n",
              "      <th></th>\n",
              "      <th></th>\n",
              "      <th></th>\n",
              "    </tr>\n",
              "  </thead>\n",
              "  <tbody>\n",
              "    <tr>\n",
              "      <th>2006-12-31 22:00:00+00:00</th>\n",
              "      <td>1.31985</td>\n",
              "      <td>0.00100</td>\n",
              "      <td>NaN</td>\n",
              "    </tr>\n",
              "    <tr>\n",
              "      <th>2007-01-01 22:00:00+00:00</th>\n",
              "      <td>1.32734</td>\n",
              "      <td>0.00015</td>\n",
              "      <td>0.005659</td>\n",
              "    </tr>\n",
              "    <tr>\n",
              "      <th>2007-01-02 22:00:00+00:00</th>\n",
              "      <td>1.31688</td>\n",
              "      <td>0.00015</td>\n",
              "      <td>-0.007912</td>\n",
              "    </tr>\n",
              "    <tr>\n",
              "      <th>2007-01-03 22:00:00+00:00</th>\n",
              "      <td>1.30845</td>\n",
              "      <td>0.00015</td>\n",
              "      <td>-0.006422</td>\n",
              "    </tr>\n",
              "    <tr>\n",
              "      <th>2007-01-04 22:00:00+00:00</th>\n",
              "      <td>1.30025</td>\n",
              "      <td>0.00100</td>\n",
              "      <td>-0.006287</td>\n",
              "    </tr>\n",
              "    <tr>\n",
              "      <th>...</th>\n",
              "      <td>...</td>\n",
              "      <td>...</td>\n",
              "      <td>...</td>\n",
              "    </tr>\n",
              "    <tr>\n",
              "      <th>2020-06-23 21:00:00+00:00</th>\n",
              "      <td>1.12507</td>\n",
              "      <td>0.00030</td>\n",
              "      <td>-0.005151</td>\n",
              "    </tr>\n",
              "    <tr>\n",
              "      <th>2020-06-24 21:00:00+00:00</th>\n",
              "      <td>1.12180</td>\n",
              "      <td>0.00023</td>\n",
              "      <td>-0.002911</td>\n",
              "    </tr>\n",
              "    <tr>\n",
              "      <th>2020-06-25 21:00:00+00:00</th>\n",
              "      <td>1.12184</td>\n",
              "      <td>0.00041</td>\n",
              "      <td>0.000036</td>\n",
              "    </tr>\n",
              "    <tr>\n",
              "      <th>2020-06-28 21:00:00+00:00</th>\n",
              "      <td>1.12424</td>\n",
              "      <td>0.00018</td>\n",
              "      <td>0.002137</td>\n",
              "    </tr>\n",
              "    <tr>\n",
              "      <th>2020-06-29 21:00:00+00:00</th>\n",
              "      <td>1.12331</td>\n",
              "      <td>0.00032</td>\n",
              "      <td>-0.000828</td>\n",
              "    </tr>\n",
              "  </tbody>\n",
              "</table>\n",
              "<p>4006 rows × 3 columns</p>\n",
              "</div>\n",
              "      <button class=\"colab-df-convert\" onclick=\"convertToInteractive('df-cd19653f-6ad2-4047-9051-cb4472cff56f')\"\n",
              "              title=\"Convert this dataframe to an interactive table.\"\n",
              "              style=\"display:none;\">\n",
              "        \n",
              "  <svg xmlns=\"http://www.w3.org/2000/svg\" height=\"24px\"viewBox=\"0 0 24 24\"\n",
              "       width=\"24px\">\n",
              "    <path d=\"M0 0h24v24H0V0z\" fill=\"none\"/>\n",
              "    <path d=\"M18.56 5.44l.94 2.06.94-2.06 2.06-.94-2.06-.94-.94-2.06-.94 2.06-2.06.94zm-11 1L8.5 8.5l.94-2.06 2.06-.94-2.06-.94L8.5 2.5l-.94 2.06-2.06.94zm10 10l.94 2.06.94-2.06 2.06-.94-2.06-.94-.94-2.06-.94 2.06-2.06.94z\"/><path d=\"M17.41 7.96l-1.37-1.37c-.4-.4-.92-.59-1.43-.59-.52 0-1.04.2-1.43.59L10.3 9.45l-7.72 7.72c-.78.78-.78 2.05 0 2.83L4 21.41c.39.39.9.59 1.41.59.51 0 1.02-.2 1.41-.59l7.78-7.78 2.81-2.81c.8-.78.8-2.07 0-2.86zM5.41 20L4 18.59l7.72-7.72 1.47 1.35L5.41 20z\"/>\n",
              "  </svg>\n",
              "      </button>\n",
              "      \n",
              "  <style>\n",
              "    .colab-df-container {\n",
              "      display:flex;\n",
              "      flex-wrap:wrap;\n",
              "      gap: 12px;\n",
              "    }\n",
              "\n",
              "    .colab-df-convert {\n",
              "      background-color: #E8F0FE;\n",
              "      border: none;\n",
              "      border-radius: 50%;\n",
              "      cursor: pointer;\n",
              "      display: none;\n",
              "      fill: #1967D2;\n",
              "      height: 32px;\n",
              "      padding: 0 0 0 0;\n",
              "      width: 32px;\n",
              "    }\n",
              "\n",
              "    .colab-df-convert:hover {\n",
              "      background-color: #E2EBFA;\n",
              "      box-shadow: 0px 1px 2px rgba(60, 64, 67, 0.3), 0px 1px 3px 1px rgba(60, 64, 67, 0.15);\n",
              "      fill: #174EA6;\n",
              "    }\n",
              "\n",
              "    [theme=dark] .colab-df-convert {\n",
              "      background-color: #3B4455;\n",
              "      fill: #D2E3FC;\n",
              "    }\n",
              "\n",
              "    [theme=dark] .colab-df-convert:hover {\n",
              "      background-color: #434B5C;\n",
              "      box-shadow: 0px 1px 3px 1px rgba(0, 0, 0, 0.15);\n",
              "      filter: drop-shadow(0px 1px 2px rgba(0, 0, 0, 0.3));\n",
              "      fill: #FFFFFF;\n",
              "    }\n",
              "  </style>\n",
              "\n",
              "      <script>\n",
              "        const buttonEl =\n",
              "          document.querySelector('#df-cd19653f-6ad2-4047-9051-cb4472cff56f button.colab-df-convert');\n",
              "        buttonEl.style.display =\n",
              "          google.colab.kernel.accessAllowed ? 'block' : 'none';\n",
              "\n",
              "        async function convertToInteractive(key) {\n",
              "          const element = document.querySelector('#df-cd19653f-6ad2-4047-9051-cb4472cff56f');\n",
              "          const dataTable =\n",
              "            await google.colab.kernel.invokeFunction('convertToInteractive',\n",
              "                                                     [key], {});\n",
              "          if (!dataTable) return;\n",
              "\n",
              "          const docLinkHtml = 'Like what you see? Visit the ' +\n",
              "            '<a target=\"_blank\" href=https://colab.research.google.com/notebooks/data_table.ipynb>data table notebook</a>'\n",
              "            + ' to learn more about interactive tables.';\n",
              "          element.innerHTML = '';\n",
              "          dataTable['output_type'] = 'display_data';\n",
              "          await google.colab.output.renderOutput(dataTable, element);\n",
              "          const docLink = document.createElement('div');\n",
              "          docLink.innerHTML = docLinkHtml;\n",
              "          element.appendChild(docLink);\n",
              "        }\n",
              "      </script>\n",
              "    </div>\n",
              "  </div>\n",
              "  "
            ],
            "text/plain": [
              "                             price   spread   returns\n",
              "time                                                 \n",
              "2006-12-31 22:00:00+00:00  1.31985  0.00100       NaN\n",
              "2007-01-01 22:00:00+00:00  1.32734  0.00015  0.005659\n",
              "2007-01-02 22:00:00+00:00  1.31688  0.00015 -0.007912\n",
              "2007-01-03 22:00:00+00:00  1.30845  0.00015 -0.006422\n",
              "2007-01-04 22:00:00+00:00  1.30025  0.00100 -0.006287\n",
              "...                            ...      ...       ...\n",
              "2020-06-23 21:00:00+00:00  1.12507  0.00030 -0.005151\n",
              "2020-06-24 21:00:00+00:00  1.12180  0.00023 -0.002911\n",
              "2020-06-25 21:00:00+00:00  1.12184  0.00041  0.000036\n",
              "2020-06-28 21:00:00+00:00  1.12424  0.00018  0.002137\n",
              "2020-06-29 21:00:00+00:00  1.12331  0.00032 -0.000828\n",
              "\n",
              "[4006 rows x 3 columns]"
            ]
          },
          "metadata": {},
          "execution_count": 85
        }
      ],
      "source": [
        "bc.data"
      ]
    },
    {
      "cell_type": "code",
      "execution_count": 86,
      "metadata": {
        "id": "IPuSLJG3L_2o",
        "outputId": "6ca83d7e-de74-41f3-c6e8-fc35c2678f1c",
        "colab": {
          "base_uri": "https://localhost:8080/"
        }
      },
      "outputs": [
        {
          "output_type": "execute_result",
          "data": {
            "text/plain": [
              "-0.1489108610826988"
            ]
          },
          "metadata": {},
          "execution_count": 86
        }
      ],
      "source": [
        "bc.data.price[-1] / bc.data.price[0] - 1"
      ]
    },
    {
      "cell_type": "code",
      "execution_count": 86,
      "metadata": {
        "id": "9m0ES47FL_2o"
      },
      "outputs": [],
      "source": [
        ""
      ]
    },
    {
      "cell_type": "markdown",
      "metadata": {
        "id": "-9ogDyXZL_2o"
      },
      "source": [
        "## Creating an Iterative Base Class (Part 8)"
      ]
    },
    {
      "cell_type": "code",
      "execution_count": 87,
      "metadata": {
        "id": "JnMR2gyHL_2o"
      },
      "outputs": [],
      "source": [
        "class IterativeBase():\n",
        "\n",
        "    def __init__(self, symbol, start, end, amount, use_spread = True):\n",
        "        self.symbol = symbol\n",
        "        self.start = start\n",
        "        self.end = end\n",
        "        self.initial_balance = amount\n",
        "        self.current_balance = amount\n",
        "        self.units = 0\n",
        "        self.trades = 0\n",
        "        self.use_spread = use_spread\n",
        "        self.get_data()\n",
        "\n",
        "    def get_data(self):\n",
        "        raw = pd.read_csv(\"detailed.csv\", parse_dates = [\"time\"], index_col = \"time\").dropna()\n",
        "        raw = raw.loc[self.start:self.end]\n",
        "        raw[\"returns\"] = np.log(raw.price / raw.price.shift(1))\n",
        "        self.data = raw\n",
        "\n",
        "    def plot_data(self, cols = None):  \n",
        "        if cols is None:\n",
        "            cols = \"price\"\n",
        "        self.data[cols].plot(figsize = (12, 8), title = self.symbol)\n",
        "    \n",
        "    def get_values(self, bar):\n",
        "        date = str(self.data.index[bar].date())\n",
        "        price = round(self.data.price.iloc[bar], 5)\n",
        "        spread = round(self.data.spread.iloc[bar], 5)\n",
        "        return date, price, spread\n",
        "    \n",
        "    def print_current_balance(self, bar):\n",
        "        date, price, spread = self.get_values(bar)\n",
        "        print(\"{} | Current Balance: {}\".format(date, round(self.current_balance, 2)))\n",
        "        \n",
        "    def buy_instrument(self, bar, units = None, amount = None):\n",
        "        date, price, spread = self.get_values(bar)\n",
        "        if self.use_spread:\n",
        "            price += spread/2 # ask price\n",
        "        if amount is not None: # use units if units are passed, otherwise calculate units\n",
        "            units = int(amount / price)\n",
        "        self.current_balance -= units * price # reduce cash balance by \"purchase price\"\n",
        "        self.units += units\n",
        "        self.trades += 1\n",
        "        print(\"{} |  Buying {} for {}\".format(date, units, round(price, 5)))\n",
        "    \n",
        "    def sell_instrument(self, bar, units = None, amount = None):\n",
        "        date, price, spread = self.get_values(bar)\n",
        "        if self.use_spread:\n",
        "            price -= spread/2 # bid price\n",
        "        if amount is not None: # use units if units are passed, otherwise calculate units\n",
        "            units = int(amount / price)\n",
        "        self.current_balance += units * price # increases cash balance by \"purchase price\"\n",
        "        self.units -= units\n",
        "        self.trades += 1\n",
        "        print(\"{} |  Selling {} for {}\".format(date, units, round(price, 5)))\n",
        "    \n",
        "    def print_current_position_value(self, bar):\n",
        "        date, price, spread = self.get_values(bar)\n",
        "        cpv = self.units * price\n",
        "        print(\"{} |  Current Position Value = {}\".format(date, round(cpv, 2)))\n",
        "    \n",
        "    def print_current_nav(self, bar):\n",
        "        date, price, spread = self.get_values(bar)\n",
        "        nav = self.current_balance + self.units * price\n",
        "        print(\"{} |  Net Asset Value = {}\".format(date, round(nav, 2)))\n",
        "        \n",
        "    def close_pos(self, bar):\n",
        "        date, price, spread = self.get_values(bar)\n",
        "        print(75 * \"-\")\n",
        "        print(\"{} | +++ CLOSING FINAL POSITION +++\".format(date))\n",
        "        self.current_balance += self.units * price # closing final position (works with short and long!)\n",
        "        self.current_balance -= (abs(self.units) * spread/2 * self.use_spread) # substract half-spread costs\n",
        "        print(\"{} | closing position of {} for {}\".format(date, self.units, price))\n",
        "        self.units = 0 # setting position to neutral\n",
        "        self.trades += 1\n",
        "        perf = (self.current_balance - self.initial_balance) / self.initial_balance * 100\n",
        "        self.print_current_balance(bar)\n",
        "        print(\"{} | net performance (%) = {}\".format(date, round(perf, 2) ))\n",
        "        print(\"{} | number of trades executed = {}\".format(date, self.trades))\n",
        "        print(75 * \"-\")"
      ]
    },
    {
      "cell_type": "code",
      "execution_count": 88,
      "metadata": {
        "id": "74zHkTw2L_2p"
      },
      "outputs": [],
      "source": [
        "bc = IterativeBase(\"EURUSD\", \"2006-12-31\", \"2020-06-30\", 100000, use_spread = True)"
      ]
    },
    {
      "cell_type": "code",
      "execution_count": 89,
      "metadata": {
        "id": "g687TOVHL_2p",
        "outputId": "ad186db5-f59e-4af1-82f0-2d0e9e2896e2",
        "colab": {
          "base_uri": "https://localhost:8080/"
        }
      },
      "outputs": [
        {
          "output_type": "stream",
          "name": "stdout",
          "text": [
            "2006-12-31 |  Buying 75737 for 1.32035\n"
          ]
        }
      ],
      "source": [
        "bc.buy_instrument(0, amount = 100000)"
      ]
    },
    {
      "cell_type": "code",
      "execution_count": 90,
      "metadata": {
        "id": "peWCW9l_L_2p",
        "outputId": "ed9f6d82-e2ad-4473-d362-04caf108b706",
        "colab": {
          "base_uri": "https://localhost:8080/"
        }
      },
      "outputs": [
        {
          "output_type": "stream",
          "name": "stdout",
          "text": [
            "2006-12-31 |  Net Asset Value = 99962.13\n"
          ]
        }
      ],
      "source": [
        "bc.print_current_nav(0)"
      ]
    },
    {
      "cell_type": "code",
      "execution_count": 91,
      "metadata": {
        "id": "Yhqxjf-VL_2p",
        "outputId": "2376dfe7-80bb-4972-a1ec-b87a5dfa7694",
        "colab": {
          "base_uri": "https://localhost:8080/",
          "height": 684
        }
      },
      "outputs": [
        {
          "output_type": "execute_result",
          "data": {
            "text/html": [
              "\n",
              "  <div id=\"df-d8b56b24-cd60-4419-b0d1-824ee30da731\">\n",
              "    <div class=\"colab-df-container\">\n",
              "      <div>\n",
              "<style scoped>\n",
              "    .dataframe tbody tr th:only-of-type {\n",
              "        vertical-align: middle;\n",
              "    }\n",
              "\n",
              "    .dataframe tbody tr th {\n",
              "        vertical-align: top;\n",
              "    }\n",
              "\n",
              "    .dataframe thead th {\n",
              "        text-align: right;\n",
              "    }\n",
              "</style>\n",
              "<table border=\"1\" class=\"dataframe\">\n",
              "  <thead>\n",
              "    <tr style=\"text-align: right;\">\n",
              "      <th></th>\n",
              "      <th>price</th>\n",
              "      <th>spread</th>\n",
              "      <th>returns</th>\n",
              "    </tr>\n",
              "    <tr>\n",
              "      <th>time</th>\n",
              "      <th></th>\n",
              "      <th></th>\n",
              "      <th></th>\n",
              "    </tr>\n",
              "  </thead>\n",
              "  <tbody>\n",
              "    <tr>\n",
              "      <th>2006-12-31 22:00:00+00:00</th>\n",
              "      <td>1.31985</td>\n",
              "      <td>0.00100</td>\n",
              "      <td>NaN</td>\n",
              "    </tr>\n",
              "    <tr>\n",
              "      <th>2007-01-01 22:00:00+00:00</th>\n",
              "      <td>1.32734</td>\n",
              "      <td>0.00015</td>\n",
              "      <td>0.005659</td>\n",
              "    </tr>\n",
              "    <tr>\n",
              "      <th>2007-01-02 22:00:00+00:00</th>\n",
              "      <td>1.31688</td>\n",
              "      <td>0.00015</td>\n",
              "      <td>-0.007912</td>\n",
              "    </tr>\n",
              "    <tr>\n",
              "      <th>2007-01-03 22:00:00+00:00</th>\n",
              "      <td>1.30845</td>\n",
              "      <td>0.00015</td>\n",
              "      <td>-0.006422</td>\n",
              "    </tr>\n",
              "    <tr>\n",
              "      <th>2007-01-04 22:00:00+00:00</th>\n",
              "      <td>1.30025</td>\n",
              "      <td>0.00100</td>\n",
              "      <td>-0.006287</td>\n",
              "    </tr>\n",
              "    <tr>\n",
              "      <th>...</th>\n",
              "      <td>...</td>\n",
              "      <td>...</td>\n",
              "      <td>...</td>\n",
              "    </tr>\n",
              "    <tr>\n",
              "      <th>2020-06-23 21:00:00+00:00</th>\n",
              "      <td>1.12507</td>\n",
              "      <td>0.00030</td>\n",
              "      <td>-0.005151</td>\n",
              "    </tr>\n",
              "    <tr>\n",
              "      <th>2020-06-24 21:00:00+00:00</th>\n",
              "      <td>1.12180</td>\n",
              "      <td>0.00023</td>\n",
              "      <td>-0.002911</td>\n",
              "    </tr>\n",
              "    <tr>\n",
              "      <th>2020-06-25 21:00:00+00:00</th>\n",
              "      <td>1.12184</td>\n",
              "      <td>0.00041</td>\n",
              "      <td>0.000036</td>\n",
              "    </tr>\n",
              "    <tr>\n",
              "      <th>2020-06-28 21:00:00+00:00</th>\n",
              "      <td>1.12424</td>\n",
              "      <td>0.00018</td>\n",
              "      <td>0.002137</td>\n",
              "    </tr>\n",
              "    <tr>\n",
              "      <th>2020-06-29 21:00:00+00:00</th>\n",
              "      <td>1.12331</td>\n",
              "      <td>0.00032</td>\n",
              "      <td>-0.000828</td>\n",
              "    </tr>\n",
              "  </tbody>\n",
              "</table>\n",
              "<p>4006 rows × 3 columns</p>\n",
              "</div>\n",
              "      <button class=\"colab-df-convert\" onclick=\"convertToInteractive('df-d8b56b24-cd60-4419-b0d1-824ee30da731')\"\n",
              "              title=\"Convert this dataframe to an interactive table.\"\n",
              "              style=\"display:none;\">\n",
              "        \n",
              "  <svg xmlns=\"http://www.w3.org/2000/svg\" height=\"24px\"viewBox=\"0 0 24 24\"\n",
              "       width=\"24px\">\n",
              "    <path d=\"M0 0h24v24H0V0z\" fill=\"none\"/>\n",
              "    <path d=\"M18.56 5.44l.94 2.06.94-2.06 2.06-.94-2.06-.94-.94-2.06-.94 2.06-2.06.94zm-11 1L8.5 8.5l.94-2.06 2.06-.94-2.06-.94L8.5 2.5l-.94 2.06-2.06.94zm10 10l.94 2.06.94-2.06 2.06-.94-2.06-.94-.94-2.06-.94 2.06-2.06.94z\"/><path d=\"M17.41 7.96l-1.37-1.37c-.4-.4-.92-.59-1.43-.59-.52 0-1.04.2-1.43.59L10.3 9.45l-7.72 7.72c-.78.78-.78 2.05 0 2.83L4 21.41c.39.39.9.59 1.41.59.51 0 1.02-.2 1.41-.59l7.78-7.78 2.81-2.81c.8-.78.8-2.07 0-2.86zM5.41 20L4 18.59l7.72-7.72 1.47 1.35L5.41 20z\"/>\n",
              "  </svg>\n",
              "      </button>\n",
              "      \n",
              "  <style>\n",
              "    .colab-df-container {\n",
              "      display:flex;\n",
              "      flex-wrap:wrap;\n",
              "      gap: 12px;\n",
              "    }\n",
              "\n",
              "    .colab-df-convert {\n",
              "      background-color: #E8F0FE;\n",
              "      border: none;\n",
              "      border-radius: 50%;\n",
              "      cursor: pointer;\n",
              "      display: none;\n",
              "      fill: #1967D2;\n",
              "      height: 32px;\n",
              "      padding: 0 0 0 0;\n",
              "      width: 32px;\n",
              "    }\n",
              "\n",
              "    .colab-df-convert:hover {\n",
              "      background-color: #E2EBFA;\n",
              "      box-shadow: 0px 1px 2px rgba(60, 64, 67, 0.3), 0px 1px 3px 1px rgba(60, 64, 67, 0.15);\n",
              "      fill: #174EA6;\n",
              "    }\n",
              "\n",
              "    [theme=dark] .colab-df-convert {\n",
              "      background-color: #3B4455;\n",
              "      fill: #D2E3FC;\n",
              "    }\n",
              "\n",
              "    [theme=dark] .colab-df-convert:hover {\n",
              "      background-color: #434B5C;\n",
              "      box-shadow: 0px 1px 3px 1px rgba(0, 0, 0, 0.15);\n",
              "      filter: drop-shadow(0px 1px 2px rgba(0, 0, 0, 0.3));\n",
              "      fill: #FFFFFF;\n",
              "    }\n",
              "  </style>\n",
              "\n",
              "      <script>\n",
              "        const buttonEl =\n",
              "          document.querySelector('#df-d8b56b24-cd60-4419-b0d1-824ee30da731 button.colab-df-convert');\n",
              "        buttonEl.style.display =\n",
              "          google.colab.kernel.accessAllowed ? 'block' : 'none';\n",
              "\n",
              "        async function convertToInteractive(key) {\n",
              "          const element = document.querySelector('#df-d8b56b24-cd60-4419-b0d1-824ee30da731');\n",
              "          const dataTable =\n",
              "            await google.colab.kernel.invokeFunction('convertToInteractive',\n",
              "                                                     [key], {});\n",
              "          if (!dataTable) return;\n",
              "\n",
              "          const docLinkHtml = 'Like what you see? Visit the ' +\n",
              "            '<a target=\"_blank\" href=https://colab.research.google.com/notebooks/data_table.ipynb>data table notebook</a>'\n",
              "            + ' to learn more about interactive tables.';\n",
              "          element.innerHTML = '';\n",
              "          dataTable['output_type'] = 'display_data';\n",
              "          await google.colab.output.renderOutput(dataTable, element);\n",
              "          const docLink = document.createElement('div');\n",
              "          docLink.innerHTML = docLinkHtml;\n",
              "          element.appendChild(docLink);\n",
              "        }\n",
              "      </script>\n",
              "    </div>\n",
              "  </div>\n",
              "  "
            ],
            "text/plain": [
              "                             price   spread   returns\n",
              "time                                                 \n",
              "2006-12-31 22:00:00+00:00  1.31985  0.00100       NaN\n",
              "2007-01-01 22:00:00+00:00  1.32734  0.00015  0.005659\n",
              "2007-01-02 22:00:00+00:00  1.31688  0.00015 -0.007912\n",
              "2007-01-03 22:00:00+00:00  1.30845  0.00015 -0.006422\n",
              "2007-01-04 22:00:00+00:00  1.30025  0.00100 -0.006287\n",
              "...                            ...      ...       ...\n",
              "2020-06-23 21:00:00+00:00  1.12507  0.00030 -0.005151\n",
              "2020-06-24 21:00:00+00:00  1.12180  0.00023 -0.002911\n",
              "2020-06-25 21:00:00+00:00  1.12184  0.00041  0.000036\n",
              "2020-06-28 21:00:00+00:00  1.12424  0.00018  0.002137\n",
              "2020-06-29 21:00:00+00:00  1.12331  0.00032 -0.000828\n",
              "\n",
              "[4006 rows x 3 columns]"
            ]
          },
          "metadata": {},
          "execution_count": 91
        }
      ],
      "source": [
        "bc.data"
      ]
    },
    {
      "cell_type": "code",
      "execution_count": 92,
      "metadata": {
        "id": "KJpeqp61L_2p",
        "outputId": "59763448-1b21-4fd0-d822-601310a0f0cc",
        "colab": {
          "base_uri": "https://localhost:8080/"
        }
      },
      "outputs": [
        {
          "output_type": "execute_result",
          "data": {
            "text/plain": [
              "37.8685"
            ]
          },
          "metadata": {},
          "execution_count": 92
        }
      ],
      "source": [
        "bc.data.spread[0] / 2 * 75737"
      ]
    },
    {
      "cell_type": "code",
      "execution_count": 93,
      "metadata": {
        "id": "7YyGbJ0QL_2q",
        "outputId": "a88ef007-78f5-4a9c-d001-491cc6a8d105",
        "colab": {
          "base_uri": "https://localhost:8080/"
        }
      },
      "outputs": [
        {
          "output_type": "stream",
          "name": "stdout",
          "text": [
            "---------------------------------------------------------------------------\n",
            "2020-06-29 | +++ CLOSING FINAL POSITION +++\n",
            "2020-06-29 | closing position of 75737 for 1.12331\n",
            "2020-06-29 | Current Balance: 85064.66\n",
            "2020-06-29 | net performance (%) = -14.94\n",
            "2020-06-29 | number of trades executed = 2\n",
            "---------------------------------------------------------------------------\n"
          ]
        }
      ],
      "source": [
        "bc.close_pos(-1)"
      ]
    },
    {
      "cell_type": "code",
      "execution_count": 93,
      "metadata": {
        "id": "XbjmqtrHL_2q"
      },
      "outputs": [],
      "source": [
        ""
      ]
    },
    {
      "cell_type": "markdown",
      "metadata": {
        "id": "eTgPPwMtL_2q"
      },
      "source": [
        "## Iterative Backtesting of SMA Strategies"
      ]
    },
    {
      "cell_type": "code",
      "execution_count": 94,
      "metadata": {
        "id": "tdH7TnCDL_2q"
      },
      "outputs": [],
      "source": [
        "import pandas as pd\n",
        "import numpy as np\n",
        "import matplotlib.pyplot as plt\n",
        "plt.style.use(\"seaborn\")"
      ]
    },
    {
      "cell_type": "code",
      "execution_count": 95,
      "metadata": {
        "id": "oT6hmH3WL_2q"
      },
      "outputs": [],
      "source": [
        "class IterativeBase():\n",
        "\n",
        "    def __init__(self, symbol, start, end, amount, use_spread = True):\n",
        "        self.symbol = symbol\n",
        "        self.start = start\n",
        "        self.end = end\n",
        "        self.initial_balance = amount\n",
        "        self.current_balance = amount\n",
        "        self.units = 0\n",
        "        self.trades = 0\n",
        "        self.position = 0\n",
        "        self.use_spread = use_spread\n",
        "        self.get_data()\n",
        "\n",
        "    def get_data(self):\n",
        "        raw = pd.read_csv(\"detailed.csv\", parse_dates = [\"time\"], index_col = \"time\").dropna()\n",
        "        raw = raw.loc[self.start:self.end]\n",
        "        raw[\"returns\"] = np.log(raw.price / raw.price.shift(1))\n",
        "        self.data = raw\n",
        "\n",
        "    def plot_data(self, cols = None):  \n",
        "        if cols is None:\n",
        "            cols = \"price\"\n",
        "        self.data[cols].plot(figsize = (12, 8), title = self.symbol)\n",
        "    \n",
        "    def get_values(self, bar):\n",
        "        date = str(self.data.index[bar].date())\n",
        "        price = round(self.data.price.iloc[bar], 5)\n",
        "        spread = round(self.data.spread.iloc[bar], 5)\n",
        "        return date, price, spread\n",
        "    \n",
        "    def print_current_balance(self, bar):\n",
        "        date, price, spread = self.get_values(bar)\n",
        "        print(\"{} | Current Balance: {}\".format(date, round(self.current_balance, 2)))\n",
        "        \n",
        "    def buy_instrument(self, bar, units = None, amount = None):\n",
        "        date, price, spread = self.get_values(bar)\n",
        "        if self.use_spread:\n",
        "            price += spread/2 # ask price\n",
        "        if amount is not None: # use units if units are passed, otherwise calculate units\n",
        "            units = int(amount / price)\n",
        "        self.current_balance -= units * price # reduce cash balance by \"purchase price\"\n",
        "        self.units += units\n",
        "        self.trades += 1\n",
        "        print(\"{} |  Buying {} for {}\".format(date, units, round(price, 5)))\n",
        "    \n",
        "    def sell_instrument(self, bar, units = None, amount = None):\n",
        "        date, price, spread = self.get_values(bar)\n",
        "        if self.use_spread:\n",
        "            price -= spread/2 # bid price\n",
        "        if amount is not None: # use units if units are passed, otherwise calculate units\n",
        "            units = int(amount / price)\n",
        "        self.current_balance += units * price # increases cash balance by \"purchase price\"\n",
        "        self.units -= units\n",
        "        self.trades += 1\n",
        "        print(\"{} |  Selling {} for {}\".format(date, units, round(price, 5)))\n",
        "    \n",
        "    def print_current_position_value(self, bar):\n",
        "        date, price, spread = self.get_values(bar)\n",
        "        cpv = self.units * price\n",
        "        print(\"{} |  Current Position Value = {}\".format(date, round(cpv, 2)))\n",
        "    \n",
        "    def print_current_nav(self, bar):\n",
        "        date, price, spread = self.get_values(bar)\n",
        "        nav = self.current_balance + self.units * price\n",
        "        print(\"{} |  Net Asset Value = {}\".format(date, round(nav, 2)))\n",
        "        \n",
        "    def close_pos(self, bar):\n",
        "        date, price, spread = self.get_values(bar)\n",
        "        print(75 * \"-\")\n",
        "        print(\"{} | +++ CLOSING FINAL POSITION +++\".format(date))\n",
        "        self.current_balance += self.units * price # closing final position (works with short and long!)\n",
        "        self.current_balance -= (abs(self.units) * spread/2 * self.use_spread) # substract half-spread costs\n",
        "        print(\"{} | closing position of {} for {}\".format(date, self.units, price))\n",
        "        self.units = 0 # setting position to neutral\n",
        "        self.trades += 1\n",
        "        perf = (self.current_balance - self.initial_balance) / self.initial_balance * 100\n",
        "        self.print_current_balance(bar)\n",
        "        print(\"{} | net performance (%) = {}\".format(date, round(perf, 2) ))\n",
        "        print(\"{} | number of trades executed = {}\".format(date, self.trades))\n",
        "        print(75 * \"-\")"
      ]
    },
    {
      "cell_type": "code",
      "execution_count": 96,
      "metadata": {
        "id": "3uZdeGmWL_2q"
      },
      "outputs": [],
      "source": [
        "class IterativeBacktest(IterativeBase):\n",
        "\n",
        "    # helper method\n",
        "    def go_long(self, bar, units = None, amount = None):\n",
        "        if self.position == -1:\n",
        "            self.buy_instrument(bar, units = -self.units) # if short position, go neutral first\n",
        "        if units:\n",
        "            self.buy_instrument(bar, units = units)\n",
        "        elif amount:\n",
        "            if amount == \"all\":\n",
        "                amount = self.current_balance\n",
        "            self.buy_instrument(bar, amount = amount) # go long\n",
        "\n",
        "    # helper method\n",
        "    def go_short(self, bar, units = None, amount = None):\n",
        "        if self.position == 1:\n",
        "            self.sell_instrument(bar, units = self.units) # if long position, go neutral first\n",
        "        if units:\n",
        "            self.sell_instrument(bar, units = units)\n",
        "        elif amount:\n",
        "            if amount == \"all\":\n",
        "                amount = self.current_balance\n",
        "            self.sell_instrument(bar, amount = amount) # go short\n",
        "\n",
        "    def test_sma_strategy(self, SMA_S, SMA_L):\n",
        "        \n",
        "        # nice printout\n",
        "        stm = \"Testing SMA strategy | {} | SMA_S = {} & SMA_L = {}\".format(self.symbol, SMA_S, SMA_L)\n",
        "        print(\"-\" * 75)\n",
        "        print(stm)\n",
        "        print(\"-\" * 75)\n",
        "        \n",
        "        # reset \n",
        "        self.position = 0  # initial neutral position\n",
        "        self.trades = 0  # no trades yet\n",
        "        self.current_balance = self.initial_balance  # reset initial capital\n",
        "        self.get_data() # reset dataset\n",
        "        \n",
        "        # prepare data\n",
        "        self.data[\"SMA_S\"] = self.data[\"price\"].rolling(SMA_S).mean()\n",
        "        self.data[\"SMA_L\"] = self.data[\"price\"].rolling(SMA_L).mean()\n",
        "        self.data.dropna(inplace = True)\n",
        "\n",
        "        # sma crossover strategy\n",
        "        for bar in range(len(self.data)-1): # all bars (except the last bar)\n",
        "            if self.data[\"SMA_S\"].iloc[bar] > self.data[\"SMA_L\"].iloc[bar]: # signal to go long\n",
        "                if self.position in [0, -1]:\n",
        "                    self.go_long(bar, amount = \"all\") # go long with full amount\n",
        "                    self.position = 1  # long position\n",
        "            elif self.data[\"SMA_S\"].iloc[bar] < self.data[\"SMA_L\"].iloc[bar]: # signal to go short\n",
        "                if self.position in [0, 1]:\n",
        "                    self.go_short(bar, amount = \"all\") # go short with full amount\n",
        "                    self.position = -1 # short position\n",
        "        self.close_pos(bar+1) # close position at the last bar"
      ]
    },
    {
      "cell_type": "code",
      "execution_count": 97,
      "metadata": {
        "id": "I-kAm6mBL_2r"
      },
      "outputs": [],
      "source": [
        "bc = IterativeBacktest(\"EURUSD\", \"2006-12-31\", \"2020-06-30\", 100000, use_spread= True)"
      ]
    },
    {
      "cell_type": "code",
      "execution_count": 98,
      "metadata": {
        "id": "NnxN-NdML_2r",
        "outputId": "64ee6a93-6aa6-4311-d1cc-ce0ec68dcecf",
        "colab": {
          "base_uri": "https://localhost:8080/",
          "height": 450
        }
      },
      "outputs": [
        {
          "output_type": "execute_result",
          "data": {
            "text/html": [
              "\n",
              "  <div id=\"df-c345ee05-06b7-4c44-887f-73bdfd7100e6\">\n",
              "    <div class=\"colab-df-container\">\n",
              "      <div>\n",
              "<style scoped>\n",
              "    .dataframe tbody tr th:only-of-type {\n",
              "        vertical-align: middle;\n",
              "    }\n",
              "\n",
              "    .dataframe tbody tr th {\n",
              "        vertical-align: top;\n",
              "    }\n",
              "\n",
              "    .dataframe thead th {\n",
              "        text-align: right;\n",
              "    }\n",
              "</style>\n",
              "<table border=\"1\" class=\"dataframe\">\n",
              "  <thead>\n",
              "    <tr style=\"text-align: right;\">\n",
              "      <th></th>\n",
              "      <th>price</th>\n",
              "      <th>spread</th>\n",
              "      <th>returns</th>\n",
              "    </tr>\n",
              "    <tr>\n",
              "      <th>time</th>\n",
              "      <th></th>\n",
              "      <th></th>\n",
              "      <th></th>\n",
              "    </tr>\n",
              "  </thead>\n",
              "  <tbody>\n",
              "    <tr>\n",
              "      <th>2006-12-31 22:00:00+00:00</th>\n",
              "      <td>1.31985</td>\n",
              "      <td>0.00100</td>\n",
              "      <td>NaN</td>\n",
              "    </tr>\n",
              "    <tr>\n",
              "      <th>2007-01-01 22:00:00+00:00</th>\n",
              "      <td>1.32734</td>\n",
              "      <td>0.00015</td>\n",
              "      <td>0.005659</td>\n",
              "    </tr>\n",
              "    <tr>\n",
              "      <th>2007-01-02 22:00:00+00:00</th>\n",
              "      <td>1.31688</td>\n",
              "      <td>0.00015</td>\n",
              "      <td>-0.007912</td>\n",
              "    </tr>\n",
              "    <tr>\n",
              "      <th>2007-01-03 22:00:00+00:00</th>\n",
              "      <td>1.30845</td>\n",
              "      <td>0.00015</td>\n",
              "      <td>-0.006422</td>\n",
              "    </tr>\n",
              "    <tr>\n",
              "      <th>2007-01-04 22:00:00+00:00</th>\n",
              "      <td>1.30025</td>\n",
              "      <td>0.00100</td>\n",
              "      <td>-0.006287</td>\n",
              "    </tr>\n",
              "    <tr>\n",
              "      <th>...</th>\n",
              "      <td>...</td>\n",
              "      <td>...</td>\n",
              "      <td>...</td>\n",
              "    </tr>\n",
              "    <tr>\n",
              "      <th>2020-06-23 21:00:00+00:00</th>\n",
              "      <td>1.12507</td>\n",
              "      <td>0.00030</td>\n",
              "      <td>-0.005151</td>\n",
              "    </tr>\n",
              "    <tr>\n",
              "      <th>2020-06-24 21:00:00+00:00</th>\n",
              "      <td>1.12180</td>\n",
              "      <td>0.00023</td>\n",
              "      <td>-0.002911</td>\n",
              "    </tr>\n",
              "    <tr>\n",
              "      <th>2020-06-25 21:00:00+00:00</th>\n",
              "      <td>1.12184</td>\n",
              "      <td>0.00041</td>\n",
              "      <td>0.000036</td>\n",
              "    </tr>\n",
              "    <tr>\n",
              "      <th>2020-06-28 21:00:00+00:00</th>\n",
              "      <td>1.12424</td>\n",
              "      <td>0.00018</td>\n",
              "      <td>0.002137</td>\n",
              "    </tr>\n",
              "    <tr>\n",
              "      <th>2020-06-29 21:00:00+00:00</th>\n",
              "      <td>1.12331</td>\n",
              "      <td>0.00032</td>\n",
              "      <td>-0.000828</td>\n",
              "    </tr>\n",
              "  </tbody>\n",
              "</table>\n",
              "<p>4006 rows × 3 columns</p>\n",
              "</div>\n",
              "      <button class=\"colab-df-convert\" onclick=\"convertToInteractive('df-c345ee05-06b7-4c44-887f-73bdfd7100e6')\"\n",
              "              title=\"Convert this dataframe to an interactive table.\"\n",
              "              style=\"display:none;\">\n",
              "        \n",
              "  <svg xmlns=\"http://www.w3.org/2000/svg\" height=\"24px\"viewBox=\"0 0 24 24\"\n",
              "       width=\"24px\">\n",
              "    <path d=\"M0 0h24v24H0V0z\" fill=\"none\"/>\n",
              "    <path d=\"M18.56 5.44l.94 2.06.94-2.06 2.06-.94-2.06-.94-.94-2.06-.94 2.06-2.06.94zm-11 1L8.5 8.5l.94-2.06 2.06-.94-2.06-.94L8.5 2.5l-.94 2.06-2.06.94zm10 10l.94 2.06.94-2.06 2.06-.94-2.06-.94-.94-2.06-.94 2.06-2.06.94z\"/><path d=\"M17.41 7.96l-1.37-1.37c-.4-.4-.92-.59-1.43-.59-.52 0-1.04.2-1.43.59L10.3 9.45l-7.72 7.72c-.78.78-.78 2.05 0 2.83L4 21.41c.39.39.9.59 1.41.59.51 0 1.02-.2 1.41-.59l7.78-7.78 2.81-2.81c.8-.78.8-2.07 0-2.86zM5.41 20L4 18.59l7.72-7.72 1.47 1.35L5.41 20z\"/>\n",
              "  </svg>\n",
              "      </button>\n",
              "      \n",
              "  <style>\n",
              "    .colab-df-container {\n",
              "      display:flex;\n",
              "      flex-wrap:wrap;\n",
              "      gap: 12px;\n",
              "    }\n",
              "\n",
              "    .colab-df-convert {\n",
              "      background-color: #E8F0FE;\n",
              "      border: none;\n",
              "      border-radius: 50%;\n",
              "      cursor: pointer;\n",
              "      display: none;\n",
              "      fill: #1967D2;\n",
              "      height: 32px;\n",
              "      padding: 0 0 0 0;\n",
              "      width: 32px;\n",
              "    }\n",
              "\n",
              "    .colab-df-convert:hover {\n",
              "      background-color: #E2EBFA;\n",
              "      box-shadow: 0px 1px 2px rgba(60, 64, 67, 0.3), 0px 1px 3px 1px rgba(60, 64, 67, 0.15);\n",
              "      fill: #174EA6;\n",
              "    }\n",
              "\n",
              "    [theme=dark] .colab-df-convert {\n",
              "      background-color: #3B4455;\n",
              "      fill: #D2E3FC;\n",
              "    }\n",
              "\n",
              "    [theme=dark] .colab-df-convert:hover {\n",
              "      background-color: #434B5C;\n",
              "      box-shadow: 0px 1px 3px 1px rgba(0, 0, 0, 0.15);\n",
              "      filter: drop-shadow(0px 1px 2px rgba(0, 0, 0, 0.3));\n",
              "      fill: #FFFFFF;\n",
              "    }\n",
              "  </style>\n",
              "\n",
              "      <script>\n",
              "        const buttonEl =\n",
              "          document.querySelector('#df-c345ee05-06b7-4c44-887f-73bdfd7100e6 button.colab-df-convert');\n",
              "        buttonEl.style.display =\n",
              "          google.colab.kernel.accessAllowed ? 'block' : 'none';\n",
              "\n",
              "        async function convertToInteractive(key) {\n",
              "          const element = document.querySelector('#df-c345ee05-06b7-4c44-887f-73bdfd7100e6');\n",
              "          const dataTable =\n",
              "            await google.colab.kernel.invokeFunction('convertToInteractive',\n",
              "                                                     [key], {});\n",
              "          if (!dataTable) return;\n",
              "\n",
              "          const docLinkHtml = 'Like what you see? Visit the ' +\n",
              "            '<a target=\"_blank\" href=https://colab.research.google.com/notebooks/data_table.ipynb>data table notebook</a>'\n",
              "            + ' to learn more about interactive tables.';\n",
              "          element.innerHTML = '';\n",
              "          dataTable['output_type'] = 'display_data';\n",
              "          await google.colab.output.renderOutput(dataTable, element);\n",
              "          const docLink = document.createElement('div');\n",
              "          docLink.innerHTML = docLinkHtml;\n",
              "          element.appendChild(docLink);\n",
              "        }\n",
              "      </script>\n",
              "    </div>\n",
              "  </div>\n",
              "  "
            ],
            "text/plain": [
              "                             price   spread   returns\n",
              "time                                                 \n",
              "2006-12-31 22:00:00+00:00  1.31985  0.00100       NaN\n",
              "2007-01-01 22:00:00+00:00  1.32734  0.00015  0.005659\n",
              "2007-01-02 22:00:00+00:00  1.31688  0.00015 -0.007912\n",
              "2007-01-03 22:00:00+00:00  1.30845  0.00015 -0.006422\n",
              "2007-01-04 22:00:00+00:00  1.30025  0.00100 -0.006287\n",
              "...                            ...      ...       ...\n",
              "2020-06-23 21:00:00+00:00  1.12507  0.00030 -0.005151\n",
              "2020-06-24 21:00:00+00:00  1.12180  0.00023 -0.002911\n",
              "2020-06-25 21:00:00+00:00  1.12184  0.00041  0.000036\n",
              "2020-06-28 21:00:00+00:00  1.12424  0.00018  0.002137\n",
              "2020-06-29 21:00:00+00:00  1.12331  0.00032 -0.000828\n",
              "\n",
              "[4006 rows x 3 columns]"
            ]
          },
          "metadata": {},
          "execution_count": 98
        }
      ],
      "source": [
        "bc.data"
      ]
    },
    {
      "cell_type": "code",
      "execution_count": 99,
      "metadata": {
        "id": "znIVUQxyL_2r",
        "outputId": "10f1b4cc-5a9b-4dcd-df53-00268fc410a8",
        "colab": {
          "base_uri": "https://localhost:8080/"
        }
      },
      "outputs": [
        {
          "output_type": "stream",
          "name": "stdout",
          "text": [
            "---------------------------------------------------------------------------\n",
            "Testing SMA strategy | EURUSD | SMA_S = 50 & SMA_L = 200\n",
            "---------------------------------------------------------------------------\n",
            "2007-08-10 |  Buying 72998 for 1.36989\n",
            "2008-08-28 |  Selling 72998 for 1.46685\n",
            "2008-08-28 |  Selling 72998 for 1.46685\n",
            "2009-04-28 |  Buying 72998 for 1.3276\n",
            "2009-04-28 |  Buying 88311 for 1.3276\n",
            "2010-01-20 |  Selling 88311 for 1.40833\n",
            "2010-01-20 |  Selling 88311 for 1.40833\n",
            "2010-09-27 |  Buying 88311 for 1.35862\n",
            "2010-09-27 |  Buying 94774 for 1.35862\n",
            "2011-01-12 |  Selling 94774 for 1.33626\n",
            "2011-01-12 |  Selling 94774 for 1.33626\n",
            "2011-01-30 |  Buying 94774 for 1.36946\n",
            "2011-01-30 |  Buying 90178 for 1.36946\n",
            "2011-09-10 |  Selling 90178 for 1.35825\n",
            "2011-09-10 |  Selling 90178 for 1.35825\n",
            "2012-10-08 |  Buying 90178 for 1.28857\n",
            "2012-10-08 |  Buying 99931 for 1.28857\n",
            "2013-04-15 |  Selling 99931 for 1.31755\n",
            "2013-04-15 |  Selling 99931 for 1.31755\n",
            "2013-08-04 |  Buying 99931 for 1.32592\n",
            "2013-08-04 |  Buying 98669 for 1.32592\n",
            "2014-07-06 |  Selling 98669 for 1.3603\n",
            "2014-07-06 |  Selling 98669 for 1.3603\n",
            "2015-09-30 |  Buying 98669 for 1.11953\n",
            "2015-09-30 |  Buying 141110 for 1.11953\n",
            "2015-11-24 |  Selling 141110 for 1.06232\n",
            "2015-11-24 |  Selling 141110 for 1.06232\n",
            "2016-03-22 |  Buying 141110 for 1.11821\n",
            "2016-03-22 |  Buying 127006 for 1.11821\n",
            "2016-10-23 |  Selling 127006 for 1.08806\n",
            "2016-10-23 |  Selling 127006 for 1.08806\n",
            "2017-05-23 |  Buying 127006 for 1.12197\n",
            "2017-05-23 |  Buying 119330 for 1.12197\n",
            "2018-06-06 |  Selling 119330 for 1.1796\n",
            "2018-06-06 |  Selling 119330 for 1.1796\n",
            "2020-06-25 |  Buying 119330 for 1.12204\n",
            "2020-06-25 |  Buying 131572 for 1.12204\n",
            "---------------------------------------------------------------------------\n",
            "2020-06-29 | +++ CLOSING FINAL POSITION +++\n",
            "2020-06-29 | closing position of 131572 for 1.12331\n",
            "2020-06-29 | Current Balance: 147775.36\n",
            "2020-06-29 | net performance (%) = 47.78\n",
            "2020-06-29 | number of trades executed = 38\n",
            "---------------------------------------------------------------------------\n"
          ]
        }
      ],
      "source": [
        "bc.test_sma_strategy(50, 200)"
      ]
    },
    {
      "cell_type": "code",
      "execution_count": 99,
      "metadata": {
        "id": "zyBu_JEaL_2r"
      },
      "outputs": [],
      "source": [
        ""
      ]
    }
  ],
  "metadata": {
    "kernelspec": {
      "display_name": "Python 3",
      "language": "python",
      "name": "python3"
    },
    "language_info": {
      "codemirror_mode": {
        "name": "ipython",
        "version": 3
      },
      "file_extension": ".py",
      "mimetype": "text/x-python",
      "name": "python",
      "nbconvert_exporter": "python",
      "pygments_lexer": "ipython3",
      "version": "3.8.5"
    },
    "colab": {
      "name": "IterativeBacktesting.ipynb",
      "provenance": [],
      "include_colab_link": true
    }
  },
  "nbformat": 4,
  "nbformat_minor": 0
}