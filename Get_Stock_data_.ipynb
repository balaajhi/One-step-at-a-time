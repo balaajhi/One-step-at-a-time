{
  "nbformat": 4,
  "nbformat_minor": 0,
  "metadata": {
    "colab": {
      "name": "Get Stock data .ipynb",
      "provenance": [],
      "authorship_tag": "ABX9TyNV1Hho9LfWZZVhyDipPJ0M",
      "include_colab_link": true
    },
    "kernelspec": {
      "name": "python3",
      "display_name": "Python 3"
    },
    "language_info": {
      "name": "python"
    }
  },
  "cells": [
    {
      "cell_type": "markdown",
      "metadata": {
        "id": "view-in-github",
        "colab_type": "text"
      },
      "source": [
        "<a href=\"https://colab.research.google.com/github/balaajhi/One-step-at-a-time/blob/main/Get_Stock_data_.ipynb\" target=\"_parent\"><img src=\"https://colab.research.google.com/assets/colab-badge.svg\" alt=\"Open In Colab\"/></a>"
      ]
    },
    {
      "cell_type": "code",
      "metadata": {
        "colab": {
          "base_uri": "https://localhost:8080/"
        },
        "id": "p_wtI86uaD67",
        "outputId": "d61cfa01-55d9-48b4-e83a-26eb1baa98a7"
      },
      "source": [
        "pip install yfinance"
      ],
      "execution_count": 1,
      "outputs": [
        {
          "output_type": "stream",
          "name": "stdout",
          "text": [
            "Collecting yfinance\n",
            "  Downloading yfinance-0.1.64.tar.gz (26 kB)\n",
            "Requirement already satisfied: pandas>=0.24 in /usr/local/lib/python3.7/dist-packages (from yfinance) (1.1.5)\n",
            "Requirement already satisfied: numpy>=1.15 in /usr/local/lib/python3.7/dist-packages (from yfinance) (1.19.5)\n",
            "Requirement already satisfied: requests>=2.20 in /usr/local/lib/python3.7/dist-packages (from yfinance) (2.23.0)\n",
            "Requirement already satisfied: multitasking>=0.0.7 in /usr/local/lib/python3.7/dist-packages (from yfinance) (0.0.9)\n",
            "Collecting lxml>=4.5.1\n",
            "  Downloading lxml-4.6.3-cp37-cp37m-manylinux2014_x86_64.whl (6.3 MB)\n",
            "\u001b[K     |████████████████████████████████| 6.3 MB 6.9 MB/s \n",
            "\u001b[?25hRequirement already satisfied: python-dateutil>=2.7.3 in /usr/local/lib/python3.7/dist-packages (from pandas>=0.24->yfinance) (2.8.2)\n",
            "Requirement already satisfied: pytz>=2017.2 in /usr/local/lib/python3.7/dist-packages (from pandas>=0.24->yfinance) (2018.9)\n",
            "Requirement already satisfied: six>=1.5 in /usr/local/lib/python3.7/dist-packages (from python-dateutil>=2.7.3->pandas>=0.24->yfinance) (1.15.0)\n",
            "Requirement already satisfied: idna<3,>=2.5 in /usr/local/lib/python3.7/dist-packages (from requests>=2.20->yfinance) (2.10)\n",
            "Requirement already satisfied: chardet<4,>=3.0.2 in /usr/local/lib/python3.7/dist-packages (from requests>=2.20->yfinance) (3.0.4)\n",
            "Requirement already satisfied: certifi>=2017.4.17 in /usr/local/lib/python3.7/dist-packages (from requests>=2.20->yfinance) (2021.5.30)\n",
            "Requirement already satisfied: urllib3!=1.25.0,!=1.25.1,<1.26,>=1.21.1 in /usr/local/lib/python3.7/dist-packages (from requests>=2.20->yfinance) (1.24.3)\n",
            "Building wheels for collected packages: yfinance\n",
            "  Building wheel for yfinance (setup.py) ... \u001b[?25l\u001b[?25hdone\n",
            "  Created wheel for yfinance: filename=yfinance-0.1.64-py2.py3-none-any.whl size=24109 sha256=4cff9d766fac956e9917d82f271ffe328406a45d59ccf3ac3234d69b1b7cec45\n",
            "  Stored in directory: /root/.cache/pip/wheels/86/fe/9b/a4d3d78796b699e37065e5b6c27b75cff448ddb8b24943c288\n",
            "Successfully built yfinance\n",
            "Installing collected packages: lxml, yfinance\n",
            "  Attempting uninstall: lxml\n",
            "    Found existing installation: lxml 4.2.6\n",
            "    Uninstalling lxml-4.2.6:\n",
            "      Successfully uninstalled lxml-4.2.6\n",
            "Successfully installed lxml-4.6.3 yfinance-0.1.64\n"
          ]
        }
      ]
    },
    {
      "cell_type": "code",
      "metadata": {
        "colab": {
          "base_uri": "https://localhost:8080/"
        },
        "id": "80VVWbSWaQdy",
        "outputId": "af76d288-7b36-4caf-854d-c77a5eb5b993"
      },
      "source": [
        "print('Enter stock symbol')\n",
        "stocks= []\n",
        "stocks.append(input())"
      ],
      "execution_count": 18,
      "outputs": [
        {
          "name": "stdout",
          "output_type": "stream",
          "text": [
            "Enter stock symbol\n",
            "MSFT\n"
          ]
        }
      ]
    },
    {
      "cell_type": "code",
      "metadata": {
        "colab": {
          "base_uri": "https://localhost:8080/"
        },
        "id": "Zlg9DIHFhuXN",
        "outputId": "fa3194d7-608c-45db-8265-f15d3e7821df"
      },
      "source": [
        "import datetime as dt\n",
        "import yfinance as yf\n",
        "import pandas as pd\n",
        "\n",
        "start = dt.datetime.today()-dt.timedelta(14000)\n",
        "end = dt.datetime.today()\n",
        "cl_price = pd.DataFrame() # empty dataframe which will be filled with closing prices of each stock\n",
        "ohlcv_data = {} # empty dictionary which will be filled with ohlcv dataframe for each ticker\n",
        "\n",
        "# looping over tickers and creating a dataframe with close prices\n",
        "for ticker in stocks:\n",
        "    cl_price[ticker] = yf.download(ticker,start,end)[\"Adj Close\"]\n",
        "    \n",
        "\n",
        "# looping over tickers and storing OHLCV dataframe in dictionary\n",
        "for ticker in stocks:\n",
        "    ohlcv_data[ticker] = yf.download(ticker,start,end)\n",
        "\n",
        "\n",
        "cl_price\n",
        "ohlcv_data"
      ],
      "execution_count": 22,
      "outputs": [
        {
          "output_type": "stream",
          "name": "stdout",
          "text": [
            "[*********************100%***********************]  1 of 1 completed\n",
            "[*********************100%***********************]  1 of 1 completed\n"
          ]
        },
        {
          "output_type": "execute_result",
          "data": {
            "text/plain": [
              "{'MSFT':                   Open        High  ...   Adj Close      Volume\n",
              " Date                                ...                        \n",
              " 1986-03-13    0.088542    0.101563  ...    0.061491  1031788800\n",
              " 1986-03-14    0.097222    0.102431  ...    0.063687   308160000\n",
              " 1986-03-17    0.100694    0.103299  ...    0.064785   133171200\n",
              " 1986-03-18    0.102431    0.103299  ...    0.063138    67766400\n",
              " 1986-03-19    0.099826    0.100694  ...    0.062040    47894400\n",
              " ...                ...         ...  ...         ...         ...\n",
              " 2021-10-25  309.359985  309.399994  ...  308.130005    17554500\n",
              " 2021-10-26  311.000000  312.399994  ...  310.109985    28107300\n",
              " 2021-10-27  316.000000  326.100006  ...  323.170013    52588700\n",
              " 2021-10-28  324.329987  324.869995  ...  324.350006    26297900\n",
              " 2021-10-29  324.130005  332.000000  ...  331.619995    34744900\n",
              " \n",
              " [8983 rows x 6 columns]}"
            ]
          },
          "metadata": {},
          "execution_count": 22
        }
      ]
    }
  ]
}