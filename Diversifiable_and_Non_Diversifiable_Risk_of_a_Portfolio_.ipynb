{
  "cells": [
    {
      "cell_type": "markdown",
      "metadata": {
        "id": "view-in-github",
        "colab_type": "text"
      },
      "source": [
        "<a href=\"https://colab.research.google.com/github/balaajhi/One-step-at-a-time/blob/main/Diversifiable_and_Non_Diversifiable_Risk_of_a_Portfolio_.ipynb\" target=\"_parent\"><img src=\"https://colab.research.google.com/assets/colab-badge.svg\" alt=\"Open In Colab\"/></a>"
      ]
    },
    {
      "cell_type": "markdown",
      "metadata": {
        "id": "088qCkjIJQ7p"
      },
      "source": [
        "## Diversifiable and Non-Diversifiable Risk of a Portfolio"
      ]
    },
    {
      "cell_type": "code",
      "execution_count": 20,
      "metadata": {
        "colab": {
          "base_uri": "https://localhost:8080/",
          "height": 705
        },
        "id": "F6WFpQ03JQ7u",
        "outputId": "63d4a670-a013-4336-f478-825f3d7aaf45"
      },
      "outputs": [
        {
          "output_type": "stream",
          "name": "stdout",
          "text": [
            "Requirement already satisfied: yfinance in /usr/local/lib/python3.7/dist-packages (0.1.70)\n",
            "Requirement already satisfied: multitasking>=0.0.7 in /usr/local/lib/python3.7/dist-packages (from yfinance) (0.0.10)\n",
            "Requirement already satisfied: numpy>=1.15 in /usr/local/lib/python3.7/dist-packages (from yfinance) (1.19.5)\n",
            "Requirement already satisfied: pandas>=0.24.0 in /usr/local/lib/python3.7/dist-packages (from yfinance) (1.3.5)\n",
            "Requirement already satisfied: requests>=2.26 in /usr/local/lib/python3.7/dist-packages (from yfinance) (2.27.1)\n",
            "Requirement already satisfied: lxml>=4.5.1 in /usr/local/lib/python3.7/dist-packages (from yfinance) (4.7.1)\n",
            "Requirement already satisfied: python-dateutil>=2.7.3 in /usr/local/lib/python3.7/dist-packages (from pandas>=0.24.0->yfinance) (2.8.2)\n",
            "Requirement already satisfied: pytz>=2017.3 in /usr/local/lib/python3.7/dist-packages (from pandas>=0.24.0->yfinance) (2018.9)\n",
            "Requirement already satisfied: six>=1.5 in /usr/local/lib/python3.7/dist-packages (from python-dateutil>=2.7.3->pandas>=0.24.0->yfinance) (1.15.0)\n",
            "Requirement already satisfied: urllib3<1.27,>=1.21.1 in /usr/local/lib/python3.7/dist-packages (from requests>=2.26->yfinance) (1.24.3)\n",
            "Requirement already satisfied: charset-normalizer~=2.0.0 in /usr/local/lib/python3.7/dist-packages (from requests>=2.26->yfinance) (2.0.11)\n",
            "Requirement already satisfied: certifi>=2017.4.17 in /usr/local/lib/python3.7/dist-packages (from requests>=2.26->yfinance) (2021.10.8)\n",
            "Requirement already satisfied: idna<4,>=2.5 in /usr/local/lib/python3.7/dist-packages (from requests>=2.26->yfinance) (2.10)\n",
            "[*********************100%***********************]  1 of 1 completed\n",
            "[*********************100%***********************]  1 of 1 completed\n"
          ]
        },
        {
          "output_type": "execute_result",
          "data": {
            "text/html": [
              "\n",
              "  <div id=\"df-83042a05-5b5c-4e85-b393-b2289bf23a95\">\n",
              "    <div class=\"colab-df-container\">\n",
              "      <div>\n",
              "<style scoped>\n",
              "    .dataframe tbody tr th:only-of-type {\n",
              "        vertical-align: middle;\n",
              "    }\n",
              "\n",
              "    .dataframe tbody tr th {\n",
              "        vertical-align: top;\n",
              "    }\n",
              "\n",
              "    .dataframe thead th {\n",
              "        text-align: right;\n",
              "    }\n",
              "</style>\n",
              "<table border=\"1\" class=\"dataframe\">\n",
              "  <thead>\n",
              "    <tr style=\"text-align: right;\">\n",
              "      <th></th>\n",
              "      <th>MSFT</th>\n",
              "      <th>AAPL</th>\n",
              "    </tr>\n",
              "    <tr>\n",
              "      <th>Date</th>\n",
              "      <th></th>\n",
              "      <th></th>\n",
              "    </tr>\n",
              "  </thead>\n",
              "  <tbody>\n",
              "    <tr>\n",
              "      <th>1989-04-06</th>\n",
              "      <td>0.224689</td>\n",
              "      <td>0.255357</td>\n",
              "    </tr>\n",
              "    <tr>\n",
              "      <th>1989-04-07</th>\n",
              "      <td>0.224689</td>\n",
              "      <td>0.265110</td>\n",
              "    </tr>\n",
              "    <tr>\n",
              "      <th>1989-04-10</th>\n",
              "      <td>0.225237</td>\n",
              "      <td>0.262450</td>\n",
              "    </tr>\n",
              "    <tr>\n",
              "      <th>1989-04-11</th>\n",
              "      <td>0.225237</td>\n",
              "      <td>0.267770</td>\n",
              "    </tr>\n",
              "    <tr>\n",
              "      <th>1989-04-12</th>\n",
              "      <td>0.210988</td>\n",
              "      <td>0.273090</td>\n",
              "    </tr>\n",
              "    <tr>\n",
              "      <th>...</th>\n",
              "      <td>...</td>\n",
              "      <td>...</td>\n",
              "    </tr>\n",
              "    <tr>\n",
              "      <th>2022-02-07</th>\n",
              "      <td>300.950012</td>\n",
              "      <td>171.660004</td>\n",
              "    </tr>\n",
              "    <tr>\n",
              "      <th>2022-02-08</th>\n",
              "      <td>304.559998</td>\n",
              "      <td>174.830002</td>\n",
              "    </tr>\n",
              "    <tr>\n",
              "      <th>2022-02-09</th>\n",
              "      <td>311.209991</td>\n",
              "      <td>176.279999</td>\n",
              "    </tr>\n",
              "    <tr>\n",
              "      <th>2022-02-10</th>\n",
              "      <td>302.380005</td>\n",
              "      <td>172.119995</td>\n",
              "    </tr>\n",
              "    <tr>\n",
              "      <th>2022-02-11</th>\n",
              "      <td>295.040009</td>\n",
              "      <td>168.639999</td>\n",
              "    </tr>\n",
              "  </tbody>\n",
              "</table>\n",
              "<p>8280 rows × 2 columns</p>\n",
              "</div>\n",
              "      <button class=\"colab-df-convert\" onclick=\"convertToInteractive('df-83042a05-5b5c-4e85-b393-b2289bf23a95')\"\n",
              "              title=\"Convert this dataframe to an interactive table.\"\n",
              "              style=\"display:none;\">\n",
              "        \n",
              "  <svg xmlns=\"http://www.w3.org/2000/svg\" height=\"24px\"viewBox=\"0 0 24 24\"\n",
              "       width=\"24px\">\n",
              "    <path d=\"M0 0h24v24H0V0z\" fill=\"none\"/>\n",
              "    <path d=\"M18.56 5.44l.94 2.06.94-2.06 2.06-.94-2.06-.94-.94-2.06-.94 2.06-2.06.94zm-11 1L8.5 8.5l.94-2.06 2.06-.94-2.06-.94L8.5 2.5l-.94 2.06-2.06.94zm10 10l.94 2.06.94-2.06 2.06-.94-2.06-.94-.94-2.06-.94 2.06-2.06.94z\"/><path d=\"M17.41 7.96l-1.37-1.37c-.4-.4-.92-.59-1.43-.59-.52 0-1.04.2-1.43.59L10.3 9.45l-7.72 7.72c-.78.78-.78 2.05 0 2.83L4 21.41c.39.39.9.59 1.41.59.51 0 1.02-.2 1.41-.59l7.78-7.78 2.81-2.81c.8-.78.8-2.07 0-2.86zM5.41 20L4 18.59l7.72-7.72 1.47 1.35L5.41 20z\"/>\n",
              "  </svg>\n",
              "      </button>\n",
              "      \n",
              "  <style>\n",
              "    .colab-df-container {\n",
              "      display:flex;\n",
              "      flex-wrap:wrap;\n",
              "      gap: 12px;\n",
              "    }\n",
              "\n",
              "    .colab-df-convert {\n",
              "      background-color: #E8F0FE;\n",
              "      border: none;\n",
              "      border-radius: 50%;\n",
              "      cursor: pointer;\n",
              "      display: none;\n",
              "      fill: #1967D2;\n",
              "      height: 32px;\n",
              "      padding: 0 0 0 0;\n",
              "      width: 32px;\n",
              "    }\n",
              "\n",
              "    .colab-df-convert:hover {\n",
              "      background-color: #E2EBFA;\n",
              "      box-shadow: 0px 1px 2px rgba(60, 64, 67, 0.3), 0px 1px 3px 1px rgba(60, 64, 67, 0.15);\n",
              "      fill: #174EA6;\n",
              "    }\n",
              "\n",
              "    [theme=dark] .colab-df-convert {\n",
              "      background-color: #3B4455;\n",
              "      fill: #D2E3FC;\n",
              "    }\n",
              "\n",
              "    [theme=dark] .colab-df-convert:hover {\n",
              "      background-color: #434B5C;\n",
              "      box-shadow: 0px 1px 3px 1px rgba(0, 0, 0, 0.15);\n",
              "      filter: drop-shadow(0px 1px 2px rgba(0, 0, 0, 0.3));\n",
              "      fill: #FFFFFF;\n",
              "    }\n",
              "  </style>\n",
              "\n",
              "      <script>\n",
              "        const buttonEl =\n",
              "          document.querySelector('#df-83042a05-5b5c-4e85-b393-b2289bf23a95 button.colab-df-convert');\n",
              "        buttonEl.style.display =\n",
              "          google.colab.kernel.accessAllowed ? 'block' : 'none';\n",
              "\n",
              "        async function convertToInteractive(key) {\n",
              "          const element = document.querySelector('#df-83042a05-5b5c-4e85-b393-b2289bf23a95');\n",
              "          const dataTable =\n",
              "            await google.colab.kernel.invokeFunction('convertToInteractive',\n",
              "                                                     [key], {});\n",
              "          if (!dataTable) return;\n",
              "\n",
              "          const docLinkHtml = 'Like what you see? Visit the ' +\n",
              "            '<a target=\"_blank\" href=https://colab.research.google.com/notebooks/data_table.ipynb>data table notebook</a>'\n",
              "            + ' to learn more about interactive tables.';\n",
              "          element.innerHTML = '';\n",
              "          dataTable['output_type'] = 'display_data';\n",
              "          await google.colab.output.renderOutput(dataTable, element);\n",
              "          const docLink = document.createElement('div');\n",
              "          docLink.innerHTML = docLinkHtml;\n",
              "          element.appendChild(docLink);\n",
              "        }\n",
              "      </script>\n",
              "    </div>\n",
              "  </div>\n",
              "  "
            ],
            "text/plain": [
              "                  MSFT        AAPL\n",
              "Date                              \n",
              "1989-04-06    0.224689    0.255357\n",
              "1989-04-07    0.224689    0.265110\n",
              "1989-04-10    0.225237    0.262450\n",
              "1989-04-11    0.225237    0.267770\n",
              "1989-04-12    0.210988    0.273090\n",
              "...                ...         ...\n",
              "2022-02-07  300.950012  171.660004\n",
              "2022-02-08  304.559998  174.830002\n",
              "2022-02-09  311.209991  176.279999\n",
              "2022-02-10  302.380005  172.119995\n",
              "2022-02-11  295.040009  168.639999\n",
              "\n",
              "[8280 rows x 2 columns]"
            ]
          },
          "metadata": {},
          "execution_count": 20
        }
      ],
      "source": [
        "import numpy as np\n",
        "import pandas as pd\n",
        "from pandas_datareader import data as wb\n",
        "import matplotlib.pyplot as plt\n",
        "%pip install yfinance\n",
        "\n",
        "stocks = ['MSFT', 'AAPL']\n",
        "\n",
        "import datetime as dt\n",
        "import yfinance as yf\n",
        "import pandas as pd\n",
        "\n",
        "# stocks = ['PG', 'MSFT', 'F', 'GE']\n",
        "start = dt.datetime.today()-dt.timedelta(12000)\n",
        "end = dt.datetime.today()\n",
        "sec_data = pd.DataFrame() # empty dataframe which will be filled with closing prices of each stock\n",
        "ohlcv_data = {} # empty dictionary which will be filled with ohlcv dataframe for each ticker\n",
        "\n",
        "# looping over tickers and creating a dataframe with close prices\n",
        "for ticker in stocks:\n",
        "    sec_data[ticker] = yf.download(ticker,start,end,interval = '1d')[\"Adj Close\"]\n",
        "    \n",
        "sec_data"
      ]
    },
    {
      "cell_type": "code",
      "execution_count": 21,
      "metadata": {
        "colab": {
          "base_uri": "https://localhost:8080/"
        },
        "id": "LtdD3YA6JQ7x",
        "outputId": "b4dac819-90de-4249-a806-c3cdb0dbeb6f"
      },
      "outputs": [
        {
          "output_type": "stream",
          "name": "stdout",
          "text": [
            "<class 'pandas.core.frame.DataFrame'>\n",
            "DatetimeIndex: 8280 entries, 1989-04-06 to 2022-02-11\n",
            "Data columns (total 2 columns):\n",
            " #   Column  Non-Null Count  Dtype  \n",
            "---  ------  --------------  -----  \n",
            " 0   MSFT    8280 non-null   float64\n",
            " 1   AAPL    8280 non-null   float64\n",
            "dtypes: float64(2)\n",
            "memory usage: 194.1 KB\n"
          ]
        }
      ],
      "source": [
        "sec_data.info()"
      ]
    },
    {
      "cell_type": "markdown",
      "metadata": {
        "id": "t1X2TS4JJQ7x"
      },
      "source": [
        "Then, calculate the diversifiable and the non-diversifiable risk of a portfolio, composed of these two stocks:"
      ]
    },
    {
      "cell_type": "markdown",
      "metadata": {
        "id": "Su1RamJJJQ7y"
      },
      "source": [
        "a) with weights 0.5 and 0.5;"
      ]
    },
    {
      "cell_type": "code",
      "execution_count": 22,
      "metadata": {
        "colab": {
          "base_uri": "https://localhost:8080/",
          "height": 450
        },
        "id": "BlkcQOaxJQ7y",
        "outputId": "67231dde-0e65-49f7-e5fe-689a9b206b59"
      },
      "outputs": [
        {
          "output_type": "execute_result",
          "data": {
            "text/html": [
              "\n",
              "  <div id=\"df-a01fa9e4-3766-42bb-9cb3-70b2c5728d65\">\n",
              "    <div class=\"colab-df-container\">\n",
              "      <div>\n",
              "<style scoped>\n",
              "    .dataframe tbody tr th:only-of-type {\n",
              "        vertical-align: middle;\n",
              "    }\n",
              "\n",
              "    .dataframe tbody tr th {\n",
              "        vertical-align: top;\n",
              "    }\n",
              "\n",
              "    .dataframe thead th {\n",
              "        text-align: right;\n",
              "    }\n",
              "</style>\n",
              "<table border=\"1\" class=\"dataframe\">\n",
              "  <thead>\n",
              "    <tr style=\"text-align: right;\">\n",
              "      <th></th>\n",
              "      <th>MSFT</th>\n",
              "      <th>AAPL</th>\n",
              "    </tr>\n",
              "    <tr>\n",
              "      <th>Date</th>\n",
              "      <th></th>\n",
              "      <th></th>\n",
              "    </tr>\n",
              "  </thead>\n",
              "  <tbody>\n",
              "    <tr>\n",
              "      <th>1989-04-06</th>\n",
              "      <td>NaN</td>\n",
              "      <td>NaN</td>\n",
              "    </tr>\n",
              "    <tr>\n",
              "      <th>1989-04-07</th>\n",
              "      <td>0.000000</td>\n",
              "      <td>0.037481</td>\n",
              "    </tr>\n",
              "    <tr>\n",
              "      <th>1989-04-10</th>\n",
              "      <td>0.002435</td>\n",
              "      <td>-0.010083</td>\n",
              "    </tr>\n",
              "    <tr>\n",
              "      <th>1989-04-11</th>\n",
              "      <td>0.000000</td>\n",
              "      <td>0.020069</td>\n",
              "    </tr>\n",
              "    <tr>\n",
              "      <th>1989-04-12</th>\n",
              "      <td>-0.065352</td>\n",
              "      <td>0.019671</td>\n",
              "    </tr>\n",
              "    <tr>\n",
              "      <th>...</th>\n",
              "      <td>...</td>\n",
              "      <td>...</td>\n",
              "    </tr>\n",
              "    <tr>\n",
              "      <th>2022-02-07</th>\n",
              "      <td>-0.016445</td>\n",
              "      <td>-0.004244</td>\n",
              "    </tr>\n",
              "    <tr>\n",
              "      <th>2022-02-08</th>\n",
              "      <td>0.011924</td>\n",
              "      <td>0.018298</td>\n",
              "    </tr>\n",
              "    <tr>\n",
              "      <th>2022-02-09</th>\n",
              "      <td>0.021600</td>\n",
              "      <td>0.008260</td>\n",
              "    </tr>\n",
              "    <tr>\n",
              "      <th>2022-02-10</th>\n",
              "      <td>-0.028783</td>\n",
              "      <td>-0.023882</td>\n",
              "    </tr>\n",
              "    <tr>\n",
              "      <th>2022-02-11</th>\n",
              "      <td>-0.024574</td>\n",
              "      <td>-0.020426</td>\n",
              "    </tr>\n",
              "  </tbody>\n",
              "</table>\n",
              "<p>8280 rows × 2 columns</p>\n",
              "</div>\n",
              "      <button class=\"colab-df-convert\" onclick=\"convertToInteractive('df-a01fa9e4-3766-42bb-9cb3-70b2c5728d65')\"\n",
              "              title=\"Convert this dataframe to an interactive table.\"\n",
              "              style=\"display:none;\">\n",
              "        \n",
              "  <svg xmlns=\"http://www.w3.org/2000/svg\" height=\"24px\"viewBox=\"0 0 24 24\"\n",
              "       width=\"24px\">\n",
              "    <path d=\"M0 0h24v24H0V0z\" fill=\"none\"/>\n",
              "    <path d=\"M18.56 5.44l.94 2.06.94-2.06 2.06-.94-2.06-.94-.94-2.06-.94 2.06-2.06.94zm-11 1L8.5 8.5l.94-2.06 2.06-.94-2.06-.94L8.5 2.5l-.94 2.06-2.06.94zm10 10l.94 2.06.94-2.06 2.06-.94-2.06-.94-.94-2.06-.94 2.06-2.06.94z\"/><path d=\"M17.41 7.96l-1.37-1.37c-.4-.4-.92-.59-1.43-.59-.52 0-1.04.2-1.43.59L10.3 9.45l-7.72 7.72c-.78.78-.78 2.05 0 2.83L4 21.41c.39.39.9.59 1.41.59.51 0 1.02-.2 1.41-.59l7.78-7.78 2.81-2.81c.8-.78.8-2.07 0-2.86zM5.41 20L4 18.59l7.72-7.72 1.47 1.35L5.41 20z\"/>\n",
              "  </svg>\n",
              "      </button>\n",
              "      \n",
              "  <style>\n",
              "    .colab-df-container {\n",
              "      display:flex;\n",
              "      flex-wrap:wrap;\n",
              "      gap: 12px;\n",
              "    }\n",
              "\n",
              "    .colab-df-convert {\n",
              "      background-color: #E8F0FE;\n",
              "      border: none;\n",
              "      border-radius: 50%;\n",
              "      cursor: pointer;\n",
              "      display: none;\n",
              "      fill: #1967D2;\n",
              "      height: 32px;\n",
              "      padding: 0 0 0 0;\n",
              "      width: 32px;\n",
              "    }\n",
              "\n",
              "    .colab-df-convert:hover {\n",
              "      background-color: #E2EBFA;\n",
              "      box-shadow: 0px 1px 2px rgba(60, 64, 67, 0.3), 0px 1px 3px 1px rgba(60, 64, 67, 0.15);\n",
              "      fill: #174EA6;\n",
              "    }\n",
              "\n",
              "    [theme=dark] .colab-df-convert {\n",
              "      background-color: #3B4455;\n",
              "      fill: #D2E3FC;\n",
              "    }\n",
              "\n",
              "    [theme=dark] .colab-df-convert:hover {\n",
              "      background-color: #434B5C;\n",
              "      box-shadow: 0px 1px 3px 1px rgba(0, 0, 0, 0.15);\n",
              "      filter: drop-shadow(0px 1px 2px rgba(0, 0, 0, 0.3));\n",
              "      fill: #FFFFFF;\n",
              "    }\n",
              "  </style>\n",
              "\n",
              "      <script>\n",
              "        const buttonEl =\n",
              "          document.querySelector('#df-a01fa9e4-3766-42bb-9cb3-70b2c5728d65 button.colab-df-convert');\n",
              "        buttonEl.style.display =\n",
              "          google.colab.kernel.accessAllowed ? 'block' : 'none';\n",
              "\n",
              "        async function convertToInteractive(key) {\n",
              "          const element = document.querySelector('#df-a01fa9e4-3766-42bb-9cb3-70b2c5728d65');\n",
              "          const dataTable =\n",
              "            await google.colab.kernel.invokeFunction('convertToInteractive',\n",
              "                                                     [key], {});\n",
              "          if (!dataTable) return;\n",
              "\n",
              "          const docLinkHtml = 'Like what you see? Visit the ' +\n",
              "            '<a target=\"_blank\" href=https://colab.research.google.com/notebooks/data_table.ipynb>data table notebook</a>'\n",
              "            + ' to learn more about interactive tables.';\n",
              "          element.innerHTML = '';\n",
              "          dataTable['output_type'] = 'display_data';\n",
              "          await google.colab.output.renderOutput(dataTable, element);\n",
              "          const docLink = document.createElement('div');\n",
              "          docLink.innerHTML = docLinkHtml;\n",
              "          element.appendChild(docLink);\n",
              "        }\n",
              "      </script>\n",
              "    </div>\n",
              "  </div>\n",
              "  "
            ],
            "text/plain": [
              "                MSFT      AAPL\n",
              "Date                          \n",
              "1989-04-06       NaN       NaN\n",
              "1989-04-07  0.000000  0.037481\n",
              "1989-04-10  0.002435 -0.010083\n",
              "1989-04-11  0.000000  0.020069\n",
              "1989-04-12 -0.065352  0.019671\n",
              "...              ...       ...\n",
              "2022-02-07 -0.016445 -0.004244\n",
              "2022-02-08  0.011924  0.018298\n",
              "2022-02-09  0.021600  0.008260\n",
              "2022-02-10 -0.028783 -0.023882\n",
              "2022-02-11 -0.024574 -0.020426\n",
              "\n",
              "[8280 rows x 2 columns]"
            ]
          },
          "metadata": {},
          "execution_count": 22
        }
      ],
      "source": [
        "sec_returns = np.log(sec_data / sec_data.shift(1))\n",
        "sec_returns"
      ]
    },
    {
      "cell_type": "markdown",
      "metadata": {
        "id": "qZbRl1XJJQ7z"
      },
      "source": [
        "### Calculating Portfolio Variance"
      ]
    },
    {
      "cell_type": "markdown",
      "metadata": {
        "id": "4RPKyL_3JQ7z"
      },
      "source": [
        "Equal weightings scheme:"
      ]
    },
    {
      "cell_type": "code",
      "execution_count": 23,
      "metadata": {
        "id": "3JlHeWkPJQ7z"
      },
      "outputs": [],
      "source": [
        "weights = np.array([0.5, 0.5])"
      ]
    },
    {
      "cell_type": "markdown",
      "metadata": {
        "id": "-6JwxMmfJQ70"
      },
      "source": [
        "Portfolio Variance:"
      ]
    },
    {
      "cell_type": "code",
      "execution_count": 24,
      "metadata": {
        "colab": {
          "base_uri": "https://localhost:8080/"
        },
        "id": "5p8SaaWcJQ70",
        "outputId": "8c25de39-48ca-45d7-dc0c-de86f59cce9a"
      },
      "outputs": [
        {
          "output_type": "execute_result",
          "data": {
            "text/plain": [
              "0.10088330700197767"
            ]
          },
          "metadata": {},
          "execution_count": 24
        }
      ],
      "source": [
        "pfolio_var = np.dot(weights.T, np.dot(sec_returns.cov() * 250, weights))\n",
        "pfolio_var"
      ]
    },
    {
      "cell_type": "markdown",
      "metadata": {
        "id": "YJ2c_GKIJQ71"
      },
      "source": [
        "### Calculating Diversifiable and Non-Diversifiable Risk of a Portfolio"
      ]
    },
    {
      "cell_type": "markdown",
      "metadata": {
        "id": "sJbZrOgTJQ71"
      },
      "source": [
        "Diversifiable Risk:"
      ]
    },
    {
      "cell_type": "code",
      "execution_count": 25,
      "metadata": {
        "colab": {
          "base_uri": "https://localhost:8080/"
        },
        "id": "fzo7NMudJQ72",
        "outputId": "2875ebcd-e92e-47cc-f2c2-bcb0a26d5f49"
      },
      "outputs": [
        {
          "output_type": "execute_result",
          "data": {
            "text/plain": [
              "MSFT    0.100617\n",
              "dtype: float64"
            ]
          },
          "metadata": {},
          "execution_count": 25
        }
      ],
      "source": [
        "MSFT_var_a = sec_returns[['MSFT']].var() * 250\n",
        "MSFT_var_a"
      ]
    },
    {
      "cell_type": "code",
      "execution_count": 26,
      "metadata": {
        "colab": {
          "base_uri": "https://localhost:8080/"
        },
        "id": "r1ZZJILxJQ72",
        "outputId": "8af8078f-d901-487d-fd7e-c9d46cc148a6"
      },
      "outputs": [
        {
          "output_type": "execute_result",
          "data": {
            "text/plain": [
              "AAPL    0.193526\n",
              "dtype: float64"
            ]
          },
          "metadata": {},
          "execution_count": 26
        }
      ],
      "source": [
        "AAPL_var_a = sec_returns[['AAPL']].var() * 250\n",
        "AAPL_var_a"
      ]
    },
    {
      "cell_type": "markdown",
      "metadata": {
        "id": "W8waOgbGJQ73"
      },
      "source": [
        "Or:"
      ]
    },
    {
      "cell_type": "code",
      "execution_count": 27,
      "metadata": {
        "colab": {
          "base_uri": "https://localhost:8080/"
        },
        "id": "kjSFdeAHJQ73",
        "outputId": "e395c33b-37b2-46b7-e95a-31292f8bc5e7"
      },
      "outputs": [
        {
          "output_type": "execute_result",
          "data": {
            "text/plain": [
              "0.10061706284817318"
            ]
          },
          "metadata": {},
          "execution_count": 27
        }
      ],
      "source": [
        "MSFT_var_a = sec_returns['MSFT'].var() * 250\n",
        "MSFT_var_a"
      ]
    },
    {
      "cell_type": "code",
      "execution_count": 28,
      "metadata": {
        "colab": {
          "base_uri": "https://localhost:8080/"
        },
        "id": "rxUNBeIXJQ74",
        "outputId": "f72eba27-f269-4f0b-daf6-1e9d646194a1"
      },
      "outputs": [
        {
          "output_type": "execute_result",
          "data": {
            "text/plain": [
              "0.19352577404441218"
            ]
          },
          "metadata": {},
          "execution_count": 28
        }
      ],
      "source": [
        "AAPL_var_a = sec_returns['AAPL'].var() * 250\n",
        "AAPL_var_a"
      ]
    },
    {
      "cell_type": "markdown",
      "metadata": {
        "id": "XKxVTJqcJQ74"
      },
      "source": [
        "Calculating Diversifiable Risk:"
      ]
    },
    {
      "cell_type": "code",
      "execution_count": 29,
      "metadata": {
        "colab": {
          "base_uri": "https://localhost:8080/"
        },
        "id": "1COauVN4JQ74",
        "outputId": "add8b3a0-99ec-4fad-fbd0-f144f69ef593"
      },
      "outputs": [
        {
          "output_type": "execute_result",
          "data": {
            "text/plain": [
              "0.027347597778831334"
            ]
          },
          "metadata": {},
          "execution_count": 29
        }
      ],
      "source": [
        "dr = pfolio_var - (weights[0] ** 2 * MSFT_var_a) - (weights[1] ** 2 * AAPL_var_a)\n",
        "dr"
      ]
    },
    {
      "cell_type": "code",
      "execution_count": 30,
      "metadata": {
        "colab": {
          "base_uri": "https://localhost:8080/"
        },
        "id": "y4xoX8FmJQ75",
        "outputId": "d604a9ca-0d91-4160-9842-c7f0a8972c96"
      },
      "outputs": [
        {
          "output_type": "stream",
          "name": "stdout",
          "text": [
            "2.735 %\n"
          ]
        }
      ],
      "source": [
        "print (str(round(dr*100, 3)) + ' %')"
      ]
    },
    {
      "cell_type": "markdown",
      "metadata": {
        "id": "6enH1ch-JQ75"
      },
      "source": [
        "Calculating Non-Diversifiable Risk:"
      ]
    },
    {
      "cell_type": "code",
      "execution_count": 31,
      "metadata": {
        "colab": {
          "base_uri": "https://localhost:8080/"
        },
        "id": "U1diT0Y5JQ75",
        "outputId": "466c294b-4913-4456-a3ac-fc437b392f7b"
      },
      "outputs": [
        {
          "output_type": "execute_result",
          "data": {
            "text/plain": [
              "0.07353570922314634"
            ]
          },
          "metadata": {},
          "execution_count": 31
        }
      ],
      "source": [
        "n_dr_1 = pfolio_var - dr\n",
        "n_dr_1"
      ]
    },
    {
      "cell_type": "markdown",
      "metadata": {
        "id": "Kp_d2zmRJQ76"
      },
      "source": [
        "Or:"
      ]
    },
    {
      "cell_type": "code",
      "execution_count": 32,
      "metadata": {
        "colab": {
          "base_uri": "https://localhost:8080/"
        },
        "id": "nrLXoCHxJQ76",
        "outputId": "40f04a07-70ad-4c11-e4ac-102bec1700a9"
      },
      "outputs": [
        {
          "output_type": "execute_result",
          "data": {
            "text/plain": [
              "0.07353570922314634"
            ]
          },
          "metadata": {},
          "execution_count": 32
        }
      ],
      "source": [
        "n_dr_2 = (weights[0] ** 2 * MSFT_var_a) + (weights[1] ** 2 * AAPL_var_a)\n",
        "n_dr_2"
      ]
    },
    {
      "cell_type": "markdown",
      "metadata": {
        "id": "N2cMQlyAJQ76"
      },
      "source": [
        "*****"
      ]
    },
    {
      "cell_type": "markdown",
      "metadata": {
        "id": "h6IRxTJ2JQ77"
      },
      "source": [
        "b)\tWith weights 0.2 for Microsoft and 0.8 for Apple."
      ]
    },
    {
      "cell_type": "markdown",
      "metadata": {
        "id": "m_4An5IcJQ77"
      },
      "source": [
        "### Calculating Portfolio Variance"
      ]
    },
    {
      "cell_type": "code",
      "execution_count": 33,
      "metadata": {
        "id": "7_aCchJlJQ77"
      },
      "outputs": [],
      "source": [
        "weights_2 = np.array([0.2, 0.8])"
      ]
    },
    {
      "cell_type": "markdown",
      "metadata": {
        "id": "a2g0F-BeJQ78"
      },
      "source": [
        "Portfolio Variance:"
      ]
    },
    {
      "cell_type": "code",
      "execution_count": 34,
      "metadata": {
        "colab": {
          "base_uri": "https://localhost:8080/"
        },
        "id": "m0kQ37lMJQ78",
        "outputId": "cfc462c5-4d1a-456d-c9a3-946e6da737b7"
      },
      "outputs": [
        {
          "output_type": "execute_result",
          "data": {
            "text/plain": [
              "0.145383640480803"
            ]
          },
          "metadata": {},
          "execution_count": 34
        }
      ],
      "source": [
        "pfolio_var_2 = np.dot(weights_2.T, np.dot(sec_returns.cov() * 250, weights_2))\n",
        "pfolio_var_2"
      ]
    },
    {
      "cell_type": "markdown",
      "metadata": {
        "id": "sF-0Bx35JQ79"
      },
      "source": [
        "### Calculating Diversifiable and Non-Diversifiable Risk of a Portfolio"
      ]
    },
    {
      "cell_type": "markdown",
      "metadata": {
        "id": "58dLITsXJQ7-"
      },
      "source": [
        "Calculating Diversifiable Risk:"
      ]
    },
    {
      "cell_type": "code",
      "execution_count": 40,
      "metadata": {
        "colab": {
          "base_uri": "https://localhost:8080/"
        },
        "id": "U1TJ0Fj7JQ7-",
        "outputId": "1ad34dc6-4fd6-499d-a8aa-4a2df7bb91d7"
      },
      "outputs": [
        {
          "output_type": "stream",
          "name": "stdout",
          "text": [
            "1.75 %\n"
          ]
        }
      ],
      "source": [
        "dr_2 = pfolio_var_2 - (weights_2[0] ** 2 * MSFT_var_a) - (weights_2[1] ** 2 * AAPL_var_a)\n",
        "print (str(round(dr_2*100, 3)) + ' %')"
      ]
    },
    {
      "cell_type": "markdown",
      "metadata": {
        "id": "TASmPzAsJQ7_"
      },
      "source": [
        "Calculating Non-Diversifiable Risk:"
      ]
    },
    {
      "cell_type": "code",
      "execution_count": 37,
      "metadata": {
        "colab": {
          "base_uri": "https://localhost:8080/"
        },
        "id": "U-Ggy9YRJQ8A",
        "outputId": "9d4bf7df-752b-453c-fec0-4df7a6a99978"
      },
      "outputs": [
        {
          "output_type": "stream",
          "name": "stdout",
          "text": [
            "12.788 %\n"
          ]
        }
      ],
      "source": [
        "n_dr_2 = pfolio_var_2 - dr_2\n",
        "print (str(round(n_dr_2*100, 3)) + ' %')"
      ]
    },
    {
      "cell_type": "markdown",
      "metadata": {
        "id": "SozunvwcJQ8A"
      },
      "source": [
        "Or:"
      ]
    },
    {
      "cell_type": "code",
      "execution_count": 38,
      "metadata": {
        "colab": {
          "base_uri": "https://localhost:8080/"
        },
        "id": "GxyBtESfJQ8A",
        "outputId": "e06af342-71dd-4a55-f826-df31fe707129"
      },
      "outputs": [
        {
          "output_type": "stream",
          "name": "stdout",
          "text": [
            "12.788 %\n"
          ]
        }
      ],
      "source": [
        "n_dr_2 = (weights_2[0] ** 2 * MSFT_var_a) + (weights_2[1] ** 2 * AAPL_var_a)\n",
        "print (str(round(n_dr_2*100, 3)) + ' %')"
      ]
    }
  ],
  "metadata": {
    "kernelspec": {
      "display_name": "Python 3",
      "language": "python",
      "name": "python3"
    },
    "language_info": {
      "codemirror_mode": {
        "name": "ipython",
        "version": 3
      },
      "file_extension": ".py",
      "mimetype": "text/x-python",
      "name": "python",
      "nbconvert_exporter": "python",
      "pygments_lexer": "ipython3",
      "version": "3.7.0"
    },
    "colab": {
      "name": "Diversifiable and Non-Diversifiable Risk of a Portfolio .ipynb",
      "provenance": [],
      "include_colab_link": true
    }
  },
  "nbformat": 4,
  "nbformat_minor": 0
}