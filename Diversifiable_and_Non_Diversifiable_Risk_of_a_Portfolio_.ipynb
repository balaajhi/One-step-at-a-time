{
  "cells": [
    {
      "cell_type": "markdown",
      "metadata": {
        "id": "view-in-github",
        "colab_type": "text"
      },
      "source": [
        "<a href=\"https://colab.research.google.com/github/balaajhi/One-step-at-a-time/blob/main/Diversifiable_and_Non_Diversifiable_Risk_of_a_Portfolio_.ipynb\" target=\"_parent\"><img src=\"https://colab.research.google.com/assets/colab-badge.svg\" alt=\"Open In Colab\"/></a>"
      ]
    },
    {
      "cell_type": "markdown",
      "metadata": {
        "id": "088qCkjIJQ7p"
      },
      "source": [
        "## Diversifiable and Non-Diversifiable Risk of a Portfolio"
      ]
    },
    {
      "cell_type": "code",
      "execution_count": 1,
      "metadata": {
        "colab": {
          "base_uri": "https://localhost:8080/",
          "height": 1000
        },
        "id": "F6WFpQ03JQ7u",
        "outputId": "f610ef88-73bd-4413-a027-d7e86fe9295a"
      },
      "outputs": [
        {
          "output_type": "stream",
          "name": "stdout",
          "text": [
            "Collecting yfinance\n",
            "  Downloading yfinance-0.1.70-py2.py3-none-any.whl (26 kB)\n",
            "Requirement already satisfied: pandas>=0.24.0 in /usr/local/lib/python3.7/dist-packages (from yfinance) (1.3.5)\n",
            "Collecting lxml>=4.5.1\n",
            "  Downloading lxml-4.7.1-cp37-cp37m-manylinux_2_17_x86_64.manylinux2014_x86_64.manylinux_2_24_x86_64.whl (6.4 MB)\n",
            "\u001b[K     |████████████████████████████████| 6.4 MB 12.6 MB/s \n",
            "\u001b[?25hRequirement already satisfied: numpy>=1.15 in /usr/local/lib/python3.7/dist-packages (from yfinance) (1.19.5)\n",
            "Requirement already satisfied: multitasking>=0.0.7 in /usr/local/lib/python3.7/dist-packages (from yfinance) (0.0.10)\n",
            "Collecting requests>=2.26\n",
            "  Downloading requests-2.27.1-py2.py3-none-any.whl (63 kB)\n",
            "\u001b[K     |████████████████████████████████| 63 kB 589 kB/s \n",
            "\u001b[?25hRequirement already satisfied: python-dateutil>=2.7.3 in /usr/local/lib/python3.7/dist-packages (from pandas>=0.24.0->yfinance) (2.8.2)\n",
            "Requirement already satisfied: pytz>=2017.3 in /usr/local/lib/python3.7/dist-packages (from pandas>=0.24.0->yfinance) (2018.9)\n",
            "Requirement already satisfied: six>=1.5 in /usr/local/lib/python3.7/dist-packages (from python-dateutil>=2.7.3->pandas>=0.24.0->yfinance) (1.15.0)\n",
            "Requirement already satisfied: certifi>=2017.4.17 in /usr/local/lib/python3.7/dist-packages (from requests>=2.26->yfinance) (2021.10.8)\n",
            "Requirement already satisfied: idna<4,>=2.5 in /usr/local/lib/python3.7/dist-packages (from requests>=2.26->yfinance) (2.10)\n",
            "Requirement already satisfied: urllib3<1.27,>=1.21.1 in /usr/local/lib/python3.7/dist-packages (from requests>=2.26->yfinance) (1.24.3)\n",
            "Requirement already satisfied: charset-normalizer~=2.0.0 in /usr/local/lib/python3.7/dist-packages (from requests>=2.26->yfinance) (2.0.11)\n",
            "Installing collected packages: requests, lxml, yfinance\n",
            "  Attempting uninstall: requests\n",
            "    Found existing installation: requests 2.23.0\n",
            "    Uninstalling requests-2.23.0:\n",
            "      Successfully uninstalled requests-2.23.0\n",
            "  Attempting uninstall: lxml\n",
            "    Found existing installation: lxml 4.2.6\n",
            "    Uninstalling lxml-4.2.6:\n",
            "      Successfully uninstalled lxml-4.2.6\n",
            "\u001b[31mERROR: pip's dependency resolver does not currently take into account all the packages that are installed. This behaviour is the source of the following dependency conflicts.\n",
            "google-colab 1.0.0 requires requests~=2.23.0, but you have requests 2.27.1 which is incompatible.\n",
            "datascience 0.10.6 requires folium==0.2.1, but you have folium 0.8.3 which is incompatible.\u001b[0m\n",
            "Successfully installed lxml-4.7.1 requests-2.27.1 yfinance-0.1.70\n"
          ]
        },
        {
          "output_type": "display_data",
          "data": {
            "application/vnd.colab-display-data+json": {
              "pip_warning": {
                "packages": [
                  "requests"
                ]
              }
            }
          },
          "metadata": {}
        },
        {
          "output_type": "stream",
          "name": "stdout",
          "text": [
            "[*********************100%***********************]  1 of 1 completed\n",
            "[*********************100%***********************]  1 of 1 completed\n"
          ]
        },
        {
          "output_type": "execute_result",
          "data": {
            "text/html": [
              "\n",
              "  <div id=\"df-d25240ac-f0c3-4ec8-8613-be106e20ecfb\">\n",
              "    <div class=\"colab-df-container\">\n",
              "      <div>\n",
              "<style scoped>\n",
              "    .dataframe tbody tr th:only-of-type {\n",
              "        vertical-align: middle;\n",
              "    }\n",
              "\n",
              "    .dataframe tbody tr th {\n",
              "        vertical-align: top;\n",
              "    }\n",
              "\n",
              "    .dataframe thead th {\n",
              "        text-align: right;\n",
              "    }\n",
              "</style>\n",
              "<table border=\"1\" class=\"dataframe\">\n",
              "  <thead>\n",
              "    <tr style=\"text-align: right;\">\n",
              "      <th></th>\n",
              "      <th>MSFT</th>\n",
              "      <th>AAPL</th>\n",
              "    </tr>\n",
              "    <tr>\n",
              "      <th>Date</th>\n",
              "      <th></th>\n",
              "      <th></th>\n",
              "    </tr>\n",
              "  </thead>\n",
              "  <tbody>\n",
              "    <tr>\n",
              "      <th>1989-04-06</th>\n",
              "      <td>0.224689</td>\n",
              "      <td>0.255357</td>\n",
              "    </tr>\n",
              "    <tr>\n",
              "      <th>1989-04-07</th>\n",
              "      <td>0.224689</td>\n",
              "      <td>0.265110</td>\n",
              "    </tr>\n",
              "    <tr>\n",
              "      <th>1989-04-10</th>\n",
              "      <td>0.225237</td>\n",
              "      <td>0.262450</td>\n",
              "    </tr>\n",
              "    <tr>\n",
              "      <th>1989-04-11</th>\n",
              "      <td>0.225237</td>\n",
              "      <td>0.267770</td>\n",
              "    </tr>\n",
              "    <tr>\n",
              "      <th>1989-04-12</th>\n",
              "      <td>0.210988</td>\n",
              "      <td>0.273090</td>\n",
              "    </tr>\n",
              "    <tr>\n",
              "      <th>...</th>\n",
              "      <td>...</td>\n",
              "      <td>...</td>\n",
              "    </tr>\n",
              "    <tr>\n",
              "      <th>2022-02-07</th>\n",
              "      <td>300.950012</td>\n",
              "      <td>171.660004</td>\n",
              "    </tr>\n",
              "    <tr>\n",
              "      <th>2022-02-08</th>\n",
              "      <td>304.559998</td>\n",
              "      <td>174.830002</td>\n",
              "    </tr>\n",
              "    <tr>\n",
              "      <th>2022-02-09</th>\n",
              "      <td>311.209991</td>\n",
              "      <td>176.279999</td>\n",
              "    </tr>\n",
              "    <tr>\n",
              "      <th>2022-02-10</th>\n",
              "      <td>302.380005</td>\n",
              "      <td>172.119995</td>\n",
              "    </tr>\n",
              "    <tr>\n",
              "      <th>2022-02-11</th>\n",
              "      <td>295.040009</td>\n",
              "      <td>168.639999</td>\n",
              "    </tr>\n",
              "  </tbody>\n",
              "</table>\n",
              "<p>8280 rows × 2 columns</p>\n",
              "</div>\n",
              "      <button class=\"colab-df-convert\" onclick=\"convertToInteractive('df-d25240ac-f0c3-4ec8-8613-be106e20ecfb')\"\n",
              "              title=\"Convert this dataframe to an interactive table.\"\n",
              "              style=\"display:none;\">\n",
              "        \n",
              "  <svg xmlns=\"http://www.w3.org/2000/svg\" height=\"24px\"viewBox=\"0 0 24 24\"\n",
              "       width=\"24px\">\n",
              "    <path d=\"M0 0h24v24H0V0z\" fill=\"none\"/>\n",
              "    <path d=\"M18.56 5.44l.94 2.06.94-2.06 2.06-.94-2.06-.94-.94-2.06-.94 2.06-2.06.94zm-11 1L8.5 8.5l.94-2.06 2.06-.94-2.06-.94L8.5 2.5l-.94 2.06-2.06.94zm10 10l.94 2.06.94-2.06 2.06-.94-2.06-.94-.94-2.06-.94 2.06-2.06.94z\"/><path d=\"M17.41 7.96l-1.37-1.37c-.4-.4-.92-.59-1.43-.59-.52 0-1.04.2-1.43.59L10.3 9.45l-7.72 7.72c-.78.78-.78 2.05 0 2.83L4 21.41c.39.39.9.59 1.41.59.51 0 1.02-.2 1.41-.59l7.78-7.78 2.81-2.81c.8-.78.8-2.07 0-2.86zM5.41 20L4 18.59l7.72-7.72 1.47 1.35L5.41 20z\"/>\n",
              "  </svg>\n",
              "      </button>\n",
              "      \n",
              "  <style>\n",
              "    .colab-df-container {\n",
              "      display:flex;\n",
              "      flex-wrap:wrap;\n",
              "      gap: 12px;\n",
              "    }\n",
              "\n",
              "    .colab-df-convert {\n",
              "      background-color: #E8F0FE;\n",
              "      border: none;\n",
              "      border-radius: 50%;\n",
              "      cursor: pointer;\n",
              "      display: none;\n",
              "      fill: #1967D2;\n",
              "      height: 32px;\n",
              "      padding: 0 0 0 0;\n",
              "      width: 32px;\n",
              "    }\n",
              "\n",
              "    .colab-df-convert:hover {\n",
              "      background-color: #E2EBFA;\n",
              "      box-shadow: 0px 1px 2px rgba(60, 64, 67, 0.3), 0px 1px 3px 1px rgba(60, 64, 67, 0.15);\n",
              "      fill: #174EA6;\n",
              "    }\n",
              "\n",
              "    [theme=dark] .colab-df-convert {\n",
              "      background-color: #3B4455;\n",
              "      fill: #D2E3FC;\n",
              "    }\n",
              "\n",
              "    [theme=dark] .colab-df-convert:hover {\n",
              "      background-color: #434B5C;\n",
              "      box-shadow: 0px 1px 3px 1px rgba(0, 0, 0, 0.15);\n",
              "      filter: drop-shadow(0px 1px 2px rgba(0, 0, 0, 0.3));\n",
              "      fill: #FFFFFF;\n",
              "    }\n",
              "  </style>\n",
              "\n",
              "      <script>\n",
              "        const buttonEl =\n",
              "          document.querySelector('#df-d25240ac-f0c3-4ec8-8613-be106e20ecfb button.colab-df-convert');\n",
              "        buttonEl.style.display =\n",
              "          google.colab.kernel.accessAllowed ? 'block' : 'none';\n",
              "\n",
              "        async function convertToInteractive(key) {\n",
              "          const element = document.querySelector('#df-d25240ac-f0c3-4ec8-8613-be106e20ecfb');\n",
              "          const dataTable =\n",
              "            await google.colab.kernel.invokeFunction('convertToInteractive',\n",
              "                                                     [key], {});\n",
              "          if (!dataTable) return;\n",
              "\n",
              "          const docLinkHtml = 'Like what you see? Visit the ' +\n",
              "            '<a target=\"_blank\" href=https://colab.research.google.com/notebooks/data_table.ipynb>data table notebook</a>'\n",
              "            + ' to learn more about interactive tables.';\n",
              "          element.innerHTML = '';\n",
              "          dataTable['output_type'] = 'display_data';\n",
              "          await google.colab.output.renderOutput(dataTable, element);\n",
              "          const docLink = document.createElement('div');\n",
              "          docLink.innerHTML = docLinkHtml;\n",
              "          element.appendChild(docLink);\n",
              "        }\n",
              "      </script>\n",
              "    </div>\n",
              "  </div>\n",
              "  "
            ],
            "text/plain": [
              "                  MSFT        AAPL\n",
              "Date                              \n",
              "1989-04-06    0.224689    0.255357\n",
              "1989-04-07    0.224689    0.265110\n",
              "1989-04-10    0.225237    0.262450\n",
              "1989-04-11    0.225237    0.267770\n",
              "1989-04-12    0.210988    0.273090\n",
              "...                ...         ...\n",
              "2022-02-07  300.950012  171.660004\n",
              "2022-02-08  304.559998  174.830002\n",
              "2022-02-09  311.209991  176.279999\n",
              "2022-02-10  302.380005  172.119995\n",
              "2022-02-11  295.040009  168.639999\n",
              "\n",
              "[8280 rows x 2 columns]"
            ]
          },
          "metadata": {},
          "execution_count": 1
        }
      ],
      "source": [
        "import numpy as np\n",
        "import pandas as pd\n",
        "from pandas_datareader import data as wb\n",
        "import matplotlib.pyplot as plt\n",
        "%pip install yfinance\n",
        "\n",
        "stocks = ['MSFT', 'AAPL']\n",
        "\n",
        "import datetime as dt\n",
        "import yfinance as yf\n",
        "import pandas as pd\n",
        "\n",
        "# stocks = ['PG', 'MSFT', 'F', 'GE']\n",
        "start = dt.datetime.today()-dt.timedelta(12000)\n",
        "end = dt.datetime.today()\n",
        "sec_data = pd.DataFrame() # empty dataframe which will be filled with closing prices of each stock\n",
        "ohlcv_data = {} # empty dictionary which will be filled with ohlcv dataframe for each ticker\n",
        "\n",
        "# looping over tickers and creating a dataframe with close prices\n",
        "for ticker in stocks:\n",
        "    sec_data[ticker] = yf.download(ticker,start,end,interval = '1d')[\"Adj Close\"]\n",
        "    \n",
        "sec_data"
      ]
    },
    {
      "cell_type": "code",
      "execution_count": 2,
      "metadata": {
        "colab": {
          "base_uri": "https://localhost:8080/"
        },
        "id": "LtdD3YA6JQ7x",
        "outputId": "a7ca69a1-56f6-4d43-e4b6-8606e77e8f9f"
      },
      "outputs": [
        {
          "output_type": "stream",
          "name": "stdout",
          "text": [
            "<class 'pandas.core.frame.DataFrame'>\n",
            "DatetimeIndex: 8280 entries, 1989-04-06 to 2022-02-11\n",
            "Data columns (total 2 columns):\n",
            " #   Column  Non-Null Count  Dtype  \n",
            "---  ------  --------------  -----  \n",
            " 0   MSFT    8280 non-null   float64\n",
            " 1   AAPL    8280 non-null   float64\n",
            "dtypes: float64(2)\n",
            "memory usage: 194.1 KB\n"
          ]
        }
      ],
      "source": [
        "sec_data.info()"
      ]
    },
    {
      "cell_type": "markdown",
      "metadata": {
        "id": "t1X2TS4JJQ7x"
      },
      "source": [
        "Then, calculate the diversifiable and the non-diversifiable risk of a portfolio, composed of these two stocks:"
      ]
    },
    {
      "cell_type": "markdown",
      "metadata": {
        "id": "Su1RamJJJQ7y"
      },
      "source": [
        "a) with weights 0.5 and 0.5;"
      ]
    },
    {
      "cell_type": "code",
      "execution_count": 3,
      "metadata": {
        "colab": {
          "base_uri": "https://localhost:8080/",
          "height": 450
        },
        "id": "BlkcQOaxJQ7y",
        "outputId": "a0b906ce-c891-4cfa-a35b-4c63bc42fdb4"
      },
      "outputs": [
        {
          "output_type": "execute_result",
          "data": {
            "text/html": [
              "\n",
              "  <div id=\"df-5705657f-af0f-4cdf-831d-b59e1106944b\">\n",
              "    <div class=\"colab-df-container\">\n",
              "      <div>\n",
              "<style scoped>\n",
              "    .dataframe tbody tr th:only-of-type {\n",
              "        vertical-align: middle;\n",
              "    }\n",
              "\n",
              "    .dataframe tbody tr th {\n",
              "        vertical-align: top;\n",
              "    }\n",
              "\n",
              "    .dataframe thead th {\n",
              "        text-align: right;\n",
              "    }\n",
              "</style>\n",
              "<table border=\"1\" class=\"dataframe\">\n",
              "  <thead>\n",
              "    <tr style=\"text-align: right;\">\n",
              "      <th></th>\n",
              "      <th>MSFT</th>\n",
              "      <th>AAPL</th>\n",
              "    </tr>\n",
              "    <tr>\n",
              "      <th>Date</th>\n",
              "      <th></th>\n",
              "      <th></th>\n",
              "    </tr>\n",
              "  </thead>\n",
              "  <tbody>\n",
              "    <tr>\n",
              "      <th>1989-04-06</th>\n",
              "      <td>NaN</td>\n",
              "      <td>NaN</td>\n",
              "    </tr>\n",
              "    <tr>\n",
              "      <th>1989-04-07</th>\n",
              "      <td>0.000000</td>\n",
              "      <td>0.037481</td>\n",
              "    </tr>\n",
              "    <tr>\n",
              "      <th>1989-04-10</th>\n",
              "      <td>0.002436</td>\n",
              "      <td>-0.010083</td>\n",
              "    </tr>\n",
              "    <tr>\n",
              "      <th>1989-04-11</th>\n",
              "      <td>0.000000</td>\n",
              "      <td>0.020069</td>\n",
              "    </tr>\n",
              "    <tr>\n",
              "      <th>1989-04-12</th>\n",
              "      <td>-0.065351</td>\n",
              "      <td>0.019672</td>\n",
              "    </tr>\n",
              "    <tr>\n",
              "      <th>...</th>\n",
              "      <td>...</td>\n",
              "      <td>...</td>\n",
              "    </tr>\n",
              "    <tr>\n",
              "      <th>2022-02-07</th>\n",
              "      <td>-0.016445</td>\n",
              "      <td>-0.004244</td>\n",
              "    </tr>\n",
              "    <tr>\n",
              "      <th>2022-02-08</th>\n",
              "      <td>0.011924</td>\n",
              "      <td>0.018298</td>\n",
              "    </tr>\n",
              "    <tr>\n",
              "      <th>2022-02-09</th>\n",
              "      <td>0.021600</td>\n",
              "      <td>0.008260</td>\n",
              "    </tr>\n",
              "    <tr>\n",
              "      <th>2022-02-10</th>\n",
              "      <td>-0.028783</td>\n",
              "      <td>-0.023882</td>\n",
              "    </tr>\n",
              "    <tr>\n",
              "      <th>2022-02-11</th>\n",
              "      <td>-0.024574</td>\n",
              "      <td>-0.020426</td>\n",
              "    </tr>\n",
              "  </tbody>\n",
              "</table>\n",
              "<p>8280 rows × 2 columns</p>\n",
              "</div>\n",
              "      <button class=\"colab-df-convert\" onclick=\"convertToInteractive('df-5705657f-af0f-4cdf-831d-b59e1106944b')\"\n",
              "              title=\"Convert this dataframe to an interactive table.\"\n",
              "              style=\"display:none;\">\n",
              "        \n",
              "  <svg xmlns=\"http://www.w3.org/2000/svg\" height=\"24px\"viewBox=\"0 0 24 24\"\n",
              "       width=\"24px\">\n",
              "    <path d=\"M0 0h24v24H0V0z\" fill=\"none\"/>\n",
              "    <path d=\"M18.56 5.44l.94 2.06.94-2.06 2.06-.94-2.06-.94-.94-2.06-.94 2.06-2.06.94zm-11 1L8.5 8.5l.94-2.06 2.06-.94-2.06-.94L8.5 2.5l-.94 2.06-2.06.94zm10 10l.94 2.06.94-2.06 2.06-.94-2.06-.94-.94-2.06-.94 2.06-2.06.94z\"/><path d=\"M17.41 7.96l-1.37-1.37c-.4-.4-.92-.59-1.43-.59-.52 0-1.04.2-1.43.59L10.3 9.45l-7.72 7.72c-.78.78-.78 2.05 0 2.83L4 21.41c.39.39.9.59 1.41.59.51 0 1.02-.2 1.41-.59l7.78-7.78 2.81-2.81c.8-.78.8-2.07 0-2.86zM5.41 20L4 18.59l7.72-7.72 1.47 1.35L5.41 20z\"/>\n",
              "  </svg>\n",
              "      </button>\n",
              "      \n",
              "  <style>\n",
              "    .colab-df-container {\n",
              "      display:flex;\n",
              "      flex-wrap:wrap;\n",
              "      gap: 12px;\n",
              "    }\n",
              "\n",
              "    .colab-df-convert {\n",
              "      background-color: #E8F0FE;\n",
              "      border: none;\n",
              "      border-radius: 50%;\n",
              "      cursor: pointer;\n",
              "      display: none;\n",
              "      fill: #1967D2;\n",
              "      height: 32px;\n",
              "      padding: 0 0 0 0;\n",
              "      width: 32px;\n",
              "    }\n",
              "\n",
              "    .colab-df-convert:hover {\n",
              "      background-color: #E2EBFA;\n",
              "      box-shadow: 0px 1px 2px rgba(60, 64, 67, 0.3), 0px 1px 3px 1px rgba(60, 64, 67, 0.15);\n",
              "      fill: #174EA6;\n",
              "    }\n",
              "\n",
              "    [theme=dark] .colab-df-convert {\n",
              "      background-color: #3B4455;\n",
              "      fill: #D2E3FC;\n",
              "    }\n",
              "\n",
              "    [theme=dark] .colab-df-convert:hover {\n",
              "      background-color: #434B5C;\n",
              "      box-shadow: 0px 1px 3px 1px rgba(0, 0, 0, 0.15);\n",
              "      filter: drop-shadow(0px 1px 2px rgba(0, 0, 0, 0.3));\n",
              "      fill: #FFFFFF;\n",
              "    }\n",
              "  </style>\n",
              "\n",
              "      <script>\n",
              "        const buttonEl =\n",
              "          document.querySelector('#df-5705657f-af0f-4cdf-831d-b59e1106944b button.colab-df-convert');\n",
              "        buttonEl.style.display =\n",
              "          google.colab.kernel.accessAllowed ? 'block' : 'none';\n",
              "\n",
              "        async function convertToInteractive(key) {\n",
              "          const element = document.querySelector('#df-5705657f-af0f-4cdf-831d-b59e1106944b');\n",
              "          const dataTable =\n",
              "            await google.colab.kernel.invokeFunction('convertToInteractive',\n",
              "                                                     [key], {});\n",
              "          if (!dataTable) return;\n",
              "\n",
              "          const docLinkHtml = 'Like what you see? Visit the ' +\n",
              "            '<a target=\"_blank\" href=https://colab.research.google.com/notebooks/data_table.ipynb>data table notebook</a>'\n",
              "            + ' to learn more about interactive tables.';\n",
              "          element.innerHTML = '';\n",
              "          dataTable['output_type'] = 'display_data';\n",
              "          await google.colab.output.renderOutput(dataTable, element);\n",
              "          const docLink = document.createElement('div');\n",
              "          docLink.innerHTML = docLinkHtml;\n",
              "          element.appendChild(docLink);\n",
              "        }\n",
              "      </script>\n",
              "    </div>\n",
              "  </div>\n",
              "  "
            ],
            "text/plain": [
              "                MSFT      AAPL\n",
              "Date                          \n",
              "1989-04-06       NaN       NaN\n",
              "1989-04-07  0.000000  0.037481\n",
              "1989-04-10  0.002436 -0.010083\n",
              "1989-04-11  0.000000  0.020069\n",
              "1989-04-12 -0.065351  0.019672\n",
              "...              ...       ...\n",
              "2022-02-07 -0.016445 -0.004244\n",
              "2022-02-08  0.011924  0.018298\n",
              "2022-02-09  0.021600  0.008260\n",
              "2022-02-10 -0.028783 -0.023882\n",
              "2022-02-11 -0.024574 -0.020426\n",
              "\n",
              "[8280 rows x 2 columns]"
            ]
          },
          "metadata": {},
          "execution_count": 3
        }
      ],
      "source": [
        "sec_returns = np.log(sec_data / sec_data.shift(1))\n",
        "sec_returns"
      ]
    },
    {
      "cell_type": "markdown",
      "metadata": {
        "id": "qZbRl1XJJQ7z"
      },
      "source": [
        "### Calculating Portfolio Variance"
      ]
    },
    {
      "cell_type": "markdown",
      "metadata": {
        "id": "4RPKyL_3JQ7z"
      },
      "source": [
        "Equal weightings scheme:"
      ]
    },
    {
      "cell_type": "code",
      "execution_count": 4,
      "metadata": {
        "id": "3JlHeWkPJQ7z"
      },
      "outputs": [],
      "source": [
        "weights = np.array([0.5, 0.5])"
      ]
    },
    {
      "cell_type": "markdown",
      "metadata": {
        "id": "-6JwxMmfJQ70"
      },
      "source": [
        "Portfolio Variance:"
      ]
    },
    {
      "cell_type": "code",
      "execution_count": 5,
      "metadata": {
        "colab": {
          "base_uri": "https://localhost:8080/"
        },
        "id": "5p8SaaWcJQ70",
        "outputId": "1befe941-b4f0-4ac1-af4a-13c4765b6906"
      },
      "outputs": [
        {
          "output_type": "execute_result",
          "data": {
            "text/plain": [
              "0.10088333445529732"
            ]
          },
          "metadata": {},
          "execution_count": 5
        }
      ],
      "source": [
        "pfolio_var = np.dot(weights.T, np.dot(sec_returns.cov() * 250, weights))\n",
        "pfolio_var"
      ]
    },
    {
      "cell_type": "markdown",
      "metadata": {
        "id": "YJ2c_GKIJQ71"
      },
      "source": [
        "### Calculating Diversifiable and Non-Diversifiable Risk of a Portfolio"
      ]
    },
    {
      "cell_type": "markdown",
      "metadata": {
        "id": "sJbZrOgTJQ71"
      },
      "source": [
        "Diversifiable Risk:"
      ]
    },
    {
      "cell_type": "code",
      "execution_count": 6,
      "metadata": {
        "colab": {
          "base_uri": "https://localhost:8080/"
        },
        "id": "fzo7NMudJQ72",
        "outputId": "8ef58173-2563-4627-c130-28ce62886d22"
      },
      "outputs": [
        {
          "output_type": "execute_result",
          "data": {
            "text/plain": [
              "MSFT    0.100617\n",
              "dtype: float64"
            ]
          },
          "metadata": {},
          "execution_count": 6
        }
      ],
      "source": [
        "MSFT_var_a = sec_returns[['MSFT']].var() * 250\n",
        "MSFT_var_a"
      ]
    },
    {
      "cell_type": "code",
      "execution_count": 7,
      "metadata": {
        "colab": {
          "base_uri": "https://localhost:8080/"
        },
        "id": "r1ZZJILxJQ72",
        "outputId": "8b72730d-08a6-4ecd-c057-cd8a51ff1e3d"
      },
      "outputs": [
        {
          "output_type": "execute_result",
          "data": {
            "text/plain": [
              "AAPL    0.193526\n",
              "dtype: float64"
            ]
          },
          "metadata": {},
          "execution_count": 7
        }
      ],
      "source": [
        "AAPL_var_a = sec_returns[['AAPL']].var() * 250\n",
        "AAPL_var_a"
      ]
    },
    {
      "cell_type": "markdown",
      "metadata": {
        "id": "W8waOgbGJQ73"
      },
      "source": [
        "Or:"
      ]
    },
    {
      "cell_type": "code",
      "execution_count": 8,
      "metadata": {
        "colab": {
          "base_uri": "https://localhost:8080/"
        },
        "id": "kjSFdeAHJQ73",
        "outputId": "9acdb73e-2138-4ed6-bb14-8807afc987c0"
      },
      "outputs": [
        {
          "output_type": "execute_result",
          "data": {
            "text/plain": [
              "0.10061705542165514"
            ]
          },
          "metadata": {},
          "execution_count": 8
        }
      ],
      "source": [
        "MSFT_var_a = sec_returns['MSFT'].var() * 250\n",
        "MSFT_var_a"
      ]
    },
    {
      "cell_type": "code",
      "execution_count": 9,
      "metadata": {
        "colab": {
          "base_uri": "https://localhost:8080/"
        },
        "id": "rxUNBeIXJQ74",
        "outputId": "86b5e054-85da-4d57-b349-95d20cabfdef"
      },
      "outputs": [
        {
          "output_type": "execute_result",
          "data": {
            "text/plain": [
              "0.19352576866253818"
            ]
          },
          "metadata": {},
          "execution_count": 9
        }
      ],
      "source": [
        "AAPL_var_a = sec_returns['AAPL'].var() * 250\n",
        "AAPL_var_a"
      ]
    },
    {
      "cell_type": "markdown",
      "metadata": {
        "id": "XKxVTJqcJQ74"
      },
      "source": [
        "Calculating Diversifiable Risk:"
      ]
    },
    {
      "cell_type": "code",
      "execution_count": 10,
      "metadata": {
        "colab": {
          "base_uri": "https://localhost:8080/"
        },
        "id": "1COauVN4JQ74",
        "outputId": "f8e1c50c-19a9-42b7-8f03-f0fafdf19d44"
      },
      "outputs": [
        {
          "output_type": "execute_result",
          "data": {
            "text/plain": [
              "0.027347628434248997"
            ]
          },
          "metadata": {},
          "execution_count": 10
        }
      ],
      "source": [
        "dr = pfolio_var - (weights[0] ** 2 * MSFT_var_a) - (weights[1] ** 2 * AAPL_var_a)\n",
        "dr"
      ]
    },
    {
      "cell_type": "code",
      "execution_count": 11,
      "metadata": {
        "colab": {
          "base_uri": "https://localhost:8080/"
        },
        "id": "y4xoX8FmJQ75",
        "outputId": "af9e79f7-b1c8-4d77-e71e-65d466d96651"
      },
      "outputs": [
        {
          "output_type": "stream",
          "name": "stdout",
          "text": [
            "2.735 %\n"
          ]
        }
      ],
      "source": [
        "print (str(round(dr*100, 3)) + ' %')"
      ]
    },
    {
      "cell_type": "markdown",
      "metadata": {
        "id": "6enH1ch-JQ75"
      },
      "source": [
        "Calculating Non-Diversifiable Risk:"
      ]
    },
    {
      "cell_type": "code",
      "execution_count": 12,
      "metadata": {
        "colab": {
          "base_uri": "https://localhost:8080/"
        },
        "id": "U1diT0Y5JQ75",
        "outputId": "3a98a044-c32e-40f0-80b6-5f6a98f126c7"
      },
      "outputs": [
        {
          "output_type": "execute_result",
          "data": {
            "text/plain": [
              "0.07353570602104832"
            ]
          },
          "metadata": {},
          "execution_count": 12
        }
      ],
      "source": [
        "n_dr_1 = pfolio_var - dr\n",
        "n_dr_1"
      ]
    },
    {
      "cell_type": "markdown",
      "metadata": {
        "id": "Kp_d2zmRJQ76"
      },
      "source": [
        "Or:"
      ]
    },
    {
      "cell_type": "code",
      "execution_count": 13,
      "metadata": {
        "colab": {
          "base_uri": "https://localhost:8080/"
        },
        "id": "nrLXoCHxJQ76",
        "outputId": "ca8e5a81-94d7-452c-d27e-443e1f3a781c"
      },
      "outputs": [
        {
          "output_type": "execute_result",
          "data": {
            "text/plain": [
              "0.07353570602104834"
            ]
          },
          "metadata": {},
          "execution_count": 13
        }
      ],
      "source": [
        "n_dr_2 = (weights[0] ** 2 * MSFT_var_a) + (weights[1] ** 2 * AAPL_var_a)\n",
        "n_dr_2"
      ]
    },
    {
      "cell_type": "markdown",
      "metadata": {
        "id": "N2cMQlyAJQ76"
      },
      "source": [
        "*****"
      ]
    },
    {
      "cell_type": "markdown",
      "metadata": {
        "id": "h6IRxTJ2JQ77"
      },
      "source": [
        "b)\tWith weights 0.2 for Microsoft and 0.8 for Apple."
      ]
    },
    {
      "cell_type": "markdown",
      "metadata": {
        "id": "m_4An5IcJQ77"
      },
      "source": [
        "### Calculating Portfolio Variance"
      ]
    },
    {
      "cell_type": "code",
      "execution_count": 14,
      "metadata": {
        "id": "7_aCchJlJQ77"
      },
      "outputs": [],
      "source": [
        "weights_2 = np.array([0.2, 0.8])"
      ]
    },
    {
      "cell_type": "markdown",
      "metadata": {
        "id": "a2g0F-BeJQ78"
      },
      "source": [
        "Portfolio Variance:"
      ]
    },
    {
      "cell_type": "code",
      "execution_count": 15,
      "metadata": {
        "colab": {
          "base_uri": "https://localhost:8080/"
        },
        "id": "m0kQ37lMJQ78",
        "outputId": "e5770a23-a221-42a0-d2a3-ea66b63a344c"
      },
      "outputs": [
        {
          "output_type": "execute_result",
          "data": {
            "text/plain": [
              "0.14538365635880962"
            ]
          },
          "metadata": {},
          "execution_count": 15
        }
      ],
      "source": [
        "pfolio_var_2 = np.dot(weights_2.T, np.dot(sec_returns.cov() * 250, weights_2))\n",
        "pfolio_var_2"
      ]
    },
    {
      "cell_type": "markdown",
      "metadata": {
        "id": "sF-0Bx35JQ79"
      },
      "source": [
        "### Calculating Diversifiable and Non-Diversifiable Risk of a Portfolio"
      ]
    },
    {
      "cell_type": "markdown",
      "metadata": {
        "id": "58dLITsXJQ7-"
      },
      "source": [
        "Calculating Diversifiable Risk:"
      ]
    },
    {
      "cell_type": "code",
      "execution_count": 16,
      "metadata": {
        "colab": {
          "base_uri": "https://localhost:8080/"
        },
        "id": "U1TJ0Fj7JQ7-",
        "outputId": "3923dd3d-1678-4edb-a813-1b3e6793c81a"
      },
      "outputs": [
        {
          "output_type": "execute_result",
          "data": {
            "text/plain": [
              "0.017502482197918973"
            ]
          },
          "metadata": {},
          "execution_count": 16
        }
      ],
      "source": [
        "dr_2 = pfolio_var_2 - (weights_2[0] ** 2 * MSFT_var_a) - (weights_2[1] ** 2 * AAPL_var_a)\n",
        "dr_2"
      ]
    },
    {
      "cell_type": "code",
      "execution_count": 17,
      "metadata": {
        "colab": {
          "base_uri": "https://localhost:8080/"
        },
        "id": "ybowRjlqJQ7_",
        "outputId": "9669357e-1e09-4fd9-dc54-18496ff8537c"
      },
      "outputs": [
        {
          "output_type": "stream",
          "name": "stdout",
          "text": [
            "2.735 %\n"
          ]
        }
      ],
      "source": [
        "print (str(round(dr*100, 3)) + ' %')"
      ]
    },
    {
      "cell_type": "markdown",
      "metadata": {
        "id": "TASmPzAsJQ7_"
      },
      "source": [
        "Calculating Non-Diversifiable Risk:"
      ]
    },
    {
      "cell_type": "code",
      "execution_count": 18,
      "metadata": {
        "colab": {
          "base_uri": "https://localhost:8080/"
        },
        "id": "U-Ggy9YRJQ8A",
        "outputId": "9133c06e-66a8-4928-c84c-995463bc51f9"
      },
      "outputs": [
        {
          "output_type": "execute_result",
          "data": {
            "text/plain": [
              "0.12788117416089065"
            ]
          },
          "metadata": {},
          "execution_count": 18
        }
      ],
      "source": [
        "n_dr_2 = pfolio_var_2 - dr_2\n",
        "n_dr_2"
      ]
    },
    {
      "cell_type": "markdown",
      "metadata": {
        "id": "SozunvwcJQ8A"
      },
      "source": [
        "Or:"
      ]
    },
    {
      "cell_type": "code",
      "execution_count": 19,
      "metadata": {
        "colab": {
          "base_uri": "https://localhost:8080/"
        },
        "id": "GxyBtESfJQ8A",
        "outputId": "b53626f2-1f5b-4bc7-b7f4-19476d84346e"
      },
      "outputs": [
        {
          "output_type": "execute_result",
          "data": {
            "text/plain": [
              "0.12788117416089065"
            ]
          },
          "metadata": {},
          "execution_count": 19
        }
      ],
      "source": [
        "n_dr_2 = (weights_2[0] ** 2 * MSFT_var_a) + (weights_2[1] ** 2 * AAPL_var_a)\n",
        "n_dr_2"
      ]
    }
  ],
  "metadata": {
    "kernelspec": {
      "display_name": "Python 3",
      "language": "python",
      "name": "python3"
    },
    "language_info": {
      "codemirror_mode": {
        "name": "ipython",
        "version": 3
      },
      "file_extension": ".py",
      "mimetype": "text/x-python",
      "name": "python",
      "nbconvert_exporter": "python",
      "pygments_lexer": "ipython3",
      "version": "3.7.0"
    },
    "colab": {
      "name": "Diversifiable and Non-Diversifiable Risk of a Portfolio .ipynb",
      "provenance": [],
      "include_colab_link": true
    }
  },
  "nbformat": 4,
  "nbformat_minor": 0
}