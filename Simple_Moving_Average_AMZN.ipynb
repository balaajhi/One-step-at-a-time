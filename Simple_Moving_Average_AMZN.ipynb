{
  "cells": [
    {
      "cell_type": "markdown",
      "metadata": {
        "id": "view-in-github",
        "colab_type": "text"
      },
      "source": [
        "<a href=\"https://colab.research.google.com/github/balaajhi/One-step-at-a-time/blob/main/Simple_Moving_Average_AMZN.ipynb\" target=\"_parent\"><img src=\"https://colab.research.google.com/assets/colab-badge.svg\" alt=\"Open In Colab\"/></a>"
      ]
    },
    {
      "cell_type": "markdown",
      "metadata": {
        "id": "CKIOhu-7FY5A"
      },
      "source": [
        "## Getting the Data"
      ]
    },
    {
      "cell_type": "code",
      "execution_count": null,
      "metadata": {
        "pycharm": {
          "is_executing": true
        },
        "colab": {
          "base_uri": "https://localhost:8080/"
        },
        "id": "WO4X8-dpFY5B",
        "outputId": "63721017-cad1-41c0-be38-3727e2a977c0"
      },
      "outputs": [
        {
          "output_type": "stream",
          "name": "stdout",
          "text": [
            "Requirement already satisfied: yfinance in /usr/local/lib/python3.7/dist-packages (0.1.69)\n",
            "Requirement already satisfied: lxml>=4.5.1 in /usr/local/lib/python3.7/dist-packages (from yfinance) (4.7.1)\n",
            "Requirement already satisfied: numpy>=1.15 in /usr/local/lib/python3.7/dist-packages (from yfinance) (1.19.5)\n",
            "Requirement already satisfied: requests>=2.26 in /usr/local/lib/python3.7/dist-packages (from yfinance) (2.27.1)\n",
            "Requirement already satisfied: pandas>=0.24 in /usr/local/lib/python3.7/dist-packages (from yfinance) (1.1.5)\n",
            "Requirement already satisfied: multitasking>=0.0.7 in /usr/local/lib/python3.7/dist-packages (from yfinance) (0.0.10)\n",
            "Requirement already satisfied: pytz>=2017.2 in /usr/local/lib/python3.7/dist-packages (from pandas>=0.24->yfinance) (2018.9)\n",
            "Requirement already satisfied: python-dateutil>=2.7.3 in /usr/local/lib/python3.7/dist-packages (from pandas>=0.24->yfinance) (2.8.2)\n",
            "Requirement already satisfied: six>=1.5 in /usr/local/lib/python3.7/dist-packages (from python-dateutil>=2.7.3->pandas>=0.24->yfinance) (1.15.0)\n",
            "Requirement already satisfied: urllib3<1.27,>=1.21.1 in /usr/local/lib/python3.7/dist-packages (from requests>=2.26->yfinance) (1.24.3)\n",
            "Requirement already satisfied: idna<4,>=2.5 in /usr/local/lib/python3.7/dist-packages (from requests>=2.26->yfinance) (2.10)\n",
            "Requirement already satisfied: charset-normalizer~=2.0.0 in /usr/local/lib/python3.7/dist-packages (from requests>=2.26->yfinance) (2.0.10)\n",
            "Requirement already satisfied: certifi>=2017.4.17 in /usr/local/lib/python3.7/dist-packages (from requests>=2.26->yfinance) (2021.10.8)\n"
          ]
        }
      ],
      "source": [
        "import numpy as np\n",
        "import matplotlib.pyplot as plt\n",
        "plt.style.use(\"seaborn\")\n",
        "%pip install yfinance\n"
      ]
    },
    {
      "cell_type": "markdown",
      "source": [
        "Using Yahoo finance to retrive data"
      ],
      "metadata": {
        "id": "3xfAWph-Kl-h"
      }
    },
    {
      "cell_type": "code",
      "execution_count": null,
      "metadata": {
        "colab": {
          "base_uri": "https://localhost:8080/"
        },
        "id": "_9hvYGTQFY5B",
        "outputId": "c2340768-ab14-479a-de4f-798f105afbec"
      },
      "outputs": [
        {
          "output_type": "stream",
          "name": "stdout",
          "text": [
            "[*********************100%***********************]  1 of 1 completed\n",
            "[*********************100%***********************]  1 of 1 completed\n",
            "[*********************100%***********************]  1 of 1 completed\n",
            "[*********************100%***********************]  1 of 1 completed\n",
            "[*********************100%***********************]  1 of 1 completed\n",
            "[*********************100%***********************]  1 of 1 completed\n",
            "[*********************100%***********************]  1 of 1 completed\n",
            "[*********************100%***********************]  1 of 1 completed\n",
            "[*********************100%***********************]  1 of 1 completed\n",
            "[*********************100%***********************]  1 of 1 completed\n",
            "[*********************100%***********************]  1 of 1 completed\n",
            "[*********************100%***********************]  1 of 1 completed\n"
          ]
        }
      ],
      "source": [
        "import datetime as dt\n",
        "import yfinance as yf\n",
        "import pandas as pd\n",
        "\n",
        "stocks = [\"AMZN\",\"MSFT\",\"INTC\",\"GOOG\",\"INFY.NS\",\"3988.HK\"]\n",
        "start = dt.datetime.today()-dt.timedelta(6000)\n",
        "end = dt.datetime.today()\n",
        "cl_price = pd.DataFrame() # empty dataframe which will be filled with closing prices of each stock\n",
        "ohlcv_data = {} # empty dictionary which will be filled with ohlcv dataframe for each ticker\n",
        "\n",
        "# looping over tickers and creating a dataframe with close prices\n",
        "for ticker in stocks:\n",
        "    cl_price[ticker] = yf.download(ticker,start,end)[\"Adj Close\"]\n",
        "    \n",
        "\n",
        "# looping over tickers and storing OHLCV dataframe in dictionary\n",
        "for ticker in stocks:\n",
        "    ohlcv_data[ticker] = yf.download(ticker,start,end)\n",
        "\n"
      ]
    },
    {
      "cell_type": "code",
      "execution_count": null,
      "metadata": {
        "colab": {
          "base_uri": "https://localhost:8080/",
          "height": 450
        },
        "id": "BlwlPUKGFY5C",
        "outputId": "5376cfb3-1218-43a1-e56d-61c674c02204"
      },
      "outputs": [
        {
          "output_type": "execute_result",
          "data": {
            "text/html": [
              "\n",
              "  <div id=\"df-579837bd-2774-4424-86ea-a9f6d4b80ce1\">\n",
              "    <div class=\"colab-df-container\">\n",
              "      <div>\n",
              "<style scoped>\n",
              "    .dataframe tbody tr th:only-of-type {\n",
              "        vertical-align: middle;\n",
              "    }\n",
              "\n",
              "    .dataframe tbody tr th {\n",
              "        vertical-align: top;\n",
              "    }\n",
              "\n",
              "    .dataframe thead th {\n",
              "        text-align: right;\n",
              "    }\n",
              "</style>\n",
              "<table border=\"1\" class=\"dataframe\">\n",
              "  <thead>\n",
              "    <tr style=\"text-align: right;\">\n",
              "      <th></th>\n",
              "      <th>AMZN</th>\n",
              "    </tr>\n",
              "    <tr>\n",
              "      <th>Date</th>\n",
              "      <th></th>\n",
              "    </tr>\n",
              "  </thead>\n",
              "  <tbody>\n",
              "    <tr>\n",
              "      <th>2005-08-29</th>\n",
              "      <td>42.790001</td>\n",
              "    </tr>\n",
              "    <tr>\n",
              "      <th>2005-08-30</th>\n",
              "      <td>42.490002</td>\n",
              "    </tr>\n",
              "    <tr>\n",
              "      <th>2005-08-31</th>\n",
              "      <td>42.700001</td>\n",
              "    </tr>\n",
              "    <tr>\n",
              "      <th>2005-09-01</th>\n",
              "      <td>41.840000</td>\n",
              "    </tr>\n",
              "    <tr>\n",
              "      <th>2005-09-02</th>\n",
              "      <td>41.509998</td>\n",
              "    </tr>\n",
              "    <tr>\n",
              "      <th>...</th>\n",
              "      <td>...</td>\n",
              "    </tr>\n",
              "    <tr>\n",
              "      <th>2022-01-24</th>\n",
              "      <td>2890.879883</td>\n",
              "    </tr>\n",
              "    <tr>\n",
              "      <th>2022-01-25</th>\n",
              "      <td>2799.719971</td>\n",
              "    </tr>\n",
              "    <tr>\n",
              "      <th>2022-01-26</th>\n",
              "      <td>2777.449951</td>\n",
              "    </tr>\n",
              "    <tr>\n",
              "      <th>2022-01-27</th>\n",
              "      <td>2792.750000</td>\n",
              "    </tr>\n",
              "    <tr>\n",
              "      <th>2022-01-28</th>\n",
              "      <td>2879.560059</td>\n",
              "    </tr>\n",
              "  </tbody>\n",
              "</table>\n",
              "<p>4134 rows × 1 columns</p>\n",
              "</div>\n",
              "      <button class=\"colab-df-convert\" onclick=\"convertToInteractive('df-579837bd-2774-4424-86ea-a9f6d4b80ce1')\"\n",
              "              title=\"Convert this dataframe to an interactive table.\"\n",
              "              style=\"display:none;\">\n",
              "        \n",
              "  <svg xmlns=\"http://www.w3.org/2000/svg\" height=\"24px\"viewBox=\"0 0 24 24\"\n",
              "       width=\"24px\">\n",
              "    <path d=\"M0 0h24v24H0V0z\" fill=\"none\"/>\n",
              "    <path d=\"M18.56 5.44l.94 2.06.94-2.06 2.06-.94-2.06-.94-.94-2.06-.94 2.06-2.06.94zm-11 1L8.5 8.5l.94-2.06 2.06-.94-2.06-.94L8.5 2.5l-.94 2.06-2.06.94zm10 10l.94 2.06.94-2.06 2.06-.94-2.06-.94-.94-2.06-.94 2.06-2.06.94z\"/><path d=\"M17.41 7.96l-1.37-1.37c-.4-.4-.92-.59-1.43-.59-.52 0-1.04.2-1.43.59L10.3 9.45l-7.72 7.72c-.78.78-.78 2.05 0 2.83L4 21.41c.39.39.9.59 1.41.59.51 0 1.02-.2 1.41-.59l7.78-7.78 2.81-2.81c.8-.78.8-2.07 0-2.86zM5.41 20L4 18.59l7.72-7.72 1.47 1.35L5.41 20z\"/>\n",
              "  </svg>\n",
              "      </button>\n",
              "      \n",
              "  <style>\n",
              "    .colab-df-container {\n",
              "      display:flex;\n",
              "      flex-wrap:wrap;\n",
              "      gap: 12px;\n",
              "    }\n",
              "\n",
              "    .colab-df-convert {\n",
              "      background-color: #E8F0FE;\n",
              "      border: none;\n",
              "      border-radius: 50%;\n",
              "      cursor: pointer;\n",
              "      display: none;\n",
              "      fill: #1967D2;\n",
              "      height: 32px;\n",
              "      padding: 0 0 0 0;\n",
              "      width: 32px;\n",
              "    }\n",
              "\n",
              "    .colab-df-convert:hover {\n",
              "      background-color: #E2EBFA;\n",
              "      box-shadow: 0px 1px 2px rgba(60, 64, 67, 0.3), 0px 1px 3px 1px rgba(60, 64, 67, 0.15);\n",
              "      fill: #174EA6;\n",
              "    }\n",
              "\n",
              "    [theme=dark] .colab-df-convert {\n",
              "      background-color: #3B4455;\n",
              "      fill: #D2E3FC;\n",
              "    }\n",
              "\n",
              "    [theme=dark] .colab-df-convert:hover {\n",
              "      background-color: #434B5C;\n",
              "      box-shadow: 0px 1px 3px 1px rgba(0, 0, 0, 0.15);\n",
              "      filter: drop-shadow(0px 1px 2px rgba(0, 0, 0, 0.3));\n",
              "      fill: #FFFFFF;\n",
              "    }\n",
              "  </style>\n",
              "\n",
              "      <script>\n",
              "        const buttonEl =\n",
              "          document.querySelector('#df-579837bd-2774-4424-86ea-a9f6d4b80ce1 button.colab-df-convert');\n",
              "        buttonEl.style.display =\n",
              "          google.colab.kernel.accessAllowed ? 'block' : 'none';\n",
              "\n",
              "        async function convertToInteractive(key) {\n",
              "          const element = document.querySelector('#df-579837bd-2774-4424-86ea-a9f6d4b80ce1');\n",
              "          const dataTable =\n",
              "            await google.colab.kernel.invokeFunction('convertToInteractive',\n",
              "                                                     [key], {});\n",
              "          if (!dataTable) return;\n",
              "\n",
              "          const docLinkHtml = 'Like what you see? Visit the ' +\n",
              "            '<a target=\"_blank\" href=https://colab.research.google.com/notebooks/data_table.ipynb>data table notebook</a>'\n",
              "            + ' to learn more about interactive tables.';\n",
              "          element.innerHTML = '';\n",
              "          dataTable['output_type'] = 'display_data';\n",
              "          await google.colab.output.renderOutput(dataTable, element);\n",
              "          const docLink = document.createElement('div');\n",
              "          docLink.innerHTML = docLinkHtml;\n",
              "          element.appendChild(docLink);\n",
              "        }\n",
              "      </script>\n",
              "    </div>\n",
              "  </div>\n",
              "  "
            ],
            "text/plain": [
              "                   AMZN\n",
              "Date                   \n",
              "2005-08-29    42.790001\n",
              "2005-08-30    42.490002\n",
              "2005-08-31    42.700001\n",
              "2005-09-01    41.840000\n",
              "2005-09-02    41.509998\n",
              "...                 ...\n",
              "2022-01-24  2890.879883\n",
              "2022-01-25  2799.719971\n",
              "2022-01-26  2777.449951\n",
              "2022-01-27  2792.750000\n",
              "2022-01-28  2879.560059\n",
              "\n",
              "[4134 rows x 1 columns]"
            ]
          },
          "metadata": {},
          "execution_count": 114
        }
      ],
      "source": [
        "df = cl_price.iloc[: , :1]\n",
        "df"
      ]
    },
    {
      "cell_type": "code",
      "execution_count": null,
      "metadata": {
        "colab": {
          "base_uri": "https://localhost:8080/"
        },
        "id": "4_8up39_FY5D",
        "outputId": "e91034ad-c8bf-48ec-93b8-e94ff7ac094f"
      },
      "outputs": [
        {
          "output_type": "stream",
          "name": "stdout",
          "text": [
            "<class 'pandas.core.frame.DataFrame'>\n",
            "DatetimeIndex: 4134 entries, 2005-08-29 to 2022-01-28\n",
            "Data columns (total 1 columns):\n",
            " #   Column  Non-Null Count  Dtype  \n",
            "---  ------  --------------  -----  \n",
            " 0   AMZN    4134 non-null   float64\n",
            "dtypes: float64(1)\n",
            "memory usage: 64.6 KB\n"
          ]
        }
      ],
      "source": [
        "df.info()"
      ]
    },
    {
      "cell_type": "code",
      "execution_count": null,
      "metadata": {
        "id": "QAtiSZpIFY5D",
        "outputId": "e2334134-2a00-4e77-9acb-e7f178ee59a8",
        "colab": {
          "base_uri": "https://localhost:8080/",
          "height": 482
        }
      },
      "outputs": [
        {
          "output_type": "display_data",
          "data": {
            "image/png": "[encoded data removed]",
            "text/plain": [
              "<Figure size 864x576 with 1 Axes>"
            ]
          },
          "metadata": {}
        }
      ],
      "source": [
        "df.plot(figsize = (12, 8), title = \"Stock Prices\", fontsize = 12)\n",
        "plt.show()"
      ]
    },
    {
      "cell_type": "code",
      "execution_count": null,
      "metadata": {
        "id": "SES6ueidFY5D",
        "colab": {
          "base_uri": "https://localhost:8080/"
        },
        "outputId": "4b9d2b61-7110-48aa-889d-c609df627dd0"
      },
      "outputs": [
        {
          "output_type": "stream",
          "name": "stderr",
          "text": [
            "/usr/local/lib/python3.7/dist-packages/ipykernel_launcher.py:1: SettingWithCopyWarning: \n",
            "A value is trying to be set on a copy of a slice from a DataFrame.\n",
            "Try using .loc[row_indexer,col_indexer] = value instead\n",
            "\n",
            "See the caveats in the documentation: https://pandas.pydata.org/pandas-docs/stable/user_guide/indexing.html#returning-a-view-versus-a-copy\n",
            "  \"\"\"Entry point for launching an IPython kernel.\n"
          ]
        }
      ],
      "source": [
        "df[\"returns\"] = np.log(df.div(df.shift(1)))"
      ]
    },
    {
      "cell_type": "code",
      "execution_count": null,
      "metadata": {
        "id": "TpqQE0LvFY5E",
        "outputId": "cb1e8e80-606f-43e0-9946-69d25a15b2d0",
        "colab": {
          "base_uri": "https://localhost:8080/",
          "height": 450
        }
      },
      "outputs": [
        {
          "output_type": "execute_result",
          "data": {
            "text/html": [
              "\n",
              "  <div id=\"df-f7790331-f6dd-40d0-a12f-537fadccd85f\">\n",
              "    <div class=\"colab-df-container\">\n",
              "      <div>\n",
              "<style scoped>\n",
              "    .dataframe tbody tr th:only-of-type {\n",
              "        vertical-align: middle;\n",
              "    }\n",
              "\n",
              "    .dataframe tbody tr th {\n",
              "        vertical-align: top;\n",
              "    }\n",
              "\n",
              "    .dataframe thead th {\n",
              "        text-align: right;\n",
              "    }\n",
              "</style>\n",
              "<table border=\"1\" class=\"dataframe\">\n",
              "  <thead>\n",
              "    <tr style=\"text-align: right;\">\n",
              "      <th></th>\n",
              "      <th>AMZN</th>\n",
              "      <th>returns</th>\n",
              "    </tr>\n",
              "    <tr>\n",
              "      <th>Date</th>\n",
              "      <th></th>\n",
              "      <th></th>\n",
              "    </tr>\n",
              "  </thead>\n",
              "  <tbody>\n",
              "    <tr>\n",
              "      <th>2005-08-29</th>\n",
              "      <td>42.790001</td>\n",
              "      <td>NaN</td>\n",
              "    </tr>\n",
              "    <tr>\n",
              "      <th>2005-08-30</th>\n",
              "      <td>42.490002</td>\n",
              "      <td>-0.007036</td>\n",
              "    </tr>\n",
              "    <tr>\n",
              "      <th>2005-08-31</th>\n",
              "      <td>42.700001</td>\n",
              "      <td>0.004930</td>\n",
              "    </tr>\n",
              "    <tr>\n",
              "      <th>2005-09-01</th>\n",
              "      <td>41.840000</td>\n",
              "      <td>-0.020346</td>\n",
              "    </tr>\n",
              "    <tr>\n",
              "      <th>2005-09-02</th>\n",
              "      <td>41.509998</td>\n",
              "      <td>-0.007919</td>\n",
              "    </tr>\n",
              "    <tr>\n",
              "      <th>...</th>\n",
              "      <td>...</td>\n",
              "      <td>...</td>\n",
              "    </tr>\n",
              "    <tr>\n",
              "      <th>2022-01-24</th>\n",
              "      <td>2890.879883</td>\n",
              "      <td>0.013239</td>\n",
              "    </tr>\n",
              "    <tr>\n",
              "      <th>2022-01-25</th>\n",
              "      <td>2799.719971</td>\n",
              "      <td>-0.032042</td>\n",
              "    </tr>\n",
              "    <tr>\n",
              "      <th>2022-01-26</th>\n",
              "      <td>2777.449951</td>\n",
              "      <td>-0.007986</td>\n",
              "    </tr>\n",
              "    <tr>\n",
              "      <th>2022-01-27</th>\n",
              "      <td>2792.750000</td>\n",
              "      <td>0.005494</td>\n",
              "    </tr>\n",
              "    <tr>\n",
              "      <th>2022-01-28</th>\n",
              "      <td>2879.560059</td>\n",
              "      <td>0.030611</td>\n",
              "    </tr>\n",
              "  </tbody>\n",
              "</table>\n",
              "<p>4134 rows × 2 columns</p>\n",
              "</div>\n",
              "      <button class=\"colab-df-convert\" onclick=\"convertToInteractive('df-f7790331-f6dd-40d0-a12f-537fadccd85f')\"\n",
              "              title=\"Convert this dataframe to an interactive table.\"\n",
              "              style=\"display:none;\">\n",
              "        \n",
              "  <svg xmlns=\"http://www.w3.org/2000/svg\" height=\"24px\"viewBox=\"0 0 24 24\"\n",
              "       width=\"24px\">\n",
              "    <path d=\"M0 0h24v24H0V0z\" fill=\"none\"/>\n",
              "    <path d=\"M18.56 5.44l.94 2.06.94-2.06 2.06-.94-2.06-.94-.94-2.06-.94 2.06-2.06.94zm-11 1L8.5 8.5l.94-2.06 2.06-.94-2.06-.94L8.5 2.5l-.94 2.06-2.06.94zm10 10l.94 2.06.94-2.06 2.06-.94-2.06-.94-.94-2.06-.94 2.06-2.06.94z\"/><path d=\"M17.41 7.96l-1.37-1.37c-.4-.4-.92-.59-1.43-.59-.52 0-1.04.2-1.43.59L10.3 9.45l-7.72 7.72c-.78.78-.78 2.05 0 2.83L4 21.41c.39.39.9.59 1.41.59.51 0 1.02-.2 1.41-.59l7.78-7.78 2.81-2.81c.8-.78.8-2.07 0-2.86zM5.41 20L4 18.59l7.72-7.72 1.47 1.35L5.41 20z\"/>\n",
              "  </svg>\n",
              "      </button>\n",
              "      \n",
              "  <style>\n",
              "    .colab-df-container {\n",
              "      display:flex;\n",
              "      flex-wrap:wrap;\n",
              "      gap: 12px;\n",
              "    }\n",
              "\n",
              "    .colab-df-convert {\n",
              "      background-color: #E8F0FE;\n",
              "      border: none;\n",
              "      border-radius: 50%;\n",
              "      cursor: pointer;\n",
              "      display: none;\n",
              "      fill: #1967D2;\n",
              "      height: 32px;\n",
              "      padding: 0 0 0 0;\n",
              "      width: 32px;\n",
              "    }\n",
              "\n",
              "    .colab-df-convert:hover {\n",
              "      background-color: #E2EBFA;\n",
              "      box-shadow: 0px 1px 2px rgba(60, 64, 67, 0.3), 0px 1px 3px 1px rgba(60, 64, 67, 0.15);\n",
              "      fill: #174EA6;\n",
              "    }\n",
              "\n",
              "    [theme=dark] .colab-df-convert {\n",
              "      background-color: #3B4455;\n",
              "      fill: #D2E3FC;\n",
              "    }\n",
              "\n",
              "    [theme=dark] .colab-df-convert:hover {\n",
              "      background-color: #434B5C;\n",
              "      box-shadow: 0px 1px 3px 1px rgba(0, 0, 0, 0.15);\n",
              "      filter: drop-shadow(0px 1px 2px rgba(0, 0, 0, 0.3));\n",
              "      fill: #FFFFFF;\n",
              "    }\n",
              "  </style>\n",
              "\n",
              "      <script>\n",
              "        const buttonEl =\n",
              "          document.querySelector('#df-f7790331-f6dd-40d0-a12f-537fadccd85f button.colab-df-convert');\n",
              "        buttonEl.style.display =\n",
              "          google.colab.kernel.accessAllowed ? 'block' : 'none';\n",
              "\n",
              "        async function convertToInteractive(key) {\n",
              "          const element = document.querySelector('#df-f7790331-f6dd-40d0-a12f-537fadccd85f');\n",
              "          const dataTable =\n",
              "            await google.colab.kernel.invokeFunction('convertToInteractive',\n",
              "                                                     [key], {});\n",
              "          if (!dataTable) return;\n",
              "\n",
              "          const docLinkHtml = 'Like what you see? Visit the ' +\n",
              "            '<a target=\"_blank\" href=https://colab.research.google.com/notebooks/data_table.ipynb>data table notebook</a>'\n",
              "            + ' to learn more about interactive tables.';\n",
              "          element.innerHTML = '';\n",
              "          dataTable['output_type'] = 'display_data';\n",
              "          await google.colab.output.renderOutput(dataTable, element);\n",
              "          const docLink = document.createElement('div');\n",
              "          docLink.innerHTML = docLinkHtml;\n",
              "          element.appendChild(docLink);\n",
              "        }\n",
              "      </script>\n",
              "    </div>\n",
              "  </div>\n",
              "  "
            ],
            "text/plain": [
              "                   AMZN   returns\n",
              "Date                             \n",
              "2005-08-29    42.790001       NaN\n",
              "2005-08-30    42.490002 -0.007036\n",
              "2005-08-31    42.700001  0.004930\n",
              "2005-09-01    41.840000 -0.020346\n",
              "2005-09-02    41.509998 -0.007919\n",
              "...                 ...       ...\n",
              "2022-01-24  2890.879883  0.013239\n",
              "2022-01-25  2799.719971 -0.032042\n",
              "2022-01-26  2777.449951 -0.007986\n",
              "2022-01-27  2792.750000  0.005494\n",
              "2022-01-28  2879.560059  0.030611\n",
              "\n",
              "[4134 rows x 2 columns]"
            ]
          },
          "metadata": {},
          "execution_count": 118
        }
      ],
      "source": [
        "df"
      ]
    },
    {
      "cell_type": "markdown",
      "metadata": {
        "id": "D1rPycwVFY5E"
      },
      "source": [
        "## A simple Buy and Hold \"Strategy\""
      ]
    },
    {
      "cell_type": "code",
      "execution_count": null,
      "metadata": {
        "id": "_PrRcamjFY5E",
        "colab": {
          "base_uri": "https://localhost:8080/"
        },
        "outputId": "3e37cf22-5c45-4266-97f1-cebeec6ff958"
      },
      "outputs": [
        {
          "output_type": "stream",
          "name": "stderr",
          "text": [
            "/usr/local/lib/python3.7/dist-packages/ipykernel_launcher.py:1: SettingWithCopyWarning: \n",
            "A value is trying to be set on a copy of a slice from a DataFrame\n",
            "\n",
            "See the caveats in the documentation: https://pandas.pydata.org/pandas-docs/stable/user_guide/indexing.html#returning-a-view-versus-a-copy\n",
            "  \"\"\"Entry point for launching an IPython kernel.\n"
          ]
        }
      ],
      "source": [
        "df.dropna(inplace = True)"
      ]
    },
    {
      "cell_type": "code",
      "execution_count": null,
      "metadata": {
        "id": "Uwm8Y-LNFY5F",
        "colab": {
          "base_uri": "https://localhost:8080/",
          "height": 450
        },
        "outputId": "9fca26df-3398-43b3-e909-66d9cfba7d3e"
      },
      "outputs": [
        {
          "output_type": "execute_result",
          "data": {
            "text/html": [
              "\n",
              "  <div id=\"df-72dfe1fc-ce43-4d83-90bc-4017e0199fae\">\n",
              "    <div class=\"colab-df-container\">\n",
              "      <div>\n",
              "<style scoped>\n",
              "    .dataframe tbody tr th:only-of-type {\n",
              "        vertical-align: middle;\n",
              "    }\n",
              "\n",
              "    .dataframe tbody tr th {\n",
              "        vertical-align: top;\n",
              "    }\n",
              "\n",
              "    .dataframe thead th {\n",
              "        text-align: right;\n",
              "    }\n",
              "</style>\n",
              "<table border=\"1\" class=\"dataframe\">\n",
              "  <thead>\n",
              "    <tr style=\"text-align: right;\">\n",
              "      <th></th>\n",
              "      <th>AMZN</th>\n",
              "      <th>returns</th>\n",
              "    </tr>\n",
              "    <tr>\n",
              "      <th>Date</th>\n",
              "      <th></th>\n",
              "      <th></th>\n",
              "    </tr>\n",
              "  </thead>\n",
              "  <tbody>\n",
              "    <tr>\n",
              "      <th>2005-08-30</th>\n",
              "      <td>42.490002</td>\n",
              "      <td>-0.007036</td>\n",
              "    </tr>\n",
              "    <tr>\n",
              "      <th>2005-08-31</th>\n",
              "      <td>42.700001</td>\n",
              "      <td>0.004930</td>\n",
              "    </tr>\n",
              "    <tr>\n",
              "      <th>2005-09-01</th>\n",
              "      <td>41.840000</td>\n",
              "      <td>-0.020346</td>\n",
              "    </tr>\n",
              "    <tr>\n",
              "      <th>2005-09-02</th>\n",
              "      <td>41.509998</td>\n",
              "      <td>-0.007919</td>\n",
              "    </tr>\n",
              "    <tr>\n",
              "      <th>2005-09-06</th>\n",
              "      <td>43.619999</td>\n",
              "      <td>0.049581</td>\n",
              "    </tr>\n",
              "    <tr>\n",
              "      <th>...</th>\n",
              "      <td>...</td>\n",
              "      <td>...</td>\n",
              "    </tr>\n",
              "    <tr>\n",
              "      <th>2022-01-24</th>\n",
              "      <td>2890.879883</td>\n",
              "      <td>0.013239</td>\n",
              "    </tr>\n",
              "    <tr>\n",
              "      <th>2022-01-25</th>\n",
              "      <td>2799.719971</td>\n",
              "      <td>-0.032042</td>\n",
              "    </tr>\n",
              "    <tr>\n",
              "      <th>2022-01-26</th>\n",
              "      <td>2777.449951</td>\n",
              "      <td>-0.007986</td>\n",
              "    </tr>\n",
              "    <tr>\n",
              "      <th>2022-01-27</th>\n",
              "      <td>2792.750000</td>\n",
              "      <td>0.005494</td>\n",
              "    </tr>\n",
              "    <tr>\n",
              "      <th>2022-01-28</th>\n",
              "      <td>2879.560059</td>\n",
              "      <td>0.030611</td>\n",
              "    </tr>\n",
              "  </tbody>\n",
              "</table>\n",
              "<p>4133 rows × 2 columns</p>\n",
              "</div>\n",
              "      <button class=\"colab-df-convert\" onclick=\"convertToInteractive('df-72dfe1fc-ce43-4d83-90bc-4017e0199fae')\"\n",
              "              title=\"Convert this dataframe to an interactive table.\"\n",
              "              style=\"display:none;\">\n",
              "        \n",
              "  <svg xmlns=\"http://www.w3.org/2000/svg\" height=\"24px\"viewBox=\"0 0 24 24\"\n",
              "       width=\"24px\">\n",
              "    <path d=\"M0 0h24v24H0V0z\" fill=\"none\"/>\n",
              "    <path d=\"M18.56 5.44l.94 2.06.94-2.06 2.06-.94-2.06-.94-.94-2.06-.94 2.06-2.06.94zm-11 1L8.5 8.5l.94-2.06 2.06-.94-2.06-.94L8.5 2.5l-.94 2.06-2.06.94zm10 10l.94 2.06.94-2.06 2.06-.94-2.06-.94-.94-2.06-.94 2.06-2.06.94z\"/><path d=\"M17.41 7.96l-1.37-1.37c-.4-.4-.92-.59-1.43-.59-.52 0-1.04.2-1.43.59L10.3 9.45l-7.72 7.72c-.78.78-.78 2.05 0 2.83L4 21.41c.39.39.9.59 1.41.59.51 0 1.02-.2 1.41-.59l7.78-7.78 2.81-2.81c.8-.78.8-2.07 0-2.86zM5.41 20L4 18.59l7.72-7.72 1.47 1.35L5.41 20z\"/>\n",
              "  </svg>\n",
              "      </button>\n",
              "      \n",
              "  <style>\n",
              "    .colab-df-container {\n",
              "      display:flex;\n",
              "      flex-wrap:wrap;\n",
              "      gap: 12px;\n",
              "    }\n",
              "\n",
              "    .colab-df-convert {\n",
              "      background-color: #E8F0FE;\n",
              "      border: none;\n",
              "      border-radius: 50%;\n",
              "      cursor: pointer;\n",
              "      display: none;\n",
              "      fill: #1967D2;\n",
              "      height: 32px;\n",
              "      padding: 0 0 0 0;\n",
              "      width: 32px;\n",
              "    }\n",
              "\n",
              "    .colab-df-convert:hover {\n",
              "      background-color: #E2EBFA;\n",
              "      box-shadow: 0px 1px 2px rgba(60, 64, 67, 0.3), 0px 1px 3px 1px rgba(60, 64, 67, 0.15);\n",
              "      fill: #174EA6;\n",
              "    }\n",
              "\n",
              "    [theme=dark] .colab-df-convert {\n",
              "      background-color: #3B4455;\n",
              "      fill: #D2E3FC;\n",
              "    }\n",
              "\n",
              "    [theme=dark] .colab-df-convert:hover {\n",
              "      background-color: #434B5C;\n",
              "      box-shadow: 0px 1px 3px 1px rgba(0, 0, 0, 0.15);\n",
              "      filter: drop-shadow(0px 1px 2px rgba(0, 0, 0, 0.3));\n",
              "      fill: #FFFFFF;\n",
              "    }\n",
              "  </style>\n",
              "\n",
              "      <script>\n",
              "        const buttonEl =\n",
              "          document.querySelector('#df-72dfe1fc-ce43-4d83-90bc-4017e0199fae button.colab-df-convert');\n",
              "        buttonEl.style.display =\n",
              "          google.colab.kernel.accessAllowed ? 'block' : 'none';\n",
              "\n",
              "        async function convertToInteractive(key) {\n",
              "          const element = document.querySelector('#df-72dfe1fc-ce43-4d83-90bc-4017e0199fae');\n",
              "          const dataTable =\n",
              "            await google.colab.kernel.invokeFunction('convertToInteractive',\n",
              "                                                     [key], {});\n",
              "          if (!dataTable) return;\n",
              "\n",
              "          const docLinkHtml = 'Like what you see? Visit the ' +\n",
              "            '<a target=\"_blank\" href=https://colab.research.google.com/notebooks/data_table.ipynb>data table notebook</a>'\n",
              "            + ' to learn more about interactive tables.';\n",
              "          element.innerHTML = '';\n",
              "          dataTable['output_type'] = 'display_data';\n",
              "          await google.colab.output.renderOutput(dataTable, element);\n",
              "          const docLink = document.createElement('div');\n",
              "          docLink.innerHTML = docLinkHtml;\n",
              "          element.appendChild(docLink);\n",
              "        }\n",
              "      </script>\n",
              "    </div>\n",
              "  </div>\n",
              "  "
            ],
            "text/plain": [
              "                   AMZN   returns\n",
              "Date                             \n",
              "2005-08-30    42.490002 -0.007036\n",
              "2005-08-31    42.700001  0.004930\n",
              "2005-09-01    41.840000 -0.020346\n",
              "2005-09-02    41.509998 -0.007919\n",
              "2005-09-06    43.619999  0.049581\n",
              "...                 ...       ...\n",
              "2022-01-24  2890.879883  0.013239\n",
              "2022-01-25  2799.719971 -0.032042\n",
              "2022-01-26  2777.449951 -0.007986\n",
              "2022-01-27  2792.750000  0.005494\n",
              "2022-01-28  2879.560059  0.030611\n",
              "\n",
              "[4133 rows x 2 columns]"
            ]
          },
          "metadata": {},
          "execution_count": 120
        }
      ],
      "source": [
        "df"
      ]
    },
    {
      "cell_type": "code",
      "execution_count": null,
      "metadata": {
        "id": "rwXa0WyIFY5F",
        "colab": {
          "base_uri": "https://localhost:8080/",
          "height": 498
        },
        "outputId": "639f0308-a903-4b2b-f4c4-592997396bdd"
      },
      "outputs": [
        {
          "output_type": "display_data",
          "data": {
            "image/png": "[encoded data removed]",
            "text/plain": [
              "<Figure size 864x576 with 1 Axes>"
            ]
          },
          "metadata": {}
        }
      ],
      "source": [
        "df.returns.hist(bins = 100, figsize = (12, 8))\n",
        "plt.title(\"AMZN returns histogram\")\n",
        "plt.show()"
      ]
    },
    {
      "cell_type": "code",
      "execution_count": null,
      "metadata": {
        "id": "pCmpyNSKFY5F",
        "colab": {
          "base_uri": "https://localhost:8080/"
        },
        "outputId": "15e41fd9-1c66-4719-e5ac-3d364b4e8f46"
      },
      "outputs": [
        {
          "output_type": "execute_result",
          "data": {
            "text/plain": [
              "4.209088352204117"
            ]
          },
          "metadata": {},
          "execution_count": 122
        }
      ],
      "source": [
        "df.returns.sum()"
      ]
    },
    {
      "cell_type": "code",
      "execution_count": null,
      "metadata": {
        "id": "pujpLsjPFY5F",
        "colab": {
          "base_uri": "https://localhost:8080/"
        },
        "outputId": "75116a03-366a-47b2-ff0a-5d3299bdcd81"
      },
      "outputs": [
        {
          "output_type": "execute_result",
          "data": {
            "text/plain": [
              "67.29516235062412"
            ]
          },
          "metadata": {},
          "execution_count": 123
        }
      ],
      "source": [
        "np.exp(df.returns.sum())"
      ]
    },
    {
      "cell_type": "code",
      "execution_count": null,
      "metadata": {
        "id": "B0wRhT1gFY5F",
        "colab": {
          "base_uri": "https://localhost:8080/"
        },
        "outputId": "40b4898f-02c2-4144-f267-7e6ed68ccf26"
      },
      "outputs": [
        {
          "output_type": "execute_result",
          "data": {
            "text/plain": [
              "67.77029759575325"
            ]
          },
          "metadata": {},
          "execution_count": 124
        }
      ],
      "source": [
        "df.AMZN[-1] / df.AMZN[0]"
      ]
    },
    {
      "cell_type": "code",
      "execution_count": null,
      "metadata": {
        "id": "deOZST8mFY5F",
        "colab": {
          "base_uri": "https://localhost:8080/"
        },
        "outputId": "da78638a-2579-481d-e57c-2d50fa2f709f"
      },
      "outputs": [
        {
          "output_type": "execute_result",
          "data": {
            "text/plain": [
              "Date\n",
              "2005-08-30     0.992989\n",
              "2005-08-31     0.997897\n",
              "2005-09-01     0.977799\n",
              "2005-09-02     0.970086\n",
              "2005-09-06     1.019397\n",
              "                ...    \n",
              "2022-01-24    67.559706\n",
              "2022-01-25    65.429304\n",
              "2022-01-26    64.908855\n",
              "2022-01-27    65.266416\n",
              "2022-01-28    67.295162\n",
              "Name: returns, Length: 4133, dtype: float64"
            ]
          },
          "metadata": {},
          "execution_count": 125
        }
      ],
      "source": [
        "df.returns.cumsum().apply(np.exp)"
      ]
    },
    {
      "cell_type": "code",
      "execution_count": null,
      "metadata": {
        "id": "TkVJ9DD9FY5G",
        "colab": {
          "base_uri": "https://localhost:8080/"
        },
        "outputId": "3ba84b4e-0d69-49f2-e103-c5b25e87acae"
      },
      "outputs": [
        {
          "output_type": "stream",
          "name": "stderr",
          "text": [
            "/usr/local/lib/python3.7/dist-packages/ipykernel_launcher.py:1: SettingWithCopyWarning: \n",
            "A value is trying to be set on a copy of a slice from a DataFrame.\n",
            "Try using .loc[row_indexer,col_indexer] = value instead\n",
            "\n",
            "See the caveats in the documentation: https://pandas.pydata.org/pandas-docs/stable/user_guide/indexing.html#returning-a-view-versus-a-copy\n",
            "  \"\"\"Entry point for launching an IPython kernel.\n"
          ]
        }
      ],
      "source": [
        "df[\"creturns\"] = df.returns.cumsum().apply(np.exp)"
      ]
    },
    {
      "cell_type": "code",
      "execution_count": null,
      "metadata": {
        "id": "Ccjvbc4MFY5G",
        "colab": {
          "base_uri": "https://localhost:8080/",
          "height": 450
        },
        "outputId": "800cc5de-2247-491d-dc3a-2805a8578c84"
      },
      "outputs": [
        {
          "output_type": "execute_result",
          "data": {
            "text/html": [
              "\n",
              "  <div id=\"df-f702a8f2-2c2d-4064-8e9d-4f8a182af00d\">\n",
              "    <div class=\"colab-df-container\">\n",
              "      <div>\n",
              "<style scoped>\n",
              "    .dataframe tbody tr th:only-of-type {\n",
              "        vertical-align: middle;\n",
              "    }\n",
              "\n",
              "    .dataframe tbody tr th {\n",
              "        vertical-align: top;\n",
              "    }\n",
              "\n",
              "    .dataframe thead th {\n",
              "        text-align: right;\n",
              "    }\n",
              "</style>\n",
              "<table border=\"1\" class=\"dataframe\">\n",
              "  <thead>\n",
              "    <tr style=\"text-align: right;\">\n",
              "      <th></th>\n",
              "      <th>AMZN</th>\n",
              "      <th>returns</th>\n",
              "      <th>creturns</th>\n",
              "    </tr>\n",
              "    <tr>\n",
              "      <th>Date</th>\n",
              "      <th></th>\n",
              "      <th></th>\n",
              "      <th></th>\n",
              "    </tr>\n",
              "  </thead>\n",
              "  <tbody>\n",
              "    <tr>\n",
              "      <th>2005-08-30</th>\n",
              "      <td>42.490002</td>\n",
              "      <td>-0.007036</td>\n",
              "      <td>0.992989</td>\n",
              "    </tr>\n",
              "    <tr>\n",
              "      <th>2005-08-31</th>\n",
              "      <td>42.700001</td>\n",
              "      <td>0.004930</td>\n",
              "      <td>0.997897</td>\n",
              "    </tr>\n",
              "    <tr>\n",
              "      <th>2005-09-01</th>\n",
              "      <td>41.840000</td>\n",
              "      <td>-0.020346</td>\n",
              "      <td>0.977799</td>\n",
              "    </tr>\n",
              "    <tr>\n",
              "      <th>2005-09-02</th>\n",
              "      <td>41.509998</td>\n",
              "      <td>-0.007919</td>\n",
              "      <td>0.970086</td>\n",
              "    </tr>\n",
              "    <tr>\n",
              "      <th>2005-09-06</th>\n",
              "      <td>43.619999</td>\n",
              "      <td>0.049581</td>\n",
              "      <td>1.019397</td>\n",
              "    </tr>\n",
              "    <tr>\n",
              "      <th>...</th>\n",
              "      <td>...</td>\n",
              "      <td>...</td>\n",
              "      <td>...</td>\n",
              "    </tr>\n",
              "    <tr>\n",
              "      <th>2022-01-24</th>\n",
              "      <td>2890.879883</td>\n",
              "      <td>0.013239</td>\n",
              "      <td>67.559706</td>\n",
              "    </tr>\n",
              "    <tr>\n",
              "      <th>2022-01-25</th>\n",
              "      <td>2799.719971</td>\n",
              "      <td>-0.032042</td>\n",
              "      <td>65.429304</td>\n",
              "    </tr>\n",
              "    <tr>\n",
              "      <th>2022-01-26</th>\n",
              "      <td>2777.449951</td>\n",
              "      <td>-0.007986</td>\n",
              "      <td>64.908855</td>\n",
              "    </tr>\n",
              "    <tr>\n",
              "      <th>2022-01-27</th>\n",
              "      <td>2792.750000</td>\n",
              "      <td>0.005494</td>\n",
              "      <td>65.266416</td>\n",
              "    </tr>\n",
              "    <tr>\n",
              "      <th>2022-01-28</th>\n",
              "      <td>2879.560059</td>\n",
              "      <td>0.030611</td>\n",
              "      <td>67.295162</td>\n",
              "    </tr>\n",
              "  </tbody>\n",
              "</table>\n",
              "<p>4133 rows × 3 columns</p>\n",
              "</div>\n",
              "      <button class=\"colab-df-convert\" onclick=\"convertToInteractive('df-f702a8f2-2c2d-4064-8e9d-4f8a182af00d')\"\n",
              "              title=\"Convert this dataframe to an interactive table.\"\n",
              "              style=\"display:none;\">\n",
              "        \n",
              "  <svg xmlns=\"http://www.w3.org/2000/svg\" height=\"24px\"viewBox=\"0 0 24 24\"\n",
              "       width=\"24px\">\n",
              "    <path d=\"M0 0h24v24H0V0z\" fill=\"none\"/>\n",
              "    <path d=\"M18.56 5.44l.94 2.06.94-2.06 2.06-.94-2.06-.94-.94-2.06-.94 2.06-2.06.94zm-11 1L8.5 8.5l.94-2.06 2.06-.94-2.06-.94L8.5 2.5l-.94 2.06-2.06.94zm10 10l.94 2.06.94-2.06 2.06-.94-2.06-.94-.94-2.06-.94 2.06-2.06.94z\"/><path d=\"M17.41 7.96l-1.37-1.37c-.4-.4-.92-.59-1.43-.59-.52 0-1.04.2-1.43.59L10.3 9.45l-7.72 7.72c-.78.78-.78 2.05 0 2.83L4 21.41c.39.39.9.59 1.41.59.51 0 1.02-.2 1.41-.59l7.78-7.78 2.81-2.81c.8-.78.8-2.07 0-2.86zM5.41 20L4 18.59l7.72-7.72 1.47 1.35L5.41 20z\"/>\n",
              "  </svg>\n",
              "      </button>\n",
              "      \n",
              "  <style>\n",
              "    .colab-df-container {\n",
              "      display:flex;\n",
              "      flex-wrap:wrap;\n",
              "      gap: 12px;\n",
              "    }\n",
              "\n",
              "    .colab-df-convert {\n",
              "      background-color: #E8F0FE;\n",
              "      border: none;\n",
              "      border-radius: 50%;\n",
              "      cursor: pointer;\n",
              "      display: none;\n",
              "      fill: #1967D2;\n",
              "      height: 32px;\n",
              "      padding: 0 0 0 0;\n",
              "      width: 32px;\n",
              "    }\n",
              "\n",
              "    .colab-df-convert:hover {\n",
              "      background-color: #E2EBFA;\n",
              "      box-shadow: 0px 1px 2px rgba(60, 64, 67, 0.3), 0px 1px 3px 1px rgba(60, 64, 67, 0.15);\n",
              "      fill: #174EA6;\n",
              "    }\n",
              "\n",
              "    [theme=dark] .colab-df-convert {\n",
              "      background-color: #3B4455;\n",
              "      fill: #D2E3FC;\n",
              "    }\n",
              "\n",
              "    [theme=dark] .colab-df-convert:hover {\n",
              "      background-color: #434B5C;\n",
              "      box-shadow: 0px 1px 3px 1px rgba(0, 0, 0, 0.15);\n",
              "      filter: drop-shadow(0px 1px 2px rgba(0, 0, 0, 0.3));\n",
              "      fill: #FFFFFF;\n",
              "    }\n",
              "  </style>\n",
              "\n",
              "      <script>\n",
              "        const buttonEl =\n",
              "          document.querySelector('#df-f702a8f2-2c2d-4064-8e9d-4f8a182af00d button.colab-df-convert');\n",
              "        buttonEl.style.display =\n",
              "          google.colab.kernel.accessAllowed ? 'block' : 'none';\n",
              "\n",
              "        async function convertToInteractive(key) {\n",
              "          const element = document.querySelector('#df-f702a8f2-2c2d-4064-8e9d-4f8a182af00d');\n",
              "          const dataTable =\n",
              "            await google.colab.kernel.invokeFunction('convertToInteractive',\n",
              "                                                     [key], {});\n",
              "          if (!dataTable) return;\n",
              "\n",
              "          const docLinkHtml = 'Like what you see? Visit the ' +\n",
              "            '<a target=\"_blank\" href=https://colab.research.google.com/notebooks/data_table.ipynb>data table notebook</a>'\n",
              "            + ' to learn more about interactive tables.';\n",
              "          element.innerHTML = '';\n",
              "          dataTable['output_type'] = 'display_data';\n",
              "          await google.colab.output.renderOutput(dataTable, element);\n",
              "          const docLink = document.createElement('div');\n",
              "          docLink.innerHTML = docLinkHtml;\n",
              "          element.appendChild(docLink);\n",
              "        }\n",
              "      </script>\n",
              "    </div>\n",
              "  </div>\n",
              "  "
            ],
            "text/plain": [
              "                   AMZN   returns   creturns\n",
              "Date                                        \n",
              "2005-08-30    42.490002 -0.007036   0.992989\n",
              "2005-08-31    42.700001  0.004930   0.997897\n",
              "2005-09-01    41.840000 -0.020346   0.977799\n",
              "2005-09-02    41.509998 -0.007919   0.970086\n",
              "2005-09-06    43.619999  0.049581   1.019397\n",
              "...                 ...       ...        ...\n",
              "2022-01-24  2890.879883  0.013239  67.559706\n",
              "2022-01-25  2799.719971 -0.032042  65.429304\n",
              "2022-01-26  2777.449951 -0.007986  64.908855\n",
              "2022-01-27  2792.750000  0.005494  65.266416\n",
              "2022-01-28  2879.560059  0.030611  67.295162\n",
              "\n",
              "[4133 rows x 3 columns]"
            ]
          },
          "metadata": {},
          "execution_count": 127
        }
      ],
      "source": [
        "df"
      ]
    },
    {
      "cell_type": "code",
      "execution_count": null,
      "metadata": {
        "id": "w0DqjeKaFY5G",
        "colab": {
          "base_uri": "https://localhost:8080/",
          "height": 482
        },
        "outputId": "4724bca3-1746-4f4c-bf5d-757a20d01102"
      },
      "outputs": [
        {
          "output_type": "display_data",
          "data": {
            "image/png": "[encoded data removed]",
            "text/plain": [
              "<Figure size 864x576 with 1 Axes>"
            ]
          },
          "metadata": {}
        }
      ],
      "source": [
        "df.creturns.plot(figsize = (12, 8), title = \"AMZN - Buy and Hold\", fontsize = 12)\n",
        "plt.show()"
      ]
    },
    {
      "cell_type": "markdown",
      "source": [
        "#Performance Metrics"
      ],
      "metadata": {
        "id": "IfBoONvSp4Tb"
      }
    },
    {
      "cell_type": "code",
      "source": [
        "df"
      ],
      "metadata": {
        "id": "RFg8Y97np3lh",
        "outputId": "c2441e1d-92c4-48cb-e7d0-daf5ee21fc58",
        "colab": {
          "base_uri": "https://localhost:8080/",
          "height": 684
        }
      },
      "execution_count": null,
      "outputs": [
        {
          "output_type": "execute_result",
          "data": {
            "text/html": [
              "\n",
              "  <div id=\"df-cb5bb423-1104-49e4-9e63-a59f488e8398\">\n",
              "    <div class=\"colab-df-container\">\n",
              "      <div>\n",
              "<style scoped>\n",
              "    .dataframe tbody tr th:only-of-type {\n",
              "        vertical-align: middle;\n",
              "    }\n",
              "\n",
              "    .dataframe tbody tr th {\n",
              "        vertical-align: top;\n",
              "    }\n",
              "\n",
              "    .dataframe thead th {\n",
              "        text-align: right;\n",
              "    }\n",
              "</style>\n",
              "<table border=\"1\" class=\"dataframe\">\n",
              "  <thead>\n",
              "    <tr style=\"text-align: right;\">\n",
              "      <th></th>\n",
              "      <th>AMZN</th>\n",
              "      <th>returns</th>\n",
              "      <th>creturns</th>\n",
              "    </tr>\n",
              "    <tr>\n",
              "      <th>Date</th>\n",
              "      <th></th>\n",
              "      <th></th>\n",
              "      <th></th>\n",
              "    </tr>\n",
              "  </thead>\n",
              "  <tbody>\n",
              "    <tr>\n",
              "      <th>2005-08-30</th>\n",
              "      <td>42.490002</td>\n",
              "      <td>-0.007036</td>\n",
              "      <td>0.992989</td>\n",
              "    </tr>\n",
              "    <tr>\n",
              "      <th>2005-08-31</th>\n",
              "      <td>42.700001</td>\n",
              "      <td>0.004930</td>\n",
              "      <td>0.997897</td>\n",
              "    </tr>\n",
              "    <tr>\n",
              "      <th>2005-09-01</th>\n",
              "      <td>41.840000</td>\n",
              "      <td>-0.020346</td>\n",
              "      <td>0.977799</td>\n",
              "    </tr>\n",
              "    <tr>\n",
              "      <th>2005-09-02</th>\n",
              "      <td>41.509998</td>\n",
              "      <td>-0.007919</td>\n",
              "      <td>0.970086</td>\n",
              "    </tr>\n",
              "    <tr>\n",
              "      <th>2005-09-06</th>\n",
              "      <td>43.619999</td>\n",
              "      <td>0.049581</td>\n",
              "      <td>1.019397</td>\n",
              "    </tr>\n",
              "    <tr>\n",
              "      <th>...</th>\n",
              "      <td>...</td>\n",
              "      <td>...</td>\n",
              "      <td>...</td>\n",
              "    </tr>\n",
              "    <tr>\n",
              "      <th>2022-01-24</th>\n",
              "      <td>2890.879883</td>\n",
              "      <td>0.013239</td>\n",
              "      <td>67.559706</td>\n",
              "    </tr>\n",
              "    <tr>\n",
              "      <th>2022-01-25</th>\n",
              "      <td>2799.719971</td>\n",
              "      <td>-0.032042</td>\n",
              "      <td>65.429304</td>\n",
              "    </tr>\n",
              "    <tr>\n",
              "      <th>2022-01-26</th>\n",
              "      <td>2777.449951</td>\n",
              "      <td>-0.007986</td>\n",
              "      <td>64.908855</td>\n",
              "    </tr>\n",
              "    <tr>\n",
              "      <th>2022-01-27</th>\n",
              "      <td>2792.750000</td>\n",
              "      <td>0.005494</td>\n",
              "      <td>65.266416</td>\n",
              "    </tr>\n",
              "    <tr>\n",
              "      <th>2022-01-28</th>\n",
              "      <td>2879.560059</td>\n",
              "      <td>0.030611</td>\n",
              "      <td>67.295162</td>\n",
              "    </tr>\n",
              "  </tbody>\n",
              "</table>\n",
              "<p>4133 rows × 3 columns</p>\n",
              "</div>\n",
              "      <button class=\"colab-df-convert\" onclick=\"convertToInteractive('df-cb5bb423-1104-49e4-9e63-a59f488e8398')\"\n",
              "              title=\"Convert this dataframe to an interactive table.\"\n",
              "              style=\"display:none;\">\n",
              "        \n",
              "  <svg xmlns=\"http://www.w3.org/2000/svg\" height=\"24px\"viewBox=\"0 0 24 24\"\n",
              "       width=\"24px\">\n",
              "    <path d=\"M0 0h24v24H0V0z\" fill=\"none\"/>\n",
              "    <path d=\"M18.56 5.44l.94 2.06.94-2.06 2.06-.94-2.06-.94-.94-2.06-.94 2.06-2.06.94zm-11 1L8.5 8.5l.94-2.06 2.06-.94-2.06-.94L8.5 2.5l-.94 2.06-2.06.94zm10 10l.94 2.06.94-2.06 2.06-.94-2.06-.94-.94-2.06-.94 2.06-2.06.94z\"/><path d=\"M17.41 7.96l-1.37-1.37c-.4-.4-.92-.59-1.43-.59-.52 0-1.04.2-1.43.59L10.3 9.45l-7.72 7.72c-.78.78-.78 2.05 0 2.83L4 21.41c.39.39.9.59 1.41.59.51 0 1.02-.2 1.41-.59l7.78-7.78 2.81-2.81c.8-.78.8-2.07 0-2.86zM5.41 20L4 18.59l7.72-7.72 1.47 1.35L5.41 20z\"/>\n",
              "  </svg>\n",
              "      </button>\n",
              "      \n",
              "  <style>\n",
              "    .colab-df-container {\n",
              "      display:flex;\n",
              "      flex-wrap:wrap;\n",
              "      gap: 12px;\n",
              "    }\n",
              "\n",
              "    .colab-df-convert {\n",
              "      background-color: #E8F0FE;\n",
              "      border: none;\n",
              "      border-radius: 50%;\n",
              "      cursor: pointer;\n",
              "      display: none;\n",
              "      fill: #1967D2;\n",
              "      height: 32px;\n",
              "      padding: 0 0 0 0;\n",
              "      width: 32px;\n",
              "    }\n",
              "\n",
              "    .colab-df-convert:hover {\n",
              "      background-color: #E2EBFA;\n",
              "      box-shadow: 0px 1px 2px rgba(60, 64, 67, 0.3), 0px 1px 3px 1px rgba(60, 64, 67, 0.15);\n",
              "      fill: #174EA6;\n",
              "    }\n",
              "\n",
              "    [theme=dark] .colab-df-convert {\n",
              "      background-color: #3B4455;\n",
              "      fill: #D2E3FC;\n",
              "    }\n",
              "\n",
              "    [theme=dark] .colab-df-convert:hover {\n",
              "      background-color: #434B5C;\n",
              "      box-shadow: 0px 1px 3px 1px rgba(0, 0, 0, 0.15);\n",
              "      filter: drop-shadow(0px 1px 2px rgba(0, 0, 0, 0.3));\n",
              "      fill: #FFFFFF;\n",
              "    }\n",
              "  </style>\n",
              "\n",
              "      <script>\n",
              "        const buttonEl =\n",
              "          document.querySelector('#df-cb5bb423-1104-49e4-9e63-a59f488e8398 button.colab-df-convert');\n",
              "        buttonEl.style.display =\n",
              "          google.colab.kernel.accessAllowed ? 'block' : 'none';\n",
              "\n",
              "        async function convertToInteractive(key) {\n",
              "          const element = document.querySelector('#df-cb5bb423-1104-49e4-9e63-a59f488e8398');\n",
              "          const dataTable =\n",
              "            await google.colab.kernel.invokeFunction('convertToInteractive',\n",
              "                                                     [key], {});\n",
              "          if (!dataTable) return;\n",
              "\n",
              "          const docLinkHtml = 'Like what you see? Visit the ' +\n",
              "            '<a target=\"_blank\" href=https://colab.research.google.com/notebooks/data_table.ipynb>data table notebook</a>'\n",
              "            + ' to learn more about interactive tables.';\n",
              "          element.innerHTML = '';\n",
              "          dataTable['output_type'] = 'display_data';\n",
              "          await google.colab.output.renderOutput(dataTable, element);\n",
              "          const docLink = document.createElement('div');\n",
              "          docLink.innerHTML = docLinkHtml;\n",
              "          element.appendChild(docLink);\n",
              "        }\n",
              "      </script>\n",
              "    </div>\n",
              "  </div>\n",
              "  "
            ],
            "text/plain": [
              "                   AMZN   returns   creturns\n",
              "Date                                        \n",
              "2005-08-30    42.490002 -0.007036   0.992989\n",
              "2005-08-31    42.700001  0.004930   0.997897\n",
              "2005-09-01    41.840000 -0.020346   0.977799\n",
              "2005-09-02    41.509998 -0.007919   0.970086\n",
              "2005-09-06    43.619999  0.049581   1.019397\n",
              "...                 ...       ...        ...\n",
              "2022-01-24  2890.879883  0.013239  67.559706\n",
              "2022-01-25  2799.719971 -0.032042  65.429304\n",
              "2022-01-26  2777.449951 -0.007986  64.908855\n",
              "2022-01-27  2792.750000  0.005494  65.266416\n",
              "2022-01-28  2879.560059  0.030611  67.295162\n",
              "\n",
              "[4133 rows x 3 columns]"
            ]
          },
          "metadata": {},
          "execution_count": 129
        }
      ]
    },
    {
      "cell_type": "code",
      "source": [
        "df.creturns.iloc[-1] # absolute Performance "
      ],
      "metadata": {
        "colab": {
          "base_uri": "https://localhost:8080/"
        },
        "id": "pwyBNg_8r8k8",
        "outputId": "ef146f18-4221-49d3-855b-9ec9dd9de085"
      },
      "execution_count": null,
      "outputs": [
        {
          "output_type": "execute_result",
          "data": {
            "text/plain": [
              "67.29516235062454"
            ]
          },
          "metadata": {},
          "execution_count": 130
        }
      ]
    },
    {
      "cell_type": "code",
      "source": [
        "df.returns.sum() # absolute Performance"
      ],
      "metadata": {
        "colab": {
          "base_uri": "https://localhost:8080/"
        },
        "id": "TAsaYXd2sFa1",
        "outputId": "241f5166-c50d-4c27-8935-ac7660146036"
      },
      "execution_count": null,
      "outputs": [
        {
          "output_type": "execute_result",
          "data": {
            "text/plain": [
              "4.209088352204117"
            ]
          },
          "metadata": {},
          "execution_count": 131
        }
      ]
    },
    {
      "cell_type": "code",
      "source": [
        "df.describe()"
      ],
      "metadata": {
        "colab": {
          "base_uri": "https://localhost:8080/",
          "height": 361
        },
        "id": "AkuMjfytsNI_",
        "outputId": "19a30472-9f9f-4da1-8644-113af2622f9f"
      },
      "execution_count": null,
      "outputs": [
        {
          "output_type": "execute_result",
          "data": {
            "text/html": [
              "\n",
              "  <div id=\"df-de0a5e7d-5950-49f3-84b3-2bdfdd76b65f\">\n",
              "    <div class=\"colab-df-container\">\n",
              "      <div>\n",
              "<style scoped>\n",
              "    .dataframe tbody tr th:only-of-type {\n",
              "        vertical-align: middle;\n",
              "    }\n",
              "\n",
              "    .dataframe tbody tr th {\n",
              "        vertical-align: top;\n",
              "    }\n",
              "\n",
              "    .dataframe thead th {\n",
              "        text-align: right;\n",
              "    }\n",
              "</style>\n",
              "<table border=\"1\" class=\"dataframe\">\n",
              "  <thead>\n",
              "    <tr style=\"text-align: right;\">\n",
              "      <th></th>\n",
              "      <th>AMZN</th>\n",
              "      <th>returns</th>\n",
              "      <th>creturns</th>\n",
              "    </tr>\n",
              "  </thead>\n",
              "  <tbody>\n",
              "    <tr>\n",
              "      <th>count</th>\n",
              "      <td>4133.000000</td>\n",
              "      <td>4133.000000</td>\n",
              "      <td>4133.000000</td>\n",
              "    </tr>\n",
              "    <tr>\n",
              "      <th>mean</th>\n",
              "      <td>810.762141</td>\n",
              "      <td>0.001018</td>\n",
              "      <td>18.947467</td>\n",
              "    </tr>\n",
              "    <tr>\n",
              "      <th>std</th>\n",
              "      <td>1006.863314</td>\n",
              "      <td>0.023665</td>\n",
              "      <td>23.530341</td>\n",
              "    </tr>\n",
              "    <tr>\n",
              "      <th>min</th>\n",
              "      <td>26.070000</td>\n",
              "      <td>-0.246182</td>\n",
              "      <td>0.609254</td>\n",
              "    </tr>\n",
              "    <tr>\n",
              "      <th>25%</th>\n",
              "      <td>94.830002</td>\n",
              "      <td>-0.009564</td>\n",
              "      <td>2.216172</td>\n",
              "    </tr>\n",
              "    <tr>\n",
              "      <th>50%</th>\n",
              "      <td>305.109985</td>\n",
              "      <td>0.000755</td>\n",
              "      <td>7.130404</td>\n",
              "    </tr>\n",
              "    <tr>\n",
              "      <th>75%</th>\n",
              "      <td>1182.260010</td>\n",
              "      <td>0.012146</td>\n",
              "      <td>27.629352</td>\n",
              "    </tr>\n",
              "    <tr>\n",
              "      <th>max</th>\n",
              "      <td>3731.409912</td>\n",
              "      <td>0.238621</td>\n",
              "      <td>87.202847</td>\n",
              "    </tr>\n",
              "  </tbody>\n",
              "</table>\n",
              "</div>\n",
              "      <button class=\"colab-df-convert\" onclick=\"convertToInteractive('df-de0a5e7d-5950-49f3-84b3-2bdfdd76b65f')\"\n",
              "              title=\"Convert this dataframe to an interactive table.\"\n",
              "              style=\"display:none;\">\n",
              "        \n",
              "  <svg xmlns=\"http://www.w3.org/2000/svg\" height=\"24px\"viewBox=\"0 0 24 24\"\n",
              "       width=\"24px\">\n",
              "    <path d=\"M0 0h24v24H0V0z\" fill=\"none\"/>\n",
              "    <path d=\"M18.56 5.44l.94 2.06.94-2.06 2.06-.94-2.06-.94-.94-2.06-.94 2.06-2.06.94zm-11 1L8.5 8.5l.94-2.06 2.06-.94-2.06-.94L8.5 2.5l-.94 2.06-2.06.94zm10 10l.94 2.06.94-2.06 2.06-.94-2.06-.94-.94-2.06-.94 2.06-2.06.94z\"/><path d=\"M17.41 7.96l-1.37-1.37c-.4-.4-.92-.59-1.43-.59-.52 0-1.04.2-1.43.59L10.3 9.45l-7.72 7.72c-.78.78-.78 2.05 0 2.83L4 21.41c.39.39.9.59 1.41.59.51 0 1.02-.2 1.41-.59l7.78-7.78 2.81-2.81c.8-.78.8-2.07 0-2.86zM5.41 20L4 18.59l7.72-7.72 1.47 1.35L5.41 20z\"/>\n",
              "  </svg>\n",
              "      </button>\n",
              "      \n",
              "  <style>\n",
              "    .colab-df-container {\n",
              "      display:flex;\n",
              "      flex-wrap:wrap;\n",
              "      gap: 12px;\n",
              "    }\n",
              "\n",
              "    .colab-df-convert {\n",
              "      background-color: #E8F0FE;\n",
              "      border: none;\n",
              "      border-radius: 50%;\n",
              "      cursor: pointer;\n",
              "      display: none;\n",
              "      fill: #1967D2;\n",
              "      height: 32px;\n",
              "      padding: 0 0 0 0;\n",
              "      width: 32px;\n",
              "    }\n",
              "\n",
              "    .colab-df-convert:hover {\n",
              "      background-color: #E2EBFA;\n",
              "      box-shadow: 0px 1px 2px rgba(60, 64, 67, 0.3), 0px 1px 3px 1px rgba(60, 64, 67, 0.15);\n",
              "      fill: #174EA6;\n",
              "    }\n",
              "\n",
              "    [theme=dark] .colab-df-convert {\n",
              "      background-color: #3B4455;\n",
              "      fill: #D2E3FC;\n",
              "    }\n",
              "\n",
              "    [theme=dark] .colab-df-convert:hover {\n",
              "      background-color: #434B5C;\n",
              "      box-shadow: 0px 1px 3px 1px rgba(0, 0, 0, 0.15);\n",
              "      filter: drop-shadow(0px 1px 2px rgba(0, 0, 0, 0.3));\n",
              "      fill: #FFFFFF;\n",
              "    }\n",
              "  </style>\n",
              "\n",
              "      <script>\n",
              "        const buttonEl =\n",
              "          document.querySelector('#df-de0a5e7d-5950-49f3-84b3-2bdfdd76b65f button.colab-df-convert');\n",
              "        buttonEl.style.display =\n",
              "          google.colab.kernel.accessAllowed ? 'block' : 'none';\n",
              "\n",
              "        async function convertToInteractive(key) {\n",
              "          const element = document.querySelector('#df-de0a5e7d-5950-49f3-84b3-2bdfdd76b65f');\n",
              "          const dataTable =\n",
              "            await google.colab.kernel.invokeFunction('convertToInteractive',\n",
              "                                                     [key], {});\n",
              "          if (!dataTable) return;\n",
              "\n",
              "          const docLinkHtml = 'Like what you see? Visit the ' +\n",
              "            '<a target=\"_blank\" href=https://colab.research.google.com/notebooks/data_table.ipynb>data table notebook</a>'\n",
              "            + ' to learn more about interactive tables.';\n",
              "          element.innerHTML = '';\n",
              "          dataTable['output_type'] = 'display_data';\n",
              "          await google.colab.output.renderOutput(dataTable, element);\n",
              "          const docLink = document.createElement('div');\n",
              "          docLink.innerHTML = docLinkHtml;\n",
              "          element.appendChild(docLink);\n",
              "        }\n",
              "      </script>\n",
              "    </div>\n",
              "  </div>\n",
              "  "
            ],
            "text/plain": [
              "              AMZN      returns     creturns\n",
              "count  4133.000000  4133.000000  4133.000000\n",
              "mean    810.762141     0.001018    18.947467\n",
              "std    1006.863314     0.023665    23.530341\n",
              "min      26.070000    -0.246182     0.609254\n",
              "25%      94.830002    -0.009564     2.216172\n",
              "50%     305.109985     0.000755     7.130404\n",
              "75%    1182.260010     0.012146    27.629352\n",
              "max    3731.409912     0.238621    87.202847"
            ]
          },
          "metadata": {},
          "execution_count": 132
        }
      ]
    },
    {
      "cell_type": "markdown",
      "source": [
        "**annualized mean return and risk**"
      ],
      "metadata": {
        "id": "KwDvz9fSsS0b"
      }
    },
    {
      "cell_type": "code",
      "source": [
        "df.returns.mean() * 252 # mean return"
      ],
      "metadata": {
        "colab": {
          "base_uri": "https://localhost:8080/"
        },
        "id": "idHB4qjisU-M",
        "outputId": "b2403686-0ab7-4e7e-b389-9cedf7ae7ac0"
      },
      "execution_count": null,
      "outputs": [
        {
          "output_type": "execute_result",
          "data": {
            "text/plain": [
              "0.25663930915931266"
            ]
          },
          "metadata": {},
          "execution_count": 133
        }
      ]
    },
    {
      "cell_type": "code",
      "source": [
        "df.returns.std() * np.sqrt(252) # risk"
      ],
      "metadata": {
        "colab": {
          "base_uri": "https://localhost:8080/"
        },
        "id": "ocSRyNbSsatY",
        "outputId": "f8d2a08c-c7a9-4e11-9b45-af9c32addbdb"
      },
      "execution_count": null,
      "outputs": [
        {
          "output_type": "execute_result",
          "data": {
            "text/plain": [
              "0.37567434005481926"
            ]
          },
          "metadata": {},
          "execution_count": 134
        }
      ]
    },
    {
      "cell_type": "markdown",
      "source": [
        "**maximum drawdown**"
      ],
      "metadata": {
        "id": "YfZ-mEjgseUL"
      }
    },
    {
      "cell_type": "code",
      "source": [
        "df[\"cummax\"] = df.creturns.cummax()"
      ],
      "metadata": {
        "colab": {
          "base_uri": "https://localhost:8080/"
        },
        "id": "pUgUtgersd8z",
        "outputId": "127d6530-d19f-4ad5-de52-e38548b68cea"
      },
      "execution_count": null,
      "outputs": [
        {
          "output_type": "stream",
          "name": "stderr",
          "text": [
            "/usr/local/lib/python3.7/dist-packages/ipykernel_launcher.py:1: SettingWithCopyWarning: \n",
            "A value is trying to be set on a copy of a slice from a DataFrame.\n",
            "Try using .loc[row_indexer,col_indexer] = value instead\n",
            "\n",
            "See the caveats in the documentation: https://pandas.pydata.org/pandas-docs/stable/user_guide/indexing.html#returning-a-view-versus-a-copy\n",
            "  \"\"\"Entry point for launching an IPython kernel.\n"
          ]
        }
      ]
    },
    {
      "cell_type": "code",
      "source": [
        "df"
      ],
      "metadata": {
        "colab": {
          "base_uri": "https://localhost:8080/",
          "height": 684
        },
        "id": "x0yacfExslPg",
        "outputId": "e4a34c11-cc63-491e-b218-d280618b0c0f"
      },
      "execution_count": null,
      "outputs": [
        {
          "output_type": "execute_result",
          "data": {
            "text/html": [
              "\n",
              "  <div id=\"df-98432a66-bf7d-4ef4-ad17-275df6c4af86\">\n",
              "    <div class=\"colab-df-container\">\n",
              "      <div>\n",
              "<style scoped>\n",
              "    .dataframe tbody tr th:only-of-type {\n",
              "        vertical-align: middle;\n",
              "    }\n",
              "\n",
              "    .dataframe tbody tr th {\n",
              "        vertical-align: top;\n",
              "    }\n",
              "\n",
              "    .dataframe thead th {\n",
              "        text-align: right;\n",
              "    }\n",
              "</style>\n",
              "<table border=\"1\" class=\"dataframe\">\n",
              "  <thead>\n",
              "    <tr style=\"text-align: right;\">\n",
              "      <th></th>\n",
              "      <th>AMZN</th>\n",
              "      <th>returns</th>\n",
              "      <th>creturns</th>\n",
              "      <th>cummax</th>\n",
              "    </tr>\n",
              "    <tr>\n",
              "      <th>Date</th>\n",
              "      <th></th>\n",
              "      <th></th>\n",
              "      <th></th>\n",
              "      <th></th>\n",
              "    </tr>\n",
              "  </thead>\n",
              "  <tbody>\n",
              "    <tr>\n",
              "      <th>2005-08-30</th>\n",
              "      <td>42.490002</td>\n",
              "      <td>-0.007036</td>\n",
              "      <td>0.992989</td>\n",
              "      <td>0.992989</td>\n",
              "    </tr>\n",
              "    <tr>\n",
              "      <th>2005-08-31</th>\n",
              "      <td>42.700001</td>\n",
              "      <td>0.004930</td>\n",
              "      <td>0.997897</td>\n",
              "      <td>0.997897</td>\n",
              "    </tr>\n",
              "    <tr>\n",
              "      <th>2005-09-01</th>\n",
              "      <td>41.840000</td>\n",
              "      <td>-0.020346</td>\n",
              "      <td>0.977799</td>\n",
              "      <td>0.997897</td>\n",
              "    </tr>\n",
              "    <tr>\n",
              "      <th>2005-09-02</th>\n",
              "      <td>41.509998</td>\n",
              "      <td>-0.007919</td>\n",
              "      <td>0.970086</td>\n",
              "      <td>0.997897</td>\n",
              "    </tr>\n",
              "    <tr>\n",
              "      <th>2005-09-06</th>\n",
              "      <td>43.619999</td>\n",
              "      <td>0.049581</td>\n",
              "      <td>1.019397</td>\n",
              "      <td>1.019397</td>\n",
              "    </tr>\n",
              "    <tr>\n",
              "      <th>...</th>\n",
              "      <td>...</td>\n",
              "      <td>...</td>\n",
              "      <td>...</td>\n",
              "      <td>...</td>\n",
              "    </tr>\n",
              "    <tr>\n",
              "      <th>2022-01-24</th>\n",
              "      <td>2890.879883</td>\n",
              "      <td>0.013239</td>\n",
              "      <td>67.559706</td>\n",
              "      <td>87.202847</td>\n",
              "    </tr>\n",
              "    <tr>\n",
              "      <th>2022-01-25</th>\n",
              "      <td>2799.719971</td>\n",
              "      <td>-0.032042</td>\n",
              "      <td>65.429304</td>\n",
              "      <td>87.202847</td>\n",
              "    </tr>\n",
              "    <tr>\n",
              "      <th>2022-01-26</th>\n",
              "      <td>2777.449951</td>\n",
              "      <td>-0.007986</td>\n",
              "      <td>64.908855</td>\n",
              "      <td>87.202847</td>\n",
              "    </tr>\n",
              "    <tr>\n",
              "      <th>2022-01-27</th>\n",
              "      <td>2792.750000</td>\n",
              "      <td>0.005494</td>\n",
              "      <td>65.266416</td>\n",
              "      <td>87.202847</td>\n",
              "    </tr>\n",
              "    <tr>\n",
              "      <th>2022-01-28</th>\n",
              "      <td>2879.560059</td>\n",
              "      <td>0.030611</td>\n",
              "      <td>67.295162</td>\n",
              "      <td>87.202847</td>\n",
              "    </tr>\n",
              "  </tbody>\n",
              "</table>\n",
              "<p>4133 rows × 4 columns</p>\n",
              "</div>\n",
              "      <button class=\"colab-df-convert\" onclick=\"convertToInteractive('df-98432a66-bf7d-4ef4-ad17-275df6c4af86')\"\n",
              "              title=\"Convert this dataframe to an interactive table.\"\n",
              "              style=\"display:none;\">\n",
              "        \n",
              "  <svg xmlns=\"http://www.w3.org/2000/svg\" height=\"24px\"viewBox=\"0 0 24 24\"\n",
              "       width=\"24px\">\n",
              "    <path d=\"M0 0h24v24H0V0z\" fill=\"none\"/>\n",
              "    <path d=\"M18.56 5.44l.94 2.06.94-2.06 2.06-.94-2.06-.94-.94-2.06-.94 2.06-2.06.94zm-11 1L8.5 8.5l.94-2.06 2.06-.94-2.06-.94L8.5 2.5l-.94 2.06-2.06.94zm10 10l.94 2.06.94-2.06 2.06-.94-2.06-.94-.94-2.06-.94 2.06-2.06.94z\"/><path d=\"M17.41 7.96l-1.37-1.37c-.4-.4-.92-.59-1.43-.59-.52 0-1.04.2-1.43.59L10.3 9.45l-7.72 7.72c-.78.78-.78 2.05 0 2.83L4 21.41c.39.39.9.59 1.41.59.51 0 1.02-.2 1.41-.59l7.78-7.78 2.81-2.81c.8-.78.8-2.07 0-2.86zM5.41 20L4 18.59l7.72-7.72 1.47 1.35L5.41 20z\"/>\n",
              "  </svg>\n",
              "      </button>\n",
              "      \n",
              "  <style>\n",
              "    .colab-df-container {\n",
              "      display:flex;\n",
              "      flex-wrap:wrap;\n",
              "      gap: 12px;\n",
              "    }\n",
              "\n",
              "    .colab-df-convert {\n",
              "      background-color: #E8F0FE;\n",
              "      border: none;\n",
              "      border-radius: 50%;\n",
              "      cursor: pointer;\n",
              "      display: none;\n",
              "      fill: #1967D2;\n",
              "      height: 32px;\n",
              "      padding: 0 0 0 0;\n",
              "      width: 32px;\n",
              "    }\n",
              "\n",
              "    .colab-df-convert:hover {\n",
              "      background-color: #E2EBFA;\n",
              "      box-shadow: 0px 1px 2px rgba(60, 64, 67, 0.3), 0px 1px 3px 1px rgba(60, 64, 67, 0.15);\n",
              "      fill: #174EA6;\n",
              "    }\n",
              "\n",
              "    [theme=dark] .colab-df-convert {\n",
              "      background-color: #3B4455;\n",
              "      fill: #D2E3FC;\n",
              "    }\n",
              "\n",
              "    [theme=dark] .colab-df-convert:hover {\n",
              "      background-color: #434B5C;\n",
              "      box-shadow: 0px 1px 3px 1px rgba(0, 0, 0, 0.15);\n",
              "      filter: drop-shadow(0px 1px 2px rgba(0, 0, 0, 0.3));\n",
              "      fill: #FFFFFF;\n",
              "    }\n",
              "  </style>\n",
              "\n",
              "      <script>\n",
              "        const buttonEl =\n",
              "          document.querySelector('#df-98432a66-bf7d-4ef4-ad17-275df6c4af86 button.colab-df-convert');\n",
              "        buttonEl.style.display =\n",
              "          google.colab.kernel.accessAllowed ? 'block' : 'none';\n",
              "\n",
              "        async function convertToInteractive(key) {\n",
              "          const element = document.querySelector('#df-98432a66-bf7d-4ef4-ad17-275df6c4af86');\n",
              "          const dataTable =\n",
              "            await google.colab.kernel.invokeFunction('convertToInteractive',\n",
              "                                                     [key], {});\n",
              "          if (!dataTable) return;\n",
              "\n",
              "          const docLinkHtml = 'Like what you see? Visit the ' +\n",
              "            '<a target=\"_blank\" href=https://colab.research.google.com/notebooks/data_table.ipynb>data table notebook</a>'\n",
              "            + ' to learn more about interactive tables.';\n",
              "          element.innerHTML = '';\n",
              "          dataTable['output_type'] = 'display_data';\n",
              "          await google.colab.output.renderOutput(dataTable, element);\n",
              "          const docLink = document.createElement('div');\n",
              "          docLink.innerHTML = docLinkHtml;\n",
              "          element.appendChild(docLink);\n",
              "        }\n",
              "      </script>\n",
              "    </div>\n",
              "  </div>\n",
              "  "
            ],
            "text/plain": [
              "                   AMZN   returns   creturns     cummax\n",
              "Date                                                   \n",
              "2005-08-30    42.490002 -0.007036   0.992989   0.992989\n",
              "2005-08-31    42.700001  0.004930   0.997897   0.997897\n",
              "2005-09-01    41.840000 -0.020346   0.977799   0.997897\n",
              "2005-09-02    41.509998 -0.007919   0.970086   0.997897\n",
              "2005-09-06    43.619999  0.049581   1.019397   1.019397\n",
              "...                 ...       ...        ...        ...\n",
              "2022-01-24  2890.879883  0.013239  67.559706  87.202847\n",
              "2022-01-25  2799.719971 -0.032042  65.429304  87.202847\n",
              "2022-01-26  2777.449951 -0.007986  64.908855  87.202847\n",
              "2022-01-27  2792.750000  0.005494  65.266416  87.202847\n",
              "2022-01-28  2879.560059  0.030611  67.295162  87.202847\n",
              "\n",
              "[4133 rows x 4 columns]"
            ]
          },
          "metadata": {},
          "execution_count": 136
        }
      ]
    },
    {
      "cell_type": "code",
      "source": [
        "df[[\"creturns\", \"cummax\"]].dropna().plot(figsize = (12, 8), title = \"AMZN - max drawdown\", fontsize = 12)\n",
        "plt.show()"
      ],
      "metadata": {
        "colab": {
          "base_uri": "https://localhost:8080/",
          "height": 54
        },
        "id": "BZAmOMHKsqtH",
        "outputId": "06fdbd0f-1a73-4316-bb2e-8394d0e33137"
      },
      "execution_count": null,
      "outputs": [
        {
          "output_type": "display_data",
          "data": {
            "image/png": "[encoded data removed]",
            "text/plain": [
              "<Figure size 864x576 with 1 Axes>"
            ]
          },
          "metadata": {}
        }
      ]
    },
    {
      "cell_type": "code",
      "source": [
        "drawdown = df[\"cummax\"] - df[\"creturns\"]\n",
        "drawdown"
      ],
      "metadata": {
        "id": "mXovrP_LszgC",
        "outputId": "98c71838-1d12-47d3-9a0e-165343dd79b8",
        "colab": {
          "base_uri": "https://localhost:8080/"
        }
      },
      "execution_count": null,
      "outputs": [
        {
          "output_type": "execute_result",
          "data": {
            "text/plain": [
              "Date\n",
              "2005-08-30     0.000000\n",
              "2005-08-31     0.000000\n",
              "2005-09-01     0.020098\n",
              "2005-09-02     0.027810\n",
              "2005-09-06     0.000000\n",
              "                ...    \n",
              "2022-01-24    19.643141\n",
              "2022-01-25    21.773543\n",
              "2022-01-26    22.293993\n",
              "2022-01-27    21.936431\n",
              "2022-01-28    19.907685\n",
              "Length: 4133, dtype: float64"
            ]
          },
          "metadata": {},
          "execution_count": 138
        }
      ]
    },
    {
      "cell_type": "code",
      "source": [
        "drawdown.max() # maximum drawdown"
      ],
      "metadata": {
        "colab": {
          "base_uri": "https://localhost:8080/"
        },
        "id": "-bkkEX7is2ux",
        "outputId": "930261c0-3799-4790-e447-2842c8f4b40b"
      },
      "execution_count": null,
      "outputs": [
        {
          "output_type": "execute_result",
          "data": {
            "text/plain": [
              "22.29399253392721"
            ]
          },
          "metadata": {},
          "execution_count": 139
        }
      ]
    },
    {
      "cell_type": "code",
      "source": [
        "drawdown.idxmax()"
      ],
      "metadata": {
        "colab": {
          "base_uri": "https://localhost:8080/"
        },
        "id": "1co5hNCUs6Bc",
        "outputId": "aa392f94-c8dd-425c-cdba-c8c1be627035"
      },
      "execution_count": null,
      "outputs": [
        {
          "output_type": "execute_result",
          "data": {
            "text/plain": [
              "Timestamp('2022-01-26 00:00:00')"
            ]
          },
          "metadata": {},
          "execution_count": 140
        }
      ]
    },
    {
      "cell_type": "markdown",
      "source": [
        "#Simple Moving Average\n"
      ],
      "metadata": {
        "id": "g5Q0C4UtJDMl"
      }
    },
    {
      "cell_type": "code",
      "source": [
        "df = cl_price.iloc[: , :1]\n",
        "df"
      ],
      "metadata": {
        "colab": {
          "base_uri": "https://localhost:8080/",
          "height": 684
        },
        "id": "vjByMT-8JHwO",
        "outputId": "623c4baa-3d23-412e-e710-6e4ceec2af53"
      },
      "execution_count": null,
      "outputs": [
        {
          "output_type": "execute_result",
          "data": {
            "text/html": [
              "\n",
              "  <div id=\"df-8a4dc9df-241b-4331-b632-b34d053edd3d\">\n",
              "    <div class=\"colab-df-container\">\n",
              "      <div>\n",
              "<style scoped>\n",
              "    .dataframe tbody tr th:only-of-type {\n",
              "        vertical-align: middle;\n",
              "    }\n",
              "\n",
              "    .dataframe tbody tr th {\n",
              "        vertical-align: top;\n",
              "    }\n",
              "\n",
              "    .dataframe thead th {\n",
              "        text-align: right;\n",
              "    }\n",
              "</style>\n",
              "<table border=\"1\" class=\"dataframe\">\n",
              "  <thead>\n",
              "    <tr style=\"text-align: right;\">\n",
              "      <th></th>\n",
              "      <th>AMZN</th>\n",
              "    </tr>\n",
              "    <tr>\n",
              "      <th>Date</th>\n",
              "      <th></th>\n",
              "    </tr>\n",
              "  </thead>\n",
              "  <tbody>\n",
              "    <tr>\n",
              "      <th>2005-08-29</th>\n",
              "      <td>42.790001</td>\n",
              "    </tr>\n",
              "    <tr>\n",
              "      <th>2005-08-30</th>\n",
              "      <td>42.490002</td>\n",
              "    </tr>\n",
              "    <tr>\n",
              "      <th>2005-08-31</th>\n",
              "      <td>42.700001</td>\n",
              "    </tr>\n",
              "    <tr>\n",
              "      <th>2005-09-01</th>\n",
              "      <td>41.840000</td>\n",
              "    </tr>\n",
              "    <tr>\n",
              "      <th>2005-09-02</th>\n",
              "      <td>41.509998</td>\n",
              "    </tr>\n",
              "    <tr>\n",
              "      <th>...</th>\n",
              "      <td>...</td>\n",
              "    </tr>\n",
              "    <tr>\n",
              "      <th>2022-01-24</th>\n",
              "      <td>2890.879883</td>\n",
              "    </tr>\n",
              "    <tr>\n",
              "      <th>2022-01-25</th>\n",
              "      <td>2799.719971</td>\n",
              "    </tr>\n",
              "    <tr>\n",
              "      <th>2022-01-26</th>\n",
              "      <td>2777.449951</td>\n",
              "    </tr>\n",
              "    <tr>\n",
              "      <th>2022-01-27</th>\n",
              "      <td>2792.750000</td>\n",
              "    </tr>\n",
              "    <tr>\n",
              "      <th>2022-01-28</th>\n",
              "      <td>2879.560059</td>\n",
              "    </tr>\n",
              "  </tbody>\n",
              "</table>\n",
              "<p>4134 rows × 1 columns</p>\n",
              "</div>\n",
              "      <button class=\"colab-df-convert\" onclick=\"convertToInteractive('df-8a4dc9df-241b-4331-b632-b34d053edd3d')\"\n",
              "              title=\"Convert this dataframe to an interactive table.\"\n",
              "              style=\"display:none;\">\n",
              "        \n",
              "  <svg xmlns=\"http://www.w3.org/2000/svg\" height=\"24px\"viewBox=\"0 0 24 24\"\n",
              "       width=\"24px\">\n",
              "    <path d=\"M0 0h24v24H0V0z\" fill=\"none\"/>\n",
              "    <path d=\"M18.56 5.44l.94 2.06.94-2.06 2.06-.94-2.06-.94-.94-2.06-.94 2.06-2.06.94zm-11 1L8.5 8.5l.94-2.06 2.06-.94-2.06-.94L8.5 2.5l-.94 2.06-2.06.94zm10 10l.94 2.06.94-2.06 2.06-.94-2.06-.94-.94-2.06-.94 2.06-2.06.94z\"/><path d=\"M17.41 7.96l-1.37-1.37c-.4-.4-.92-.59-1.43-.59-.52 0-1.04.2-1.43.59L10.3 9.45l-7.72 7.72c-.78.78-.78 2.05 0 2.83L4 21.41c.39.39.9.59 1.41.59.51 0 1.02-.2 1.41-.59l7.78-7.78 2.81-2.81c.8-.78.8-2.07 0-2.86zM5.41 20L4 18.59l7.72-7.72 1.47 1.35L5.41 20z\"/>\n",
              "  </svg>\n",
              "      </button>\n",
              "      \n",
              "  <style>\n",
              "    .colab-df-container {\n",
              "      display:flex;\n",
              "      flex-wrap:wrap;\n",
              "      gap: 12px;\n",
              "    }\n",
              "\n",
              "    .colab-df-convert {\n",
              "      background-color: #E8F0FE;\n",
              "      border: none;\n",
              "      border-radius: 50%;\n",
              "      cursor: pointer;\n",
              "      display: none;\n",
              "      fill: #1967D2;\n",
              "      height: 32px;\n",
              "      padding: 0 0 0 0;\n",
              "      width: 32px;\n",
              "    }\n",
              "\n",
              "    .colab-df-convert:hover {\n",
              "      background-color: #E2EBFA;\n",
              "      box-shadow: 0px 1px 2px rgba(60, 64, 67, 0.3), 0px 1px 3px 1px rgba(60, 64, 67, 0.15);\n",
              "      fill: #174EA6;\n",
              "    }\n",
              "\n",
              "    [theme=dark] .colab-df-convert {\n",
              "      background-color: #3B4455;\n",
              "      fill: #D2E3FC;\n",
              "    }\n",
              "\n",
              "    [theme=dark] .colab-df-convert:hover {\n",
              "      background-color: #434B5C;\n",
              "      box-shadow: 0px 1px 3px 1px rgba(0, 0, 0, 0.15);\n",
              "      filter: drop-shadow(0px 1px 2px rgba(0, 0, 0, 0.3));\n",
              "      fill: #FFFFFF;\n",
              "    }\n",
              "  </style>\n",
              "\n",
              "      <script>\n",
              "        const buttonEl =\n",
              "          document.querySelector('#df-8a4dc9df-241b-4331-b632-b34d053edd3d button.colab-df-convert');\n",
              "        buttonEl.style.display =\n",
              "          google.colab.kernel.accessAllowed ? 'block' : 'none';\n",
              "\n",
              "        async function convertToInteractive(key) {\n",
              "          const element = document.querySelector('#df-8a4dc9df-241b-4331-b632-b34d053edd3d');\n",
              "          const dataTable =\n",
              "            await google.colab.kernel.invokeFunction('convertToInteractive',\n",
              "                                                     [key], {});\n",
              "          if (!dataTable) return;\n",
              "\n",
              "          const docLinkHtml = 'Like what you see? Visit the ' +\n",
              "            '<a target=\"_blank\" href=https://colab.research.google.com/notebooks/data_table.ipynb>data table notebook</a>'\n",
              "            + ' to learn more about interactive tables.';\n",
              "          element.innerHTML = '';\n",
              "          dataTable['output_type'] = 'display_data';\n",
              "          await google.colab.output.renderOutput(dataTable, element);\n",
              "          const docLink = document.createElement('div');\n",
              "          docLink.innerHTML = docLinkHtml;\n",
              "          element.appendChild(docLink);\n",
              "        }\n",
              "      </script>\n",
              "    </div>\n",
              "  </div>\n",
              "  "
            ],
            "text/plain": [
              "                   AMZN\n",
              "Date                   \n",
              "2005-08-29    42.790001\n",
              "2005-08-30    42.490002\n",
              "2005-08-31    42.700001\n",
              "2005-09-01    41.840000\n",
              "2005-09-02    41.509998\n",
              "...                 ...\n",
              "2022-01-24  2890.879883\n",
              "2022-01-25  2799.719971\n",
              "2022-01-26  2777.449951\n",
              "2022-01-27  2792.750000\n",
              "2022-01-28  2879.560059\n",
              "\n",
              "[4134 rows x 1 columns]"
            ]
          },
          "metadata": {},
          "execution_count": 141
        }
      ]
    },
    {
      "cell_type": "code",
      "source": [
        "sma_s = 50\n",
        "sma_l = 200"
      ],
      "metadata": {
        "id": "l2aSmqHnJgJK"
      },
      "execution_count": null,
      "outputs": []
    },
    {
      "cell_type": "code",
      "source": [
        "df.AMZN.rolling(50).mean().tail()"
      ],
      "metadata": {
        "colab": {
          "base_uri": "https://localhost:8080/"
        },
        "id": "iaDrtvDoJjPI",
        "outputId": "22729e88-7a53-4913-f99e-dd933cc4a3c4"
      },
      "execution_count": null,
      "outputs": [
        {
          "output_type": "execute_result",
          "data": {
            "text/plain": [
              "Date\n",
              "2022-01-24    3388.855215\n",
              "2022-01-25    3375.399614\n",
              "2022-01-26    3360.445615\n",
              "2022-01-27    3345.387017\n",
              "2022-01-28    3332.164219\n",
              "Name: AMZN, dtype: float64"
            ]
          },
          "metadata": {},
          "execution_count": 143
        }
      ]
    },
    {
      "cell_type": "code",
      "source": [
        "df[\"SMA_S\"] = df.AMZN.rolling(sma_s).mean()\n",
        "df[\"SMA_L\"] = df.AMZN.rolling(sma_l).mean()"
      ],
      "metadata": {
        "id": "JWRiGoa4Jtpg",
        "colab": {
          "base_uri": "https://localhost:8080/"
        },
        "outputId": "250f4795-eb83-4065-dc51-68e1b1aa8bbb"
      },
      "execution_count": null,
      "outputs": [
        {
          "output_type": "stream",
          "name": "stderr",
          "text": [
            "/usr/local/lib/python3.7/dist-packages/ipykernel_launcher.py:1: SettingWithCopyWarning: \n",
            "A value is trying to be set on a copy of a slice from a DataFrame.\n",
            "Try using .loc[row_indexer,col_indexer] = value instead\n",
            "\n",
            "See the caveats in the documentation: https://pandas.pydata.org/pandas-docs/stable/user_guide/indexing.html#returning-a-view-versus-a-copy\n",
            "  \"\"\"Entry point for launching an IPython kernel.\n",
            "/usr/local/lib/python3.7/dist-packages/ipykernel_launcher.py:2: SettingWithCopyWarning: \n",
            "A value is trying to be set on a copy of a slice from a DataFrame.\n",
            "Try using .loc[row_indexer,col_indexer] = value instead\n",
            "\n",
            "See the caveats in the documentation: https://pandas.pydata.org/pandas-docs/stable/user_guide/indexing.html#returning-a-view-versus-a-copy\n",
            "  \n"
          ]
        }
      ]
    },
    {
      "cell_type": "code",
      "source": [
        "df"
      ],
      "metadata": {
        "colab": {
          "base_uri": "https://localhost:8080/",
          "height": 684
        },
        "id": "flcNi2_wKbja",
        "outputId": "fee7a5f1-8404-4f7e-fbf6-fe8d17d20e97"
      },
      "execution_count": null,
      "outputs": [
        {
          "output_type": "execute_result",
          "data": {
            "text/html": [
              "\n",
              "  <div id=\"df-f2f626b4-3971-4158-b90e-5af850e21565\">\n",
              "    <div class=\"colab-df-container\">\n",
              "      <div>\n",
              "<style scoped>\n",
              "    .dataframe tbody tr th:only-of-type {\n",
              "        vertical-align: middle;\n",
              "    }\n",
              "\n",
              "    .dataframe tbody tr th {\n",
              "        vertical-align: top;\n",
              "    }\n",
              "\n",
              "    .dataframe thead th {\n",
              "        text-align: right;\n",
              "    }\n",
              "</style>\n",
              "<table border=\"1\" class=\"dataframe\">\n",
              "  <thead>\n",
              "    <tr style=\"text-align: right;\">\n",
              "      <th></th>\n",
              "      <th>AMZN</th>\n",
              "      <th>SMA_S</th>\n",
              "      <th>SMA_L</th>\n",
              "    </tr>\n",
              "    <tr>\n",
              "      <th>Date</th>\n",
              "      <th></th>\n",
              "      <th></th>\n",
              "      <th></th>\n",
              "    </tr>\n",
              "  </thead>\n",
              "  <tbody>\n",
              "    <tr>\n",
              "      <th>2005-08-29</th>\n",
              "      <td>42.790001</td>\n",
              "      <td>NaN</td>\n",
              "      <td>NaN</td>\n",
              "    </tr>\n",
              "    <tr>\n",
              "      <th>2005-08-30</th>\n",
              "      <td>42.490002</td>\n",
              "      <td>NaN</td>\n",
              "      <td>NaN</td>\n",
              "    </tr>\n",
              "    <tr>\n",
              "      <th>2005-08-31</th>\n",
              "      <td>42.700001</td>\n",
              "      <td>NaN</td>\n",
              "      <td>NaN</td>\n",
              "    </tr>\n",
              "    <tr>\n",
              "      <th>2005-09-01</th>\n",
              "      <td>41.840000</td>\n",
              "      <td>NaN</td>\n",
              "      <td>NaN</td>\n",
              "    </tr>\n",
              "    <tr>\n",
              "      <th>2005-09-02</th>\n",
              "      <td>41.509998</td>\n",
              "      <td>NaN</td>\n",
              "      <td>NaN</td>\n",
              "    </tr>\n",
              "    <tr>\n",
              "      <th>...</th>\n",
              "      <td>...</td>\n",
              "      <td>...</td>\n",
              "      <td>...</td>\n",
              "    </tr>\n",
              "    <tr>\n",
              "      <th>2022-01-24</th>\n",
              "      <td>2890.879883</td>\n",
              "      <td>3388.855215</td>\n",
              "      <td>3388.293704</td>\n",
              "    </tr>\n",
              "    <tr>\n",
              "      <th>2022-01-25</th>\n",
              "      <td>2799.719971</td>\n",
              "      <td>3375.399614</td>\n",
              "      <td>3385.395354</td>\n",
              "    </tr>\n",
              "    <tr>\n",
              "      <th>2022-01-26</th>\n",
              "      <td>2777.449951</td>\n",
              "      <td>3360.445615</td>\n",
              "      <td>3382.282604</td>\n",
              "    </tr>\n",
              "    <tr>\n",
              "      <th>2022-01-27</th>\n",
              "      <td>2792.750000</td>\n",
              "      <td>3345.387017</td>\n",
              "      <td>3379.581354</td>\n",
              "    </tr>\n",
              "    <tr>\n",
              "      <th>2022-01-28</th>\n",
              "      <td>2879.560059</td>\n",
              "      <td>3332.164219</td>\n",
              "      <td>3377.083704</td>\n",
              "    </tr>\n",
              "  </tbody>\n",
              "</table>\n",
              "<p>4134 rows × 3 columns</p>\n",
              "</div>\n",
              "      <button class=\"colab-df-convert\" onclick=\"convertToInteractive('df-f2f626b4-3971-4158-b90e-5af850e21565')\"\n",
              "              title=\"Convert this dataframe to an interactive table.\"\n",
              "              style=\"display:none;\">\n",
              "        \n",
              "  <svg xmlns=\"http://www.w3.org/2000/svg\" height=\"24px\"viewBox=\"0 0 24 24\"\n",
              "       width=\"24px\">\n",
              "    <path d=\"M0 0h24v24H0V0z\" fill=\"none\"/>\n",
              "    <path d=\"M18.56 5.44l.94 2.06.94-2.06 2.06-.94-2.06-.94-.94-2.06-.94 2.06-2.06.94zm-11 1L8.5 8.5l.94-2.06 2.06-.94-2.06-.94L8.5 2.5l-.94 2.06-2.06.94zm10 10l.94 2.06.94-2.06 2.06-.94-2.06-.94-.94-2.06-.94 2.06-2.06.94z\"/><path d=\"M17.41 7.96l-1.37-1.37c-.4-.4-.92-.59-1.43-.59-.52 0-1.04.2-1.43.59L10.3 9.45l-7.72 7.72c-.78.78-.78 2.05 0 2.83L4 21.41c.39.39.9.59 1.41.59.51 0 1.02-.2 1.41-.59l7.78-7.78 2.81-2.81c.8-.78.8-2.07 0-2.86zM5.41 20L4 18.59l7.72-7.72 1.47 1.35L5.41 20z\"/>\n",
              "  </svg>\n",
              "      </button>\n",
              "      \n",
              "  <style>\n",
              "    .colab-df-container {\n",
              "      display:flex;\n",
              "      flex-wrap:wrap;\n",
              "      gap: 12px;\n",
              "    }\n",
              "\n",
              "    .colab-df-convert {\n",
              "      background-color: #E8F0FE;\n",
              "      border: none;\n",
              "      border-radius: 50%;\n",
              "      cursor: pointer;\n",
              "      display: none;\n",
              "      fill: #1967D2;\n",
              "      height: 32px;\n",
              "      padding: 0 0 0 0;\n",
              "      width: 32px;\n",
              "    }\n",
              "\n",
              "    .colab-df-convert:hover {\n",
              "      background-color: #E2EBFA;\n",
              "      box-shadow: 0px 1px 2px rgba(60, 64, 67, 0.3), 0px 1px 3px 1px rgba(60, 64, 67, 0.15);\n",
              "      fill: #174EA6;\n",
              "    }\n",
              "\n",
              "    [theme=dark] .colab-df-convert {\n",
              "      background-color: #3B4455;\n",
              "      fill: #D2E3FC;\n",
              "    }\n",
              "\n",
              "    [theme=dark] .colab-df-convert:hover {\n",
              "      background-color: #434B5C;\n",
              "      box-shadow: 0px 1px 3px 1px rgba(0, 0, 0, 0.15);\n",
              "      filter: drop-shadow(0px 1px 2px rgba(0, 0, 0, 0.3));\n",
              "      fill: #FFFFFF;\n",
              "    }\n",
              "  </style>\n",
              "\n",
              "      <script>\n",
              "        const buttonEl =\n",
              "          document.querySelector('#df-f2f626b4-3971-4158-b90e-5af850e21565 button.colab-df-convert');\n",
              "        buttonEl.style.display =\n",
              "          google.colab.kernel.accessAllowed ? 'block' : 'none';\n",
              "\n",
              "        async function convertToInteractive(key) {\n",
              "          const element = document.querySelector('#df-f2f626b4-3971-4158-b90e-5af850e21565');\n",
              "          const dataTable =\n",
              "            await google.colab.kernel.invokeFunction('convertToInteractive',\n",
              "                                                     [key], {});\n",
              "          if (!dataTable) return;\n",
              "\n",
              "          const docLinkHtml = 'Like what you see? Visit the ' +\n",
              "            '<a target=\"_blank\" href=https://colab.research.google.com/notebooks/data_table.ipynb>data table notebook</a>'\n",
              "            + ' to learn more about interactive tables.';\n",
              "          element.innerHTML = '';\n",
              "          dataTable['output_type'] = 'display_data';\n",
              "          await google.colab.output.renderOutput(dataTable, element);\n",
              "          const docLink = document.createElement('div');\n",
              "          docLink.innerHTML = docLinkHtml;\n",
              "          element.appendChild(docLink);\n",
              "        }\n",
              "      </script>\n",
              "    </div>\n",
              "  </div>\n",
              "  "
            ],
            "text/plain": [
              "                   AMZN        SMA_S        SMA_L\n",
              "Date                                             \n",
              "2005-08-29    42.790001          NaN          NaN\n",
              "2005-08-30    42.490002          NaN          NaN\n",
              "2005-08-31    42.700001          NaN          NaN\n",
              "2005-09-01    41.840000          NaN          NaN\n",
              "2005-09-02    41.509998          NaN          NaN\n",
              "...                 ...          ...          ...\n",
              "2022-01-24  2890.879883  3388.855215  3388.293704\n",
              "2022-01-25  2799.719971  3375.399614  3385.395354\n",
              "2022-01-26  2777.449951  3360.445615  3382.282604\n",
              "2022-01-27  2792.750000  3345.387017  3379.581354\n",
              "2022-01-28  2879.560059  3332.164219  3377.083704\n",
              "\n",
              "[4134 rows x 3 columns]"
            ]
          },
          "metadata": {},
          "execution_count": 145
        }
      ]
    },
    {
      "cell_type": "code",
      "source": [
        "df.plot(figsize = (12, 8), title = \"AMZN - SMA{} | SMA{}\".format(sma_s, sma_l), fontsize = 12)\n",
        "plt.legend(fontsize = 12)\n",
        "plt.show()"
      ],
      "metadata": {
        "colab": {
          "base_uri": "https://localhost:8080/",
          "height": 54
        },
        "id": "Iw0IE-MUKijm",
        "outputId": "d0bfb8c9-33e5-41d8-9f47-7168f4417e3d"
      },
      "execution_count": null,
      "outputs": [
        {
          "output_type": "display_data",
          "data": {
            "image/png": "[encoded data removed]",
            "text/plain": [
              "<Figure size 864x576 with 1 Axes>"
            ]
          },
          "metadata": {}
        }
      ]
    },
    {
      "cell_type": "code",
      "source": [
        "df.dropna(inplace = True)"
      ],
      "metadata": {
        "id": "cb-WY73eK4Sk",
        "colab": {
          "base_uri": "https://localhost:8080/"
        },
        "outputId": "e155394b-6b78-4688-c444-1c28d6f7bde2"
      },
      "execution_count": null,
      "outputs": [
        {
          "output_type": "stream",
          "name": "stderr",
          "text": [
            "/usr/local/lib/python3.7/dist-packages/ipykernel_launcher.py:1: SettingWithCopyWarning: \n",
            "A value is trying to be set on a copy of a slice from a DataFrame\n",
            "\n",
            "See the caveats in the documentation: https://pandas.pydata.org/pandas-docs/stable/user_guide/indexing.html#returning-a-view-versus-a-copy\n",
            "  \"\"\"Entry point for launching an IPython kernel.\n"
          ]
        }
      ]
    },
    {
      "cell_type": "code",
      "source": [
        "df"
      ],
      "metadata": {
        "id": "95mWpUYnLBlP",
        "colab": {
          "base_uri": "https://localhost:8080/",
          "height": 684
        },
        "outputId": "760a3c78-3bba-4f5e-aebe-b18b6512f96f"
      },
      "execution_count": null,
      "outputs": [
        {
          "output_type": "execute_result",
          "data": {
            "text/html": [
              "\n",
              "  <div id=\"df-76c71661-7ce7-4648-9fb7-53c08792e0ef\">\n",
              "    <div class=\"colab-df-container\">\n",
              "      <div>\n",
              "<style scoped>\n",
              "    .dataframe tbody tr th:only-of-type {\n",
              "        vertical-align: middle;\n",
              "    }\n",
              "\n",
              "    .dataframe tbody tr th {\n",
              "        vertical-align: top;\n",
              "    }\n",
              "\n",
              "    .dataframe thead th {\n",
              "        text-align: right;\n",
              "    }\n",
              "</style>\n",
              "<table border=\"1\" class=\"dataframe\">\n",
              "  <thead>\n",
              "    <tr style=\"text-align: right;\">\n",
              "      <th></th>\n",
              "      <th>AMZN</th>\n",
              "      <th>SMA_S</th>\n",
              "      <th>SMA_L</th>\n",
              "    </tr>\n",
              "    <tr>\n",
              "      <th>Date</th>\n",
              "      <th></th>\n",
              "      <th></th>\n",
              "      <th></th>\n",
              "    </tr>\n",
              "  </thead>\n",
              "  <tbody>\n",
              "    <tr>\n",
              "      <th>2006-06-14</th>\n",
              "      <td>33.680000</td>\n",
              "      <td>34.868400</td>\n",
              "      <td>40.849200</td>\n",
              "    </tr>\n",
              "    <tr>\n",
              "      <th>2006-06-15</th>\n",
              "      <td>34.959999</td>\n",
              "      <td>34.832200</td>\n",
              "      <td>40.810050</td>\n",
              "    </tr>\n",
              "    <tr>\n",
              "      <th>2006-06-16</th>\n",
              "      <td>35.090000</td>\n",
              "      <td>34.787200</td>\n",
              "      <td>40.773050</td>\n",
              "    </tr>\n",
              "    <tr>\n",
              "      <th>2006-06-19</th>\n",
              "      <td>35.070000</td>\n",
              "      <td>34.718400</td>\n",
              "      <td>40.734900</td>\n",
              "    </tr>\n",
              "    <tr>\n",
              "      <th>2006-06-20</th>\n",
              "      <td>35.480000</td>\n",
              "      <td>34.686200</td>\n",
              "      <td>40.703100</td>\n",
              "    </tr>\n",
              "    <tr>\n",
              "      <th>...</th>\n",
              "      <td>...</td>\n",
              "      <td>...</td>\n",
              "      <td>...</td>\n",
              "    </tr>\n",
              "    <tr>\n",
              "      <th>2022-01-24</th>\n",
              "      <td>2890.879883</td>\n",
              "      <td>3388.855215</td>\n",
              "      <td>3388.293704</td>\n",
              "    </tr>\n",
              "    <tr>\n",
              "      <th>2022-01-25</th>\n",
              "      <td>2799.719971</td>\n",
              "      <td>3375.399614</td>\n",
              "      <td>3385.395354</td>\n",
              "    </tr>\n",
              "    <tr>\n",
              "      <th>2022-01-26</th>\n",
              "      <td>2777.449951</td>\n",
              "      <td>3360.445615</td>\n",
              "      <td>3382.282604</td>\n",
              "    </tr>\n",
              "    <tr>\n",
              "      <th>2022-01-27</th>\n",
              "      <td>2792.750000</td>\n",
              "      <td>3345.387017</td>\n",
              "      <td>3379.581354</td>\n",
              "    </tr>\n",
              "    <tr>\n",
              "      <th>2022-01-28</th>\n",
              "      <td>2879.560059</td>\n",
              "      <td>3332.164219</td>\n",
              "      <td>3377.083704</td>\n",
              "    </tr>\n",
              "  </tbody>\n",
              "</table>\n",
              "<p>3935 rows × 3 columns</p>\n",
              "</div>\n",
              "      <button class=\"colab-df-convert\" onclick=\"convertToInteractive('df-76c71661-7ce7-4648-9fb7-53c08792e0ef')\"\n",
              "              title=\"Convert this dataframe to an interactive table.\"\n",
              "              style=\"display:none;\">\n",
              "        \n",
              "  <svg xmlns=\"http://www.w3.org/2000/svg\" height=\"24px\"viewBox=\"0 0 24 24\"\n",
              "       width=\"24px\">\n",
              "    <path d=\"M0 0h24v24H0V0z\" fill=\"none\"/>\n",
              "    <path d=\"M18.56 5.44l.94 2.06.94-2.06 2.06-.94-2.06-.94-.94-2.06-.94 2.06-2.06.94zm-11 1L8.5 8.5l.94-2.06 2.06-.94-2.06-.94L8.5 2.5l-.94 2.06-2.06.94zm10 10l.94 2.06.94-2.06 2.06-.94-2.06-.94-.94-2.06-.94 2.06-2.06.94z\"/><path d=\"M17.41 7.96l-1.37-1.37c-.4-.4-.92-.59-1.43-.59-.52 0-1.04.2-1.43.59L10.3 9.45l-7.72 7.72c-.78.78-.78 2.05 0 2.83L4 21.41c.39.39.9.59 1.41.59.51 0 1.02-.2 1.41-.59l7.78-7.78 2.81-2.81c.8-.78.8-2.07 0-2.86zM5.41 20L4 18.59l7.72-7.72 1.47 1.35L5.41 20z\"/>\n",
              "  </svg>\n",
              "      </button>\n",
              "      \n",
              "  <style>\n",
              "    .colab-df-container {\n",
              "      display:flex;\n",
              "      flex-wrap:wrap;\n",
              "      gap: 12px;\n",
              "    }\n",
              "\n",
              "    .colab-df-convert {\n",
              "      background-color: #E8F0FE;\n",
              "      border: none;\n",
              "      border-radius: 50%;\n",
              "      cursor: pointer;\n",
              "      display: none;\n",
              "      fill: #1967D2;\n",
              "      height: 32px;\n",
              "      padding: 0 0 0 0;\n",
              "      width: 32px;\n",
              "    }\n",
              "\n",
              "    .colab-df-convert:hover {\n",
              "      background-color: #E2EBFA;\n",
              "      box-shadow: 0px 1px 2px rgba(60, 64, 67, 0.3), 0px 1px 3px 1px rgba(60, 64, 67, 0.15);\n",
              "      fill: #174EA6;\n",
              "    }\n",
              "\n",
              "    [theme=dark] .colab-df-convert {\n",
              "      background-color: #3B4455;\n",
              "      fill: #D2E3FC;\n",
              "    }\n",
              "\n",
              "    [theme=dark] .colab-df-convert:hover {\n",
              "      background-color: #434B5C;\n",
              "      box-shadow: 0px 1px 3px 1px rgba(0, 0, 0, 0.15);\n",
              "      filter: drop-shadow(0px 1px 2px rgba(0, 0, 0, 0.3));\n",
              "      fill: #FFFFFF;\n",
              "    }\n",
              "  </style>\n",
              "\n",
              "      <script>\n",
              "        const buttonEl =\n",
              "          document.querySelector('#df-76c71661-7ce7-4648-9fb7-53c08792e0ef button.colab-df-convert');\n",
              "        buttonEl.style.display =\n",
              "          google.colab.kernel.accessAllowed ? 'block' : 'none';\n",
              "\n",
              "        async function convertToInteractive(key) {\n",
              "          const element = document.querySelector('#df-76c71661-7ce7-4648-9fb7-53c08792e0ef');\n",
              "          const dataTable =\n",
              "            await google.colab.kernel.invokeFunction('convertToInteractive',\n",
              "                                                     [key], {});\n",
              "          if (!dataTable) return;\n",
              "\n",
              "          const docLinkHtml = 'Like what you see? Visit the ' +\n",
              "            '<a target=\"_blank\" href=https://colab.research.google.com/notebooks/data_table.ipynb>data table notebook</a>'\n",
              "            + ' to learn more about interactive tables.';\n",
              "          element.innerHTML = '';\n",
              "          dataTable['output_type'] = 'display_data';\n",
              "          await google.colab.output.renderOutput(dataTable, element);\n",
              "          const docLink = document.createElement('div');\n",
              "          docLink.innerHTML = docLinkHtml;\n",
              "          element.appendChild(docLink);\n",
              "        }\n",
              "      </script>\n",
              "    </div>\n",
              "  </div>\n",
              "  "
            ],
            "text/plain": [
              "                   AMZN        SMA_S        SMA_L\n",
              "Date                                             \n",
              "2006-06-14    33.680000    34.868400    40.849200\n",
              "2006-06-15    34.959999    34.832200    40.810050\n",
              "2006-06-16    35.090000    34.787200    40.773050\n",
              "2006-06-19    35.070000    34.718400    40.734900\n",
              "2006-06-20    35.480000    34.686200    40.703100\n",
              "...                 ...          ...          ...\n",
              "2022-01-24  2890.879883  3388.855215  3388.293704\n",
              "2022-01-25  2799.719971  3375.399614  3385.395354\n",
              "2022-01-26  2777.449951  3360.445615  3382.282604\n",
              "2022-01-27  2792.750000  3345.387017  3379.581354\n",
              "2022-01-28  2879.560059  3332.164219  3377.083704\n",
              "\n",
              "[3935 rows x 3 columns]"
            ]
          },
          "metadata": {},
          "execution_count": 148
        }
      ]
    },
    {
      "cell_type": "code",
      "source": [
        "df.loc[\"2016\"].plot(figsize = (12, 8), title = \"AMZN - SMA{} | SMA{}\".format(sma_s, sma_l), fontsize = 12)\n",
        "plt.legend(fontsize = 12)\n",
        "plt.show()"
      ],
      "metadata": {
        "colab": {
          "base_uri": "https://localhost:8080/",
          "height": 54
        },
        "id": "zxekYosGLHrn",
        "outputId": "f26dd87f-2b76-43f8-8e83-c6ae121c1744"
      },
      "execution_count": null,
      "outputs": [
        {
          "output_type": "display_data",
          "data": {
            "image/png": "[encoded data removed]",
            "text/plain": [
              "<Figure size 864x576 with 1 Axes>"
            ]
          },
          "metadata": {}
        }
      ]
    },
    {
      "cell_type": "code",
      "source": [
        "df[\"position\"] = np.where(df[\"SMA_S\"] > df[\"SMA_L\"], 1, -1 )\n",
        "df"
      ],
      "metadata": {
        "colab": {
          "base_uri": "https://localhost:8080/",
          "height": 786
        },
        "id": "35jeg2HaLUd9",
        "outputId": "3da4f7ad-aba0-4bcc-8c53-a0627f5609c5"
      },
      "execution_count": null,
      "outputs": [
        {
          "output_type": "stream",
          "name": "stderr",
          "text": [
            "/usr/local/lib/python3.7/dist-packages/ipykernel_launcher.py:1: SettingWithCopyWarning: \n",
            "A value is trying to be set on a copy of a slice from a DataFrame.\n",
            "Try using .loc[row_indexer,col_indexer] = value instead\n",
            "\n",
            "See the caveats in the documentation: https://pandas.pydata.org/pandas-docs/stable/user_guide/indexing.html#returning-a-view-versus-a-copy\n",
            "  \"\"\"Entry point for launching an IPython kernel.\n"
          ]
        },
        {
          "output_type": "execute_result",
          "data": {
            "text/html": [
              "\n",
              "  <div id=\"df-a41bf57f-7da3-425b-b605-1110794763e5\">\n",
              "    <div class=\"colab-df-container\">\n",
              "      <div>\n",
              "<style scoped>\n",
              "    .dataframe tbody tr th:only-of-type {\n",
              "        vertical-align: middle;\n",
              "    }\n",
              "\n",
              "    .dataframe tbody tr th {\n",
              "        vertical-align: top;\n",
              "    }\n",
              "\n",
              "    .dataframe thead th {\n",
              "        text-align: right;\n",
              "    }\n",
              "</style>\n",
              "<table border=\"1\" class=\"dataframe\">\n",
              "  <thead>\n",
              "    <tr style=\"text-align: right;\">\n",
              "      <th></th>\n",
              "      <th>AMZN</th>\n",
              "      <th>SMA_S</th>\n",
              "      <th>SMA_L</th>\n",
              "      <th>position</th>\n",
              "    </tr>\n",
              "    <tr>\n",
              "      <th>Date</th>\n",
              "      <th></th>\n",
              "      <th></th>\n",
              "      <th></th>\n",
              "      <th></th>\n",
              "    </tr>\n",
              "  </thead>\n",
              "  <tbody>\n",
              "    <tr>\n",
              "      <th>2006-06-14</th>\n",
              "      <td>33.680000</td>\n",
              "      <td>34.868400</td>\n",
              "      <td>40.849200</td>\n",
              "      <td>-1</td>\n",
              "    </tr>\n",
              "    <tr>\n",
              "      <th>2006-06-15</th>\n",
              "      <td>34.959999</td>\n",
              "      <td>34.832200</td>\n",
              "      <td>40.810050</td>\n",
              "      <td>-1</td>\n",
              "    </tr>\n",
              "    <tr>\n",
              "      <th>2006-06-16</th>\n",
              "      <td>35.090000</td>\n",
              "      <td>34.787200</td>\n",
              "      <td>40.773050</td>\n",
              "      <td>-1</td>\n",
              "    </tr>\n",
              "    <tr>\n",
              "      <th>2006-06-19</th>\n",
              "      <td>35.070000</td>\n",
              "      <td>34.718400</td>\n",
              "      <td>40.734900</td>\n",
              "      <td>-1</td>\n",
              "    </tr>\n",
              "    <tr>\n",
              "      <th>2006-06-20</th>\n",
              "      <td>35.480000</td>\n",
              "      <td>34.686200</td>\n",
              "      <td>40.703100</td>\n",
              "      <td>-1</td>\n",
              "    </tr>\n",
              "    <tr>\n",
              "      <th>...</th>\n",
              "      <td>...</td>\n",
              "      <td>...</td>\n",
              "      <td>...</td>\n",
              "      <td>...</td>\n",
              "    </tr>\n",
              "    <tr>\n",
              "      <th>2022-01-24</th>\n",
              "      <td>2890.879883</td>\n",
              "      <td>3388.855215</td>\n",
              "      <td>3388.293704</td>\n",
              "      <td>1</td>\n",
              "    </tr>\n",
              "    <tr>\n",
              "      <th>2022-01-25</th>\n",
              "      <td>2799.719971</td>\n",
              "      <td>3375.399614</td>\n",
              "      <td>3385.395354</td>\n",
              "      <td>-1</td>\n",
              "    </tr>\n",
              "    <tr>\n",
              "      <th>2022-01-26</th>\n",
              "      <td>2777.449951</td>\n",
              "      <td>3360.445615</td>\n",
              "      <td>3382.282604</td>\n",
              "      <td>-1</td>\n",
              "    </tr>\n",
              "    <tr>\n",
              "      <th>2022-01-27</th>\n",
              "      <td>2792.750000</td>\n",
              "      <td>3345.387017</td>\n",
              "      <td>3379.581354</td>\n",
              "      <td>-1</td>\n",
              "    </tr>\n",
              "    <tr>\n",
              "      <th>2022-01-28</th>\n",
              "      <td>2879.560059</td>\n",
              "      <td>3332.164219</td>\n",
              "      <td>3377.083704</td>\n",
              "      <td>-1</td>\n",
              "    </tr>\n",
              "  </tbody>\n",
              "</table>\n",
              "<p>3935 rows × 4 columns</p>\n",
              "</div>\n",
              "      <button class=\"colab-df-convert\" onclick=\"convertToInteractive('df-a41bf57f-7da3-425b-b605-1110794763e5')\"\n",
              "              title=\"Convert this dataframe to an interactive table.\"\n",
              "              style=\"display:none;\">\n",
              "        \n",
              "  <svg xmlns=\"http://www.w3.org/2000/svg\" height=\"24px\"viewBox=\"0 0 24 24\"\n",
              "       width=\"24px\">\n",
              "    <path d=\"M0 0h24v24H0V0z\" fill=\"none\"/>\n",
              "    <path d=\"M18.56 5.44l.94 2.06.94-2.06 2.06-.94-2.06-.94-.94-2.06-.94 2.06-2.06.94zm-11 1L8.5 8.5l.94-2.06 2.06-.94-2.06-.94L8.5 2.5l-.94 2.06-2.06.94zm10 10l.94 2.06.94-2.06 2.06-.94-2.06-.94-.94-2.06-.94 2.06-2.06.94z\"/><path d=\"M17.41 7.96l-1.37-1.37c-.4-.4-.92-.59-1.43-.59-.52 0-1.04.2-1.43.59L10.3 9.45l-7.72 7.72c-.78.78-.78 2.05 0 2.83L4 21.41c.39.39.9.59 1.41.59.51 0 1.02-.2 1.41-.59l7.78-7.78 2.81-2.81c.8-.78.8-2.07 0-2.86zM5.41 20L4 18.59l7.72-7.72 1.47 1.35L5.41 20z\"/>\n",
              "  </svg>\n",
              "      </button>\n",
              "      \n",
              "  <style>\n",
              "    .colab-df-container {\n",
              "      display:flex;\n",
              "      flex-wrap:wrap;\n",
              "      gap: 12px;\n",
              "    }\n",
              "\n",
              "    .colab-df-convert {\n",
              "      background-color: #E8F0FE;\n",
              "      border: none;\n",
              "      border-radius: 50%;\n",
              "      cursor: pointer;\n",
              "      display: none;\n",
              "      fill: #1967D2;\n",
              "      height: 32px;\n",
              "      padding: 0 0 0 0;\n",
              "      width: 32px;\n",
              "    }\n",
              "\n",
              "    .colab-df-convert:hover {\n",
              "      background-color: #E2EBFA;\n",
              "      box-shadow: 0px 1px 2px rgba(60, 64, 67, 0.3), 0px 1px 3px 1px rgba(60, 64, 67, 0.15);\n",
              "      fill: #174EA6;\n",
              "    }\n",
              "\n",
              "    [theme=dark] .colab-df-convert {\n",
              "      background-color: #3B4455;\n",
              "      fill: #D2E3FC;\n",
              "    }\n",
              "\n",
              "    [theme=dark] .colab-df-convert:hover {\n",
              "      background-color: #434B5C;\n",
              "      box-shadow: 0px 1px 3px 1px rgba(0, 0, 0, 0.15);\n",
              "      filter: drop-shadow(0px 1px 2px rgba(0, 0, 0, 0.3));\n",
              "      fill: #FFFFFF;\n",
              "    }\n",
              "  </style>\n",
              "\n",
              "      <script>\n",
              "        const buttonEl =\n",
              "          document.querySelector('#df-a41bf57f-7da3-425b-b605-1110794763e5 button.colab-df-convert');\n",
              "        buttonEl.style.display =\n",
              "          google.colab.kernel.accessAllowed ? 'block' : 'none';\n",
              "\n",
              "        async function convertToInteractive(key) {\n",
              "          const element = document.querySelector('#df-a41bf57f-7da3-425b-b605-1110794763e5');\n",
              "          const dataTable =\n",
              "            await google.colab.kernel.invokeFunction('convertToInteractive',\n",
              "                                                     [key], {});\n",
              "          if (!dataTable) return;\n",
              "\n",
              "          const docLinkHtml = 'Like what you see? Visit the ' +\n",
              "            '<a target=\"_blank\" href=https://colab.research.google.com/notebooks/data_table.ipynb>data table notebook</a>'\n",
              "            + ' to learn more about interactive tables.';\n",
              "          element.innerHTML = '';\n",
              "          dataTable['output_type'] = 'display_data';\n",
              "          await google.colab.output.renderOutput(dataTable, element);\n",
              "          const docLink = document.createElement('div');\n",
              "          docLink.innerHTML = docLinkHtml;\n",
              "          element.appendChild(docLink);\n",
              "        }\n",
              "      </script>\n",
              "    </div>\n",
              "  </div>\n",
              "  "
            ],
            "text/plain": [
              "                   AMZN        SMA_S        SMA_L  position\n",
              "Date                                                       \n",
              "2006-06-14    33.680000    34.868400    40.849200        -1\n",
              "2006-06-15    34.959999    34.832200    40.810050        -1\n",
              "2006-06-16    35.090000    34.787200    40.773050        -1\n",
              "2006-06-19    35.070000    34.718400    40.734900        -1\n",
              "2006-06-20    35.480000    34.686200    40.703100        -1\n",
              "...                 ...          ...          ...       ...\n",
              "2022-01-24  2890.879883  3388.855215  3388.293704         1\n",
              "2022-01-25  2799.719971  3375.399614  3385.395354        -1\n",
              "2022-01-26  2777.449951  3360.445615  3382.282604        -1\n",
              "2022-01-27  2792.750000  3345.387017  3379.581354        -1\n",
              "2022-01-28  2879.560059  3332.164219  3377.083704        -1\n",
              "\n",
              "[3935 rows x 4 columns]"
            ]
          },
          "metadata": {},
          "execution_count": 150
        }
      ]
    },
    {
      "cell_type": "code",
      "source": [
        "df.loc[:, [\"SMA_S\", \"SMA_L\", \"position\"]].plot(figsize = (12, 8), fontsize = 12, secondary_y = \"position\",\n",
        "                                                title = \"AMZN - SMA{} | SMA{}\".format(sma_s, sma_l))\n",
        "plt.show()"
      ],
      "metadata": {
        "colab": {
          "base_uri": "https://localhost:8080/",
          "height": 54
        },
        "id": "eAAeBx3aLgg2",
        "outputId": "864605c8-3dd4-439a-c2ac-d30a261d9562"
      },
      "execution_count": null,
      "outputs": [
        {
          "output_type": "display_data",
          "data": {
            "image/png": "[encoded data removed]",
            "text/plain": [
              "<Figure size 864x576 with 2 Axes>"
            ]
          },
          "metadata": {}
        }
      ]
    },
    {
      "cell_type": "code",
      "source": [
        "df.loc[\"2016\", [\"SMA_S\", \"SMA_L\", \"position\"]].plot(figsize = (12, 8), fontsize = 12, secondary_y = \"position\",\n",
        "                                                     title = \"AMZN - SMA{} | SMA{}\".format(sma_s, sma_l))\n",
        "plt.show()"
      ],
      "metadata": {
        "colab": {
          "base_uri": "https://localhost:8080/",
          "height": 54
        },
        "id": "VYfeKJWdLt3S",
        "outputId": "e01ff54a-3b4f-4076-fd21-8feaf4056730"
      },
      "execution_count": null,
      "outputs": [
        {
          "output_type": "display_data",
          "data": {
            "image/png": "[encoded data removed]",
            "text/plain": [
              "<Figure size 864x576 with 2 Axes>"
            ]
          },
          "metadata": {}
        }
      ]
    },
    {
      "cell_type": "markdown",
      "source": [
        "**Quantifying the returns**"
      ],
      "metadata": {
        "id": "Zv1blt2vNRQm"
      }
    },
    {
      "cell_type": "code",
      "source": [
        "df"
      ],
      "metadata": {
        "colab": {
          "base_uri": "https://localhost:8080/",
          "height": 684
        },
        "id": "HLy16tejPnf3",
        "outputId": "7a1254bc-e14b-4a4c-9b3b-2d50820b10bd"
      },
      "execution_count": null,
      "outputs": [
        {
          "output_type": "execute_result",
          "data": {
            "text/html": [
              "\n",
              "  <div id=\"df-75419787-173b-4120-8825-f5d19462582c\">\n",
              "    <div class=\"colab-df-container\">\n",
              "      <div>\n",
              "<style scoped>\n",
              "    .dataframe tbody tr th:only-of-type {\n",
              "        vertical-align: middle;\n",
              "    }\n",
              "\n",
              "    .dataframe tbody tr th {\n",
              "        vertical-align: top;\n",
              "    }\n",
              "\n",
              "    .dataframe thead th {\n",
              "        text-align: right;\n",
              "    }\n",
              "</style>\n",
              "<table border=\"1\" class=\"dataframe\">\n",
              "  <thead>\n",
              "    <tr style=\"text-align: right;\">\n",
              "      <th></th>\n",
              "      <th>AMZN</th>\n",
              "      <th>SMA_S</th>\n",
              "      <th>SMA_L</th>\n",
              "      <th>position</th>\n",
              "    </tr>\n",
              "    <tr>\n",
              "      <th>Date</th>\n",
              "      <th></th>\n",
              "      <th></th>\n",
              "      <th></th>\n",
              "      <th></th>\n",
              "    </tr>\n",
              "  </thead>\n",
              "  <tbody>\n",
              "    <tr>\n",
              "      <th>2006-06-14</th>\n",
              "      <td>33.680000</td>\n",
              "      <td>34.868400</td>\n",
              "      <td>40.849200</td>\n",
              "      <td>-1</td>\n",
              "    </tr>\n",
              "    <tr>\n",
              "      <th>2006-06-15</th>\n",
              "      <td>34.959999</td>\n",
              "      <td>34.832200</td>\n",
              "      <td>40.810050</td>\n",
              "      <td>-1</td>\n",
              "    </tr>\n",
              "    <tr>\n",
              "      <th>2006-06-16</th>\n",
              "      <td>35.090000</td>\n",
              "      <td>34.787200</td>\n",
              "      <td>40.773050</td>\n",
              "      <td>-1</td>\n",
              "    </tr>\n",
              "    <tr>\n",
              "      <th>2006-06-19</th>\n",
              "      <td>35.070000</td>\n",
              "      <td>34.718400</td>\n",
              "      <td>40.734900</td>\n",
              "      <td>-1</td>\n",
              "    </tr>\n",
              "    <tr>\n",
              "      <th>2006-06-20</th>\n",
              "      <td>35.480000</td>\n",
              "      <td>34.686200</td>\n",
              "      <td>40.703100</td>\n",
              "      <td>-1</td>\n",
              "    </tr>\n",
              "    <tr>\n",
              "      <th>...</th>\n",
              "      <td>...</td>\n",
              "      <td>...</td>\n",
              "      <td>...</td>\n",
              "      <td>...</td>\n",
              "    </tr>\n",
              "    <tr>\n",
              "      <th>2022-01-24</th>\n",
              "      <td>2890.879883</td>\n",
              "      <td>3388.855215</td>\n",
              "      <td>3388.293704</td>\n",
              "      <td>1</td>\n",
              "    </tr>\n",
              "    <tr>\n",
              "      <th>2022-01-25</th>\n",
              "      <td>2799.719971</td>\n",
              "      <td>3375.399614</td>\n",
              "      <td>3385.395354</td>\n",
              "      <td>-1</td>\n",
              "    </tr>\n",
              "    <tr>\n",
              "      <th>2022-01-26</th>\n",
              "      <td>2777.449951</td>\n",
              "      <td>3360.445615</td>\n",
              "      <td>3382.282604</td>\n",
              "      <td>-1</td>\n",
              "    </tr>\n",
              "    <tr>\n",
              "      <th>2022-01-27</th>\n",
              "      <td>2792.750000</td>\n",
              "      <td>3345.387017</td>\n",
              "      <td>3379.581354</td>\n",
              "      <td>-1</td>\n",
              "    </tr>\n",
              "    <tr>\n",
              "      <th>2022-01-28</th>\n",
              "      <td>2879.560059</td>\n",
              "      <td>3332.164219</td>\n",
              "      <td>3377.083704</td>\n",
              "      <td>-1</td>\n",
              "    </tr>\n",
              "  </tbody>\n",
              "</table>\n",
              "<p>3935 rows × 4 columns</p>\n",
              "</div>\n",
              "      <button class=\"colab-df-convert\" onclick=\"convertToInteractive('df-75419787-173b-4120-8825-f5d19462582c')\"\n",
              "              title=\"Convert this dataframe to an interactive table.\"\n",
              "              style=\"display:none;\">\n",
              "        \n",
              "  <svg xmlns=\"http://www.w3.org/2000/svg\" height=\"24px\"viewBox=\"0 0 24 24\"\n",
              "       width=\"24px\">\n",
              "    <path d=\"M0 0h24v24H0V0z\" fill=\"none\"/>\n",
              "    <path d=\"M18.56 5.44l.94 2.06.94-2.06 2.06-.94-2.06-.94-.94-2.06-.94 2.06-2.06.94zm-11 1L8.5 8.5l.94-2.06 2.06-.94-2.06-.94L8.5 2.5l-.94 2.06-2.06.94zm10 10l.94 2.06.94-2.06 2.06-.94-2.06-.94-.94-2.06-.94 2.06-2.06.94z\"/><path d=\"M17.41 7.96l-1.37-1.37c-.4-.4-.92-.59-1.43-.59-.52 0-1.04.2-1.43.59L10.3 9.45l-7.72 7.72c-.78.78-.78 2.05 0 2.83L4 21.41c.39.39.9.59 1.41.59.51 0 1.02-.2 1.41-.59l7.78-7.78 2.81-2.81c.8-.78.8-2.07 0-2.86zM5.41 20L4 18.59l7.72-7.72 1.47 1.35L5.41 20z\"/>\n",
              "  </svg>\n",
              "      </button>\n",
              "      \n",
              "  <style>\n",
              "    .colab-df-container {\n",
              "      display:flex;\n",
              "      flex-wrap:wrap;\n",
              "      gap: 12px;\n",
              "    }\n",
              "\n",
              "    .colab-df-convert {\n",
              "      background-color: #E8F0FE;\n",
              "      border: none;\n",
              "      border-radius: 50%;\n",
              "      cursor: pointer;\n",
              "      display: none;\n",
              "      fill: #1967D2;\n",
              "      height: 32px;\n",
              "      padding: 0 0 0 0;\n",
              "      width: 32px;\n",
              "    }\n",
              "\n",
              "    .colab-df-convert:hover {\n",
              "      background-color: #E2EBFA;\n",
              "      box-shadow: 0px 1px 2px rgba(60, 64, 67, 0.3), 0px 1px 3px 1px rgba(60, 64, 67, 0.15);\n",
              "      fill: #174EA6;\n",
              "    }\n",
              "\n",
              "    [theme=dark] .colab-df-convert {\n",
              "      background-color: #3B4455;\n",
              "      fill: #D2E3FC;\n",
              "    }\n",
              "\n",
              "    [theme=dark] .colab-df-convert:hover {\n",
              "      background-color: #434B5C;\n",
              "      box-shadow: 0px 1px 3px 1px rgba(0, 0, 0, 0.15);\n",
              "      filter: drop-shadow(0px 1px 2px rgba(0, 0, 0, 0.3));\n",
              "      fill: #FFFFFF;\n",
              "    }\n",
              "  </style>\n",
              "\n",
              "      <script>\n",
              "        const buttonEl =\n",
              "          document.querySelector('#df-75419787-173b-4120-8825-f5d19462582c button.colab-df-convert');\n",
              "        buttonEl.style.display =\n",
              "          google.colab.kernel.accessAllowed ? 'block' : 'none';\n",
              "\n",
              "        async function convertToInteractive(key) {\n",
              "          const element = document.querySelector('#df-75419787-173b-4120-8825-f5d19462582c');\n",
              "          const dataTable =\n",
              "            await google.colab.kernel.invokeFunction('convertToInteractive',\n",
              "                                                     [key], {});\n",
              "          if (!dataTable) return;\n",
              "\n",
              "          const docLinkHtml = 'Like what you see? Visit the ' +\n",
              "            '<a target=\"_blank\" href=https://colab.research.google.com/notebooks/data_table.ipynb>data table notebook</a>'\n",
              "            + ' to learn more about interactive tables.';\n",
              "          element.innerHTML = '';\n",
              "          dataTable['output_type'] = 'display_data';\n",
              "          await google.colab.output.renderOutput(dataTable, element);\n",
              "          const docLink = document.createElement('div');\n",
              "          docLink.innerHTML = docLinkHtml;\n",
              "          element.appendChild(docLink);\n",
              "        }\n",
              "      </script>\n",
              "    </div>\n",
              "  </div>\n",
              "  "
            ],
            "text/plain": [
              "                   AMZN        SMA_S        SMA_L  position\n",
              "Date                                                       \n",
              "2006-06-14    33.680000    34.868400    40.849200        -1\n",
              "2006-06-15    34.959999    34.832200    40.810050        -1\n",
              "2006-06-16    35.090000    34.787200    40.773050        -1\n",
              "2006-06-19    35.070000    34.718400    40.734900        -1\n",
              "2006-06-20    35.480000    34.686200    40.703100        -1\n",
              "...                 ...          ...          ...       ...\n",
              "2022-01-24  2890.879883  3388.855215  3388.293704         1\n",
              "2022-01-25  2799.719971  3375.399614  3385.395354        -1\n",
              "2022-01-26  2777.449951  3360.445615  3382.282604        -1\n",
              "2022-01-27  2792.750000  3345.387017  3379.581354        -1\n",
              "2022-01-28  2879.560059  3332.164219  3377.083704        -1\n",
              "\n",
              "[3935 rows x 4 columns]"
            ]
          },
          "metadata": {},
          "execution_count": 153
        }
      ]
    },
    {
      "cell_type": "code",
      "source": [
        "df[\"returns\"] = np.log(df.AMZN.div(df.AMZN.shift(1)))\n",
        "df[\"strategy\"] = df.position.shift(1) * df[\"returns\"]\n",
        "df.dropna(inplace = True)\n",
        "df"
      ],
      "metadata": {
        "colab": {
          "base_uri": "https://localhost:8080/",
          "height": 973
        },
        "id": "Vtdt8xQYNNJw",
        "outputId": "9e0181d5-c4e9-423d-d864-63c12d6985a7"
      },
      "execution_count": null,
      "outputs": [
        {
          "output_type": "stream",
          "name": "stderr",
          "text": [
            "/usr/local/lib/python3.7/dist-packages/ipykernel_launcher.py:1: SettingWithCopyWarning: \n",
            "A value is trying to be set on a copy of a slice from a DataFrame.\n",
            "Try using .loc[row_indexer,col_indexer] = value instead\n",
            "\n",
            "See the caveats in the documentation: https://pandas.pydata.org/pandas-docs/stable/user_guide/indexing.html#returning-a-view-versus-a-copy\n",
            "  \"\"\"Entry point for launching an IPython kernel.\n",
            "/usr/local/lib/python3.7/dist-packages/ipykernel_launcher.py:2: SettingWithCopyWarning: \n",
            "A value is trying to be set on a copy of a slice from a DataFrame.\n",
            "Try using .loc[row_indexer,col_indexer] = value instead\n",
            "\n",
            "See the caveats in the documentation: https://pandas.pydata.org/pandas-docs/stable/user_guide/indexing.html#returning-a-view-versus-a-copy\n",
            "  \n",
            "/usr/local/lib/python3.7/dist-packages/ipykernel_launcher.py:3: SettingWithCopyWarning: \n",
            "A value is trying to be set on a copy of a slice from a DataFrame\n",
            "\n",
            "See the caveats in the documentation: https://pandas.pydata.org/pandas-docs/stable/user_guide/indexing.html#returning-a-view-versus-a-copy\n",
            "  This is separate from the ipykernel package so we can avoid doing imports until\n"
          ]
        },
        {
          "output_type": "execute_result",
          "data": {
            "text/html": [
              "\n",
              "  <div id=\"df-7cc37a7b-5cc3-4522-8853-c55807f4e7e4\">\n",
              "    <div class=\"colab-df-container\">\n",
              "      <div>\n",
              "<style scoped>\n",
              "    .dataframe tbody tr th:only-of-type {\n",
              "        vertical-align: middle;\n",
              "    }\n",
              "\n",
              "    .dataframe tbody tr th {\n",
              "        vertical-align: top;\n",
              "    }\n",
              "\n",
              "    .dataframe thead th {\n",
              "        text-align: right;\n",
              "    }\n",
              "</style>\n",
              "<table border=\"1\" class=\"dataframe\">\n",
              "  <thead>\n",
              "    <tr style=\"text-align: right;\">\n",
              "      <th></th>\n",
              "      <th>AMZN</th>\n",
              "      <th>SMA_S</th>\n",
              "      <th>SMA_L</th>\n",
              "      <th>position</th>\n",
              "      <th>returns</th>\n",
              "      <th>strategy</th>\n",
              "    </tr>\n",
              "    <tr>\n",
              "      <th>Date</th>\n",
              "      <th></th>\n",
              "      <th></th>\n",
              "      <th></th>\n",
              "      <th></th>\n",
              "      <th></th>\n",
              "      <th></th>\n",
              "    </tr>\n",
              "  </thead>\n",
              "  <tbody>\n",
              "    <tr>\n",
              "      <th>2006-06-15</th>\n",
              "      <td>34.959999</td>\n",
              "      <td>34.832200</td>\n",
              "      <td>40.810050</td>\n",
              "      <td>-1</td>\n",
              "      <td>0.037300</td>\n",
              "      <td>-0.037300</td>\n",
              "    </tr>\n",
              "    <tr>\n",
              "      <th>2006-06-16</th>\n",
              "      <td>35.090000</td>\n",
              "      <td>34.787200</td>\n",
              "      <td>40.773050</td>\n",
              "      <td>-1</td>\n",
              "      <td>0.003712</td>\n",
              "      <td>-0.003712</td>\n",
              "    </tr>\n",
              "    <tr>\n",
              "      <th>2006-06-19</th>\n",
              "      <td>35.070000</td>\n",
              "      <td>34.718400</td>\n",
              "      <td>40.734900</td>\n",
              "      <td>-1</td>\n",
              "      <td>-0.000570</td>\n",
              "      <td>0.000570</td>\n",
              "    </tr>\n",
              "    <tr>\n",
              "      <th>2006-06-20</th>\n",
              "      <td>35.480000</td>\n",
              "      <td>34.686200</td>\n",
              "      <td>40.703100</td>\n",
              "      <td>-1</td>\n",
              "      <td>0.011623</td>\n",
              "      <td>-0.011623</td>\n",
              "    </tr>\n",
              "    <tr>\n",
              "      <th>2006-06-21</th>\n",
              "      <td>36.650002</td>\n",
              "      <td>34.687000</td>\n",
              "      <td>40.678800</td>\n",
              "      <td>-1</td>\n",
              "      <td>0.032444</td>\n",
              "      <td>-0.032444</td>\n",
              "    </tr>\n",
              "    <tr>\n",
              "      <th>...</th>\n",
              "      <td>...</td>\n",
              "      <td>...</td>\n",
              "      <td>...</td>\n",
              "      <td>...</td>\n",
              "      <td>...</td>\n",
              "      <td>...</td>\n",
              "    </tr>\n",
              "    <tr>\n",
              "      <th>2022-01-24</th>\n",
              "      <td>2890.879883</td>\n",
              "      <td>3388.855215</td>\n",
              "      <td>3388.293704</td>\n",
              "      <td>1</td>\n",
              "      <td>0.013239</td>\n",
              "      <td>0.013239</td>\n",
              "    </tr>\n",
              "    <tr>\n",
              "      <th>2022-01-25</th>\n",
              "      <td>2799.719971</td>\n",
              "      <td>3375.399614</td>\n",
              "      <td>3385.395354</td>\n",
              "      <td>-1</td>\n",
              "      <td>-0.032042</td>\n",
              "      <td>-0.032042</td>\n",
              "    </tr>\n",
              "    <tr>\n",
              "      <th>2022-01-26</th>\n",
              "      <td>2777.449951</td>\n",
              "      <td>3360.445615</td>\n",
              "      <td>3382.282604</td>\n",
              "      <td>-1</td>\n",
              "      <td>-0.007986</td>\n",
              "      <td>0.007986</td>\n",
              "    </tr>\n",
              "    <tr>\n",
              "      <th>2022-01-27</th>\n",
              "      <td>2792.750000</td>\n",
              "      <td>3345.387017</td>\n",
              "      <td>3379.581354</td>\n",
              "      <td>-1</td>\n",
              "      <td>0.005494</td>\n",
              "      <td>-0.005494</td>\n",
              "    </tr>\n",
              "    <tr>\n",
              "      <th>2022-01-28</th>\n",
              "      <td>2879.560059</td>\n",
              "      <td>3332.164219</td>\n",
              "      <td>3377.083704</td>\n",
              "      <td>-1</td>\n",
              "      <td>0.030611</td>\n",
              "      <td>-0.030611</td>\n",
              "    </tr>\n",
              "  </tbody>\n",
              "</table>\n",
              "<p>3934 rows × 6 columns</p>\n",
              "</div>\n",
              "      <button class=\"colab-df-convert\" onclick=\"convertToInteractive('df-7cc37a7b-5cc3-4522-8853-c55807f4e7e4')\"\n",
              "              title=\"Convert this dataframe to an interactive table.\"\n",
              "              style=\"display:none;\">\n",
              "        \n",
              "  <svg xmlns=\"http://www.w3.org/2000/svg\" height=\"24px\"viewBox=\"0 0 24 24\"\n",
              "       width=\"24px\">\n",
              "    <path d=\"M0 0h24v24H0V0z\" fill=\"none\"/>\n",
              "    <path d=\"M18.56 5.44l.94 2.06.94-2.06 2.06-.94-2.06-.94-.94-2.06-.94 2.06-2.06.94zm-11 1L8.5 8.5l.94-2.06 2.06-.94-2.06-.94L8.5 2.5l-.94 2.06-2.06.94zm10 10l.94 2.06.94-2.06 2.06-.94-2.06-.94-.94-2.06-.94 2.06-2.06.94z\"/><path d=\"M17.41 7.96l-1.37-1.37c-.4-.4-.92-.59-1.43-.59-.52 0-1.04.2-1.43.59L10.3 9.45l-7.72 7.72c-.78.78-.78 2.05 0 2.83L4 21.41c.39.39.9.59 1.41.59.51 0 1.02-.2 1.41-.59l7.78-7.78 2.81-2.81c.8-.78.8-2.07 0-2.86zM5.41 20L4 18.59l7.72-7.72 1.47 1.35L5.41 20z\"/>\n",
              "  </svg>\n",
              "      </button>\n",
              "      \n",
              "  <style>\n",
              "    .colab-df-container {\n",
              "      display:flex;\n",
              "      flex-wrap:wrap;\n",
              "      gap: 12px;\n",
              "    }\n",
              "\n",
              "    .colab-df-convert {\n",
              "      background-color: #E8F0FE;\n",
              "      border: none;\n",
              "      border-radius: 50%;\n",
              "      cursor: pointer;\n",
              "      display: none;\n",
              "      fill: #1967D2;\n",
              "      height: 32px;\n",
              "      padding: 0 0 0 0;\n",
              "      width: 32px;\n",
              "    }\n",
              "\n",
              "    .colab-df-convert:hover {\n",
              "      background-color: #E2EBFA;\n",
              "      box-shadow: 0px 1px 2px rgba(60, 64, 67, 0.3), 0px 1px 3px 1px rgba(60, 64, 67, 0.15);\n",
              "      fill: #174EA6;\n",
              "    }\n",
              "\n",
              "    [theme=dark] .colab-df-convert {\n",
              "      background-color: #3B4455;\n",
              "      fill: #D2E3FC;\n",
              "    }\n",
              "\n",
              "    [theme=dark] .colab-df-convert:hover {\n",
              "      background-color: #434B5C;\n",
              "      box-shadow: 0px 1px 3px 1px rgba(0, 0, 0, 0.15);\n",
              "      filter: drop-shadow(0px 1px 2px rgba(0, 0, 0, 0.3));\n",
              "      fill: #FFFFFF;\n",
              "    }\n",
              "  </style>\n",
              "\n",
              "      <script>\n",
              "        const buttonEl =\n",
              "          document.querySelector('#df-7cc37a7b-5cc3-4522-8853-c55807f4e7e4 button.colab-df-convert');\n",
              "        buttonEl.style.display =\n",
              "          google.colab.kernel.accessAllowed ? 'block' : 'none';\n",
              "\n",
              "        async function convertToInteractive(key) {\n",
              "          const element = document.querySelector('#df-7cc37a7b-5cc3-4522-8853-c55807f4e7e4');\n",
              "          const dataTable =\n",
              "            await google.colab.kernel.invokeFunction('convertToInteractive',\n",
              "                                                     [key], {});\n",
              "          if (!dataTable) return;\n",
              "\n",
              "          const docLinkHtml = 'Like what you see? Visit the ' +\n",
              "            '<a target=\"_blank\" href=https://colab.research.google.com/notebooks/data_table.ipynb>data table notebook</a>'\n",
              "            + ' to learn more about interactive tables.';\n",
              "          element.innerHTML = '';\n",
              "          dataTable['output_type'] = 'display_data';\n",
              "          await google.colab.output.renderOutput(dataTable, element);\n",
              "          const docLink = document.createElement('div');\n",
              "          docLink.innerHTML = docLinkHtml;\n",
              "          element.appendChild(docLink);\n",
              "        }\n",
              "      </script>\n",
              "    </div>\n",
              "  </div>\n",
              "  "
            ],
            "text/plain": [
              "                   AMZN        SMA_S        SMA_L  position   returns  strategy\n",
              "Date                                                                           \n",
              "2006-06-15    34.959999    34.832200    40.810050        -1  0.037300 -0.037300\n",
              "2006-06-16    35.090000    34.787200    40.773050        -1  0.003712 -0.003712\n",
              "2006-06-19    35.070000    34.718400    40.734900        -1 -0.000570  0.000570\n",
              "2006-06-20    35.480000    34.686200    40.703100        -1  0.011623 -0.011623\n",
              "2006-06-21    36.650002    34.687000    40.678800        -1  0.032444 -0.032444\n",
              "...                 ...          ...          ...       ...       ...       ...\n",
              "2022-01-24  2890.879883  3388.855215  3388.293704         1  0.013239  0.013239\n",
              "2022-01-25  2799.719971  3375.399614  3385.395354        -1 -0.032042 -0.032042\n",
              "2022-01-26  2777.449951  3360.445615  3382.282604        -1 -0.007986  0.007986\n",
              "2022-01-27  2792.750000  3345.387017  3379.581354        -1  0.005494 -0.005494\n",
              "2022-01-28  2879.560059  3332.164219  3377.083704        -1  0.030611 -0.030611\n",
              "\n",
              "[3934 rows x 6 columns]"
            ]
          },
          "metadata": {},
          "execution_count": 154
        }
      ]
    },
    {
      "cell_type": "code",
      "source": [
        "df[[\"returns\", \"strategy\"]].sum() # absolute performance"
      ],
      "metadata": {
        "colab": {
          "base_uri": "https://localhost:8080/"
        },
        "id": "KIr-HNxbNj7R",
        "outputId": "c31ce47c-85af-4e9c-fffe-e95b98766901"
      },
      "execution_count": null,
      "outputs": [
        {
          "output_type": "execute_result",
          "data": {
            "text/plain": [
              "returns     4.448489\n",
              "strategy    0.836515\n",
              "dtype: float64"
            ]
          },
          "metadata": {},
          "execution_count": 155
        }
      ]
    },
    {
      "cell_type": "code",
      "source": [
        "df[[\"returns\", \"strategy\"]].sum().apply(np.exp) # absolute performance"
      ],
      "metadata": {
        "colab": {
          "base_uri": "https://localhost:8080/"
        },
        "id": "utaVg3eINkeo",
        "outputId": "ff990ac1-25ed-4e8f-fc9c-7fd6c40588a2"
      },
      "execution_count": null,
      "outputs": [
        {
          "output_type": "execute_result",
          "data": {
            "text/plain": [
              "returns     85.497626\n",
              "strategy     2.308309\n",
              "dtype: float64"
            ]
          },
          "metadata": {},
          "execution_count": 156
        }
      ]
    },
    {
      "cell_type": "code",
      "source": [
        "df[[\"returns\", \"strategy\"]].mean() * 252 # annualized return"
      ],
      "metadata": {
        "colab": {
          "base_uri": "https://localhost:8080/"
        },
        "id": "XHSvtKVYNnC-",
        "outputId": "5a7805a2-8b89-41a6-fe2e-c6c5bcd4e667"
      },
      "execution_count": null,
      "outputs": [
        {
          "output_type": "execute_result",
          "data": {
            "text/plain": [
              "returns     0.284957\n",
              "strategy    0.053585\n",
              "dtype: float64"
            ]
          },
          "metadata": {},
          "execution_count": 157
        }
      ]
    },
    {
      "cell_type": "code",
      "source": [
        "df[[\"returns\", \"strategy\"]].std() * np.sqrt(252) # annualized risk"
      ],
      "metadata": {
        "colab": {
          "base_uri": "https://localhost:8080/"
        },
        "id": "_ZA6R80iNrSY",
        "outputId": "2d456990-2aa3-4ee6-c5e7-efd9cc5b5a79"
      },
      "execution_count": null,
      "outputs": [
        {
          "output_type": "execute_result",
          "data": {
            "text/plain": [
              "returns     0.377693\n",
              "strategy    0.378104\n",
              "dtype: float64"
            ]
          },
          "metadata": {},
          "execution_count": 158
        }
      ]
    },
    {
      "cell_type": "code",
      "source": [
        "df[\"creturns\"] = df[\"returns\"].cumsum().apply(np.exp)\n",
        "df[\"cstrategy\"] = df[\"strategy\"].cumsum().apply(np.exp)\n",
        "df"
      ],
      "metadata": {
        "colab": {
          "base_uri": "https://localhost:8080/",
          "height": 888
        },
        "id": "CCfCOZvhOMWm",
        "outputId": "19c3a633-8f7c-4d85-a18e-1661048e9299"
      },
      "execution_count": null,
      "outputs": [
        {
          "output_type": "stream",
          "name": "stderr",
          "text": [
            "/usr/local/lib/python3.7/dist-packages/ipykernel_launcher.py:1: SettingWithCopyWarning: \n",
            "A value is trying to be set on a copy of a slice from a DataFrame.\n",
            "Try using .loc[row_indexer,col_indexer] = value instead\n",
            "\n",
            "See the caveats in the documentation: https://pandas.pydata.org/pandas-docs/stable/user_guide/indexing.html#returning-a-view-versus-a-copy\n",
            "  \"\"\"Entry point for launching an IPython kernel.\n",
            "/usr/local/lib/python3.7/dist-packages/ipykernel_launcher.py:2: SettingWithCopyWarning: \n",
            "A value is trying to be set on a copy of a slice from a DataFrame.\n",
            "Try using .loc[row_indexer,col_indexer] = value instead\n",
            "\n",
            "See the caveats in the documentation: https://pandas.pydata.org/pandas-docs/stable/user_guide/indexing.html#returning-a-view-versus-a-copy\n",
            "  \n"
          ]
        },
        {
          "output_type": "execute_result",
          "data": {
            "text/html": [
              "\n",
              "  <div id=\"df-6cc19505-0e01-4b3c-b67f-86e39063f866\">\n",
              "    <div class=\"colab-df-container\">\n",
              "      <div>\n",
              "<style scoped>\n",
              "    .dataframe tbody tr th:only-of-type {\n",
              "        vertical-align: middle;\n",
              "    }\n",
              "\n",
              "    .dataframe tbody tr th {\n",
              "        vertical-align: top;\n",
              "    }\n",
              "\n",
              "    .dataframe thead th {\n",
              "        text-align: right;\n",
              "    }\n",
              "</style>\n",
              "<table border=\"1\" class=\"dataframe\">\n",
              "  <thead>\n",
              "    <tr style=\"text-align: right;\">\n",
              "      <th></th>\n",
              "      <th>AMZN</th>\n",
              "      <th>SMA_S</th>\n",
              "      <th>SMA_L</th>\n",
              "      <th>position</th>\n",
              "      <th>returns</th>\n",
              "      <th>strategy</th>\n",
              "      <th>creturns</th>\n",
              "      <th>cstrategy</th>\n",
              "    </tr>\n",
              "    <tr>\n",
              "      <th>Date</th>\n",
              "      <th></th>\n",
              "      <th></th>\n",
              "      <th></th>\n",
              "      <th></th>\n",
              "      <th></th>\n",
              "      <th></th>\n",
              "      <th></th>\n",
              "      <th></th>\n",
              "    </tr>\n",
              "  </thead>\n",
              "  <tbody>\n",
              "    <tr>\n",
              "      <th>2006-06-15</th>\n",
              "      <td>34.959999</td>\n",
              "      <td>34.832200</td>\n",
              "      <td>40.810050</td>\n",
              "      <td>-1</td>\n",
              "      <td>0.037300</td>\n",
              "      <td>-0.037300</td>\n",
              "      <td>1.038005</td>\n",
              "      <td>0.963387</td>\n",
              "    </tr>\n",
              "    <tr>\n",
              "      <th>2006-06-16</th>\n",
              "      <td>35.090000</td>\n",
              "      <td>34.787200</td>\n",
              "      <td>40.773050</td>\n",
              "      <td>-1</td>\n",
              "      <td>0.003712</td>\n",
              "      <td>-0.003712</td>\n",
              "      <td>1.041865</td>\n",
              "      <td>0.959818</td>\n",
              "    </tr>\n",
              "    <tr>\n",
              "      <th>2006-06-19</th>\n",
              "      <td>35.070000</td>\n",
              "      <td>34.718400</td>\n",
              "      <td>40.734900</td>\n",
              "      <td>-1</td>\n",
              "      <td>-0.000570</td>\n",
              "      <td>0.000570</td>\n",
              "      <td>1.041271</td>\n",
              "      <td>0.960365</td>\n",
              "    </tr>\n",
              "    <tr>\n",
              "      <th>2006-06-20</th>\n",
              "      <td>35.480000</td>\n",
              "      <td>34.686200</td>\n",
              "      <td>40.703100</td>\n",
              "      <td>-1</td>\n",
              "      <td>0.011623</td>\n",
              "      <td>-0.011623</td>\n",
              "      <td>1.053444</td>\n",
              "      <td>0.949267</td>\n",
              "    </tr>\n",
              "    <tr>\n",
              "      <th>2006-06-21</th>\n",
              "      <td>36.650002</td>\n",
              "      <td>34.687000</td>\n",
              "      <td>40.678800</td>\n",
              "      <td>-1</td>\n",
              "      <td>0.032444</td>\n",
              "      <td>-0.032444</td>\n",
              "      <td>1.088183</td>\n",
              "      <td>0.918963</td>\n",
              "    </tr>\n",
              "    <tr>\n",
              "      <th>...</th>\n",
              "      <td>...</td>\n",
              "      <td>...</td>\n",
              "      <td>...</td>\n",
              "      <td>...</td>\n",
              "      <td>...</td>\n",
              "      <td>...</td>\n",
              "      <td>...</td>\n",
              "      <td>...</td>\n",
              "    </tr>\n",
              "    <tr>\n",
              "      <th>2022-01-24</th>\n",
              "      <td>2890.879883</td>\n",
              "      <td>3388.855215</td>\n",
              "      <td>3388.293704</td>\n",
              "      <td>1</td>\n",
              "      <td>0.013239</td>\n",
              "      <td>0.013239</td>\n",
              "      <td>85.833725</td>\n",
              "      <td>2.451439</td>\n",
              "    </tr>\n",
              "    <tr>\n",
              "      <th>2022-01-25</th>\n",
              "      <td>2799.719971</td>\n",
              "      <td>3375.399614</td>\n",
              "      <td>3385.395354</td>\n",
              "      <td>-1</td>\n",
              "      <td>-0.032042</td>\n",
              "      <td>-0.032042</td>\n",
              "      <td>83.127077</td>\n",
              "      <td>2.374136</td>\n",
              "    </tr>\n",
              "    <tr>\n",
              "      <th>2022-01-26</th>\n",
              "      <td>2777.449951</td>\n",
              "      <td>3360.445615</td>\n",
              "      <td>3382.282604</td>\n",
              "      <td>-1</td>\n",
              "      <td>-0.007986</td>\n",
              "      <td>0.007986</td>\n",
              "      <td>82.465853</td>\n",
              "      <td>2.393172</td>\n",
              "    </tr>\n",
              "    <tr>\n",
              "      <th>2022-01-27</th>\n",
              "      <td>2792.750000</td>\n",
              "      <td>3345.387017</td>\n",
              "      <td>3379.581354</td>\n",
              "      <td>-1</td>\n",
              "      <td>0.005494</td>\n",
              "      <td>-0.005494</td>\n",
              "      <td>82.920130</td>\n",
              "      <td>2.380061</td>\n",
              "    </tr>\n",
              "    <tr>\n",
              "      <th>2022-01-28</th>\n",
              "      <td>2879.560059</td>\n",
              "      <td>3332.164219</td>\n",
              "      <td>3377.083704</td>\n",
              "      <td>-1</td>\n",
              "      <td>0.030611</td>\n",
              "      <td>-0.030611</td>\n",
              "      <td>85.497626</td>\n",
              "      <td>2.308309</td>\n",
              "    </tr>\n",
              "  </tbody>\n",
              "</table>\n",
              "<p>3934 rows × 8 columns</p>\n",
              "</div>\n",
              "      <button class=\"colab-df-convert\" onclick=\"convertToInteractive('df-6cc19505-0e01-4b3c-b67f-86e39063f866')\"\n",
              "              title=\"Convert this dataframe to an interactive table.\"\n",
              "              style=\"display:none;\">\n",
              "        \n",
              "  <svg xmlns=\"http://www.w3.org/2000/svg\" height=\"24px\"viewBox=\"0 0 24 24\"\n",
              "       width=\"24px\">\n",
              "    <path d=\"M0 0h24v24H0V0z\" fill=\"none\"/>\n",
              "    <path d=\"M18.56 5.44l.94 2.06.94-2.06 2.06-.94-2.06-.94-.94-2.06-.94 2.06-2.06.94zm-11 1L8.5 8.5l.94-2.06 2.06-.94-2.06-.94L8.5 2.5l-.94 2.06-2.06.94zm10 10l.94 2.06.94-2.06 2.06-.94-2.06-.94-.94-2.06-.94 2.06-2.06.94z\"/><path d=\"M17.41 7.96l-1.37-1.37c-.4-.4-.92-.59-1.43-.59-.52 0-1.04.2-1.43.59L10.3 9.45l-7.72 7.72c-.78.78-.78 2.05 0 2.83L4 21.41c.39.39.9.59 1.41.59.51 0 1.02-.2 1.41-.59l7.78-7.78 2.81-2.81c.8-.78.8-2.07 0-2.86zM5.41 20L4 18.59l7.72-7.72 1.47 1.35L5.41 20z\"/>\n",
              "  </svg>\n",
              "      </button>\n",
              "      \n",
              "  <style>\n",
              "    .colab-df-container {\n",
              "      display:flex;\n",
              "      flex-wrap:wrap;\n",
              "      gap: 12px;\n",
              "    }\n",
              "\n",
              "    .colab-df-convert {\n",
              "      background-color: #E8F0FE;\n",
              "      border: none;\n",
              "      border-radius: 50%;\n",
              "      cursor: pointer;\n",
              "      display: none;\n",
              "      fill: #1967D2;\n",
              "      height: 32px;\n",
              "      padding: 0 0 0 0;\n",
              "      width: 32px;\n",
              "    }\n",
              "\n",
              "    .colab-df-convert:hover {\n",
              "      background-color: #E2EBFA;\n",
              "      box-shadow: 0px 1px 2px rgba(60, 64, 67, 0.3), 0px 1px 3px 1px rgba(60, 64, 67, 0.15);\n",
              "      fill: #174EA6;\n",
              "    }\n",
              "\n",
              "    [theme=dark] .colab-df-convert {\n",
              "      background-color: #3B4455;\n",
              "      fill: #D2E3FC;\n",
              "    }\n",
              "\n",
              "    [theme=dark] .colab-df-convert:hover {\n",
              "      background-color: #434B5C;\n",
              "      box-shadow: 0px 1px 3px 1px rgba(0, 0, 0, 0.15);\n",
              "      filter: drop-shadow(0px 1px 2px rgba(0, 0, 0, 0.3));\n",
              "      fill: #FFFFFF;\n",
              "    }\n",
              "  </style>\n",
              "\n",
              "      <script>\n",
              "        const buttonEl =\n",
              "          document.querySelector('#df-6cc19505-0e01-4b3c-b67f-86e39063f866 button.colab-df-convert');\n",
              "        buttonEl.style.display =\n",
              "          google.colab.kernel.accessAllowed ? 'block' : 'none';\n",
              "\n",
              "        async function convertToInteractive(key) {\n",
              "          const element = document.querySelector('#df-6cc19505-0e01-4b3c-b67f-86e39063f866');\n",
              "          const dataTable =\n",
              "            await google.colab.kernel.invokeFunction('convertToInteractive',\n",
              "                                                     [key], {});\n",
              "          if (!dataTable) return;\n",
              "\n",
              "          const docLinkHtml = 'Like what you see? Visit the ' +\n",
              "            '<a target=\"_blank\" href=https://colab.research.google.com/notebooks/data_table.ipynb>data table notebook</a>'\n",
              "            + ' to learn more about interactive tables.';\n",
              "          element.innerHTML = '';\n",
              "          dataTable['output_type'] = 'display_data';\n",
              "          await google.colab.output.renderOutput(dataTable, element);\n",
              "          const docLink = document.createElement('div');\n",
              "          docLink.innerHTML = docLinkHtml;\n",
              "          element.appendChild(docLink);\n",
              "        }\n",
              "      </script>\n",
              "    </div>\n",
              "  </div>\n",
              "  "
            ],
            "text/plain": [
              "                   AMZN        SMA_S  ...   creturns  cstrategy\n",
              "Date                                  ...                      \n",
              "2006-06-15    34.959999    34.832200  ...   1.038005   0.963387\n",
              "2006-06-16    35.090000    34.787200  ...   1.041865   0.959818\n",
              "2006-06-19    35.070000    34.718400  ...   1.041271   0.960365\n",
              "2006-06-20    35.480000    34.686200  ...   1.053444   0.949267\n",
              "2006-06-21    36.650002    34.687000  ...   1.088183   0.918963\n",
              "...                 ...          ...  ...        ...        ...\n",
              "2022-01-24  2890.879883  3388.855215  ...  85.833725   2.451439\n",
              "2022-01-25  2799.719971  3375.399614  ...  83.127077   2.374136\n",
              "2022-01-26  2777.449951  3360.445615  ...  82.465853   2.393172\n",
              "2022-01-27  2792.750000  3345.387017  ...  82.920130   2.380061\n",
              "2022-01-28  2879.560059  3332.164219  ...  85.497626   2.308309\n",
              "\n",
              "[3934 rows x 8 columns]"
            ]
          },
          "metadata": {},
          "execution_count": 159
        }
      ]
    },
    {
      "cell_type": "code",
      "source": [
        "df[[\"creturns\", \"cstrategy\"]].plot(figsize = (12, 8), title = \"AMZN - SMA{} | SMA{}\".format(sma_s, sma_l), fontsize = 12)\n",
        "plt.legend(fontsize = 12)\n",
        "plt.show()"
      ],
      "metadata": {
        "colab": {
          "base_uri": "https://localhost:8080/",
          "height": 54
        },
        "id": "t_vFsdkdOPAp",
        "outputId": "9142c179-0df7-4144-97a0-183dff03d86f"
      },
      "execution_count": null,
      "outputs": [
        {
          "output_type": "display_data",
          "data": {
            "image/png": "[encoded data removed]",
            "text/plain": [
              "<Figure size 864x576 with 1 Axes>"
            ]
          },
          "metadata": {}
        }
      ]
    },
    {
      "cell_type": "code",
      "source": [
        "outperf = df.cstrategy.iloc[-1] - df.creturns.iloc[-1]\n",
        "outperf"
      ],
      "metadata": {
        "colab": {
          "base_uri": "https://localhost:8080/"
        },
        "id": "pNyW1K0KOQ71",
        "outputId": "f6105c93-78cf-4145-c614-97599f34db09"
      },
      "execution_count": null,
      "outputs": [
        {
          "output_type": "execute_result",
          "data": {
            "text/plain": [
              "-83.18931623461825"
            ]
          },
          "metadata": {},
          "execution_count": 161
        }
      ]
    },
    {
      "cell_type": "code",
      "source": [
        ""
      ],
      "metadata": {
        "id": "ipy7LDXV2rz3"
      },
      "execution_count": null,
      "outputs": []
    },
    {
      "cell_type": "markdown",
      "source": [
        "#Optimizing SMA"
      ],
      "metadata": {
        "id": "NKVk4azz2tgc"
      }
    },
    {
      "cell_type": "code",
      "source": [
        "df = cl_price.iloc[: , :1]\n",
        "df"
      ],
      "metadata": {
        "colab": {
          "base_uri": "https://localhost:8080/",
          "height": 450
        },
        "id": "4nyfILEx2wNQ",
        "outputId": "de031be6-fa22-4e5a-f87b-b07a5b8e1749"
      },
      "execution_count": null,
      "outputs": [
        {
          "output_type": "execute_result",
          "data": {
            "text/html": [
              "\n",
              "  <div id=\"df-4bfdad87-5921-47b2-bb57-a0a4b279d01f\">\n",
              "    <div class=\"colab-df-container\">\n",
              "      <div>\n",
              "<style scoped>\n",
              "    .dataframe tbody tr th:only-of-type {\n",
              "        vertical-align: middle;\n",
              "    }\n",
              "\n",
              "    .dataframe tbody tr th {\n",
              "        vertical-align: top;\n",
              "    }\n",
              "\n",
              "    .dataframe thead th {\n",
              "        text-align: right;\n",
              "    }\n",
              "</style>\n",
              "<table border=\"1\" class=\"dataframe\">\n",
              "  <thead>\n",
              "    <tr style=\"text-align: right;\">\n",
              "      <th></th>\n",
              "      <th>AMZN</th>\n",
              "    </tr>\n",
              "    <tr>\n",
              "      <th>Date</th>\n",
              "      <th></th>\n",
              "    </tr>\n",
              "  </thead>\n",
              "  <tbody>\n",
              "    <tr>\n",
              "      <th>2005-08-29</th>\n",
              "      <td>42.790001</td>\n",
              "    </tr>\n",
              "    <tr>\n",
              "      <th>2005-08-30</th>\n",
              "      <td>42.490002</td>\n",
              "    </tr>\n",
              "    <tr>\n",
              "      <th>2005-08-31</th>\n",
              "      <td>42.700001</td>\n",
              "    </tr>\n",
              "    <tr>\n",
              "      <th>2005-09-01</th>\n",
              "      <td>41.840000</td>\n",
              "    </tr>\n",
              "    <tr>\n",
              "      <th>2005-09-02</th>\n",
              "      <td>41.509998</td>\n",
              "    </tr>\n",
              "    <tr>\n",
              "      <th>...</th>\n",
              "      <td>...</td>\n",
              "    </tr>\n",
              "    <tr>\n",
              "      <th>2022-01-24</th>\n",
              "      <td>2890.879883</td>\n",
              "    </tr>\n",
              "    <tr>\n",
              "      <th>2022-01-25</th>\n",
              "      <td>2799.719971</td>\n",
              "    </tr>\n",
              "    <tr>\n",
              "      <th>2022-01-26</th>\n",
              "      <td>2777.449951</td>\n",
              "    </tr>\n",
              "    <tr>\n",
              "      <th>2022-01-27</th>\n",
              "      <td>2792.750000</td>\n",
              "    </tr>\n",
              "    <tr>\n",
              "      <th>2022-01-28</th>\n",
              "      <td>2879.560059</td>\n",
              "    </tr>\n",
              "  </tbody>\n",
              "</table>\n",
              "<p>4134 rows × 1 columns</p>\n",
              "</div>\n",
              "      <button class=\"colab-df-convert\" onclick=\"convertToInteractive('df-4bfdad87-5921-47b2-bb57-a0a4b279d01f')\"\n",
              "              title=\"Convert this dataframe to an interactive table.\"\n",
              "              style=\"display:none;\">\n",
              "        \n",
              "  <svg xmlns=\"http://www.w3.org/2000/svg\" height=\"24px\"viewBox=\"0 0 24 24\"\n",
              "       width=\"24px\">\n",
              "    <path d=\"M0 0h24v24H0V0z\" fill=\"none\"/>\n",
              "    <path d=\"M18.56 5.44l.94 2.06.94-2.06 2.06-.94-2.06-.94-.94-2.06-.94 2.06-2.06.94zm-11 1L8.5 8.5l.94-2.06 2.06-.94-2.06-.94L8.5 2.5l-.94 2.06-2.06.94zm10 10l.94 2.06.94-2.06 2.06-.94-2.06-.94-.94-2.06-.94 2.06-2.06.94z\"/><path d=\"M17.41 7.96l-1.37-1.37c-.4-.4-.92-.59-1.43-.59-.52 0-1.04.2-1.43.59L10.3 9.45l-7.72 7.72c-.78.78-.78 2.05 0 2.83L4 21.41c.39.39.9.59 1.41.59.51 0 1.02-.2 1.41-.59l7.78-7.78 2.81-2.81c.8-.78.8-2.07 0-2.86zM5.41 20L4 18.59l7.72-7.72 1.47 1.35L5.41 20z\"/>\n",
              "  </svg>\n",
              "      </button>\n",
              "      \n",
              "  <style>\n",
              "    .colab-df-container {\n",
              "      display:flex;\n",
              "      flex-wrap:wrap;\n",
              "      gap: 12px;\n",
              "    }\n",
              "\n",
              "    .colab-df-convert {\n",
              "      background-color: #E8F0FE;\n",
              "      border: none;\n",
              "      border-radius: 50%;\n",
              "      cursor: pointer;\n",
              "      display: none;\n",
              "      fill: #1967D2;\n",
              "      height: 32px;\n",
              "      padding: 0 0 0 0;\n",
              "      width: 32px;\n",
              "    }\n",
              "\n",
              "    .colab-df-convert:hover {\n",
              "      background-color: #E2EBFA;\n",
              "      box-shadow: 0px 1px 2px rgba(60, 64, 67, 0.3), 0px 1px 3px 1px rgba(60, 64, 67, 0.15);\n",
              "      fill: #174EA6;\n",
              "    }\n",
              "\n",
              "    [theme=dark] .colab-df-convert {\n",
              "      background-color: #3B4455;\n",
              "      fill: #D2E3FC;\n",
              "    }\n",
              "\n",
              "    [theme=dark] .colab-df-convert:hover {\n",
              "      background-color: #434B5C;\n",
              "      box-shadow: 0px 1px 3px 1px rgba(0, 0, 0, 0.15);\n",
              "      filter: drop-shadow(0px 1px 2px rgba(0, 0, 0, 0.3));\n",
              "      fill: #FFFFFF;\n",
              "    }\n",
              "  </style>\n",
              "\n",
              "      <script>\n",
              "        const buttonEl =\n",
              "          document.querySelector('#df-4bfdad87-5921-47b2-bb57-a0a4b279d01f button.colab-df-convert');\n",
              "        buttonEl.style.display =\n",
              "          google.colab.kernel.accessAllowed ? 'block' : 'none';\n",
              "\n",
              "        async function convertToInteractive(key) {\n",
              "          const element = document.querySelector('#df-4bfdad87-5921-47b2-bb57-a0a4b279d01f');\n",
              "          const dataTable =\n",
              "            await google.colab.kernel.invokeFunction('convertToInteractive',\n",
              "                                                     [key], {});\n",
              "          if (!dataTable) return;\n",
              "\n",
              "          const docLinkHtml = 'Like what you see? Visit the ' +\n",
              "            '<a target=\"_blank\" href=https://colab.research.google.com/notebooks/data_table.ipynb>data table notebook</a>'\n",
              "            + ' to learn more about interactive tables.';\n",
              "          element.innerHTML = '';\n",
              "          dataTable['output_type'] = 'display_data';\n",
              "          await google.colab.output.renderOutput(dataTable, element);\n",
              "          const docLink = document.createElement('div');\n",
              "          docLink.innerHTML = docLinkHtml;\n",
              "          element.appendChild(docLink);\n",
              "        }\n",
              "      </script>\n",
              "    </div>\n",
              "  </div>\n",
              "  "
            ],
            "text/plain": [
              "                   AMZN\n",
              "Date                   \n",
              "2005-08-29    42.790001\n",
              "2005-08-30    42.490002\n",
              "2005-08-31    42.700001\n",
              "2005-09-01    41.840000\n",
              "2005-09-02    41.509998\n",
              "...                 ...\n",
              "2022-01-24  2890.879883\n",
              "2022-01-25  2799.719971\n",
              "2022-01-26  2777.449951\n",
              "2022-01-27  2792.750000\n",
              "2022-01-28  2879.560059\n",
              "\n",
              "[4134 rows x 1 columns]"
            ]
          },
          "metadata": {},
          "execution_count": 162
        }
      ]
    },
    {
      "cell_type": "code",
      "source": [
        "def test_strategy(SMA):\n",
        "    data = df.copy()\n",
        "    data[\"returns\"] = np.log(data.AMZN.div(data.AMZN.shift(1)))\n",
        "    data[\"SMA_S\"] = data.AMZN.rolling(int(SMA[0])).mean()\n",
        "    data[\"SMA_L\"] = data.AMZN.rolling(int(SMA[1])).mean()\n",
        "    data.dropna(inplace = True)\n",
        "    \n",
        "    data[\"position\"] = np.where(data[\"SMA_S\"] > data[\"SMA_L\"], 1, -1)\n",
        "    data[\"strategy\"] = data.position.shift(1) * data[\"returns\"]\n",
        "    data.dropna(inplace = True)\n",
        "    \n",
        "    \n",
        "    return np.exp(data[\"strategy\"].sum())"
      ],
      "metadata": {
        "id": "VYXTOtYW4sZ1"
      },
      "execution_count": null,
      "outputs": []
    },
    {
      "cell_type": "code",
      "source": [
        "test_strategy((50, 200))"
      ],
      "metadata": {
        "colab": {
          "base_uri": "https://localhost:8080/"
        },
        "id": "ihhgIc-S4y16",
        "outputId": "038df2f1-3a95-4d97-bd22-6e3ba58e0f2a"
      },
      "execution_count": null,
      "outputs": [
        {
          "output_type": "execute_result",
          "data": {
            "text/plain": [
              "2.3083094334918455"
            ]
          },
          "metadata": {},
          "execution_count": 164
        }
      ]
    },
    {
      "cell_type": "code",
      "source": [
        "test_strategy((75, 150))"
      ],
      "metadata": {
        "colab": {
          "base_uri": "https://localhost:8080/"
        },
        "id": "PuadQzz7mZSt",
        "outputId": "55ba3e3f-8fb8-4fb4-d34c-a138e573c10c"
      },
      "execution_count": null,
      "outputs": [
        {
          "output_type": "execute_result",
          "data": {
            "text/plain": [
              "2.009963312940639"
            ]
          },
          "metadata": {},
          "execution_count": 166
        }
      ]
    },
    {
      "cell_type": "code",
      "source": [
        "test_strategy((25, 252))"
      ],
      "metadata": {
        "colab": {
          "base_uri": "https://localhost:8080/"
        },
        "id": "zOXVP_cjsGJR",
        "outputId": "0bba5885-f3d8-403b-8a9a-f7c9c2d202b7"
      },
      "execution_count": null,
      "outputs": [
        {
          "output_type": "execute_result",
          "data": {
            "text/plain": [
              "5.03072787402078"
            ]
          },
          "metadata": {},
          "execution_count": 167
        }
      ]
    },
    {
      "cell_type": "code",
      "source": [
        "SMA_S_range = range(10, 50, 1)\n",
        "SMA_L_range = range(100, 252, 1)"
      ],
      "metadata": {
        "id": "apHfrBeQsKew"
      },
      "execution_count": null,
      "outputs": []
    },
    {
      "cell_type": "code",
      "source": [
        "SMA_S_range"
      ],
      "metadata": {
        "colab": {
          "base_uri": "https://localhost:8080/"
        },
        "id": "Lvqr2058sPO7",
        "outputId": "cab1f8ee-3224-4fc4-cd3e-e156cee3ecb1"
      },
      "execution_count": null,
      "outputs": [
        {
          "output_type": "execute_result",
          "data": {
            "text/plain": [
              "range(10, 50)"
            ]
          },
          "metadata": {},
          "execution_count": 169
        }
      ]
    },
    {
      "cell_type": "code",
      "source": [
        "from itertools import product"
      ],
      "metadata": {
        "id": "SSk7X5PFsSjP"
      },
      "execution_count": null,
      "outputs": []
    },
    {
      "cell_type": "code",
      "source": [
        "list(product(SMA_S_range, SMA_L_range))"
      ],
      "metadata": {
        "id": "SPt7ScprsVum"
      },
      "execution_count": null,
      "outputs": []
    },
    {
      "cell_type": "code",
      "source": [
        "combinations = list(product(SMA_S_range, SMA_L_range))"
      ],
      "metadata": {
        "id": "Nj1Sy7nxsdVz"
      },
      "execution_count": null,
      "outputs": []
    },
    {
      "cell_type": "code",
      "source": [
        "len(combinations)"
      ],
      "metadata": {
        "colab": {
          "base_uri": "https://localhost:8080/"
        },
        "id": "jzkN8Jphsgbe",
        "outputId": "7f503df0-f1cf-464d-9039-9753e5454cd0"
      },
      "execution_count": null,
      "outputs": [
        {
          "output_type": "execute_result",
          "data": {
            "text/plain": [
              "6080"
            ]
          },
          "metadata": {},
          "execution_count": 173
        }
      ]
    },
    {
      "cell_type": "code",
      "source": [
        "(50-10) * (252-100)"
      ],
      "metadata": {
        "colab": {
          "base_uri": "https://localhost:8080/"
        },
        "id": "8m44ABoHsqmp",
        "outputId": "f0f292c8-4db4-468d-e614-f42027d8a125"
      },
      "execution_count": null,
      "outputs": [
        {
          "output_type": "execute_result",
          "data": {
            "text/plain": [
              "6080"
            ]
          },
          "metadata": {},
          "execution_count": 174
        }
      ]
    },
    {
      "cell_type": "code",
      "source": [
        "results = []\n",
        "for comb in combinations:\n",
        "    results.append(test_strategy(comb))"
      ],
      "metadata": {
        "id": "lnun8mFVss5c"
      },
      "execution_count": null,
      "outputs": []
    },
    {
      "cell_type": "code",
      "source": [
        "results"
      ],
      "metadata": {
        "id": "e3rNoH6EtHPV"
      },
      "execution_count": null,
      "outputs": []
    },
    {
      "cell_type": "code",
      "source": [
        "np.max(results)"
      ],
      "metadata": {
        "colab": {
          "base_uri": "https://localhost:8080/"
        },
        "id": "SplD1uT4tLLs",
        "outputId": "01245031-ae7a-49d4-d612-a7b2ae7b86c3"
      },
      "execution_count": null,
      "outputs": [
        {
          "output_type": "execute_result",
          "data": {
            "text/plain": [
              "19.35939325976673"
            ]
          },
          "metadata": {},
          "execution_count": 180
        }
      ]
    },
    {
      "cell_type": "code",
      "source": [
        "np.argmax(results)"
      ],
      "metadata": {
        "colab": {
          "base_uri": "https://localhost:8080/"
        },
        "id": "CJ5F-H_CtSUn",
        "outputId": "57954a9b-fd49-41a9-c28c-63cfd86b3798"
      },
      "execution_count": null,
      "outputs": [
        {
          "output_type": "execute_result",
          "data": {
            "text/plain": [
              "1496"
            ]
          },
          "metadata": {},
          "execution_count": 181
        }
      ]
    },
    {
      "cell_type": "code",
      "source": [
        "combinations[np.argmax(results)]"
      ],
      "metadata": {
        "colab": {
          "base_uri": "https://localhost:8080/"
        },
        "id": "VkCP4w00tYdK",
        "outputId": "190609a9-9b80-4d79-ac7b-df45b47e02f1"
      },
      "execution_count": null,
      "outputs": [
        {
          "output_type": "execute_result",
          "data": {
            "text/plain": [
              "(19, 228)"
            ]
          },
          "metadata": {},
          "execution_count": 182
        }
      ]
    },
    {
      "cell_type": "code",
      "source": [
        "many_results = pd.DataFrame(data = combinations, columns = [\"SMA_S\", \"SMA_L\"])\n",
        "many_results"
      ],
      "metadata": {
        "id": "HqBSDPnftkS2"
      },
      "execution_count": null,
      "outputs": []
    },
    {
      "cell_type": "code",
      "source": [
        "many_results[\"performance\"] = results"
      ],
      "metadata": {
        "id": "xfJBsWwKtnti"
      },
      "execution_count": null,
      "outputs": []
    },
    {
      "cell_type": "code",
      "source": [
        "many_results.nlargest(10, \"performance\")"
      ],
      "metadata": {
        "colab": {
          "base_uri": "https://localhost:8080/",
          "height": 359
        },
        "id": "sYAa_Ks1uVVq",
        "outputId": "8a1b589e-b3d5-432b-f146-f75306da25f2"
      },
      "execution_count": null,
      "outputs": [
        {
          "output_type": "execute_result",
          "data": {
            "text/html": [
              "\n",
              "  <div id=\"df-0b0b0fc8-9516-4f8e-aaf8-6990013dbabe\">\n",
              "    <div class=\"colab-df-container\">\n",
              "      <div>\n",
              "<style scoped>\n",
              "    .dataframe tbody tr th:only-of-type {\n",
              "        vertical-align: middle;\n",
              "    }\n",
              "\n",
              "    .dataframe tbody tr th {\n",
              "        vertical-align: top;\n",
              "    }\n",
              "\n",
              "    .dataframe thead th {\n",
              "        text-align: right;\n",
              "    }\n",
              "</style>\n",
              "<table border=\"1\" class=\"dataframe\">\n",
              "  <thead>\n",
              "    <tr style=\"text-align: right;\">\n",
              "      <th></th>\n",
              "      <th>SMA_S</th>\n",
              "      <th>SMA_L</th>\n",
              "      <th>performance</th>\n",
              "    </tr>\n",
              "  </thead>\n",
              "  <tbody>\n",
              "    <tr>\n",
              "      <th>1496</th>\n",
              "      <td>19</td>\n",
              "      <td>228</td>\n",
              "      <td>19.359393</td>\n",
              "    </tr>\n",
              "    <tr>\n",
              "      <th>1911</th>\n",
              "      <td>22</td>\n",
              "      <td>187</td>\n",
              "      <td>19.038226</td>\n",
              "    </tr>\n",
              "    <tr>\n",
              "      <th>2530</th>\n",
              "      <td>26</td>\n",
              "      <td>198</td>\n",
              "      <td>18.401311</td>\n",
              "    </tr>\n",
              "    <tr>\n",
              "      <th>1913</th>\n",
              "      <td>22</td>\n",
              "      <td>189</td>\n",
              "      <td>18.258225</td>\n",
              "    </tr>\n",
              "    <tr>\n",
              "      <th>2223</th>\n",
              "      <td>24</td>\n",
              "      <td>195</td>\n",
              "      <td>17.968540</td>\n",
              "    </tr>\n",
              "    <tr>\n",
              "      <th>2531</th>\n",
              "      <td>26</td>\n",
              "      <td>199</td>\n",
              "      <td>17.887189</td>\n",
              "    </tr>\n",
              "    <tr>\n",
              "      <th>2222</th>\n",
              "      <td>24</td>\n",
              "      <td>194</td>\n",
              "      <td>17.724799</td>\n",
              "    </tr>\n",
              "    <tr>\n",
              "      <th>2066</th>\n",
              "      <td>23</td>\n",
              "      <td>190</td>\n",
              "      <td>17.717484</td>\n",
              "    </tr>\n",
              "    <tr>\n",
              "      <th>1912</th>\n",
              "      <td>22</td>\n",
              "      <td>188</td>\n",
              "      <td>17.544498</td>\n",
              "    </tr>\n",
              "    <tr>\n",
              "      <th>1796</th>\n",
              "      <td>21</td>\n",
              "      <td>224</td>\n",
              "      <td>17.342450</td>\n",
              "    </tr>\n",
              "  </tbody>\n",
              "</table>\n",
              "</div>\n",
              "      <button class=\"colab-df-convert\" onclick=\"convertToInteractive('df-0b0b0fc8-9516-4f8e-aaf8-6990013dbabe')\"\n",
              "              title=\"Convert this dataframe to an interactive table.\"\n",
              "              style=\"display:none;\">\n",
              "        \n",
              "  <svg xmlns=\"http://www.w3.org/2000/svg\" height=\"24px\"viewBox=\"0 0 24 24\"\n",
              "       width=\"24px\">\n",
              "    <path d=\"M0 0h24v24H0V0z\" fill=\"none\"/>\n",
              "    <path d=\"M18.56 5.44l.94 2.06.94-2.06 2.06-.94-2.06-.94-.94-2.06-.94 2.06-2.06.94zm-11 1L8.5 8.5l.94-2.06 2.06-.94-2.06-.94L8.5 2.5l-.94 2.06-2.06.94zm10 10l.94 2.06.94-2.06 2.06-.94-2.06-.94-.94-2.06-.94 2.06-2.06.94z\"/><path d=\"M17.41 7.96l-1.37-1.37c-.4-.4-.92-.59-1.43-.59-.52 0-1.04.2-1.43.59L10.3 9.45l-7.72 7.72c-.78.78-.78 2.05 0 2.83L4 21.41c.39.39.9.59 1.41.59.51 0 1.02-.2 1.41-.59l7.78-7.78 2.81-2.81c.8-.78.8-2.07 0-2.86zM5.41 20L4 18.59l7.72-7.72 1.47 1.35L5.41 20z\"/>\n",
              "  </svg>\n",
              "      </button>\n",
              "      \n",
              "  <style>\n",
              "    .colab-df-container {\n",
              "      display:flex;\n",
              "      flex-wrap:wrap;\n",
              "      gap: 12px;\n",
              "    }\n",
              "\n",
              "    .colab-df-convert {\n",
              "      background-color: #E8F0FE;\n",
              "      border: none;\n",
              "      border-radius: 50%;\n",
              "      cursor: pointer;\n",
              "      display: none;\n",
              "      fill: #1967D2;\n",
              "      height: 32px;\n",
              "      padding: 0 0 0 0;\n",
              "      width: 32px;\n",
              "    }\n",
              "\n",
              "    .colab-df-convert:hover {\n",
              "      background-color: #E2EBFA;\n",
              "      box-shadow: 0px 1px 2px rgba(60, 64, 67, 0.3), 0px 1px 3px 1px rgba(60, 64, 67, 0.15);\n",
              "      fill: #174EA6;\n",
              "    }\n",
              "\n",
              "    [theme=dark] .colab-df-convert {\n",
              "      background-color: #3B4455;\n",
              "      fill: #D2E3FC;\n",
              "    }\n",
              "\n",
              "    [theme=dark] .colab-df-convert:hover {\n",
              "      background-color: #434B5C;\n",
              "      box-shadow: 0px 1px 3px 1px rgba(0, 0, 0, 0.15);\n",
              "      filter: drop-shadow(0px 1px 2px rgba(0, 0, 0, 0.3));\n",
              "      fill: #FFFFFF;\n",
              "    }\n",
              "  </style>\n",
              "\n",
              "      <script>\n",
              "        const buttonEl =\n",
              "          document.querySelector('#df-0b0b0fc8-9516-4f8e-aaf8-6990013dbabe button.colab-df-convert');\n",
              "        buttonEl.style.display =\n",
              "          google.colab.kernel.accessAllowed ? 'block' : 'none';\n",
              "\n",
              "        async function convertToInteractive(key) {\n",
              "          const element = document.querySelector('#df-0b0b0fc8-9516-4f8e-aaf8-6990013dbabe');\n",
              "          const dataTable =\n",
              "            await google.colab.kernel.invokeFunction('convertToInteractive',\n",
              "                                                     [key], {});\n",
              "          if (!dataTable) return;\n",
              "\n",
              "          const docLinkHtml = 'Like what you see? Visit the ' +\n",
              "            '<a target=\"_blank\" href=https://colab.research.google.com/notebooks/data_table.ipynb>data table notebook</a>'\n",
              "            + ' to learn more about interactive tables.';\n",
              "          element.innerHTML = '';\n",
              "          dataTable['output_type'] = 'display_data';\n",
              "          await google.colab.output.renderOutput(dataTable, element);\n",
              "          const docLink = document.createElement('div');\n",
              "          docLink.innerHTML = docLinkHtml;\n",
              "          element.appendChild(docLink);\n",
              "        }\n",
              "      </script>\n",
              "    </div>\n",
              "  </div>\n",
              "  "
            ],
            "text/plain": [
              "      SMA_S  SMA_L  performance\n",
              "1496     19    228    19.359393\n",
              "1911     22    187    19.038226\n",
              "2530     26    198    18.401311\n",
              "1913     22    189    18.258225\n",
              "2223     24    195    17.968540\n",
              "2531     26    199    17.887189\n",
              "2222     24    194    17.724799\n",
              "2066     23    190    17.717484\n",
              "1912     22    188    17.544498\n",
              "1796     21    224    17.342450"
            ]
          },
          "metadata": {},
          "execution_count": 188
        }
      ]
    },
    {
      "cell_type": "code",
      "source": [
        "many_results.nsmallest(10, \"performance\")"
      ],
      "metadata": {
        "colab": {
          "base_uri": "https://localhost:8080/",
          "height": 359
        },
        "id": "93y4kvoSuZXh",
        "outputId": "940dc9d8-b5b3-4032-c452-b823d559f640"
      },
      "execution_count": null,
      "outputs": [
        {
          "output_type": "execute_result",
          "data": {
            "text/html": [
              "\n",
              "  <div id=\"df-ce982d97-8929-4a30-ad4c-5bfec2a4b6a0\">\n",
              "    <div class=\"colab-df-container\">\n",
              "      <div>\n",
              "<style scoped>\n",
              "    .dataframe tbody tr th:only-of-type {\n",
              "        vertical-align: middle;\n",
              "    }\n",
              "\n",
              "    .dataframe tbody tr th {\n",
              "        vertical-align: top;\n",
              "    }\n",
              "\n",
              "    .dataframe thead th {\n",
              "        text-align: right;\n",
              "    }\n",
              "</style>\n",
              "<table border=\"1\" class=\"dataframe\">\n",
              "  <thead>\n",
              "    <tr style=\"text-align: right;\">\n",
              "      <th></th>\n",
              "      <th>SMA_S</th>\n",
              "      <th>SMA_L</th>\n",
              "      <th>performance</th>\n",
              "    </tr>\n",
              "  </thead>\n",
              "  <tbody>\n",
              "    <tr>\n",
              "      <th>5948</th>\n",
              "      <td>49</td>\n",
              "      <td>120</td>\n",
              "      <td>1.016112</td>\n",
              "    </tr>\n",
              "    <tr>\n",
              "      <th>5947</th>\n",
              "      <td>49</td>\n",
              "      <td>119</td>\n",
              "      <td>1.032863</td>\n",
              "    </tr>\n",
              "    <tr>\n",
              "      <th>5796</th>\n",
              "      <td>48</td>\n",
              "      <td>120</td>\n",
              "      <td>1.102092</td>\n",
              "    </tr>\n",
              "    <tr>\n",
              "      <th>5795</th>\n",
              "      <td>48</td>\n",
              "      <td>119</td>\n",
              "      <td>1.119591</td>\n",
              "    </tr>\n",
              "    <tr>\n",
              "      <th>5833</th>\n",
              "      <td>48</td>\n",
              "      <td>157</td>\n",
              "      <td>1.249458</td>\n",
              "    </tr>\n",
              "    <tr>\n",
              "      <th>5834</th>\n",
              "      <td>48</td>\n",
              "      <td>158</td>\n",
              "      <td>1.260027</td>\n",
              "    </tr>\n",
              "    <tr>\n",
              "      <th>5797</th>\n",
              "      <td>48</td>\n",
              "      <td>121</td>\n",
              "      <td>1.281586</td>\n",
              "    </tr>\n",
              "    <tr>\n",
              "      <th>5946</th>\n",
              "      <td>49</td>\n",
              "      <td>118</td>\n",
              "      <td>1.308127</td>\n",
              "    </tr>\n",
              "    <tr>\n",
              "      <th>5949</th>\n",
              "      <td>49</td>\n",
              "      <td>121</td>\n",
              "      <td>1.311528</td>\n",
              "    </tr>\n",
              "    <tr>\n",
              "      <th>2738</th>\n",
              "      <td>28</td>\n",
              "      <td>102</td>\n",
              "      <td>1.327457</td>\n",
              "    </tr>\n",
              "  </tbody>\n",
              "</table>\n",
              "</div>\n",
              "      <button class=\"colab-df-convert\" onclick=\"convertToInteractive('df-ce982d97-8929-4a30-ad4c-5bfec2a4b6a0')\"\n",
              "              title=\"Convert this dataframe to an interactive table.\"\n",
              "              style=\"display:none;\">\n",
              "        \n",
              "  <svg xmlns=\"http://www.w3.org/2000/svg\" height=\"24px\"viewBox=\"0 0 24 24\"\n",
              "       width=\"24px\">\n",
              "    <path d=\"M0 0h24v24H0V0z\" fill=\"none\"/>\n",
              "    <path d=\"M18.56 5.44l.94 2.06.94-2.06 2.06-.94-2.06-.94-.94-2.06-.94 2.06-2.06.94zm-11 1L8.5 8.5l.94-2.06 2.06-.94-2.06-.94L8.5 2.5l-.94 2.06-2.06.94zm10 10l.94 2.06.94-2.06 2.06-.94-2.06-.94-.94-2.06-.94 2.06-2.06.94z\"/><path d=\"M17.41 7.96l-1.37-1.37c-.4-.4-.92-.59-1.43-.59-.52 0-1.04.2-1.43.59L10.3 9.45l-7.72 7.72c-.78.78-.78 2.05 0 2.83L4 21.41c.39.39.9.59 1.41.59.51 0 1.02-.2 1.41-.59l7.78-7.78 2.81-2.81c.8-.78.8-2.07 0-2.86zM5.41 20L4 18.59l7.72-7.72 1.47 1.35L5.41 20z\"/>\n",
              "  </svg>\n",
              "      </button>\n",
              "      \n",
              "  <style>\n",
              "    .colab-df-container {\n",
              "      display:flex;\n",
              "      flex-wrap:wrap;\n",
              "      gap: 12px;\n",
              "    }\n",
              "\n",
              "    .colab-df-convert {\n",
              "      background-color: #E8F0FE;\n",
              "      border: none;\n",
              "      border-radius: 50%;\n",
              "      cursor: pointer;\n",
              "      display: none;\n",
              "      fill: #1967D2;\n",
              "      height: 32px;\n",
              "      padding: 0 0 0 0;\n",
              "      width: 32px;\n",
              "    }\n",
              "\n",
              "    .colab-df-convert:hover {\n",
              "      background-color: #E2EBFA;\n",
              "      box-shadow: 0px 1px 2px rgba(60, 64, 67, 0.3), 0px 1px 3px 1px rgba(60, 64, 67, 0.15);\n",
              "      fill: #174EA6;\n",
              "    }\n",
              "\n",
              "    [theme=dark] .colab-df-convert {\n",
              "      background-color: #3B4455;\n",
              "      fill: #D2E3FC;\n",
              "    }\n",
              "\n",
              "    [theme=dark] .colab-df-convert:hover {\n",
              "      background-color: #434B5C;\n",
              "      box-shadow: 0px 1px 3px 1px rgba(0, 0, 0, 0.15);\n",
              "      filter: drop-shadow(0px 1px 2px rgba(0, 0, 0, 0.3));\n",
              "      fill: #FFFFFF;\n",
              "    }\n",
              "  </style>\n",
              "\n",
              "      <script>\n",
              "        const buttonEl =\n",
              "          document.querySelector('#df-ce982d97-8929-4a30-ad4c-5bfec2a4b6a0 button.colab-df-convert');\n",
              "        buttonEl.style.display =\n",
              "          google.colab.kernel.accessAllowed ? 'block' : 'none';\n",
              "\n",
              "        async function convertToInteractive(key) {\n",
              "          const element = document.querySelector('#df-ce982d97-8929-4a30-ad4c-5bfec2a4b6a0');\n",
              "          const dataTable =\n",
              "            await google.colab.kernel.invokeFunction('convertToInteractive',\n",
              "                                                     [key], {});\n",
              "          if (!dataTable) return;\n",
              "\n",
              "          const docLinkHtml = 'Like what you see? Visit the ' +\n",
              "            '<a target=\"_blank\" href=https://colab.research.google.com/notebooks/data_table.ipynb>data table notebook</a>'\n",
              "            + ' to learn more about interactive tables.';\n",
              "          element.innerHTML = '';\n",
              "          dataTable['output_type'] = 'display_data';\n",
              "          await google.colab.output.renderOutput(dataTable, element);\n",
              "          const docLink = document.createElement('div');\n",
              "          docLink.innerHTML = docLinkHtml;\n",
              "          element.appendChild(docLink);\n",
              "        }\n",
              "      </script>\n",
              "    </div>\n",
              "  </div>\n",
              "  "
            ],
            "text/plain": [
              "      SMA_S  SMA_L  performance\n",
              "5948     49    120     1.016112\n",
              "5947     49    119     1.032863\n",
              "5796     48    120     1.102092\n",
              "5795     48    119     1.119591\n",
              "5833     48    157     1.249458\n",
              "5834     48    158     1.260027\n",
              "5797     48    121     1.281586\n",
              "5946     49    118     1.308127\n",
              "5949     49    121     1.311528\n",
              "2738     28    102     1.327457"
            ]
          },
          "metadata": {},
          "execution_count": 187
        }
      ]
    }
  ],
  "metadata": {
    "kernelspec": {
      "display_name": "Python 3",
      "language": "python",
      "name": "python3"
    },
    "language_info": {
      "codemirror_mode": {
        "name": "ipython",
        "version": 3
      },
      "file_extension": ".py",
      "mimetype": "text/x-python",
      "name": "python",
      "nbconvert_exporter": "python",
      "pygments_lexer": "ipython3",
      "version": "3.8.8"
    },
    "colab": {
      "name": "Simple Moving Average_AMZN",
      "provenance": [],
      "include_colab_link": true
    }
  },
  "nbformat": 4,
  "nbformat_minor": 0
}